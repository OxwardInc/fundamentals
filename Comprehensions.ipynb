{
 "cells": [
  {
   "cell_type": "markdown",
   "metadata": {},
   "source": [
    "### List Comprehensions"
   ]
  },
  {
   "cell_type": "code",
   "execution_count": 1,
   "metadata": {},
   "outputs": [],
   "source": [
    "vectors = ((0, 0), (0, 1), (1, 0), (1, 1))"
   ]
  },
  {
   "cell_type": "code",
   "execution_count": 2,
   "metadata": {},
   "outputs": [
    {
     "data": {
      "text/plain": [
       "((0, 0), (0, 1), (1, 0), (1, 1))"
      ]
     },
     "execution_count": 2,
     "metadata": {},
     "output_type": "execute_result"
    }
   ],
   "source": [
    "vectors"
   ]
  },
  {
   "cell_type": "code",
   "execution_count": 3,
   "metadata": {},
   "outputs": [],
   "source": [
    "vectors = [(0, 0), (0, 1), (1, 0), (1, 1)]"
   ]
  },
  {
   "cell_type": "code",
   "execution_count": 4,
   "metadata": {},
   "outputs": [],
   "source": [
    "from math import  sqrt "
   ]
  },
  {
   "cell_type": "code",
   "execution_count": 5,
   "metadata": {},
   "outputs": [
    {
     "data": {
      "text/plain": [
       "[0.0, 1.0, 1.0, 1.4142135623730951]"
      ]
     },
     "execution_count": 5,
     "metadata": {},
     "output_type": "execute_result"
    }
   ],
   "source": [
    "magnitudes = []\n",
    "\n",
    "for vector in vectors:\n",
    "    magnitude = sqrt(vector[0] ** 2 + vector[1] ** 2)\n",
    "    magnitudes.append(magnitude)\n",
    "\n",
    "magnitudes"
   ]
  },
  {
   "cell_type": "code",
   "execution_count": 7,
   "metadata": {},
   "outputs": [
    {
     "data": {
      "text/plain": [
       "[0.0, 1.0, 1.0, 1.4142135623730951]"
      ]
     },
     "execution_count": 7,
     "metadata": {},
     "output_type": "execute_result"
    }
   ],
   "source": [
    "magnitudes = [sqrt(vector[0] ** 2 + vector[1] ** 2) for vector in vectors]\n",
    "magnitudes"
   ]
  },
  {
   "cell_type": "code",
   "execution_count": 8,
   "metadata": {},
   "outputs": [],
   "source": [
    "from time import perf_counter"
   ]
  },
  {
   "cell_type": "code",
   "execution_count": 9,
   "metadata": {},
   "outputs": [
    {
     "data": {
      "text/plain": [
       "0.3756257999993977"
      ]
     },
     "execution_count": 9,
     "metadata": {},
     "output_type": "execute_result"
    }
   ],
   "source": [
    "start = perf_counter()\n",
    "\n",
    "for i in range(100_000):\n",
    "    magnitudes = []\n",
    "\n",
    "    for vector in vectors:\n",
    "        magnitude = sqrt(vector[0] ** 2 + vector[1] ** 2)\n",
    "        magnitudes.append(magnitude)\n",
    "\n",
    "end = perf_counter()\n",
    "ellapsed_time = end - start\n",
    "ellapsed_time"
   ]
  },
  {
   "cell_type": "code",
   "execution_count": 10,
   "metadata": {},
   "outputs": [
    {
     "data": {
      "text/plain": [
       "0.23573070000202279"
      ]
     },
     "execution_count": 10,
     "metadata": {},
     "output_type": "execute_result"
    }
   ],
   "source": [
    "start = perf_counter()\n",
    "\n",
    "for i in range(100_000):\n",
    "    magnitudes = [sqrt(vector[0] ** 2 + vector[1] ** 2) for vector in vectors]\n",
    "\n",
    "end = perf_counter()\n",
    "ellapsed_time = end - start\n",
    "ellapsed_time"
   ]
  },
  {
   "cell_type": "code",
   "execution_count": 11,
   "metadata": {},
   "outputs": [
    {
     "data": {
      "text/plain": [
       "['Python', 'is', 'an', 'awesome', 'language']"
      ]
     },
     "execution_count": 11,
     "metadata": {},
     "output_type": "execute_result"
    }
   ],
   "source": [
    "strings = 'Python is an awesome language'.split(' ')\n",
    "strings"
   ]
  },
  {
   "cell_type": "code",
   "execution_count": 15,
   "metadata": {},
   "outputs": [
    {
     "name": "stdout",
     "output_type": "stream",
     "text": [
      "['Python', 'awesome', 'language']\n"
     ]
    },
    {
     "data": {
      "text/plain": [
       "0.001677299998846138"
      ]
     },
     "execution_count": 15,
     "metadata": {},
     "output_type": "execute_result"
    }
   ],
   "source": [
    "start = perf_counter()\n",
    "filtered = []\n",
    "\n",
    "for item in strings:\n",
    "    if len(item) >= 5:\n",
    "        filtered.append(item)\n",
    "\n",
    "print(filtered)\n",
    "end = perf_counter()\n",
    "ellapsed_time = end - start\n",
    "ellapsed_time"
   ]
  },
  {
   "cell_type": "code",
   "execution_count": 19,
   "metadata": {},
   "outputs": [
    {
     "name": "stdout",
     "output_type": "stream",
     "text": [
      "['Python', 'awesome', 'language']\n"
     ]
    },
    {
     "data": {
      "text/plain": [
       "0.0016660000001138542"
      ]
     },
     "execution_count": 19,
     "metadata": {},
     "output_type": "execute_result"
    }
   ],
   "source": [
    "start = perf_counter()\n",
    "filtered = [item for item in strings if len(item) >= 5]\n",
    "print(filtered)\n",
    "end = perf_counter()\n",
    "ellapsed_time = end - start\n",
    "ellapsed_time"
   ]
  },
  {
   "cell_type": "code",
   "execution_count": 1,
   "metadata": {},
   "outputs": [],
   "source": [
    "sales = {\n",
    "    'widget 1': 0,\n",
    "    'widget 2': 5,\n",
    "    'widget 3': 10,\n",
    "    'widget 4': 2\n",
    "}"
   ]
  },
  {
   "cell_type": "code",
   "execution_count": 2,
   "metadata": {},
   "outputs": [
    {
     "data": {
      "text/plain": [
       "['widget 2', 'widget 3']"
      ]
     },
     "execution_count": 2,
     "metadata": {},
     "output_type": "execute_result"
    }
   ],
   "source": [
    "high_sales = []\n",
    "\n",
    "for key, value in sales.items():\n",
    "    if value >= 5:\n",
    "        high_sales.append(key)\n",
    "\n",
    "high_sales"
   ]
  },
  {
   "cell_type": "code",
   "execution_count": 5,
   "metadata": {},
   "outputs": [
    {
     "data": {
      "text/plain": [
       "['widget 2', 'widget 3']"
      ]
     },
     "execution_count": 5,
     "metadata": {},
     "output_type": "execute_result"
    }
   ],
   "source": [
    "high_sales = [key for key, value in sales.items() if value >= 5]\n",
    "high_sales"
   ]
  },
  {
   "cell_type": "code",
   "execution_count": 6,
   "metadata": {},
   "outputs": [
    {
     "data": {
      "text/plain": [
       "[[0, 0, 0], [0, 0, 0], [0, 0, 0]]"
      ]
     },
     "execution_count": 6,
     "metadata": {},
     "output_type": "execute_result"
    }
   ],
   "source": [
    "m = [[0] * 3] * 3\n",
    "m"
   ]
  },
  {
   "cell_type": "code",
   "execution_count": 7,
   "metadata": {},
   "outputs": [
    {
     "data": {
      "text/plain": [
       "True"
      ]
     },
     "execution_count": 7,
     "metadata": {},
     "output_type": "execute_result"
    }
   ],
   "source": [
    "m[0] is m[1]"
   ]
  },
  {
   "cell_type": "code",
   "execution_count": 8,
   "metadata": {},
   "outputs": [],
   "source": [
    "m[0][0] = 100"
   ]
  },
  {
   "cell_type": "code",
   "execution_count": 9,
   "metadata": {},
   "outputs": [
    {
     "data": {
      "text/plain": [
       "[[100, 0, 0], [100, 0, 0], [100, 0, 0]]"
      ]
     },
     "execution_count": 9,
     "metadata": {},
     "output_type": "execute_result"
    }
   ],
   "source": [
    "m"
   ]
  },
  {
   "cell_type": "code",
   "execution_count": 10,
   "metadata": {},
   "outputs": [
    {
     "data": {
      "text/plain": [
       "[[0, 0, 0], [0, 0, 0], [0, 0, 0]]"
      ]
     },
     "execution_count": 10,
     "metadata": {},
     "output_type": "execute_result"
    }
   ],
   "source": [
    "m = [[0, 0, 0] for row in range(3)]\n",
    "m"
   ]
  },
  {
   "cell_type": "code",
   "execution_count": 11,
   "metadata": {},
   "outputs": [
    {
     "data": {
      "text/plain": [
       "False"
      ]
     },
     "execution_count": 11,
     "metadata": {},
     "output_type": "execute_result"
    }
   ],
   "source": [
    "m[0] is m[1]"
   ]
  },
  {
   "cell_type": "code",
   "execution_count": 12,
   "metadata": {},
   "outputs": [],
   "source": [
    "m[0][0] = 100"
   ]
  },
  {
   "cell_type": "code",
   "execution_count": 13,
   "metadata": {},
   "outputs": [
    {
     "data": {
      "text/plain": [
       "[[100, 0, 0], [0, 0, 0], [0, 0, 0]]"
      ]
     },
     "execution_count": 13,
     "metadata": {},
     "output_type": "execute_result"
    }
   ],
   "source": [
    "m"
   ]
  },
  {
   "cell_type": "code",
   "execution_count": 14,
   "metadata": {},
   "outputs": [
    {
     "data": {
      "text/plain": [
       "[[0, 0, 0], [0, 0, 0], [0, 0, 0]]"
      ]
     },
     "execution_count": 14,
     "metadata": {},
     "output_type": "execute_result"
    }
   ],
   "source": [
    "m = [[0] * 3 for _ in range(3)]\n",
    "m"
   ]
  },
  {
   "cell_type": "code",
   "execution_count": 16,
   "metadata": {},
   "outputs": [
    {
     "data": {
      "text/plain": [
       "[[1, 0, 0], [0, 1, 0], [0, 0, 1]]"
      ]
     },
     "execution_count": 16,
     "metadata": {},
     "output_type": "execute_result"
    }
   ],
   "source": [
    "m = [[0] * 3 for _ in range(3)]\n",
    " \n",
    "for row in range(3):\n",
    "    for column in range(3):\n",
    "        if row == column:\n",
    "            m[row][column] = 1\n",
    "\n",
    "m"
   ]
  },
  {
   "cell_type": "code",
   "execution_count": 17,
   "metadata": {},
   "outputs": [
    {
     "data": {
      "text/plain": [
       "[[1, 0, 0], [0, 1, 0], [0, 0, 1]]"
      ]
     },
     "execution_count": 17,
     "metadata": {},
     "output_type": "execute_result"
    }
   ],
   "source": [
    "m = [[ 1 if row==col else 0 for row in range(3)] for col in range(3)]\n",
    "m"
   ]
  },
  {
   "cell_type": "code",
   "execution_count": 19,
   "metadata": {},
   "outputs": [
    {
     "data": {
      "text/plain": [
       "[[1, 0, 0], [0, 1, 0], [0, 0, 1]]"
      ]
     },
     "execution_count": 19,
     "metadata": {},
     "output_type": "execute_result"
    }
   ],
   "source": [
    "m = [\n",
    "    [ 1 if row==col else 0 \n",
    "    for row in range(3)\n",
    "    ]\n",
    "     for col in range(3)\n",
    "     ]\n",
    "m"
   ]
  },
  {
   "cell_type": "markdown",
   "metadata": {},
   "source": [
    "### Dictionary and Set Comprehensions"
   ]
  },
  {
   "cell_type": "code",
   "execution_count": 20,
   "metadata": {},
   "outputs": [],
   "source": [
    "widget_sales = [\n",
    "    {'name': 'widget 1', 'sales': 10},\n",
    "    {'name': 'widget 2', 'sales': 5},\n",
    "    {'name': 'widget 3', 'sales': 0}\n",
    "]"
   ]
  },
  {
   "cell_type": "code",
   "execution_count": 21,
   "metadata": {},
   "outputs": [
    {
     "data": {
      "text/plain": [
       "{'widget 1': 10, 'widget 2': 5, 'widget 3': 0}"
      ]
     },
     "execution_count": 21,
     "metadata": {},
     "output_type": "execute_result"
    }
   ],
   "source": [
    "sales_by_widget = {}\n",
    "for d in widget_sales:\n",
    "    widget_name = d['name']\n",
    "    sales = d['sales']\n",
    "    sales_by_widget[widget_name] = sales\n",
    "\n",
    "sales_by_widget"
   ]
  },
  {
   "cell_type": "code",
   "execution_count": 22,
   "metadata": {},
   "outputs": [
    {
     "data": {
      "text/plain": [
       "{'widget 1': 10, 'widget 2': 5, 'widget 3': 0}"
      ]
     },
     "execution_count": 22,
     "metadata": {},
     "output_type": "execute_result"
    }
   ],
   "source": [
    "sales_by_widget = {}\n",
    "for d in widget_sales:\n",
    "    sales_by_widget[d['name']] = d['sales']\n",
    "\n",
    "sales_by_widget"
   ]
  },
  {
   "cell_type": "code",
   "execution_count": 23,
   "metadata": {},
   "outputs": [],
   "source": [
    "sales_by_widget = {d['name']:d['sales'] for d in widget_sales}"
   ]
  },
  {
   "cell_type": "code",
   "execution_count": 24,
   "metadata": {},
   "outputs": [
    {
     "data": {
      "text/plain": [
       "{'widget 1': 10, 'widget 2': 5, 'widget 3': 0}"
      ]
     },
     "execution_count": 24,
     "metadata": {},
     "output_type": "execute_result"
    }
   ],
   "source": [
    "sales_by_widget"
   ]
  },
  {
   "cell_type": "code",
   "execution_count": 25,
   "metadata": {},
   "outputs": [
    {
     "data": {
      "text/plain": [
       "{'widget 1': 10, 'widget 2': 5}"
      ]
     },
     "execution_count": 25,
     "metadata": {},
     "output_type": "execute_result"
    }
   ],
   "source": [
    "sales_by_widget = {}\n",
    "for d in widget_sales:\n",
    "    if d['sales'] > 0:\n",
    "        sales_by_widget[d['name']] = d['sales']\n",
    "\n",
    "sales_by_widget"
   ]
  },
  {
   "cell_type": "code",
   "execution_count": 26,
   "metadata": {},
   "outputs": [],
   "source": [
    "sales_by_widget = {d['name']:d['sales'] for d in widget_sales if d['sales'] > 0}"
   ]
  },
  {
   "cell_type": "code",
   "execution_count": 27,
   "metadata": {},
   "outputs": [
    {
     "data": {
      "text/plain": [
       "{'widget 1': 10, 'widget 2': 5}"
      ]
     },
     "execution_count": 27,
     "metadata": {},
     "output_type": "execute_result"
    }
   ],
   "source": [
    "sales_by_widget"
   ]
  },
  {
   "cell_type": "markdown",
   "metadata": {},
   "source": [
    "For simplicity, we'll assume that the paragraph only contains alphanumeric characters as well as these punctuation marks: `,`, `.`, `!`, `?`, `:`, `-`, `--`, `\\n`"
   ]
  },
  {
   "cell_type": "code",
   "execution_count": 47,
   "metadata": {},
   "outputs": [],
   "source": [
    "paragraph = \"\"\"\n",
    "To be, or not to be--that is the question:\n",
    "Whether 'tis nobler in the mind to suffer\n",
    "The slings and arrows of outrageous fortune\n",
    "Or to take arms against a sea of troubles\n",
    "And by opposing end them. To die, to sleep--\n",
    "No more--and by a sleep to say we end\n",
    "The heartache, and the thousand natural shocks\n",
    "That flesh is heir to to to.\n",
    "\"\"\""
   ]
  },
  {
   "cell_type": "code",
   "execution_count": 48,
   "metadata": {},
   "outputs": [],
   "source": [
    "punctuation = \",.!:-\\n\""
   ]
  },
  {
   "cell_type": "code",
   "execution_count": 49,
   "metadata": {},
   "outputs": [],
   "source": [
    "for char in punctuation:\n",
    "    paragraph = paragraph.replace(char, ' ')"
   ]
  },
  {
   "cell_type": "code",
   "execution_count": 50,
   "metadata": {},
   "outputs": [
    {
     "data": {
      "text/plain": [
       "\" To be  or not to be  that is the question  Whether 'tis nobler in the mind to suffer The slings and arrows of outrageous fortune Or to take arms against a sea of troubles And by opposing end them  To die  to sleep   No more  and by a sleep to say we end The heartache  and the thousand natural shocks That flesh is heir to to to  \""
      ]
     },
     "execution_count": 50,
     "metadata": {},
     "output_type": "execute_result"
    }
   ],
   "source": [
    "paragraph"
   ]
  },
  {
   "cell_type": "code",
   "execution_count": 51,
   "metadata": {},
   "outputs": [
    {
     "data": {
      "text/plain": [
       "['To',\n",
       " 'be',\n",
       " 'or',\n",
       " 'not',\n",
       " 'to',\n",
       " 'be',\n",
       " 'that',\n",
       " 'is',\n",
       " 'the',\n",
       " 'question',\n",
       " 'Whether',\n",
       " \"'tis\",\n",
       " 'nobler',\n",
       " 'in',\n",
       " 'the',\n",
       " 'mind',\n",
       " 'to',\n",
       " 'suffer',\n",
       " 'The',\n",
       " 'slings',\n",
       " 'and',\n",
       " 'arrows',\n",
       " 'of',\n",
       " 'outrageous',\n",
       " 'fortune',\n",
       " 'Or',\n",
       " 'to',\n",
       " 'take',\n",
       " 'arms',\n",
       " 'against',\n",
       " 'a',\n",
       " 'sea',\n",
       " 'of',\n",
       " 'troubles',\n",
       " 'And',\n",
       " 'by',\n",
       " 'opposing',\n",
       " 'end',\n",
       " 'them',\n",
       " 'To',\n",
       " 'die',\n",
       " 'to',\n",
       " 'sleep',\n",
       " 'No',\n",
       " 'more',\n",
       " 'and',\n",
       " 'by',\n",
       " 'a',\n",
       " 'sleep',\n",
       " 'to',\n",
       " 'say',\n",
       " 'we',\n",
       " 'end',\n",
       " 'The',\n",
       " 'heartache',\n",
       " 'and',\n",
       " 'the',\n",
       " 'thousand',\n",
       " 'natural',\n",
       " 'shocks',\n",
       " 'That',\n",
       " 'flesh',\n",
       " 'is',\n",
       " 'heir',\n",
       " 'to',\n",
       " 'to',\n",
       " 'to']"
      ]
     },
     "execution_count": 51,
     "metadata": {},
     "output_type": "execute_result"
    }
   ],
   "source": [
    "all_words = paragraph.split()\n",
    "all_words"
   ]
  },
  {
   "cell_type": "code",
   "execution_count": 52,
   "metadata": {},
   "outputs": [
    {
     "data": {
      "text/plain": [
       "{'Whether',\n",
       " 'against',\n",
       " 'arrows',\n",
       " 'flesh',\n",
       " 'fortune',\n",
       " 'heartache',\n",
       " 'natural',\n",
       " 'nobler',\n",
       " 'opposing',\n",
       " 'outrageous',\n",
       " 'question',\n",
       " 'shocks',\n",
       " 'sleep',\n",
       " 'slings',\n",
       " 'suffer',\n",
       " 'thousand',\n",
       " 'troubles'}"
      ]
     },
     "execution_count": 52,
     "metadata": {},
     "output_type": "execute_result"
    }
   ],
   "source": [
    "words = {word for word in all_words if len(word) >= 5}\n",
    "words"
   ]
  },
  {
   "cell_type": "code",
   "execution_count": 53,
   "metadata": {},
   "outputs": [
    {
     "data": {
      "text/plain": [
       "{'against',\n",
       " 'arrows',\n",
       " 'flesh',\n",
       " 'fortune',\n",
       " 'heartache',\n",
       " 'natural',\n",
       " 'nobler',\n",
       " 'opposing',\n",
       " 'outrageous',\n",
       " 'question',\n",
       " 'shocks',\n",
       " 'sleep',\n",
       " 'slings',\n",
       " 'suffer',\n",
       " 'thousand',\n",
       " 'troubles',\n",
       " 'whether'}"
      ]
     },
     "execution_count": 53,
     "metadata": {},
     "output_type": "execute_result"
    }
   ],
   "source": [
    "words = {word.lower() for word in all_words if len(word) >= 5}\n",
    "words"
   ]
  },
  {
   "cell_type": "code",
   "execution_count": 54,
   "metadata": {},
   "outputs": [],
   "source": [
    "word_to_dict = {word.lower(): word.lower().count(word.lower()) for word in all_words if len(word) > 5}"
   ]
  },
  {
   "cell_type": "code",
   "execution_count": 55,
   "metadata": {},
   "outputs": [
    {
     "data": {
      "text/plain": [
       "{'question': 1,\n",
       " 'whether': 1,\n",
       " 'nobler': 1,\n",
       " 'suffer': 1,\n",
       " 'slings': 1,\n",
       " 'arrows': 1,\n",
       " 'outrageous': 1,\n",
       " 'fortune': 1,\n",
       " 'against': 1,\n",
       " 'troubles': 1,\n",
       " 'opposing': 1,\n",
       " 'heartache': 1,\n",
       " 'thousand': 1,\n",
       " 'natural': 1,\n",
       " 'shocks': 1}"
      ]
     },
     "execution_count": 55,
     "metadata": {},
     "output_type": "execute_result"
    }
   ],
   "source": [
    "word_to_dict"
   ]
  },
  {
   "cell_type": "code",
   "execution_count": 57,
   "metadata": {},
   "outputs": [
    {
     "data": {
      "text/plain": [
       "['a', 'a', 'a', 'b', 'b', 'c', 'c', 'c', 'd']"
      ]
     },
     "execution_count": 57,
     "metadata": {},
     "output_type": "execute_result"
    }
   ],
   "source": [
    "data = list('aaabbcccd')\n",
    "data"
   ]
  },
  {
   "cell_type": "code",
   "execution_count": 63,
   "metadata": {},
   "outputs": [
    {
     "data": {
      "text/plain": [
       "{'c': 3, 'd': 1, 'a': 3, 'b': 2}"
      ]
     },
     "execution_count": 63,
     "metadata": {},
     "output_type": "execute_result"
    }
   ],
   "source": [
    "freq = {}\n",
    "\n",
    "for element in set(data):\n",
    "    count = len([char for char in data if char == element])\n",
    "    freq[element] = count\n",
    "\n",
    "freq"
   ]
  },
  {
   "cell_type": "code",
   "execution_count": 66,
   "metadata": {},
   "outputs": [
    {
     "data": {
      "text/plain": [
       "{'c': 3, 'd': 1, 'a': 3, 'b': 2}"
      ]
     },
     "execution_count": 66,
     "metadata": {},
     "output_type": "execute_result"
    }
   ],
   "source": [
    "freq = {\n",
    "    element: len([char for char in data if char == element])\n",
    "    for element in set(data)\n",
    "}\n",
    "freq"
   ]
  },
  {
   "cell_type": "code",
   "execution_count": 69,
   "metadata": {},
   "outputs": [],
   "source": [
    "from collections import Counter"
   ]
  },
  {
   "cell_type": "code",
   "execution_count": 70,
   "metadata": {},
   "outputs": [
    {
     "data": {
      "text/plain": [
       "['a', 'a', 'a', 'b', 'b', 'c', 'c', 'c', 'd']"
      ]
     },
     "execution_count": 70,
     "metadata": {},
     "output_type": "execute_result"
    }
   ],
   "source": [
    "data = list('aaabbcccd')\n",
    "data"
   ]
  },
  {
   "cell_type": "code",
   "execution_count": 71,
   "metadata": {},
   "outputs": [
    {
     "data": {
      "text/plain": [
       "Counter({'a': 3, 'c': 3, 'b': 2, 'd': 1})"
      ]
     },
     "execution_count": 71,
     "metadata": {},
     "output_type": "execute_result"
    }
   ],
   "source": [
    "freq = Counter(data)\n",
    "freq"
   ]
  },
  {
   "cell_type": "code",
   "execution_count": 72,
   "metadata": {},
   "outputs": [
    {
     "data": {
      "text/plain": [
       "{'a': 3, 'b': 2, 'c': 3, 'd': 1}"
      ]
     },
     "execution_count": 72,
     "metadata": {},
     "output_type": "execute_result"
    }
   ],
   "source": [
    "dict(freq)"
   ]
  },
  {
   "cell_type": "code",
   "execution_count": 73,
   "metadata": {},
   "outputs": [
    {
     "data": {
      "text/plain": [
       "collections.Counter"
      ]
     },
     "execution_count": 73,
     "metadata": {},
     "output_type": "execute_result"
    }
   ],
   "source": [
    "type(freq)"
   ]
  },
  {
   "cell_type": "code",
   "execution_count": 74,
   "metadata": {},
   "outputs": [],
   "source": [
    "paragraph = \"\"\"\n",
    "To be, or not to be--that is the question:\n",
    "Whether 'tis nobler in the mind to suffer\n",
    "The slings and arrows of outrageous fortune\n",
    "Or to take arms against a sea of troubles\n",
    "And by opposing end them. To die, to sleep--\n",
    "No more--and by a sleep to say we end\n",
    "The heartache, and the thousand natural shocks\n",
    "That flesh is heir to to to.\n",
    "\"\"\""
   ]
  },
  {
   "cell_type": "code",
   "execution_count": 76,
   "metadata": {},
   "outputs": [
    {
     "data": {
      "text/plain": [
       "Counter({' ': 57,\n",
       "         'e': 31,\n",
       "         'o': 27,\n",
       "         't': 27,\n",
       "         's': 21,\n",
       "         'a': 20,\n",
       "         'n': 17,\n",
       "         'h': 16,\n",
       "         'r': 15,\n",
       "         'i': 11,\n",
       "         '\\n': 9,\n",
       "         'd': 9,\n",
       "         'u': 8,\n",
       "         'l': 7,\n",
       "         'b': 6,\n",
       "         '-': 6,\n",
       "         'f': 6,\n",
       "         'T': 5,\n",
       "         'm': 4,\n",
       "         'g': 4,\n",
       "         'p': 4,\n",
       "         ',': 3,\n",
       "         'y': 3,\n",
       "         'w': 2,\n",
       "         'k': 2,\n",
       "         '.': 2,\n",
       "         'c': 2,\n",
       "         'q': 1,\n",
       "         ':': 1,\n",
       "         'W': 1,\n",
       "         \"'\": 1,\n",
       "         'O': 1,\n",
       "         'A': 1,\n",
       "         'N': 1})"
      ]
     },
     "execution_count": 76,
     "metadata": {},
     "output_type": "execute_result"
    }
   ],
   "source": [
    "freq = Counter(paragraph)\n",
    "freq"
   ]
  },
  {
   "cell_type": "code",
   "execution_count": 77,
   "metadata": {},
   "outputs": [],
   "source": [
    "ignored = ' ,.\\n'"
   ]
  },
  {
   "cell_type": "code",
   "execution_count": 79,
   "metadata": {},
   "outputs": [
    {
     "data": {
      "text/plain": [
       "Counter({' ': 57,\n",
       "         't': 32,\n",
       "         'e': 31,\n",
       "         'o': 28,\n",
       "         'a': 21,\n",
       "         's': 21,\n",
       "         'n': 18,\n",
       "         'h': 16,\n",
       "         'r': 15,\n",
       "         'i': 11,\n",
       "         '\\n': 9,\n",
       "         'd': 9,\n",
       "         'u': 8,\n",
       "         'l': 7,\n",
       "         'b': 6,\n",
       "         '-': 6,\n",
       "         'f': 6,\n",
       "         'm': 4,\n",
       "         'g': 4,\n",
       "         'p': 4,\n",
       "         ',': 3,\n",
       "         'w': 3,\n",
       "         'y': 3,\n",
       "         'k': 2,\n",
       "         '.': 2,\n",
       "         'c': 2,\n",
       "         'q': 1,\n",
       "         ':': 1,\n",
       "         \"'\": 1})"
      ]
     },
     "execution_count": 79,
     "metadata": {},
     "output_type": "execute_result"
    }
   ],
   "source": [
    "freq = Counter(paragraph.casefold())\n",
    "freq"
   ]
  },
  {
   "cell_type": "code",
   "execution_count": 81,
   "metadata": {},
   "outputs": [
    {
     "data": {
      "text/plain": [
       "{'t': 32,\n",
       " 'o': 28,\n",
       " 'b': 6,\n",
       " 'e': 31,\n",
       " 'r': 15,\n",
       " 'n': 18,\n",
       " '-': 6,\n",
       " 'h': 16,\n",
       " 'a': 21,\n",
       " 'i': 11,\n",
       " 's': 21,\n",
       " 'q': 1,\n",
       " 'u': 8,\n",
       " ':': 1,\n",
       " 'w': 3,\n",
       " \"'\": 1,\n",
       " 'l': 7,\n",
       " 'm': 4,\n",
       " 'd': 9,\n",
       " 'f': 6,\n",
       " 'g': 4,\n",
       " 'k': 2,\n",
       " 'y': 3,\n",
       " 'p': 4,\n",
       " 'c': 2}"
      ]
     },
     "execution_count": 81,
     "metadata": {},
     "output_type": "execute_result"
    }
   ],
   "source": [
    "freq = {key: value for key, value in freq.items() if key not in ignored}\n",
    "freq"
   ]
  },
  {
   "cell_type": "code",
   "execution_count": 83,
   "metadata": {},
   "outputs": [
    {
     "data": {
      "text/plain": [
       "{'t': 32,\n",
       " 'o': 28,\n",
       " 'b': 6,\n",
       " 'e': 31,\n",
       " 'r': 15,\n",
       " 'n': 18,\n",
       " '-': 6,\n",
       " 'h': 16,\n",
       " 'a': 21,\n",
       " 'i': 11,\n",
       " 's': 21,\n",
       " 'q': 1,\n",
       " 'u': 8,\n",
       " ':': 1,\n",
       " 'w': 3,\n",
       " \"'\": 1,\n",
       " 'l': 7,\n",
       " 'm': 4,\n",
       " 'd': 9,\n",
       " 'f': 6,\n",
       " 'g': 4,\n",
       " 'k': 2,\n",
       " 'y': 3,\n",
       " 'p': 4,\n",
       " 'c': 2}"
      ]
     },
     "execution_count": 83,
     "metadata": {},
     "output_type": "execute_result"
    }
   ],
   "source": [
    "freq = {\n",
    "    key: value\n",
    "    for key, value in dict(Counter(paragraph.casefold())).items()\n",
    "    if key not in ignored\n",
    "}\n",
    "\n",
    "freq"
   ]
  },
  {
   "cell_type": "code",
   "execution_count": 84,
   "metadata": {},
   "outputs": [
    {
     "data": {
      "text/plain": [
       "{'t': 32,\n",
       " 'o': 28,\n",
       " 'b': 6,\n",
       " 'e': 31,\n",
       " 'r': 15,\n",
       " 'n': 18,\n",
       " '-': 6,\n",
       " 'h': 16,\n",
       " 'a': 21,\n",
       " 'i': 11,\n",
       " 's': 21,\n",
       " 'q': 1,\n",
       " 'u': 8,\n",
       " ':': 1,\n",
       " 'w': 3,\n",
       " \"'\": 1,\n",
       " 'l': 7,\n",
       " 'm': 4,\n",
       " 'd': 9,\n",
       " 'f': 6,\n",
       " 'g': 4,\n",
       " 'k': 2,\n",
       " 'y': 3,\n",
       " 'p': 4,\n",
       " 'c': 2}"
      ]
     },
     "execution_count": 84,
     "metadata": {},
     "output_type": "execute_result"
    }
   ],
   "source": [
    "freq = {\n",
    "    key: value\n",
    "    for key, value in Counter(paragraph.casefold()).items()\n",
    "    if key not in ignored\n",
    "}\n",
    "\n",
    "freq"
   ]
  },
  {
   "cell_type": "code",
   "execution_count": null,
   "metadata": {},
   "outputs": [],
   "source": []
  }
 ],
 "metadata": {
  "kernelspec": {
   "display_name": "py3ll",
   "language": "python",
   "name": "python3"
  },
  "language_info": {
   "codemirror_mode": {
    "name": "ipython",
    "version": 3
   },
   "file_extension": ".py",
   "mimetype": "text/x-python",
   "name": "python",
   "nbconvert_exporter": "python",
   "pygments_lexer": "ipython3",
   "version": "3.12.4"
  }
 },
 "nbformat": 4,
 "nbformat_minor": 2
}
