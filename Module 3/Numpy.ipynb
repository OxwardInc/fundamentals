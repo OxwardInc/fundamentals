{
 "cells": [
  {
   "cell_type": "markdown",
   "metadata": {},
   "source": [
    "### Creating Arrays from Lists"
   ]
  },
  {
   "cell_type": "code",
   "execution_count": 1,
   "metadata": {},
   "outputs": [],
   "source": [
    "import numpy as np"
   ]
  },
  {
   "cell_type": "code",
   "execution_count": 2,
   "metadata": {},
   "outputs": [],
   "source": [
    "a1 = np.array([1, 2, 3, 4])\n",
    "a2 = np.array((0.1, 0.2, 0.3, 0.4))"
   ]
  },
  {
   "cell_type": "code",
   "execution_count": 3,
   "metadata": {},
   "outputs": [
    {
     "data": {
      "text/plain": [
       "array([1, 2, 3, 4])"
      ]
     },
     "execution_count": 3,
     "metadata": {},
     "output_type": "execute_result"
    }
   ],
   "source": [
    "a1"
   ]
  },
  {
   "cell_type": "code",
   "execution_count": 4,
   "metadata": {},
   "outputs": [
    {
     "data": {
      "text/plain": [
       "numpy.ndarray"
      ]
     },
     "execution_count": 4,
     "metadata": {},
     "output_type": "execute_result"
    }
   ],
   "source": [
    "type(a1)"
   ]
  },
  {
   "cell_type": "code",
   "execution_count": 5,
   "metadata": {},
   "outputs": [
    {
     "data": {
      "text/plain": [
       "array([0.1, 0.2, 0.3, 0.4])"
      ]
     },
     "execution_count": 5,
     "metadata": {},
     "output_type": "execute_result"
    }
   ],
   "source": [
    "a2"
   ]
  },
  {
   "cell_type": "code",
   "execution_count": 6,
   "metadata": {},
   "outputs": [
    {
     "data": {
      "text/plain": [
       "numpy.ndarray"
      ]
     },
     "execution_count": 6,
     "metadata": {},
     "output_type": "execute_result"
    }
   ],
   "source": [
    "type(a2)"
   ]
  },
  {
   "cell_type": "code",
   "execution_count": 7,
   "metadata": {},
   "outputs": [
    {
     "data": {
      "text/plain": [
       "dtype('int32')"
      ]
     },
     "execution_count": 7,
     "metadata": {},
     "output_type": "execute_result"
    }
   ],
   "source": [
    "a1.dtype"
   ]
  },
  {
   "cell_type": "code",
   "execution_count": 8,
   "metadata": {},
   "outputs": [
    {
     "data": {
      "text/plain": [
       "dtype('float64')"
      ]
     },
     "execution_count": 8,
     "metadata": {},
     "output_type": "execute_result"
    }
   ],
   "source": [
    "a2.dtype"
   ]
  },
  {
   "cell_type": "code",
   "execution_count": 9,
   "metadata": {},
   "outputs": [],
   "source": [
    "a = np.array([1, 2, 3, 4], dtype=np.uint8)"
   ]
  },
  {
   "cell_type": "code",
   "execution_count": 11,
   "metadata": {},
   "outputs": [
    {
     "data": {
      "text/plain": [
       "dtype('uint8')"
      ]
     },
     "execution_count": 11,
     "metadata": {},
     "output_type": "execute_result"
    }
   ],
   "source": [
    "a.dtype"
   ]
  },
  {
   "cell_type": "markdown",
   "metadata": {},
   "source": [
    "```[0, 255]```"
   ]
  },
  {
   "cell_type": "code",
   "execution_count": 13,
   "metadata": {},
   "outputs": [
    {
     "name": "stderr",
     "output_type": "stream",
     "text": [
      "C:\\Users\\Oxward\\AppData\\Local\\Temp\\ipykernel_8244\\258487933.py:1: DeprecationWarning: NumPy will stop allowing conversion of out-of-bound Python integers to integer arrays.  The conversion of 300 to uint8 will fail in the future.\n",
      "For the old behavior, usually:\n",
      "    np.array(value).astype(dtype)\n",
      "will give the desired result (the cast overflows).\n",
      "  a = np.array([1, 2, 3, 300], dtype=np.uint8)\n"
     ]
    }
   ],
   "source": [
    "a = np.array([1, 2, 3, 300], dtype=np.uint8)"
   ]
  },
  {
   "cell_type": "code",
   "execution_count": 14,
   "metadata": {},
   "outputs": [
    {
     "data": {
      "text/plain": [
       "array([ 1,  2,  3, 44], dtype=uint8)"
      ]
     },
     "execution_count": 14,
     "metadata": {},
     "output_type": "execute_result"
    }
   ],
   "source": [
    "a"
   ]
  },
  {
   "cell_type": "code",
   "execution_count": 15,
   "metadata": {},
   "outputs": [],
   "source": [
    "a = np.array([1, 2, 3, 255], dtype=np.uint8)"
   ]
  },
  {
   "cell_type": "code",
   "execution_count": 16,
   "metadata": {},
   "outputs": [
    {
     "data": {
      "text/plain": [
       "array([  1,   2,   3, 255], dtype=uint8)"
      ]
     },
     "execution_count": 16,
     "metadata": {},
     "output_type": "execute_result"
    }
   ],
   "source": [
    "a"
   ]
  },
  {
   "cell_type": "code",
   "execution_count": 17,
   "metadata": {},
   "outputs": [
    {
     "name": "stderr",
     "output_type": "stream",
     "text": [
      "C:\\Users\\Oxward\\AppData\\Local\\Temp\\ipykernel_8244\\2796688376.py:1: DeprecationWarning: NumPy will stop allowing conversion of out-of-bound Python integers to integer arrays.  The conversion of 256 to uint8 will fail in the future.\n",
      "For the old behavior, usually:\n",
      "    np.array(value).astype(dtype)\n",
      "will give the desired result (the cast overflows).\n",
      "  a = np.array([1, 2, 3, 256], dtype=np.uint8)\n"
     ]
    }
   ],
   "source": [
    "a = np.array([1, 2, 3, 256], dtype=np.uint8)"
   ]
  },
  {
   "cell_type": "code",
   "execution_count": 18,
   "metadata": {},
   "outputs": [
    {
     "data": {
      "text/plain": [
       "array([1, 2, 3, 0], dtype=uint8)"
      ]
     },
     "execution_count": 18,
     "metadata": {},
     "output_type": "execute_result"
    }
   ],
   "source": [
    "a"
   ]
  },
  {
   "cell_type": "code",
   "execution_count": 19,
   "metadata": {},
   "outputs": [
    {
     "name": "stderr",
     "output_type": "stream",
     "text": [
      "C:\\Users\\Oxward\\AppData\\Local\\Temp\\ipykernel_8244\\2776724122.py:1: DeprecationWarning: NumPy will stop allowing conversion of out-of-bound Python integers to integer arrays.  The conversion of 257 to uint8 will fail in the future.\n",
      "For the old behavior, usually:\n",
      "    np.array(value).astype(dtype)\n",
      "will give the desired result (the cast overflows).\n",
      "  a = np.array([1, 2, 3, 257], dtype=np.uint8)\n"
     ]
    }
   ],
   "source": [
    "a = np.array([1, 2, 3, 257], dtype=np.uint8)"
   ]
  },
  {
   "cell_type": "code",
   "execution_count": 20,
   "metadata": {},
   "outputs": [
    {
     "data": {
      "text/plain": [
       "array([1, 2, 3, 1], dtype=uint8)"
      ]
     },
     "execution_count": 20,
     "metadata": {},
     "output_type": "execute_result"
    }
   ],
   "source": [
    "a"
   ]
  },
  {
   "cell_type": "code",
   "execution_count": 21,
   "metadata": {},
   "outputs": [
    {
     "name": "stderr",
     "output_type": "stream",
     "text": [
      "C:\\Users\\Oxward\\AppData\\Local\\Temp\\ipykernel_8244\\2944182492.py:1: DeprecationWarning: NumPy will stop allowing conversion of out-of-bound Python integers to integer arrays.  The conversion of 258 to uint8 will fail in the future.\n",
      "For the old behavior, usually:\n",
      "    np.array(value).astype(dtype)\n",
      "will give the desired result (the cast overflows).\n",
      "  a = np.array([1, 2, 3, 258], dtype=np.uint8)\n"
     ]
    }
   ],
   "source": [
    "a = np.array([1, 2, 3, 258], dtype=np.uint8)"
   ]
  },
  {
   "cell_type": "code",
   "execution_count": 22,
   "metadata": {},
   "outputs": [
    {
     "data": {
      "text/plain": [
       "array([1, 2, 3, 2], dtype=uint8)"
      ]
     },
     "execution_count": 22,
     "metadata": {},
     "output_type": "execute_result"
    }
   ],
   "source": [
    "a"
   ]
  },
  {
   "cell_type": "code",
   "execution_count": 23,
   "metadata": {},
   "outputs": [
    {
     "name": "stderr",
     "output_type": "stream",
     "text": [
      "C:\\Users\\Oxward\\AppData\\Local\\Temp\\ipykernel_8244\\3821469401.py:1: DeprecationWarning: NumPy will stop allowing conversion of out-of-bound Python integers to integer arrays.  The conversion of 259 to uint8 will fail in the future.\n",
      "For the old behavior, usually:\n",
      "    np.array(value).astype(dtype)\n",
      "will give the desired result (the cast overflows).\n",
      "  a = np.array([1, 2, 3, 259], dtype=np.uint8)\n"
     ]
    }
   ],
   "source": [
    "a = np.array([1, 2, 3, 259], dtype=np.uint8)"
   ]
  },
  {
   "cell_type": "code",
   "execution_count": 24,
   "metadata": {},
   "outputs": [
    {
     "data": {
      "text/plain": [
       "array([1, 2, 3, 3], dtype=uint8)"
      ]
     },
     "execution_count": 24,
     "metadata": {},
     "output_type": "execute_result"
    }
   ],
   "source": [
    "a "
   ]
  },
  {
   "cell_type": "markdown",
   "metadata": {},
   "source": [
    "`int8: [-128, 127]`"
   ]
  },
  {
   "cell_type": "code",
   "execution_count": 26,
   "metadata": {},
   "outputs": [
    {
     "data": {
      "text/plain": [
       "array([127], dtype=int8)"
      ]
     },
     "execution_count": 26,
     "metadata": {},
     "output_type": "execute_result"
    }
   ],
   "source": [
    "np.array([127], dtype=np.int8)"
   ]
  },
  {
   "cell_type": "code",
   "execution_count": 27,
   "metadata": {},
   "outputs": [
    {
     "name": "stderr",
     "output_type": "stream",
     "text": [
      "C:\\Users\\Oxward\\AppData\\Local\\Temp\\ipykernel_8244\\520780534.py:1: DeprecationWarning: NumPy will stop allowing conversion of out-of-bound Python integers to integer arrays.  The conversion of 128 to int8 will fail in the future.\n",
      "For the old behavior, usually:\n",
      "    np.array(value).astype(dtype)\n",
      "will give the desired result (the cast overflows).\n",
      "  np.array([128], dtype=np.int8)\n"
     ]
    },
    {
     "data": {
      "text/plain": [
       "array([-128], dtype=int8)"
      ]
     },
     "execution_count": 27,
     "metadata": {},
     "output_type": "execute_result"
    }
   ],
   "source": [
    "np.array([128], dtype=np.int8)"
   ]
  },
  {
   "cell_type": "code",
   "execution_count": 28,
   "metadata": {},
   "outputs": [
    {
     "name": "stderr",
     "output_type": "stream",
     "text": [
      "C:\\Users\\Oxward\\AppData\\Local\\Temp\\ipykernel_8244\\961925688.py:1: DeprecationWarning: NumPy will stop allowing conversion of out-of-bound Python integers to integer arrays.  The conversion of 129 to int8 will fail in the future.\n",
      "For the old behavior, usually:\n",
      "    np.array(value).astype(dtype)\n",
      "will give the desired result (the cast overflows).\n",
      "  np.array([129], dtype=np.int8)\n"
     ]
    },
    {
     "data": {
      "text/plain": [
       "array([-127], dtype=int8)"
      ]
     },
     "execution_count": 28,
     "metadata": {},
     "output_type": "execute_result"
    }
   ],
   "source": [
    "np.array([129], dtype=np.int8)"
   ]
  },
  {
   "cell_type": "code",
   "execution_count": 29,
   "metadata": {},
   "outputs": [
    {
     "name": "stderr",
     "output_type": "stream",
     "text": [
      "C:\\Users\\Oxward\\AppData\\Local\\Temp\\ipykernel_8244\\738084946.py:1: DeprecationWarning: NumPy will stop allowing conversion of out-of-bound Python integers to integer arrays.  The conversion of 130 to int8 will fail in the future.\n",
      "For the old behavior, usually:\n",
      "    np.array(value).astype(dtype)\n",
      "will give the desired result (the cast overflows).\n",
      "  np.array([130], dtype=np.int8)\n"
     ]
    },
    {
     "data": {
      "text/plain": [
       "array([-126], dtype=int8)"
      ]
     },
     "execution_count": 29,
     "metadata": {},
     "output_type": "execute_result"
    }
   ],
   "source": [
    "np.array([130], dtype=np.int8)"
   ]
  },
  {
   "cell_type": "code",
   "execution_count": 30,
   "metadata": {},
   "outputs": [],
   "source": [
    "a = np.array([1, 2, 3.14])"
   ]
  },
  {
   "cell_type": "code",
   "execution_count": 31,
   "metadata": {},
   "outputs": [
    {
     "data": {
      "text/plain": [
       "array([1.  , 2.  , 3.14])"
      ]
     },
     "execution_count": 31,
     "metadata": {},
     "output_type": "execute_result"
    }
   ],
   "source": [
    "a"
   ]
  },
  {
   "cell_type": "code",
   "execution_count": 32,
   "metadata": {},
   "outputs": [
    {
     "data": {
      "text/plain": [
       "dtype('float64')"
      ]
     },
     "execution_count": 32,
     "metadata": {},
     "output_type": "execute_result"
    }
   ],
   "source": [
    "a.dtype"
   ]
  },
  {
   "cell_type": "code",
   "execution_count": 33,
   "metadata": {},
   "outputs": [],
   "source": [
    "a = np.array([1, 2, 9.9, 9.1], dtype=np.int64)"
   ]
  },
  {
   "cell_type": "code",
   "execution_count": 34,
   "metadata": {},
   "outputs": [
    {
     "data": {
      "text/plain": [
       "array([1, 2, 9, 9], dtype=int64)"
      ]
     },
     "execution_count": 34,
     "metadata": {},
     "output_type": "execute_result"
    }
   ],
   "source": [
    "a"
   ]
  },
  {
   "cell_type": "code",
   "execution_count": 35,
   "metadata": {},
   "outputs": [],
   "source": [
    "a = np.array([1, 3.14, 'x'])"
   ]
  },
  {
   "cell_type": "code",
   "execution_count": 36,
   "metadata": {},
   "outputs": [
    {
     "data": {
      "text/plain": [
       "dtype('<U32')"
      ]
     },
     "execution_count": 36,
     "metadata": {},
     "output_type": "execute_result"
    }
   ],
   "source": [
    "a.dtype"
   ]
  },
  {
   "cell_type": "code",
   "execution_count": 37,
   "metadata": {},
   "outputs": [
    {
     "data": {
      "text/plain": [
       "array(['1', '3.14', 'x'], dtype='<U32')"
      ]
     },
     "execution_count": 37,
     "metadata": {},
     "output_type": "execute_result"
    }
   ],
   "source": [
    "a"
   ]
  },
  {
   "cell_type": "code",
   "execution_count": 38,
   "metadata": {},
   "outputs": [
    {
     "ename": "ValueError",
     "evalue": "invalid literal for int() with base 10: 'x'",
     "output_type": "error",
     "traceback": [
      "\u001b[1;31m---------------------------------------------------------------------------\u001b[0m",
      "\u001b[1;31mValueError\u001b[0m                                Traceback (most recent call last)",
      "Cell \u001b[1;32mIn[38], line 1\u001b[0m\n\u001b[1;32m----> 1\u001b[0m a \u001b[38;5;241m=\u001b[39m \u001b[43mnp\u001b[49m\u001b[38;5;241;43m.\u001b[39;49m\u001b[43marray\u001b[49m\u001b[43m(\u001b[49m\u001b[43m[\u001b[49m\u001b[38;5;241;43m1\u001b[39;49m\u001b[43m,\u001b[49m\u001b[43m \u001b[49m\u001b[38;5;241;43m3.14\u001b[39;49m\u001b[43m,\u001b[49m\u001b[43m \u001b[49m\u001b[38;5;124;43m'\u001b[39;49m\u001b[38;5;124;43mx\u001b[39;49m\u001b[38;5;124;43m'\u001b[39;49m\u001b[43m]\u001b[49m\u001b[43m,\u001b[49m\u001b[43m \u001b[49m\u001b[43mdtype\u001b[49m\u001b[38;5;241;43m=\u001b[39;49m\u001b[43mnp\u001b[49m\u001b[38;5;241;43m.\u001b[39;49m\u001b[43mint64\u001b[49m\u001b[43m)\u001b[49m\n",
      "\u001b[1;31mValueError\u001b[0m: invalid literal for int() with base 10: 'x'"
     ]
    }
   ],
   "source": [
    "a = np.array([1, 3.14, 'x'], dtype=np.int64)"
   ]
  },
  {
   "cell_type": "code",
   "execution_count": 39,
   "metadata": {},
   "outputs": [
    {
     "ename": "ValueError",
     "evalue": "could not convert string to float: 'x'",
     "output_type": "error",
     "traceback": [
      "\u001b[1;31m---------------------------------------------------------------------------\u001b[0m",
      "\u001b[1;31mValueError\u001b[0m                                Traceback (most recent call last)",
      "Cell \u001b[1;32mIn[39], line 1\u001b[0m\n\u001b[1;32m----> 1\u001b[0m a \u001b[38;5;241m=\u001b[39m \u001b[43mnp\u001b[49m\u001b[38;5;241;43m.\u001b[39;49m\u001b[43marray\u001b[49m\u001b[43m(\u001b[49m\u001b[43m[\u001b[49m\u001b[38;5;241;43m1\u001b[39;49m\u001b[43m,\u001b[49m\u001b[43m \u001b[49m\u001b[38;5;241;43m3.14\u001b[39;49m\u001b[43m,\u001b[49m\u001b[43m \u001b[49m\u001b[38;5;124;43m'\u001b[39;49m\u001b[38;5;124;43mx\u001b[39;49m\u001b[38;5;124;43m'\u001b[39;49m\u001b[43m]\u001b[49m\u001b[43m,\u001b[49m\u001b[43m \u001b[49m\u001b[43mdtype\u001b[49m\u001b[38;5;241;43m=\u001b[39;49m\u001b[43mnp\u001b[49m\u001b[38;5;241;43m.\u001b[39;49m\u001b[43mfloat64\u001b[49m\u001b[43m)\u001b[49m\n",
      "\u001b[1;31mValueError\u001b[0m: could not convert string to float: 'x'"
     ]
    }
   ],
   "source": [
    "a = np.array([1, 3.14, 'x'], dtype=np.float64)"
   ]
  },
  {
   "cell_type": "code",
   "execution_count": 40,
   "metadata": {},
   "outputs": [],
   "source": [
    "m_py = [\n",
    "    [1, 0, 0],\n",
    "    [0, 1, 0],\n",
    "    [0, 0, 1]\n",
    "]"
   ]
  },
  {
   "cell_type": "code",
   "execution_count": 41,
   "metadata": {},
   "outputs": [
    {
     "data": {
      "text/plain": [
       "[[1, 0, 0], [0, 1, 0], [0, 0, 1]]"
      ]
     },
     "execution_count": 41,
     "metadata": {},
     "output_type": "execute_result"
    }
   ],
   "source": [
    "m_py"
   ]
  },
  {
   "cell_type": "code",
   "execution_count": 42,
   "metadata": {},
   "outputs": [],
   "source": [
    "m1 = np.array(m_py, dtype=np.int64)"
   ]
  },
  {
   "cell_type": "code",
   "execution_count": 44,
   "metadata": {},
   "outputs": [
    {
     "data": {
      "text/plain": [
       "array([[1, 0, 0],\n",
       "       [0, 1, 0],\n",
       "       [0, 0, 1]], dtype=int64)"
      ]
     },
     "execution_count": 44,
     "metadata": {},
     "output_type": "execute_result"
    }
   ],
   "source": [
    "m1"
   ]
  },
  {
   "cell_type": "code",
   "execution_count": 45,
   "metadata": {},
   "outputs": [
    {
     "data": {
      "text/plain": [
       "dtype('int64')"
      ]
     },
     "execution_count": 45,
     "metadata": {},
     "output_type": "execute_result"
    }
   ],
   "source": [
    "m1.dtype"
   ]
  },
  {
   "cell_type": "code",
   "execution_count": 46,
   "metadata": {},
   "outputs": [
    {
     "data": {
      "text/plain": [
       "3"
      ]
     },
     "execution_count": 46,
     "metadata": {},
     "output_type": "execute_result"
    }
   ],
   "source": [
    "len(m_py)"
   ]
  },
  {
   "cell_type": "code",
   "execution_count": 47,
   "metadata": {},
   "outputs": [],
   "source": [
    "a = np.array([1, 2, 3])\n",
    "m2 = np.array(\n",
    "    [\n",
    "        [1, 2, 3],\n",
    "        [4, 5, 6],\n",
    "        [7, 8, 9],\n",
    "        [10, 11, 12]\n",
    "    ]\n",
    ")"
   ]
  },
  {
   "cell_type": "code",
   "execution_count": 48,
   "metadata": {},
   "outputs": [
    {
     "data": {
      "text/plain": [
       "3"
      ]
     },
     "execution_count": 48,
     "metadata": {},
     "output_type": "execute_result"
    }
   ],
   "source": [
    "a.size"
   ]
  },
  {
   "cell_type": "code",
   "execution_count": 49,
   "metadata": {},
   "outputs": [
    {
     "data": {
      "text/plain": [
       "12"
      ]
     },
     "execution_count": 49,
     "metadata": {},
     "output_type": "execute_result"
    }
   ],
   "source": [
    "m2.size"
   ]
  },
  {
   "cell_type": "code",
   "execution_count": 50,
   "metadata": {},
   "outputs": [
    {
     "data": {
      "text/plain": [
       "9"
      ]
     },
     "execution_count": 50,
     "metadata": {},
     "output_type": "execute_result"
    }
   ],
   "source": [
    "m1.size"
   ]
  },
  {
   "cell_type": "code",
   "execution_count": 51,
   "metadata": {},
   "outputs": [
    {
     "data": {
      "text/plain": [
       "(3,)"
      ]
     },
     "execution_count": 51,
     "metadata": {},
     "output_type": "execute_result"
    }
   ],
   "source": [
    "a.shape"
   ]
  },
  {
   "cell_type": "code",
   "execution_count": 52,
   "metadata": {},
   "outputs": [
    {
     "data": {
      "text/plain": [
       "(3, 3)"
      ]
     },
     "execution_count": 52,
     "metadata": {},
     "output_type": "execute_result"
    }
   ],
   "source": [
    "m1.shape"
   ]
  },
  {
   "cell_type": "code",
   "execution_count": 53,
   "metadata": {},
   "outputs": [
    {
     "data": {
      "text/plain": [
       "(4, 3)"
      ]
     },
     "execution_count": 53,
     "metadata": {},
     "output_type": "execute_result"
    }
   ],
   "source": [
    "m2.shape"
   ]
  },
  {
   "cell_type": "markdown",
   "metadata": {},
   "source": [
    "### Creating Arrays from Scratch"
   ]
  },
  {
   "cell_type": "code",
   "execution_count": 54,
   "metadata": {},
   "outputs": [],
   "source": [
    "import numpy as np"
   ]
  },
  {
   "cell_type": "code",
   "execution_count": 56,
   "metadata": {},
   "outputs": [],
   "source": [
    "a = np.zeros(5)"
   ]
  },
  {
   "cell_type": "code",
   "execution_count": 57,
   "metadata": {},
   "outputs": [
    {
     "data": {
      "text/plain": [
       "array([0., 0., 0., 0., 0.])"
      ]
     },
     "execution_count": 57,
     "metadata": {},
     "output_type": "execute_result"
    }
   ],
   "source": [
    "a"
   ]
  },
  {
   "cell_type": "code",
   "execution_count": 58,
   "metadata": {},
   "outputs": [
    {
     "data": {
      "text/plain": [
       "dtype('float64')"
      ]
     },
     "execution_count": 58,
     "metadata": {},
     "output_type": "execute_result"
    }
   ],
   "source": [
    "a.dtype"
   ]
  },
  {
   "cell_type": "code",
   "execution_count": 59,
   "metadata": {},
   "outputs": [],
   "source": [
    "a = np.zeros(5, dtype=int)"
   ]
  },
  {
   "cell_type": "code",
   "execution_count": 60,
   "metadata": {},
   "outputs": [
    {
     "data": {
      "text/plain": [
       "dtype('int32')"
      ]
     },
     "execution_count": 60,
     "metadata": {},
     "output_type": "execute_result"
    }
   ],
   "source": [
    "a.dtype"
   ]
  },
  {
   "cell_type": "code",
   "execution_count": 61,
   "metadata": {},
   "outputs": [],
   "source": [
    "a = np.zeros(5, dtype=float)"
   ]
  },
  {
   "cell_type": "code",
   "execution_count": 62,
   "metadata": {},
   "outputs": [
    {
     "data": {
      "text/plain": [
       "dtype('float64')"
      ]
     },
     "execution_count": 62,
     "metadata": {},
     "output_type": "execute_result"
    }
   ],
   "source": [
    "a.dtype"
   ]
  },
  {
   "cell_type": "code",
   "execution_count": 63,
   "metadata": {},
   "outputs": [
    {
     "data": {
      "text/plain": [
       "array([0., 0., 0., 0., 0.])"
      ]
     },
     "execution_count": 63,
     "metadata": {},
     "output_type": "execute_result"
    }
   ],
   "source": [
    "a"
   ]
  },
  {
   "cell_type": "code",
   "execution_count": 64,
   "metadata": {},
   "outputs": [],
   "source": [
    "a = np.zeros(5, dtype=int)"
   ]
  },
  {
   "cell_type": "code",
   "execution_count": 65,
   "metadata": {},
   "outputs": [
    {
     "data": {
      "text/plain": [
       "array([0, 0, 0, 0, 0])"
      ]
     },
     "execution_count": 65,
     "metadata": {},
     "output_type": "execute_result"
    }
   ],
   "source": [
    "a"
   ]
  },
  {
   "cell_type": "code",
   "execution_count": 66,
   "metadata": {},
   "outputs": [],
   "source": [
    "a = np.zeros((4, 3), dtype=np.uint8)"
   ]
  },
  {
   "cell_type": "code",
   "execution_count": 67,
   "metadata": {},
   "outputs": [
    {
     "data": {
      "text/plain": [
       "array([[0, 0, 0],\n",
       "       [0, 0, 0],\n",
       "       [0, 0, 0],\n",
       "       [0, 0, 0]], dtype=uint8)"
      ]
     },
     "execution_count": 67,
     "metadata": {},
     "output_type": "execute_result"
    }
   ],
   "source": [
    "a"
   ]
  },
  {
   "cell_type": "code",
   "execution_count": 68,
   "metadata": {},
   "outputs": [],
   "source": [
    "m = np.ones((10, 2), dtype=float)"
   ]
  },
  {
   "cell_type": "code",
   "execution_count": 69,
   "metadata": {},
   "outputs": [
    {
     "data": {
      "text/plain": [
       "array([[1., 1.],\n",
       "       [1., 1.],\n",
       "       [1., 1.],\n",
       "       [1., 1.],\n",
       "       [1., 1.],\n",
       "       [1., 1.],\n",
       "       [1., 1.],\n",
       "       [1., 1.],\n",
       "       [1., 1.],\n",
       "       [1., 1.]])"
      ]
     },
     "execution_count": 69,
     "metadata": {},
     "output_type": "execute_result"
    }
   ],
   "source": [
    "m"
   ]
  },
  {
   "cell_type": "code",
   "execution_count": 70,
   "metadata": {},
   "outputs": [
    {
     "data": {
      "text/plain": [
       "dtype('float64')"
      ]
     },
     "execution_count": 70,
     "metadata": {},
     "output_type": "execute_result"
    }
   ],
   "source": [
    "m.dtype"
   ]
  },
  {
   "cell_type": "code",
   "execution_count": 71,
   "metadata": {},
   "outputs": [],
   "source": [
    "m = np.full((2, 5), 3.14, dtype=np.float32)"
   ]
  },
  {
   "cell_type": "code",
   "execution_count": 72,
   "metadata": {},
   "outputs": [
    {
     "data": {
      "text/plain": [
       "array([[3.14, 3.14, 3.14, 3.14, 3.14],\n",
       "       [3.14, 3.14, 3.14, 3.14, 3.14]], dtype=float32)"
      ]
     },
     "execution_count": 72,
     "metadata": {},
     "output_type": "execute_result"
    }
   ],
   "source": [
    "m"
   ]
  },
  {
   "cell_type": "code",
   "execution_count": 73,
   "metadata": {},
   "outputs": [
    {
     "data": {
      "text/plain": [
       "dtype('float32')"
      ]
     },
     "execution_count": 73,
     "metadata": {},
     "output_type": "execute_result"
    }
   ],
   "source": [
    "m.dtype"
   ]
  },
  {
   "cell_type": "code",
   "execution_count": 74,
   "metadata": {},
   "outputs": [],
   "source": [
    "m = np.eye(5)"
   ]
  },
  {
   "cell_type": "code",
   "execution_count": 75,
   "metadata": {},
   "outputs": [
    {
     "data": {
      "text/plain": [
       "array([[1., 0., 0., 0., 0.],\n",
       "       [0., 1., 0., 0., 0.],\n",
       "       [0., 0., 1., 0., 0.],\n",
       "       [0., 0., 0., 1., 0.],\n",
       "       [0., 0., 0., 0., 1.]])"
      ]
     },
     "execution_count": 75,
     "metadata": {},
     "output_type": "execute_result"
    }
   ],
   "source": [
    "m"
   ]
  },
  {
   "cell_type": "code",
   "execution_count": 76,
   "metadata": {},
   "outputs": [],
   "source": [
    "m = np.eye(5, dtype=int)"
   ]
  },
  {
   "cell_type": "code",
   "execution_count": 77,
   "metadata": {},
   "outputs": [
    {
     "data": {
      "text/plain": [
       "array([[1, 0, 0, 0, 0],\n",
       "       [0, 1, 0, 0, 0],\n",
       "       [0, 0, 1, 0, 0],\n",
       "       [0, 0, 0, 1, 0],\n",
       "       [0, 0, 0, 0, 1]])"
      ]
     },
     "execution_count": 77,
     "metadata": {},
     "output_type": "execute_result"
    }
   ],
   "source": [
    "m"
   ]
  },
  {
   "cell_type": "code",
   "execution_count": 78,
   "metadata": {},
   "outputs": [
    {
     "data": {
      "text/plain": [
       "dtype('int32')"
      ]
     },
     "execution_count": 78,
     "metadata": {},
     "output_type": "execute_result"
    }
   ],
   "source": [
    "m.dtype"
   ]
  },
  {
   "cell_type": "code",
   "execution_count": 79,
   "metadata": {},
   "outputs": [],
   "source": [
    "m = np.eye(5, 3, dtype=np.uint16)"
   ]
  },
  {
   "cell_type": "code",
   "execution_count": 80,
   "metadata": {},
   "outputs": [
    {
     "data": {
      "text/plain": [
       "array([[1, 0, 0],\n",
       "       [0, 1, 0],\n",
       "       [0, 0, 1],\n",
       "       [0, 0, 0],\n",
       "       [0, 0, 0]], dtype=uint16)"
      ]
     },
     "execution_count": 80,
     "metadata": {},
     "output_type": "execute_result"
    }
   ],
   "source": [
    "m"
   ]
  },
  {
   "cell_type": "code",
   "execution_count": 81,
   "metadata": {},
   "outputs": [
    {
     "data": {
      "text/plain": [
       "[2, 4, 6, 8, 10]"
      ]
     },
     "execution_count": 81,
     "metadata": {},
     "output_type": "execute_result"
    }
   ],
   "source": [
    "list(range(2, 11, 2))"
   ]
  },
  {
   "cell_type": "code",
   "execution_count": 82,
   "metadata": {},
   "outputs": [
    {
     "data": {
      "text/plain": [
       "array([ 2,  4,  6,  8, 10])"
      ]
     },
     "execution_count": 82,
     "metadata": {},
     "output_type": "execute_result"
    }
   ],
   "source": [
    "np.arange(2, 11, 2)"
   ]
  },
  {
   "cell_type": "code",
   "execution_count": 83,
   "metadata": {},
   "outputs": [
    {
     "data": {
      "text/plain": [
       "array([ 2,  4,  6,  8, 10], dtype=uint8)"
      ]
     },
     "execution_count": 83,
     "metadata": {},
     "output_type": "execute_result"
    }
   ],
   "source": [
    "np.arange(2, 11, 2, dtype=np.uint8)"
   ]
  },
  {
   "cell_type": "code",
   "execution_count": 84,
   "metadata": {},
   "outputs": [
    {
     "data": {
      "text/plain": [
       "array([ 2.,  4.,  6.,  8., 10.])"
      ]
     },
     "execution_count": 84,
     "metadata": {},
     "output_type": "execute_result"
    }
   ],
   "source": [
    "np.linspace(2, 10, num=5)"
   ]
  },
  {
   "cell_type": "code",
   "execution_count": 85,
   "metadata": {},
   "outputs": [
    {
     "data": {
      "text/plain": [
       "array([ 2.        ,  2.16326531,  2.32653061,  2.48979592,  2.65306122,\n",
       "        2.81632653,  2.97959184,  3.14285714,  3.30612245,  3.46938776,\n",
       "        3.63265306,  3.79591837,  3.95918367,  4.12244898,  4.28571429,\n",
       "        4.44897959,  4.6122449 ,  4.7755102 ,  4.93877551,  5.10204082,\n",
       "        5.26530612,  5.42857143,  5.59183673,  5.75510204,  5.91836735,\n",
       "        6.08163265,  6.24489796,  6.40816327,  6.57142857,  6.73469388,\n",
       "        6.89795918,  7.06122449,  7.2244898 ,  7.3877551 ,  7.55102041,\n",
       "        7.71428571,  7.87755102,  8.04081633,  8.20408163,  8.36734694,\n",
       "        8.53061224,  8.69387755,  8.85714286,  9.02040816,  9.18367347,\n",
       "        9.34693878,  9.51020408,  9.67346939,  9.83673469, 10.        ])"
      ]
     },
     "execution_count": 85,
     "metadata": {},
     "output_type": "execute_result"
    }
   ],
   "source": [
    "np.linspace(2, 10)"
   ]
  },
  {
   "cell_type": "code",
   "execution_count": 86,
   "metadata": {},
   "outputs": [
    {
     "data": {
      "text/plain": [
       "array([ 2.        ,  2.88888889,  3.77777778,  4.66666667,  5.55555556,\n",
       "        6.44444444,  7.33333333,  8.22222222,  9.11111111, 10.        ])"
      ]
     },
     "execution_count": 86,
     "metadata": {},
     "output_type": "execute_result"
    }
   ],
   "source": [
    "np.linspace(2, 10, 10)"
   ]
  },
  {
   "cell_type": "code",
   "execution_count": 87,
   "metadata": {},
   "outputs": [],
   "source": [
    "import math"
   ]
  },
  {
   "cell_type": "code",
   "execution_count": 89,
   "metadata": {},
   "outputs": [],
   "source": [
    "x_coords = np.linspace(-2 * math.pi, 2 * math.pi, 50)"
   ]
  },
  {
   "cell_type": "code",
   "execution_count": 90,
   "metadata": {},
   "outputs": [
    {
     "data": {
      "text/plain": [
       "array([-6.28318531, -6.02672876, -5.77027222, -5.51381568, -5.25735913,\n",
       "       -5.00090259, -4.74444605, -4.48798951, -4.23153296, -3.97507642,\n",
       "       -3.71861988, -3.46216333, -3.20570679, -2.94925025, -2.6927937 ,\n",
       "       -2.43633716, -2.17988062, -1.92342407, -1.66696753, -1.41051099,\n",
       "       -1.15405444, -0.8975979 , -0.64114136, -0.38468481, -0.12822827,\n",
       "        0.12822827,  0.38468481,  0.64114136,  0.8975979 ,  1.15405444,\n",
       "        1.41051099,  1.66696753,  1.92342407,  2.17988062,  2.43633716,\n",
       "        2.6927937 ,  2.94925025,  3.20570679,  3.46216333,  3.71861988,\n",
       "        3.97507642,  4.23153296,  4.48798951,  4.74444605,  5.00090259,\n",
       "        5.25735913,  5.51381568,  5.77027222,  6.02672876,  6.28318531])"
      ]
     },
     "execution_count": 90,
     "metadata": {},
     "output_type": "execute_result"
    }
   ],
   "source": [
    "x_coords"
   ]
  },
  {
   "cell_type": "code",
   "execution_count": 91,
   "metadata": {},
   "outputs": [],
   "source": [
    "y_values = np.array([math.sin(x) for x in x_coords])"
   ]
  },
  {
   "cell_type": "code",
   "execution_count": 92,
   "metadata": {},
   "outputs": [
    {
     "data": {
      "text/plain": [
       "array([ 2.44929360e-16,  2.53654584e-01,  4.90717552e-01,  6.95682551e-01,\n",
       "        8.55142763e-01,  9.58667853e-01,  9.99486216e-01,  9.74927912e-01,\n",
       "        8.86599306e-01,  7.40277997e-01,  5.45534901e-01,  3.15108218e-01,\n",
       "        6.40702200e-02, -1.91158629e-01, -4.33883739e-01, -6.48228395e-01,\n",
       "       -8.20172255e-01, -9.38468422e-01, -9.95379113e-01, -9.87181783e-01,\n",
       "       -9.14412623e-01, -7.81831482e-01, -5.98110530e-01, -3.75267005e-01,\n",
       "       -1.27877162e-01,  1.27877162e-01,  3.75267005e-01,  5.98110530e-01,\n",
       "        7.81831482e-01,  9.14412623e-01,  9.87181783e-01,  9.95379113e-01,\n",
       "        9.38468422e-01,  8.20172255e-01,  6.48228395e-01,  4.33883739e-01,\n",
       "        1.91158629e-01, -6.40702200e-02, -3.15108218e-01, -5.45534901e-01,\n",
       "       -7.40277997e-01, -8.86599306e-01, -9.74927912e-01, -9.99486216e-01,\n",
       "       -9.58667853e-01, -8.55142763e-01, -6.95682551e-01, -4.90717552e-01,\n",
       "       -2.53654584e-01, -2.44929360e-16])"
      ]
     },
     "execution_count": 92,
     "metadata": {},
     "output_type": "execute_result"
    }
   ],
   "source": [
    "y_values"
   ]
  },
  {
   "cell_type": "code",
   "execution_count": 93,
   "metadata": {},
   "outputs": [
    {
     "data": {
      "text/plain": [
       "array([0.51060346, 0.40950369, 0.42954335, 0.76906532, 0.50923117])"
      ]
     },
     "execution_count": 93,
     "metadata": {},
     "output_type": "execute_result"
    }
   ],
   "source": [
    "np.random.random(5)"
   ]
  },
  {
   "cell_type": "code",
   "execution_count": 95,
   "metadata": {},
   "outputs": [
    {
     "data": {
      "text/plain": [
       "array([0.5488135 , 0.71518937, 0.60276338, 0.54488318, 0.4236548 ])"
      ]
     },
     "execution_count": 95,
     "metadata": {},
     "output_type": "execute_result"
    }
   ],
   "source": [
    "np.random.seed(0)\n",
    "\n",
    "np.random.random(5)"
   ]
  },
  {
   "cell_type": "code",
   "execution_count": 96,
   "metadata": {},
   "outputs": [
    {
     "data": {
      "text/plain": [
       "array([[0.5488135 , 0.71518937, 0.60276338],\n",
       "       [0.54488318, 0.4236548 , 0.64589411],\n",
       "       [0.43758721, 0.891773  , 0.96366276],\n",
       "       [0.38344152, 0.79172504, 0.52889492],\n",
       "       [0.56804456, 0.92559664, 0.07103606]])"
      ]
     },
     "execution_count": 96,
     "metadata": {},
     "output_type": "execute_result"
    }
   ],
   "source": [
    "np.random.seed(0)\n",
    "\n",
    "np.random.random((5, 3))"
   ]
  },
  {
   "cell_type": "code",
   "execution_count": 98,
   "metadata": {},
   "outputs": [
    {
     "data": {
      "text/plain": [
       "array([6, 1, 4, 4, 8, 4, 6, 3, 5, 8, 7, 9, 9, 2, 7, 8, 8, 9, 2, 6, 9, 5,\n",
       "       4, 1, 4, 6, 1, 3, 4, 9, 2, 4, 4, 4, 8, 1, 2, 1, 5, 8, 4, 3, 8, 3,\n",
       "       1, 1, 5, 6, 6, 7])"
      ]
     },
     "execution_count": 98,
     "metadata": {},
     "output_type": "execute_result"
    }
   ],
   "source": [
    "np.random.seed(0)\n",
    "\n",
    "np.random.randint(1, 10, 50)"
   ]
  },
  {
   "cell_type": "code",
   "execution_count": 99,
   "metadata": {},
   "outputs": [],
   "source": [
    "from numpy import random as npr"
   ]
  },
  {
   "cell_type": "code",
   "execution_count": null,
   "metadata": {},
   "outputs": [],
   "source": []
  },
  {
   "cell_type": "code",
   "execution_count": 100,
   "metadata": {},
   "outputs": [
    {
     "data": {
      "text/plain": [
       "array([5, 6, 1, 4, 4, 4, 2, 4, 6, 3])"
      ]
     },
     "execution_count": 100,
     "metadata": {},
     "output_type": "execute_result"
    }
   ],
   "source": [
    "npr.seed(0)\n",
    "\n",
    "npr.randint(1, 6 + 1, 10)"
   ]
  },
  {
   "cell_type": "code",
   "execution_count": 101,
   "metadata": {},
   "outputs": [
    {
     "data": {
      "text/plain": [
       "array([[5, 6],\n",
       "       [1, 4],\n",
       "       [4, 4],\n",
       "       [2, 4],\n",
       "       [6, 3],\n",
       "       [5, 1],\n",
       "       [1, 5],\n",
       "       [3, 2],\n",
       "       [1, 2],\n",
       "       [6, 2]])"
      ]
     },
     "execution_count": 101,
     "metadata": {},
     "output_type": "execute_result"
    }
   ],
   "source": [
    "npr.seed(0)\n",
    "\n",
    "npr.randint(1, 7, (10, 2))"
   ]
  },
  {
   "cell_type": "code",
   "execution_count": 102,
   "metadata": {},
   "outputs": [
    {
     "data": {
      "text/plain": [
       "array([[5, 6, 1, 4, 4],\n",
       "       [4, 2, 4, 6, 3],\n",
       "       [5, 1, 1, 5, 3],\n",
       "       [2, 1, 2, 6, 2],\n",
       "       [6, 1, 2, 5, 4],\n",
       "       [1, 4, 6, 1, 3],\n",
       "       [4, 1, 2, 4, 6],\n",
       "       [4, 4, 1, 2, 2],\n",
       "       [2, 1, 3, 5, 4],\n",
       "       [4, 3, 5, 3, 1]])"
      ]
     },
     "execution_count": 102,
     "metadata": {},
     "output_type": "execute_result"
    }
   ],
   "source": [
    "npr.seed(0)\n",
    "\n",
    "npr.randint(1, 7, (10, 5))"
   ]
  },
  {
   "cell_type": "markdown",
   "metadata": {},
   "source": [
    "### Reshaping Arrays"
   ]
  },
  {
   "cell_type": "code",
   "execution_count": 1,
   "metadata": {},
   "outputs": [],
   "source": [
    "import numpy as np"
   ]
  },
  {
   "cell_type": "code",
   "execution_count": 2,
   "metadata": {},
   "outputs": [],
   "source": [
    "arr = np.arange(12)"
   ]
  },
  {
   "cell_type": "code",
   "execution_count": 3,
   "metadata": {},
   "outputs": [
    {
     "data": {
      "text/plain": [
       "array([ 0,  1,  2,  3,  4,  5,  6,  7,  8,  9, 10, 11])"
      ]
     },
     "execution_count": 3,
     "metadata": {},
     "output_type": "execute_result"
    }
   ],
   "source": [
    "arr"
   ]
  },
  {
   "cell_type": "code",
   "execution_count": 4,
   "metadata": {},
   "outputs": [
    {
     "data": {
      "text/plain": [
       "(12,)"
      ]
     },
     "execution_count": 4,
     "metadata": {},
     "output_type": "execute_result"
    }
   ],
   "source": [
    "arr.shape"
   ]
  },
  {
   "cell_type": "code",
   "execution_count": 5,
   "metadata": {},
   "outputs": [],
   "source": [
    "m1 = arr.reshape(4, 3)"
   ]
  },
  {
   "cell_type": "code",
   "execution_count": 6,
   "metadata": {},
   "outputs": [
    {
     "data": {
      "text/plain": [
       "array([[ 0,  1,  2],\n",
       "       [ 3,  4,  5],\n",
       "       [ 6,  7,  8],\n",
       "       [ 9, 10, 11]])"
      ]
     },
     "execution_count": 6,
     "metadata": {},
     "output_type": "execute_result"
    }
   ],
   "source": [
    "m1"
   ]
  },
  {
   "cell_type": "code",
   "execution_count": 7,
   "metadata": {},
   "outputs": [],
   "source": [
    "m2 = arr.reshape(2, 6)"
   ]
  },
  {
   "cell_type": "code",
   "execution_count": 8,
   "metadata": {},
   "outputs": [
    {
     "data": {
      "text/plain": [
       "array([[ 0,  1,  2,  3,  4,  5],\n",
       "       [ 6,  7,  8,  9, 10, 11]])"
      ]
     },
     "execution_count": 8,
     "metadata": {},
     "output_type": "execute_result"
    }
   ],
   "source": [
    "m2"
   ]
  },
  {
   "cell_type": "code",
   "execution_count": 9,
   "metadata": {},
   "outputs": [],
   "source": [
    "m3 = m2.reshape(6, 2)"
   ]
  },
  {
   "cell_type": "code",
   "execution_count": 10,
   "metadata": {},
   "outputs": [
    {
     "data": {
      "text/plain": [
       "array([[ 0,  1],\n",
       "       [ 2,  3],\n",
       "       [ 4,  5],\n",
       "       [ 6,  7],\n",
       "       [ 8,  9],\n",
       "       [10, 11]])"
      ]
     },
     "execution_count": 10,
     "metadata": {},
     "output_type": "execute_result"
    }
   ],
   "source": [
    "m3"
   ]
  },
  {
   "cell_type": "code",
   "execution_count": 11,
   "metadata": {},
   "outputs": [
    {
     "data": {
      "text/plain": [
       "False"
      ]
     },
     "execution_count": 11,
     "metadata": {},
     "output_type": "execute_result"
    }
   ],
   "source": [
    "arr is m1"
   ]
  },
  {
   "cell_type": "code",
   "execution_count": 12,
   "metadata": {},
   "outputs": [
    {
     "data": {
      "text/plain": [
       "False"
      ]
     },
     "execution_count": 12,
     "metadata": {},
     "output_type": "execute_result"
    }
   ],
   "source": [
    "m2 is m3"
   ]
  },
  {
   "cell_type": "code",
   "execution_count": 13,
   "metadata": {},
   "outputs": [
    {
     "data": {
      "text/plain": [
       "False"
      ]
     },
     "execution_count": 13,
     "metadata": {},
     "output_type": "execute_result"
    }
   ],
   "source": [
    "m1 is m2"
   ]
  },
  {
   "cell_type": "code",
   "execution_count": 14,
   "metadata": {},
   "outputs": [
    {
     "data": {
      "text/plain": [
       "array([ 0,  1,  2,  3,  4,  5,  6,  7,  8,  9, 10, 11])"
      ]
     },
     "execution_count": 14,
     "metadata": {},
     "output_type": "execute_result"
    }
   ],
   "source": [
    "arr"
   ]
  },
  {
   "cell_type": "code",
   "execution_count": 15,
   "metadata": {},
   "outputs": [
    {
     "data": {
      "text/plain": [
       "array([[ 0,  1,  2],\n",
       "       [ 3,  4,  5],\n",
       "       [ 6,  7,  8],\n",
       "       [ 9, 10, 11]])"
      ]
     },
     "execution_count": 15,
     "metadata": {},
     "output_type": "execute_result"
    }
   ],
   "source": [
    "m1"
   ]
  },
  {
   "cell_type": "code",
   "execution_count": 16,
   "metadata": {},
   "outputs": [],
   "source": [
    "arr[0] = 100"
   ]
  },
  {
   "cell_type": "code",
   "execution_count": 17,
   "metadata": {},
   "outputs": [
    {
     "data": {
      "text/plain": [
       "array([100,   1,   2,   3,   4,   5,   6,   7,   8,   9,  10,  11])"
      ]
     },
     "execution_count": 17,
     "metadata": {},
     "output_type": "execute_result"
    }
   ],
   "source": [
    "arr"
   ]
  },
  {
   "cell_type": "code",
   "execution_count": 18,
   "metadata": {},
   "outputs": [
    {
     "data": {
      "text/plain": [
       "array([[100,   1,   2],\n",
       "       [  3,   4,   5],\n",
       "       [  6,   7,   8],\n",
       "       [  9,  10,  11]])"
      ]
     },
     "execution_count": 18,
     "metadata": {},
     "output_type": "execute_result"
    }
   ],
   "source": [
    "m1"
   ]
  },
  {
   "cell_type": "code",
   "execution_count": 19,
   "metadata": {},
   "outputs": [
    {
     "data": {
      "text/plain": [
       "array([[100,   1,   2,   3,   4,   5],\n",
       "       [  6,   7,   8,   9,  10,  11]])"
      ]
     },
     "execution_count": 19,
     "metadata": {},
     "output_type": "execute_result"
    }
   ],
   "source": [
    "m2 "
   ]
  },
  {
   "cell_type": "code",
   "execution_count": 20,
   "metadata": {},
   "outputs": [
    {
     "data": {
      "text/plain": [
       "array([[100,   1],\n",
       "       [  2,   3],\n",
       "       [  4,   5],\n",
       "       [  6,   7],\n",
       "       [  8,   9],\n",
       "       [ 10,  11]])"
      ]
     },
     "execution_count": 20,
     "metadata": {},
     "output_type": "execute_result"
    }
   ],
   "source": [
    "m3"
   ]
  },
  {
   "cell_type": "code",
   "execution_count": 21,
   "metadata": {},
   "outputs": [],
   "source": [
    "m1[3][2] = 200"
   ]
  },
  {
   "cell_type": "code",
   "execution_count": 22,
   "metadata": {},
   "outputs": [
    {
     "data": {
      "text/plain": [
       "array([[100,   1,   2],\n",
       "       [  3,   4,   5],\n",
       "       [  6,   7,   8],\n",
       "       [  9,  10, 200]])"
      ]
     },
     "execution_count": 22,
     "metadata": {},
     "output_type": "execute_result"
    }
   ],
   "source": [
    "m1"
   ]
  },
  {
   "cell_type": "code",
   "execution_count": 23,
   "metadata": {},
   "outputs": [
    {
     "data": {
      "text/plain": [
       "array([100,   1,   2,   3,   4,   5,   6,   7,   8,   9,  10, 200])"
      ]
     },
     "execution_count": 23,
     "metadata": {},
     "output_type": "execute_result"
    }
   ],
   "source": [
    "arr"
   ]
  },
  {
   "cell_type": "code",
   "execution_count": 24,
   "metadata": {},
   "outputs": [],
   "source": [
    "m3 = arr.reshape(3, 4).copy()"
   ]
  },
  {
   "cell_type": "code",
   "execution_count": 25,
   "metadata": {},
   "outputs": [
    {
     "data": {
      "text/plain": [
       "array([[100,   1,   2,   3],\n",
       "       [  4,   5,   6,   7],\n",
       "       [  8,   9,  10, 200]])"
      ]
     },
     "execution_count": 25,
     "metadata": {},
     "output_type": "execute_result"
    }
   ],
   "source": [
    "m3"
   ]
  },
  {
   "cell_type": "code",
   "execution_count": 26,
   "metadata": {},
   "outputs": [],
   "source": [
    "m3[0][0] = 0"
   ]
  },
  {
   "cell_type": "code",
   "execution_count": 27,
   "metadata": {},
   "outputs": [
    {
     "data": {
      "text/plain": [
       "array([[  0,   1,   2,   3],\n",
       "       [  4,   5,   6,   7],\n",
       "       [  8,   9,  10, 200]])"
      ]
     },
     "execution_count": 27,
     "metadata": {},
     "output_type": "execute_result"
    }
   ],
   "source": [
    "m3"
   ]
  },
  {
   "cell_type": "code",
   "execution_count": 28,
   "metadata": {},
   "outputs": [
    {
     "data": {
      "text/plain": [
       "array([100,   1,   2,   3,   4,   5,   6,   7,   8,   9,  10, 200])"
      ]
     },
     "execution_count": 28,
     "metadata": {},
     "output_type": "execute_result"
    }
   ],
   "source": [
    "arr"
   ]
  },
  {
   "cell_type": "code",
   "execution_count": null,
   "metadata": {},
   "outputs": [],
   "source": []
  },
  {
   "cell_type": "code",
   "execution_count": 29,
   "metadata": {},
   "outputs": [],
   "source": [
    "m3 = arr.copy().reshape(3, 4)"
   ]
  },
  {
   "cell_type": "code",
   "execution_count": 30,
   "metadata": {},
   "outputs": [
    {
     "data": {
      "text/plain": [
       "array([[100,   1,   2,   3],\n",
       "       [  4,   5,   6,   7],\n",
       "       [  8,   9,  10, 200]])"
      ]
     },
     "execution_count": 30,
     "metadata": {},
     "output_type": "execute_result"
    }
   ],
   "source": [
    "m3"
   ]
  },
  {
   "cell_type": "code",
   "execution_count": 31,
   "metadata": {},
   "outputs": [],
   "source": [
    "m3[0][0] = 0"
   ]
  },
  {
   "cell_type": "code",
   "execution_count": 32,
   "metadata": {},
   "outputs": [
    {
     "data": {
      "text/plain": [
       "array([[  0,   1,   2,   3],\n",
       "       [  4,   5,   6,   7],\n",
       "       [  8,   9,  10, 200]])"
      ]
     },
     "execution_count": 32,
     "metadata": {},
     "output_type": "execute_result"
    }
   ],
   "source": [
    "m3"
   ]
  },
  {
   "cell_type": "code",
   "execution_count": 33,
   "metadata": {},
   "outputs": [
    {
     "data": {
      "text/plain": [
       "array([100,   1,   2,   3,   4,   5,   6,   7,   8,   9,  10, 200])"
      ]
     },
     "execution_count": 33,
     "metadata": {},
     "output_type": "execute_result"
    }
   ],
   "source": [
    "arr"
   ]
  },
  {
   "cell_type": "code",
   "execution_count": 34,
   "metadata": {},
   "outputs": [],
   "source": [
    "m = np.array(\n",
    "    [\n",
    "        [1, 2, 3],\n",
    "        [4, 5, 6]\n",
    "    ]\n",
    ")"
   ]
  },
  {
   "cell_type": "code",
   "execution_count": 35,
   "metadata": {},
   "outputs": [
    {
     "data": {
      "text/plain": [
       "(2, 3)"
      ]
     },
     "execution_count": 35,
     "metadata": {},
     "output_type": "execute_result"
    }
   ],
   "source": [
    "m.shape"
   ]
  },
  {
   "cell_type": "code",
   "execution_count": 36,
   "metadata": {},
   "outputs": [
    {
     "data": {
      "text/plain": [
       "array([1, 2, 3, 4, 5, 6])"
      ]
     },
     "execution_count": 36,
     "metadata": {},
     "output_type": "execute_result"
    }
   ],
   "source": [
    "arr2 = m.reshape((6, ))\n",
    "arr2"
   ]
  },
  {
   "cell_type": "code",
   "execution_count": 37,
   "metadata": {},
   "outputs": [],
   "source": [
    "arr2= m.reshape(6)"
   ]
  },
  {
   "cell_type": "code",
   "execution_count": 39,
   "metadata": {},
   "outputs": [
    {
     "data": {
      "text/plain": [
       "array([1, 2, 3, 4, 5, 6])"
      ]
     },
     "execution_count": 39,
     "metadata": {},
     "output_type": "execute_result"
    }
   ],
   "source": [
    "arr2"
   ]
  },
  {
   "cell_type": "code",
   "execution_count": 40,
   "metadata": {},
   "outputs": [
    {
     "data": {
      "text/plain": [
       "array([ 1,  2, 30,  4,  5,  6])"
      ]
     },
     "execution_count": 40,
     "metadata": {},
     "output_type": "execute_result"
    }
   ],
   "source": [
    "arr2[2] = 30\n",
    "arr2"
   ]
  },
  {
   "cell_type": "code",
   "execution_count": 41,
   "metadata": {},
   "outputs": [
    {
     "data": {
      "text/plain": [
       "array([[ 1,  2, 30],\n",
       "       [ 4,  5,  6]])"
      ]
     },
     "execution_count": 41,
     "metadata": {},
     "output_type": "execute_result"
    }
   ],
   "source": [
    "m"
   ]
  },
  {
   "cell_type": "code",
   "execution_count": 42,
   "metadata": {},
   "outputs": [
    {
     "data": {
      "text/plain": [
       "array([[ 1,  2],\n",
       "       [ 3,  4],\n",
       "       [ 5,  6],\n",
       "       [ 7,  8],\n",
       "       [ 9, 10]])"
      ]
     },
     "execution_count": 42,
     "metadata": {},
     "output_type": "execute_result"
    }
   ],
   "source": [
    "np.arange(1, 11).reshape(5, 2)"
   ]
  },
  {
   "cell_type": "markdown",
   "metadata": {},
   "source": [
    "### Stacking Arrays"
   ]
  },
  {
   "cell_type": "code",
   "execution_count": 1,
   "metadata": {},
   "outputs": [],
   "source": [
    "import numpy as np"
   ]
  },
  {
   "cell_type": "code",
   "execution_count": 2,
   "metadata": {},
   "outputs": [
    {
     "data": {
      "text/plain": [
       "array([1, 2, 3, 4, 5])"
      ]
     },
     "execution_count": 2,
     "metadata": {},
     "output_type": "execute_result"
    }
   ],
   "source": [
    "a1 = np.arange(1, 6)\n",
    "a1"
   ]
  },
  {
   "cell_type": "code",
   "execution_count": 3,
   "metadata": {},
   "outputs": [
    {
     "data": {
      "text/plain": [
       "array([[ 1,  2,  3,  4,  5],\n",
       "       [ 6,  7,  8,  9, 10]])"
      ]
     },
     "execution_count": 3,
     "metadata": {},
     "output_type": "execute_result"
    }
   ],
   "source": [
    "a2 = np.arange(1, 11).reshape(2, 5)\n",
    "a2"
   ]
  },
  {
   "cell_type": "code",
   "execution_count": 5,
   "metadata": {},
   "outputs": [
    {
     "data": {
      "text/plain": [
       "array([[ 1,  2,  3,  4,  5],\n",
       "       [ 1,  2,  3,  4,  5],\n",
       "       [ 6,  7,  8,  9, 10]])"
      ]
     },
     "execution_count": 5,
     "metadata": {},
     "output_type": "execute_result"
    }
   ],
   "source": [
    "s1 = np.vstack((a1, a2))\n",
    "s1"
   ]
  },
  {
   "cell_type": "code",
   "execution_count": 6,
   "metadata": {},
   "outputs": [
    {
     "name": "stdout",
     "output_type": "stream",
     "text": [
      "all the input array dimensions except for the concatenation axis must match exactly, but along dimension 1, the array at index 0 has size 3 and the array at index 1 has size 5\n"
     ]
    }
   ],
   "source": [
    "try:\n",
    "    np.vstack((np.arange(3), a2))\n",
    "except ValueError as ex:\n",
    "    print(ex)"
   ]
  },
  {
   "cell_type": "code",
   "execution_count": 7,
   "metadata": {},
   "outputs": [
    {
     "data": {
      "text/plain": [
       "array([[1. , 2. , 3. , 4. ],\n",
       "       [0.1, 0.2, 0.3, 0.4]])"
      ]
     },
     "execution_count": 7,
     "metadata": {},
     "output_type": "execute_result"
    }
   ],
   "source": [
    "a1 = np.array([1, 2, 3, 4])\n",
    "a2 = np.array([0.1, 0.2, 0.3, 0.4])\n",
    "result = np.vstack((a1, a2))\n",
    "result"
   ]
  },
  {
   "cell_type": "code",
   "execution_count": 8,
   "metadata": {},
   "outputs": [
    {
     "data": {
      "text/plain": [
       "dtype('float64')"
      ]
     },
     "execution_count": 8,
     "metadata": {},
     "output_type": "execute_result"
    }
   ],
   "source": [
    "result.dtype"
   ]
  },
  {
   "cell_type": "code",
   "execution_count": 9,
   "metadata": {},
   "outputs": [
    {
     "name": "stderr",
     "output_type": "stream",
     "text": [
      "C:\\Users\\Oxward\\AppData\\Local\\Temp\\ipykernel_5492\\2643957257.py:2: DeprecationWarning: NumPy will stop allowing conversion of out-of-bound Python integers to integer arrays.  The conversion of 1000 to uint8 will fail in the future.\n",
      "For the old behavior, usually:\n",
      "    np.array(value).astype(dtype)\n",
      "will give the desired result (the cast overflows).\n",
      "  a2 = np.array([1000, 2000, 3000, 40000], dtype=np.uint8)\n",
      "C:\\Users\\Oxward\\AppData\\Local\\Temp\\ipykernel_5492\\2643957257.py:2: DeprecationWarning: NumPy will stop allowing conversion of out-of-bound Python integers to integer arrays.  The conversion of 2000 to uint8 will fail in the future.\n",
      "For the old behavior, usually:\n",
      "    np.array(value).astype(dtype)\n",
      "will give the desired result (the cast overflows).\n",
      "  a2 = np.array([1000, 2000, 3000, 40000], dtype=np.uint8)\n",
      "C:\\Users\\Oxward\\AppData\\Local\\Temp\\ipykernel_5492\\2643957257.py:2: DeprecationWarning: NumPy will stop allowing conversion of out-of-bound Python integers to integer arrays.  The conversion of 3000 to uint8 will fail in the future.\n",
      "For the old behavior, usually:\n",
      "    np.array(value).astype(dtype)\n",
      "will give the desired result (the cast overflows).\n",
      "  a2 = np.array([1000, 2000, 3000, 40000], dtype=np.uint8)\n",
      "C:\\Users\\Oxward\\AppData\\Local\\Temp\\ipykernel_5492\\2643957257.py:2: DeprecationWarning: NumPy will stop allowing conversion of out-of-bound Python integers to integer arrays.  The conversion of 40000 to uint8 will fail in the future.\n",
      "For the old behavior, usually:\n",
      "    np.array(value).astype(dtype)\n",
      "will give the desired result (the cast overflows).\n",
      "  a2 = np.array([1000, 2000, 3000, 40000], dtype=np.uint8)\n"
     ]
    },
    {
     "data": {
      "text/plain": [
       "array([[  1,   2,   3,   4],\n",
       "       [232, 208, 184,  64]], dtype=uint8)"
      ]
     },
     "execution_count": 9,
     "metadata": {},
     "output_type": "execute_result"
    }
   ],
   "source": [
    "a1 = np.array([1, 2, 3, 4], dtype=np.uint8)\n",
    "a2 = np.array([1000, 2000, 3000, 40000], dtype=np.uint8)\n",
    "result = np.vstack((a1, a2))\n",
    "result"
   ]
  },
  {
   "cell_type": "code",
   "execution_count": 10,
   "metadata": {},
   "outputs": [
    {
     "data": {
      "text/plain": [
       "array([[0.  , 1.  , 2.  , 3.  , 4.  ],\n",
       "       [0.  , 0.25, 0.5 , 0.75, 1.  ],\n",
       "       [1.  , 0.  , 0.  , 0.  , 0.  ],\n",
       "       [0.  , 1.  , 0.  , 0.  , 0.  ],\n",
       "       [0.  , 0.  , 1.  , 0.  , 0.  ],\n",
       "       [0.  , 0.  , 0.  , 1.  , 0.  ],\n",
       "       [0.  , 0.  , 0.  , 0.  , 1.  ]])"
      ]
     },
     "execution_count": 10,
     "metadata": {},
     "output_type": "execute_result"
    }
   ],
   "source": [
    "np.vstack(\n",
    "    (\n",
    "        np.arange(5),\n",
    "        np.linspace(0, 1, 5),\n",
    "        np.eye(5)\n",
    "    )\n",
    ")"
   ]
  },
  {
   "cell_type": "code",
   "execution_count": 11,
   "metadata": {},
   "outputs": [
    {
     "data": {
      "text/plain": [
       "array([[1., 2.],\n",
       "       [2., 3.],\n",
       "       [4., 5.]])"
      ]
     },
     "execution_count": 11,
     "metadata": {},
     "output_type": "execute_result"
    }
   ],
   "source": [
    "a1 = np.array([1, 2], dtype=np.uint8)\n",
    "a2 = np.array([2, 3], dtype=np.uint64)\n",
    "a3 = np.array([4, 5], dtype=np.int32)\n",
    "\n",
    "result = np.vstack([a1, a2, a3])\n",
    "result"
   ]
  },
  {
   "cell_type": "code",
   "execution_count": 12,
   "metadata": {},
   "outputs": [
    {
     "data": {
      "text/plain": [
       "dtype('float64')"
      ]
     },
     "execution_count": 12,
     "metadata": {},
     "output_type": "execute_result"
    }
   ],
   "source": [
    "result.dtype"
   ]
  },
  {
   "cell_type": "code",
   "execution_count": 13,
   "metadata": {},
   "outputs": [
    {
     "data": {
      "text/plain": [
       "array([1, 2], dtype=uint8)"
      ]
     },
     "execution_count": 13,
     "metadata": {},
     "output_type": "execute_result"
    }
   ],
   "source": [
    "a1"
   ]
  },
  {
   "cell_type": "code",
   "execution_count": 14,
   "metadata": {},
   "outputs": [
    {
     "data": {
      "text/plain": [
       "array([2., 3.], dtype=float32)"
      ]
     },
     "execution_count": 14,
     "metadata": {},
     "output_type": "execute_result"
    }
   ],
   "source": [
    "a2.astype(np.float32)"
   ]
  },
  {
   "cell_type": "code",
   "execution_count": 15,
   "metadata": {},
   "outputs": [],
   "source": [
    "result = np.vstack(\n",
    "    (\n",
    "        a1.astype(np.int64),\n",
    "        a1.astype(int),\n",
    "        a3.astype(np.int64)\n",
    "    )\n",
    ")"
   ]
  },
  {
   "cell_type": "code",
   "execution_count": 16,
   "metadata": {},
   "outputs": [
    {
     "data": {
      "text/plain": [
       "array([[1, 2],\n",
       "       [1, 2],\n",
       "       [4, 5]], dtype=int64)"
      ]
     },
     "execution_count": 16,
     "metadata": {},
     "output_type": "execute_result"
    }
   ],
   "source": [
    "result"
   ]
  },
  {
   "cell_type": "code",
   "execution_count": 17,
   "metadata": {},
   "outputs": [
    {
     "data": {
      "text/plain": [
       "dtype('int64')"
      ]
     },
     "execution_count": 17,
     "metadata": {},
     "output_type": "execute_result"
    }
   ],
   "source": [
    "result.dtype"
   ]
  },
  {
   "cell_type": "code",
   "execution_count": 18,
   "metadata": {},
   "outputs": [
    {
     "data": {
      "text/plain": [
       "array([[ 1,  2,  3,  4],\n",
       "       [10, 20, 30, 40]])"
      ]
     },
     "execution_count": 18,
     "metadata": {},
     "output_type": "execute_result"
    }
   ],
   "source": [
    "a1 = np.array([1, 2, 3, 4])\n",
    "a2 = np.array([10, 20, 30, 40])\n",
    "result = np.vstack((a1, a2))\n",
    "result"
   ]
  },
  {
   "cell_type": "code",
   "execution_count": 19,
   "metadata": {},
   "outputs": [
    {
     "data": {
      "text/plain": [
       "array([100,   2,   3,   4])"
      ]
     },
     "execution_count": 19,
     "metadata": {},
     "output_type": "execute_result"
    }
   ],
   "source": [
    "a1[0] = 100\n",
    "a1"
   ]
  },
  {
   "cell_type": "code",
   "execution_count": 20,
   "metadata": {},
   "outputs": [
    {
     "data": {
      "text/plain": [
       "array([[ 1,  2,  3,  4],\n",
       "       [10, 20, 30, 40]])"
      ]
     },
     "execution_count": 20,
     "metadata": {},
     "output_type": "execute_result"
    }
   ],
   "source": [
    "result"
   ]
  },
  {
   "cell_type": "code",
   "execution_count": 21,
   "metadata": {},
   "outputs": [],
   "source": [
    "result[1][2] = 300"
   ]
  },
  {
   "cell_type": "code",
   "execution_count": 22,
   "metadata": {},
   "outputs": [
    {
     "data": {
      "text/plain": [
       "array([[  1,   2,   3,   4],\n",
       "       [ 10,  20, 300,  40]])"
      ]
     },
     "execution_count": 22,
     "metadata": {},
     "output_type": "execute_result"
    }
   ],
   "source": [
    "result"
   ]
  },
  {
   "cell_type": "code",
   "execution_count": 23,
   "metadata": {},
   "outputs": [
    {
     "data": {
      "text/plain": [
       "array([10, 20, 30, 40])"
      ]
     },
     "execution_count": 23,
     "metadata": {},
     "output_type": "execute_result"
    }
   ],
   "source": [
    "a2"
   ]
  },
  {
   "cell_type": "code",
   "execution_count": 24,
   "metadata": {},
   "outputs": [
    {
     "data": {
      "text/plain": [
       "array([[0.        , 0.55555556],\n",
       "       [1.11111111, 1.66666667],\n",
       "       [2.22222222, 2.77777778],\n",
       "       [3.33333333, 3.88888889],\n",
       "       [4.44444444, 5.        ]])"
      ]
     },
     "execution_count": 24,
     "metadata": {},
     "output_type": "execute_result"
    }
   ],
   "source": [
    "a1 = np.linspace(0, 5, 10).reshape(5, 2)\n",
    "a1"
   ]
  },
  {
   "cell_type": "code",
   "execution_count": 25,
   "metadata": {},
   "outputs": [
    {
     "data": {
      "text/plain": [
       "array([[5, 0],\n",
       "       [3, 3],\n",
       "       [7, 9],\n",
       "       [3, 5],\n",
       "       [2, 4]])"
      ]
     },
     "execution_count": 25,
     "metadata": {},
     "output_type": "execute_result"
    }
   ],
   "source": [
    "np.random.seed(0)\n",
    "a2 = np.random.randint(0, 10, 10).reshape(5, 2)\n",
    "a2"
   ]
  },
  {
   "cell_type": "code",
   "execution_count": 26,
   "metadata": {},
   "outputs": [
    {
     "data": {
      "text/plain": [
       "array([[0.        , 0.55555556, 5.        , 0.        ],\n",
       "       [1.11111111, 1.66666667, 3.        , 3.        ],\n",
       "       [2.22222222, 2.77777778, 7.        , 9.        ],\n",
       "       [3.33333333, 3.88888889, 3.        , 5.        ],\n",
       "       [4.44444444, 5.        , 2.        , 4.        ]])"
      ]
     },
     "execution_count": 26,
     "metadata": {},
     "output_type": "execute_result"
    }
   ],
   "source": [
    "result = np.hstack((a1, a2))\n",
    "result"
   ]
  },
  {
   "cell_type": "code",
   "execution_count": 27,
   "metadata": {},
   "outputs": [
    {
     "data": {
      "text/plain": [
       "array([[5, 0, 3, 3],\n",
       "       [7, 9, 3, 5],\n",
       "       [2, 4, 7, 6],\n",
       "       [8, 8, 1, 6],\n",
       "       [7, 7, 8, 1]])"
      ]
     },
     "execution_count": 27,
     "metadata": {},
     "output_type": "execute_result"
    }
   ],
   "source": [
    "np.random.seed(0)\n",
    "a2 = np.random.randint(0, 10, 20).reshape(5, 4)\n",
    "a2"
   ]
  },
  {
   "cell_type": "code",
   "execution_count": 28,
   "metadata": {},
   "outputs": [
    {
     "data": {
      "text/plain": [
       "array([[0.        , 0.55555556, 5.        , 0.        , 3.        ,\n",
       "        3.        ],\n",
       "       [1.11111111, 1.66666667, 7.        , 9.        , 3.        ,\n",
       "        5.        ],\n",
       "       [2.22222222, 2.77777778, 2.        , 4.        , 7.        ,\n",
       "        6.        ],\n",
       "       [3.33333333, 3.88888889, 8.        , 8.        , 1.        ,\n",
       "        6.        ],\n",
       "       [4.44444444, 5.        , 7.        , 7.        , 8.        ,\n",
       "        1.        ]])"
      ]
     },
     "execution_count": 28,
     "metadata": {},
     "output_type": "execute_result"
    }
   ],
   "source": [
    "result = np.hstack((a1, a2))\n",
    "result"
   ]
  },
  {
   "cell_type": "markdown",
   "metadata": {},
   "source": [
    "### Indexing"
   ]
  },
  {
   "cell_type": "code",
   "execution_count": 29,
   "metadata": {},
   "outputs": [],
   "source": [
    "import numpy as np"
   ]
  },
  {
   "cell_type": "code",
   "execution_count": 30,
   "metadata": {},
   "outputs": [
    {
     "data": {
      "text/plain": [
       "3"
      ]
     },
     "execution_count": 30,
     "metadata": {},
     "output_type": "execute_result"
    }
   ],
   "source": [
    "a = [1, 2, 3, 4]\n",
    "a[2]"
   ]
  },
  {
   "cell_type": "code",
   "execution_count": 31,
   "metadata": {},
   "outputs": [],
   "source": [
    "m = [\n",
    "    [1, 2, 3],\n",
    "    [4, 5, 6],\n",
    "    [7, 8, 9]\n",
    "]"
   ]
  },
  {
   "cell_type": "code",
   "execution_count": 32,
   "metadata": {},
   "outputs": [
    {
     "data": {
      "text/plain": [
       "[4, 5, 6]"
      ]
     },
     "execution_count": 32,
     "metadata": {},
     "output_type": "execute_result"
    }
   ],
   "source": [
    "m[1]"
   ]
  },
  {
   "cell_type": "code",
   "execution_count": 33,
   "metadata": {},
   "outputs": [
    {
     "data": {
      "text/plain": [
       "5"
      ]
     },
     "execution_count": 33,
     "metadata": {},
     "output_type": "execute_result"
    }
   ],
   "source": [
    "m[1][1]"
   ]
  },
  {
   "cell_type": "code",
   "execution_count": 35,
   "metadata": {},
   "outputs": [],
   "source": [
    "m[1][2] = 100"
   ]
  },
  {
   "cell_type": "code",
   "execution_count": 36,
   "metadata": {},
   "outputs": [
    {
     "data": {
      "text/plain": [
       "[[1, 2, 3], [4, 5, 100], [7, 8, 9]]"
      ]
     },
     "execution_count": 36,
     "metadata": {},
     "output_type": "execute_result"
    }
   ],
   "source": [
    "m"
   ]
  },
  {
   "cell_type": "code",
   "execution_count": 37,
   "metadata": {},
   "outputs": [],
   "source": [
    "a = np.array([1, 2, 3])"
   ]
  },
  {
   "cell_type": "code",
   "execution_count": 38,
   "metadata": {},
   "outputs": [
    {
     "data": {
      "text/plain": [
       "1"
      ]
     },
     "execution_count": 38,
     "metadata": {},
     "output_type": "execute_result"
    }
   ],
   "source": [
    "a[0]"
   ]
  },
  {
   "cell_type": "code",
   "execution_count": 39,
   "metadata": {},
   "outputs": [],
   "source": [
    "a[1] = 200"
   ]
  },
  {
   "cell_type": "code",
   "execution_count": 40,
   "metadata": {},
   "outputs": [
    {
     "data": {
      "text/plain": [
       "array([  1, 200,   3])"
      ]
     },
     "execution_count": 40,
     "metadata": {},
     "output_type": "execute_result"
    }
   ],
   "source": [
    "a"
   ]
  },
  {
   "cell_type": "code",
   "execution_count": 41,
   "metadata": {},
   "outputs": [
    {
     "data": {
      "text/plain": [
       "array([[1., 0., 0.],\n",
       "       [0., 1., 0.],\n",
       "       [0., 0., 1.]])"
      ]
     },
     "execution_count": 41,
     "metadata": {},
     "output_type": "execute_result"
    }
   ],
   "source": [
    "m = np.eye(3)\n",
    "m"
   ]
  },
  {
   "cell_type": "code",
   "execution_count": 42,
   "metadata": {},
   "outputs": [
    {
     "data": {
      "text/plain": [
       "1.0"
      ]
     },
     "execution_count": 42,
     "metadata": {},
     "output_type": "execute_result"
    }
   ],
   "source": [
    "m[1][1]"
   ]
  },
  {
   "cell_type": "code",
   "execution_count": 43,
   "metadata": {},
   "outputs": [
    {
     "data": {
      "text/plain": [
       "1.0"
      ]
     },
     "execution_count": 43,
     "metadata": {},
     "output_type": "execute_result"
    }
   ],
   "source": [
    "m[1, 1]"
   ]
  },
  {
   "cell_type": "code",
   "execution_count": 44,
   "metadata": {},
   "outputs": [
    {
     "data": {
      "text/plain": [
       "array([[  1.,   0.,   0.],\n",
       "       [  0.,   1., 100.],\n",
       "       [  0.,   0.,   1.]])"
      ]
     },
     "execution_count": 44,
     "metadata": {},
     "output_type": "execute_result"
    }
   ],
   "source": [
    "m[1, 2] = 100\n",
    "m"
   ]
  },
  {
   "cell_type": "code",
   "execution_count": 45,
   "metadata": {},
   "outputs": [
    {
     "data": {
      "text/plain": [
       "100.0"
      ]
     },
     "execution_count": 45,
     "metadata": {},
     "output_type": "execute_result"
    }
   ],
   "source": [
    "m[(1, 2)]"
   ]
  },
  {
   "cell_type": "code",
   "execution_count": 46,
   "metadata": {},
   "outputs": [
    {
     "data": {
      "text/plain": [
       "100.0"
      ]
     },
     "execution_count": 46,
     "metadata": {},
     "output_type": "execute_result"
    }
   ],
   "source": [
    "m[1, 2]"
   ]
  },
  {
   "cell_type": "code",
   "execution_count": 47,
   "metadata": {},
   "outputs": [
    {
     "data": {
      "text/plain": [
       "array([  0.,   1., 100.])"
      ]
     },
     "execution_count": 47,
     "metadata": {},
     "output_type": "execute_result"
    }
   ],
   "source": [
    "m[1]"
   ]
  },
  {
   "cell_type": "code",
   "execution_count": 48,
   "metadata": {},
   "outputs": [
    {
     "data": {
      "text/plain": [
       "1.0"
      ]
     },
     "execution_count": 48,
     "metadata": {},
     "output_type": "execute_result"
    }
   ],
   "source": [
    "m[1, 1]"
   ]
  },
  {
   "cell_type": "code",
   "execution_count": 49,
   "metadata": {},
   "outputs": [
    {
     "data": {
      "text/plain": [
       "array([[1., 0., 0.],\n",
       "       [0., 1., 0.],\n",
       "       [0., 0., 1.]])"
      ]
     },
     "execution_count": 49,
     "metadata": {},
     "output_type": "execute_result"
    }
   ],
   "source": [
    "m[1, 2] = 0\n",
    "m"
   ]
  },
  {
   "cell_type": "code",
   "execution_count": 50,
   "metadata": {},
   "outputs": [
    {
     "data": {
      "text/plain": [
       "array([1, 2, 3, 4], dtype=uint8)"
      ]
     },
     "execution_count": 50,
     "metadata": {},
     "output_type": "execute_result"
    }
   ],
   "source": [
    "arr = np.array([1, 2, 3, 4], dtype=np.uint8)\n",
    "arr"
   ]
  },
  {
   "cell_type": "code",
   "execution_count": 52,
   "metadata": {},
   "outputs": [
    {
     "name": "stderr",
     "output_type": "stream",
     "text": [
      "C:\\Users\\Oxward\\AppData\\Local\\Temp\\ipykernel_5492\\1768485359.py:1: DeprecationWarning: NumPy will stop allowing conversion of out-of-bound Python integers to integer arrays.  The conversion of -100 to uint8 will fail in the future.\n",
      "For the old behavior, usually:\n",
      "    np.array(value).astype(dtype)\n",
      "will give the desired result (the cast overflows).\n",
      "  arr[0] = -100\n"
     ]
    }
   ],
   "source": [
    "arr[0] = -100"
   ]
  },
  {
   "cell_type": "code",
   "execution_count": 53,
   "metadata": {},
   "outputs": [
    {
     "data": {
      "text/plain": [
       "array([156,   2,   3,   4], dtype=uint8)"
      ]
     },
     "execution_count": 53,
     "metadata": {},
     "output_type": "execute_result"
    }
   ],
   "source": [
    "arr"
   ]
  },
  {
   "cell_type": "markdown",
   "metadata": {},
   "source": [
    "### Slicing"
   ]
  },
  {
   "cell_type": "code",
   "execution_count": 54,
   "metadata": {},
   "outputs": [],
   "source": [
    "import numpy as np"
   ]
  },
  {
   "cell_type": "code",
   "execution_count": 55,
   "metadata": {},
   "outputs": [],
   "source": [
    "l = [1, 2, 3, 4, 5, 6]"
   ]
  },
  {
   "cell_type": "code",
   "execution_count": 56,
   "metadata": {},
   "outputs": [
    {
     "data": {
      "text/plain": [
       "[1, 2, 3]"
      ]
     },
     "execution_count": 56,
     "metadata": {},
     "output_type": "execute_result"
    }
   ],
   "source": [
    "l[0:3]"
   ]
  },
  {
   "cell_type": "code",
   "execution_count": 57,
   "metadata": {},
   "outputs": [
    {
     "data": {
      "text/plain": [
       "[1, 3, 5]"
      ]
     },
     "execution_count": 57,
     "metadata": {},
     "output_type": "execute_result"
    }
   ],
   "source": [
    "l[0::2]"
   ]
  },
  {
   "cell_type": "code",
   "execution_count": 58,
   "metadata": {},
   "outputs": [
    {
     "data": {
      "text/plain": [
       "[6, 5, 4, 3, 2, 1]"
      ]
     },
     "execution_count": 58,
     "metadata": {},
     "output_type": "execute_result"
    }
   ],
   "source": [
    "l[::-1]"
   ]
  },
  {
   "cell_type": "code",
   "execution_count": 59,
   "metadata": {},
   "outputs": [],
   "source": [
    "arr = np.array(l)"
   ]
  },
  {
   "cell_type": "code",
   "execution_count": 61,
   "metadata": {},
   "outputs": [
    {
     "data": {
      "text/plain": [
       "array([1, 2, 3])"
      ]
     },
     "execution_count": 61,
     "metadata": {},
     "output_type": "execute_result"
    }
   ],
   "source": [
    "arr[0:3]"
   ]
  },
  {
   "cell_type": "code",
   "execution_count": 63,
   "metadata": {},
   "outputs": [
    {
     "data": {
      "text/plain": [
       "array([1, 3, 5])"
      ]
     },
     "execution_count": 63,
     "metadata": {},
     "output_type": "execute_result"
    }
   ],
   "source": [
    "arr[0::2]"
   ]
  },
  {
   "cell_type": "code",
   "execution_count": 64,
   "metadata": {},
   "outputs": [
    {
     "data": {
      "text/plain": [
       "array([6, 5, 4, 3, 2, 1])"
      ]
     },
     "execution_count": 64,
     "metadata": {},
     "output_type": "execute_result"
    }
   ],
   "source": [
    "arr[::-1]"
   ]
  },
  {
   "cell_type": "code",
   "execution_count": 65,
   "metadata": {},
   "outputs": [
    {
     "data": {
      "text/plain": [
       "[1, 2, 3, 4, 5, 6]"
      ]
     },
     "execution_count": 65,
     "metadata": {},
     "output_type": "execute_result"
    }
   ],
   "source": [
    "l"
   ]
  },
  {
   "cell_type": "code",
   "execution_count": 67,
   "metadata": {},
   "outputs": [
    {
     "data": {
      "text/plain": [
       "[1, 2]"
      ]
     },
     "execution_count": 67,
     "metadata": {},
     "output_type": "execute_result"
    }
   ],
   "source": [
    "slice_ = l[0:2]\n",
    "slice_"
   ]
  },
  {
   "cell_type": "code",
   "execution_count": 68,
   "metadata": {},
   "outputs": [
    {
     "data": {
      "text/plain": [
       "[100, 2]"
      ]
     },
     "execution_count": 68,
     "metadata": {},
     "output_type": "execute_result"
    }
   ],
   "source": [
    "slice_[0] = 100\n",
    "slice_"
   ]
  },
  {
   "cell_type": "code",
   "execution_count": 69,
   "metadata": {},
   "outputs": [
    {
     "data": {
      "text/plain": [
       "[1, 2, 3, 4, 5, 6]"
      ]
     },
     "execution_count": 69,
     "metadata": {},
     "output_type": "execute_result"
    }
   ],
   "source": [
    "l"
   ]
  },
  {
   "cell_type": "code",
   "execution_count": 70,
   "metadata": {},
   "outputs": [
    {
     "data": {
      "text/plain": [
       "array([1, 2, 3, 4, 5, 6])"
      ]
     },
     "execution_count": 70,
     "metadata": {},
     "output_type": "execute_result"
    }
   ],
   "source": [
    "arr = np.array(l)\n",
    "arr"
   ]
  },
  {
   "cell_type": "code",
   "execution_count": 71,
   "metadata": {},
   "outputs": [
    {
     "data": {
      "text/plain": [
       "array([1, 2])"
      ]
     },
     "execution_count": 71,
     "metadata": {},
     "output_type": "execute_result"
    }
   ],
   "source": [
    "slice_ = arr[0:2]\n",
    "slice_"
   ]
  },
  {
   "cell_type": "code",
   "execution_count": 72,
   "metadata": {},
   "outputs": [
    {
     "data": {
      "text/plain": [
       "array([100,   2])"
      ]
     },
     "execution_count": 72,
     "metadata": {},
     "output_type": "execute_result"
    }
   ],
   "source": [
    "slice_[0] = 100\n",
    "slice_"
   ]
  },
  {
   "cell_type": "code",
   "execution_count": 73,
   "metadata": {},
   "outputs": [
    {
     "data": {
      "text/plain": [
       "array([100,   2,   3,   4,   5,   6])"
      ]
     },
     "execution_count": 73,
     "metadata": {},
     "output_type": "execute_result"
    }
   ],
   "source": [
    "arr"
   ]
  },
  {
   "cell_type": "code",
   "execution_count": 74,
   "metadata": {},
   "outputs": [
    {
     "data": {
      "text/plain": [
       "array([4, 5, 6])"
      ]
     },
     "execution_count": 74,
     "metadata": {},
     "output_type": "execute_result"
    }
   ],
   "source": [
    "arr = np.arange(1, 7)\n",
    "slice_ = arr[3:]\n",
    "slice_"
   ]
  },
  {
   "cell_type": "code",
   "execution_count": 75,
   "metadata": {},
   "outputs": [
    {
     "data": {
      "text/plain": [
       "array([ 1,  2,  3,  4,  5, 60])"
      ]
     },
     "execution_count": 75,
     "metadata": {},
     "output_type": "execute_result"
    }
   ],
   "source": [
    "arr[-1] = 60\n",
    "arr"
   ]
  },
  {
   "cell_type": "code",
   "execution_count": 76,
   "metadata": {},
   "outputs": [
    {
     "data": {
      "text/plain": [
       "array([ 4,  5, 60])"
      ]
     },
     "execution_count": 76,
     "metadata": {},
     "output_type": "execute_result"
    }
   ],
   "source": [
    "slice_"
   ]
  },
  {
   "cell_type": "code",
   "execution_count": 77,
   "metadata": {},
   "outputs": [
    {
     "data": {
      "text/plain": [
       "array([4, 5, 6])"
      ]
     },
     "execution_count": 77,
     "metadata": {},
     "output_type": "execute_result"
    }
   ],
   "source": [
    "arr = np.arange(1, 7)\n",
    "slice_ = arr[3:].copy()\n",
    "slice_"
   ]
  },
  {
   "cell_type": "code",
   "execution_count": 78,
   "metadata": {},
   "outputs": [
    {
     "data": {
      "text/plain": [
       "array([40,  5,  6])"
      ]
     },
     "execution_count": 78,
     "metadata": {},
     "output_type": "execute_result"
    }
   ],
   "source": [
    "slice_[0] = 40\n",
    "slice_"
   ]
  },
  {
   "cell_type": "code",
   "execution_count": 79,
   "metadata": {},
   "outputs": [
    {
     "data": {
      "text/plain": [
       "array([1, 2, 3, 4, 5, 6])"
      ]
     },
     "execution_count": 79,
     "metadata": {},
     "output_type": "execute_result"
    }
   ],
   "source": [
    "arr"
   ]
  },
  {
   "cell_type": "code",
   "execution_count": 80,
   "metadata": {},
   "outputs": [
    {
     "data": {
      "text/plain": [
       "array([[ 1,  2,  3,  4,  5],\n",
       "       [ 6,  7,  8,  9, 10],\n",
       "       [11, 12, 13, 14, 15],\n",
       "       [16, 17, 18, 19, 20],\n",
       "       [21, 22, 23, 24, 25]])"
      ]
     },
     "execution_count": 80,
     "metadata": {},
     "output_type": "execute_result"
    }
   ],
   "source": [
    "arr = np.arange(1, 26).reshape(5, 5)\n",
    "arr"
   ]
  },
  {
   "cell_type": "code",
   "execution_count": 81,
   "metadata": {},
   "outputs": [
    {
     "data": {
      "text/plain": [
       "array([[1, 2],\n",
       "       [6, 7]])"
      ]
     },
     "execution_count": 81,
     "metadata": {},
     "output_type": "execute_result"
    }
   ],
   "source": [
    "arr[0:2, 0:2]"
   ]
  },
  {
   "cell_type": "code",
   "execution_count": 82,
   "metadata": {},
   "outputs": [
    {
     "data": {
      "text/plain": [
       "array([[ 1,  3,  5],\n",
       "       [11, 13, 15],\n",
       "       [21, 23, 25]])"
      ]
     },
     "execution_count": 82,
     "metadata": {},
     "output_type": "execute_result"
    }
   ],
   "source": [
    "arr[0::2, 0::2]"
   ]
  },
  {
   "cell_type": "code",
   "execution_count": 83,
   "metadata": {},
   "outputs": [
    {
     "data": {
      "text/plain": [
       "array([12, 14])"
      ]
     },
     "execution_count": 83,
     "metadata": {},
     "output_type": "execute_result"
    }
   ],
   "source": [
    "arr[2, 1::2]"
   ]
  },
  {
   "cell_type": "code",
   "execution_count": 84,
   "metadata": {},
   "outputs": [
    {
     "data": {
      "text/plain": [
       "array([12, 14])"
      ]
     },
     "execution_count": 84,
     "metadata": {},
     "output_type": "execute_result"
    }
   ],
   "source": [
    "slice_ = arr[2, 1::2]\n",
    "slice_"
   ]
  },
  {
   "cell_type": "code",
   "execution_count": 85,
   "metadata": {},
   "outputs": [
    {
     "data": {
      "text/plain": [
       "array([120,  14])"
      ]
     },
     "execution_count": 85,
     "metadata": {},
     "output_type": "execute_result"
    }
   ],
   "source": [
    "slice_[0] = 120\n",
    "slice_"
   ]
  },
  {
   "cell_type": "code",
   "execution_count": 86,
   "metadata": {},
   "outputs": [
    {
     "data": {
      "text/plain": [
       "array([[  1,   2,   3,   4,   5],\n",
       "       [  6,   7,   8,   9,  10],\n",
       "       [ 11, 120,  13,  14,  15],\n",
       "       [ 16,  17,  18,  19,  20],\n",
       "       [ 21,  22,  23,  24,  25]])"
      ]
     },
     "execution_count": 86,
     "metadata": {},
     "output_type": "execute_result"
    }
   ],
   "source": [
    "arr"
   ]
  },
  {
   "cell_type": "code",
   "execution_count": 87,
   "metadata": {},
   "outputs": [],
   "source": [
    "l = [1, 2, 3, 4, 5, 6]"
   ]
  },
  {
   "cell_type": "code",
   "execution_count": 88,
   "metadata": {},
   "outputs": [],
   "source": [
    "l[0:3] = [10, 20, 30]"
   ]
  },
  {
   "cell_type": "code",
   "execution_count": 89,
   "metadata": {},
   "outputs": [
    {
     "data": {
      "text/plain": [
       "[10, 20, 30, 4, 5, 6]"
      ]
     },
     "execution_count": 89,
     "metadata": {},
     "output_type": "execute_result"
    }
   ],
   "source": [
    "l"
   ]
  },
  {
   "cell_type": "code",
   "execution_count": 90,
   "metadata": {},
   "outputs": [
    {
     "data": {
      "text/plain": [
       "[10, 20, 30, 40, 50, 60, 4, 5, 6]"
      ]
     },
     "execution_count": 90,
     "metadata": {},
     "output_type": "execute_result"
    }
   ],
   "source": [
    "l = [1, 2, 3, 4, 5, 6]\n",
    "l[0:3] = [10, 20, 30, 40, 50, 60]\n",
    "l"
   ]
  },
  {
   "cell_type": "code",
   "execution_count": 91,
   "metadata": {},
   "outputs": [
    {
     "data": {
      "text/plain": [
       "array([10, 20, 30,  4,  5,  6])"
      ]
     },
     "execution_count": 91,
     "metadata": {},
     "output_type": "execute_result"
    }
   ],
   "source": [
    "arr = np.array([1, 2, 3, 4, 5, 6])\n",
    "arr[0:3] = np.array([10, 20, 30])\n",
    "arr"
   ]
  },
  {
   "cell_type": "code",
   "execution_count": 92,
   "metadata": {},
   "outputs": [
    {
     "data": {
      "text/plain": [
       "array([10, 30, 50,  4,  5,  6])"
      ]
     },
     "execution_count": 92,
     "metadata": {},
     "output_type": "execute_result"
    }
   ],
   "source": [
    "arr = np.array([1, 2, 3, 4, 5, 6])\n",
    "arr[0:3] = [10, 30, 50]\n",
    "arr"
   ]
  },
  {
   "cell_type": "code",
   "execution_count": 93,
   "metadata": {},
   "outputs": [
    {
     "ename": "ValueError",
     "evalue": "could not broadcast input array from shape (4,) into shape (3,)",
     "output_type": "error",
     "traceback": [
      "\u001b[1;31m---------------------------------------------------------------------------\u001b[0m",
      "\u001b[1;31mValueError\u001b[0m                                Traceback (most recent call last)",
      "Cell \u001b[1;32mIn[93], line 2\u001b[0m\n\u001b[0;32m      1\u001b[0m arr \u001b[38;5;241m=\u001b[39m np\u001b[38;5;241m.\u001b[39marray([\u001b[38;5;241m1\u001b[39m, \u001b[38;5;241m2\u001b[39m, \u001b[38;5;241m3\u001b[39m, \u001b[38;5;241m4\u001b[39m, \u001b[38;5;241m5\u001b[39m, \u001b[38;5;241m6\u001b[39m])\n\u001b[1;32m----> 2\u001b[0m \u001b[43marr\u001b[49m\u001b[43m[\u001b[49m\u001b[38;5;241;43m0\u001b[39;49m\u001b[43m:\u001b[49m\u001b[38;5;241;43m3\u001b[39;49m\u001b[43m]\u001b[49m \u001b[38;5;241m=\u001b[39m [\u001b[38;5;241m10\u001b[39m, \u001b[38;5;241m20\u001b[39m, \u001b[38;5;241m30\u001b[39m, \u001b[38;5;241m40\u001b[39m]\n\u001b[0;32m      3\u001b[0m arr\n",
      "\u001b[1;31mValueError\u001b[0m: could not broadcast input array from shape (4,) into shape (3,)"
     ]
    }
   ],
   "source": [
    "arr = np.array([1, 2, 3, 4, 5, 6])\n",
    "arr[0:3] = [10, 20, 30, 40]\n",
    "arr"
   ]
  },
  {
   "cell_type": "code",
   "execution_count": 94,
   "metadata": {},
   "outputs": [
    {
     "data": {
      "text/plain": [
       "array([[0, 1, 2],\n",
       "       [3, 4, 5],\n",
       "       [6, 7, 8]])"
      ]
     },
     "execution_count": 94,
     "metadata": {},
     "output_type": "execute_result"
    }
   ],
   "source": [
    "arr = np.arange(9).reshape(3, 3)\n",
    "arr"
   ]
  },
  {
   "cell_type": "code",
   "execution_count": 95,
   "metadata": {},
   "outputs": [
    {
     "data": {
      "text/plain": [
       "array([[0, 2],\n",
       "       [6, 8]])"
      ]
     },
     "execution_count": 95,
     "metadata": {},
     "output_type": "execute_result"
    }
   ],
   "source": [
    "arr[::2, ::2]"
   ]
  },
  {
   "cell_type": "code",
   "execution_count": 96,
   "metadata": {},
   "outputs": [
    {
     "data": {
      "text/plain": [
       "array([[10,  1, 20],\n",
       "       [ 3,  4,  5],\n",
       "       [30,  7, 40]])"
      ]
     },
     "execution_count": 96,
     "metadata": {},
     "output_type": "execute_result"
    }
   ],
   "source": [
    "arr[::2, ::2] = [[10, 20], [30, 40]]\n",
    "arr"
   ]
  },
  {
   "cell_type": "code",
   "execution_count": 97,
   "metadata": {},
   "outputs": [
    {
     "data": {
      "text/plain": [
       "array([[0, 1, 2],\n",
       "       [3, 4, 5],\n",
       "       [6, 7, 8]])"
      ]
     },
     "execution_count": 97,
     "metadata": {},
     "output_type": "execute_result"
    }
   ],
   "source": [
    "arr = np.arange(9).reshape(3, 3)\n",
    "arr"
   ]
  },
  {
   "cell_type": "code",
   "execution_count": 98,
   "metadata": {},
   "outputs": [
    {
     "data": {
      "text/plain": [
       "array([[100,   1, 100],\n",
       "       [  3,   4,   5],\n",
       "       [100,   7, 100]])"
      ]
     },
     "execution_count": 98,
     "metadata": {},
     "output_type": "execute_result"
    }
   ],
   "source": [
    "arr[::2, ::2] = 100\n",
    "arr"
   ]
  },
  {
   "cell_type": "code",
   "execution_count": 99,
   "metadata": {},
   "outputs": [],
   "source": [
    "arr1 = np.array([1, 2, 3, 4, 5])\n",
    "arr2 = np.array([10, 20])"
   ]
  },
  {
   "cell_type": "code",
   "execution_count": 101,
   "metadata": {},
   "outputs": [
    {
     "data": {
      "text/plain": [
       "array([10, 20,  3,  4,  5])"
      ]
     },
     "execution_count": 101,
     "metadata": {},
     "output_type": "execute_result"
    }
   ],
   "source": [
    "arr1[0:2] = arr2\n",
    "arr1"
   ]
  },
  {
   "cell_type": "code",
   "execution_count": 102,
   "metadata": {},
   "outputs": [
    {
     "data": {
      "text/plain": [
       "array([100,  20])"
      ]
     },
     "execution_count": 102,
     "metadata": {},
     "output_type": "execute_result"
    }
   ],
   "source": [
    "arr2[0] = 100\n",
    "arr2"
   ]
  },
  {
   "cell_type": "code",
   "execution_count": 103,
   "metadata": {},
   "outputs": [
    {
     "data": {
      "text/plain": [
       "array([10, 20,  3,  4,  5])"
      ]
     },
     "execution_count": 103,
     "metadata": {},
     "output_type": "execute_result"
    }
   ],
   "source": [
    "arr1"
   ]
  },
  {
   "cell_type": "code",
   "execution_count": 104,
   "metadata": {},
   "outputs": [
    {
     "data": {
      "text/plain": [
       "array([[0, 1, 2],\n",
       "       [3, 4, 5],\n",
       "       [6, 7, 8]])"
      ]
     },
     "execution_count": 104,
     "metadata": {},
     "output_type": "execute_result"
    }
   ],
   "source": [
    "arr = np.arange(9).reshape(3, 3)\n",
    "arr"
   ]
  },
  {
   "cell_type": "code",
   "execution_count": 105,
   "metadata": {},
   "outputs": [
    {
     "data": {
      "text/plain": [
       "array([[1, 2],\n",
       "       [4, 5]])"
      ]
     },
     "execution_count": 105,
     "metadata": {},
     "output_type": "execute_result"
    }
   ],
   "source": [
    "arr[:2, 1:]"
   ]
  },
  {
   "cell_type": "code",
   "execution_count": 106,
   "metadata": {},
   "outputs": [
    {
     "data": {
      "text/plain": [
       "array([[ 0, 10, 20],\n",
       "       [ 3, 40, 50],\n",
       "       [ 6,  7,  8]])"
      ]
     },
     "execution_count": 106,
     "metadata": {},
     "output_type": "execute_result"
    }
   ],
   "source": [
    "arr[:2, 1:] = [[10, 20], [40, 50]]\n",
    "arr"
   ]
  },
  {
   "cell_type": "code",
   "execution_count": 107,
   "metadata": {},
   "outputs": [
    {
     "ename": "ValueError",
     "evalue": "could not broadcast input array from shape (4,) into shape (2,2)",
     "output_type": "error",
     "traceback": [
      "\u001b[1;31m---------------------------------------------------------------------------\u001b[0m",
      "\u001b[1;31mValueError\u001b[0m                                Traceback (most recent call last)",
      "Cell \u001b[1;32mIn[107], line 1\u001b[0m\n\u001b[1;32m----> 1\u001b[0m \u001b[43marr\u001b[49m\u001b[43m[\u001b[49m\u001b[43m:\u001b[49m\u001b[38;5;241;43m2\u001b[39;49m\u001b[43m,\u001b[49m\u001b[43m \u001b[49m\u001b[38;5;241;43m1\u001b[39;49m\u001b[43m:\u001b[49m\u001b[43m]\u001b[49m \u001b[38;5;241m=\u001b[39m [\u001b[38;5;241m10\u001b[39m, \u001b[38;5;241m20\u001b[39m, \u001b[38;5;241m40\u001b[39m, \u001b[38;5;241m50\u001b[39m]\n",
      "\u001b[1;31mValueError\u001b[0m: could not broadcast input array from shape (4,) into shape (2,2)"
     ]
    }
   ],
   "source": [
    "arr[:2, 1:] = [10, 20, 40, 50]"
   ]
  },
  {
   "cell_type": "code",
   "execution_count": 108,
   "metadata": {},
   "outputs": [
    {
     "data": {
      "text/plain": [
       "array([[ 0, 10, 20],\n",
       "       [ 3, 40, 50],\n",
       "       [ 6,  7,  8]])"
      ]
     },
     "execution_count": 108,
     "metadata": {},
     "output_type": "execute_result"
    }
   ],
   "source": [
    "arr[:2, 1:] = np.array([10, 20, 40, 50]).reshape(2, 2)\n",
    "arr"
   ]
  },
  {
   "cell_type": "code",
   "execution_count": 109,
   "metadata": {},
   "outputs": [
    {
     "data": {
      "text/plain": [
       "array([10, 20, 30, 40, 50], dtype=uint8)"
      ]
     },
     "execution_count": 109,
     "metadata": {},
     "output_type": "execute_result"
    }
   ],
   "source": [
    "arr = np.array([10, 20, 30, 40, 50], dtype=np.uint8)\n",
    "arr"
   ]
  },
  {
   "cell_type": "code",
   "execution_count": 110,
   "metadata": {},
   "outputs": [
    {
     "name": "stderr",
     "output_type": "stream",
     "text": [
      "C:\\Users\\Oxward\\AppData\\Local\\Temp\\ipykernel_5492\\3365488855.py:1: DeprecationWarning: NumPy will stop allowing conversion of out-of-bound Python integers to integer arrays.  The conversion of -100 to uint8 will fail in the future.\n",
      "For the old behavior, usually:\n",
      "    np.array(value).astype(dtype)\n",
      "will give the desired result (the cast overflows).\n",
      "  arr[0:2] = [-100, 300]\n",
      "C:\\Users\\Oxward\\AppData\\Local\\Temp\\ipykernel_5492\\3365488855.py:1: DeprecationWarning: NumPy will stop allowing conversion of out-of-bound Python integers to integer arrays.  The conversion of 300 to uint8 will fail in the future.\n",
      "For the old behavior, usually:\n",
      "    np.array(value).astype(dtype)\n",
      "will give the desired result (the cast overflows).\n",
      "  arr[0:2] = [-100, 300]\n"
     ]
    },
    {
     "data": {
      "text/plain": [
       "array([156,  44,  30,  40,  50], dtype=uint8)"
      ]
     },
     "execution_count": 110,
     "metadata": {},
     "output_type": "execute_result"
    }
   ],
   "source": [
    "arr[0:2] = [-100, 300]\n",
    "arr"
   ]
  },
  {
   "cell_type": "markdown",
   "metadata": {},
   "source": [
    "### Fancy Indexing"
   ]
  },
  {
   "cell_type": "code",
   "execution_count": 111,
   "metadata": {},
   "outputs": [],
   "source": [
    "import numpy as np"
   ]
  },
  {
   "cell_type": "code",
   "execution_count": 112,
   "metadata": {},
   "outputs": [
    {
     "data": {
      "text/plain": [
       "array([10, 20, 30, 40, 50, 60, 70, 80, 90])"
      ]
     },
     "execution_count": 112,
     "metadata": {},
     "output_type": "execute_result"
    }
   ],
   "source": [
    "arr = np.arange(10, 100, 10)\n",
    "arr"
   ]
  },
  {
   "cell_type": "code",
   "execution_count": 113,
   "metadata": {},
   "outputs": [
    {
     "data": {
      "text/plain": [
       "[10, 30, 40]"
      ]
     },
     "execution_count": 113,
     "metadata": {},
     "output_type": "execute_result"
    }
   ],
   "source": [
    "sub = [arr[0], arr[2], arr[3]]\n",
    "sub"
   ]
  },
  {
   "cell_type": "code",
   "execution_count": 114,
   "metadata": {},
   "outputs": [
    {
     "data": {
      "text/plain": [
       "array([10, 30, 40])"
      ]
     },
     "execution_count": 114,
     "metadata": {},
     "output_type": "execute_result"
    }
   ],
   "source": [
    "sub = arr[np.array([0, 2, 3])]\n",
    "sub"
   ]
  },
  {
   "cell_type": "code",
   "execution_count": 115,
   "metadata": {},
   "outputs": [
    {
     "data": {
      "text/plain": [
       "array([10, 30, 40])"
      ]
     },
     "execution_count": 115,
     "metadata": {},
     "output_type": "execute_result"
    }
   ],
   "source": [
    "arr[[0, 2, 3]]"
   ]
  },
  {
   "cell_type": "code",
   "execution_count": 116,
   "metadata": {},
   "outputs": [
    {
     "ename": "IndexError",
     "evalue": "too many indices for array: array is 1-dimensional, but 3 were indexed",
     "output_type": "error",
     "traceback": [
      "\u001b[1;31m---------------------------------------------------------------------------\u001b[0m",
      "\u001b[1;31mIndexError\u001b[0m                                Traceback (most recent call last)",
      "Cell \u001b[1;32mIn[116], line 1\u001b[0m\n\u001b[1;32m----> 1\u001b[0m \u001b[43marr\u001b[49m\u001b[43m[\u001b[49m\u001b[38;5;241;43m0\u001b[39;49m\u001b[43m,\u001b[49m\u001b[43m \u001b[49m\u001b[38;5;241;43m2\u001b[39;49m\u001b[43m,\u001b[49m\u001b[43m \u001b[49m\u001b[38;5;241;43m3\u001b[39;49m\u001b[43m]\u001b[49m\n",
      "\u001b[1;31mIndexError\u001b[0m: too many indices for array: array is 1-dimensional, but 3 were indexed"
     ]
    }
   ],
   "source": [
    "arr[0, 2, 3]"
   ]
  },
  {
   "cell_type": "code",
   "execution_count": 117,
   "metadata": {},
   "outputs": [
    {
     "ename": "IndexError",
     "evalue": "too many indices for array: array is 1-dimensional, but 3 were indexed",
     "output_type": "error",
     "traceback": [
      "\u001b[1;31m---------------------------------------------------------------------------\u001b[0m",
      "\u001b[1;31mIndexError\u001b[0m                                Traceback (most recent call last)",
      "Cell \u001b[1;32mIn[117], line 1\u001b[0m\n\u001b[1;32m----> 1\u001b[0m \u001b[43marr\u001b[49m\u001b[43m[\u001b[49m\u001b[43m(\u001b[49m\u001b[38;5;241;43m0\u001b[39;49m\u001b[43m,\u001b[49m\u001b[43m \u001b[49m\u001b[38;5;241;43m2\u001b[39;49m\u001b[43m,\u001b[49m\u001b[43m \u001b[49m\u001b[38;5;241;43m3\u001b[39;49m\u001b[43m)\u001b[49m\u001b[43m]\u001b[49m\n",
      "\u001b[1;31mIndexError\u001b[0m: too many indices for array: array is 1-dimensional, but 3 were indexed"
     ]
    }
   ],
   "source": [
    "arr[(0, 2, 3)]"
   ]
  },
  {
   "cell_type": "code",
   "execution_count": 118,
   "metadata": {},
   "outputs": [
    {
     "data": {
      "text/plain": [
       "array([10, 30, 40])"
      ]
     },
     "execution_count": 118,
     "metadata": {},
     "output_type": "execute_result"
    }
   ],
   "source": [
    "arr[[0, 2, 3]]"
   ]
  },
  {
   "cell_type": "code",
   "execution_count": 119,
   "metadata": {},
   "outputs": [
    {
     "data": {
      "text/plain": [
       "array([10, 20, 30, 40, 50, 60, 70, 80, 90])"
      ]
     },
     "execution_count": 119,
     "metadata": {},
     "output_type": "execute_result"
    }
   ],
   "source": [
    "arr"
   ]
  },
  {
   "cell_type": "code",
   "execution_count": 120,
   "metadata": {},
   "outputs": [
    {
     "data": {
      "text/plain": [
       "array([10, 30, 40])"
      ]
     },
     "execution_count": 120,
     "metadata": {},
     "output_type": "execute_result"
    }
   ],
   "source": [
    "sub = arr[np.array([0, 2, 3])]\n",
    "sub"
   ]
  },
  {
   "cell_type": "code",
   "execution_count": 121,
   "metadata": {},
   "outputs": [
    {
     "data": {
      "text/plain": [
       "array([100,  30,  40])"
      ]
     },
     "execution_count": 121,
     "metadata": {},
     "output_type": "execute_result"
    }
   ],
   "source": [
    "sub[0] = 100\n",
    "sub"
   ]
  },
  {
   "cell_type": "code",
   "execution_count": 122,
   "metadata": {},
   "outputs": [
    {
     "data": {
      "text/plain": [
       "array([10, 20, 30, 40, 50, 60, 70, 80, 90])"
      ]
     },
     "execution_count": 122,
     "metadata": {},
     "output_type": "execute_result"
    }
   ],
   "source": [
    "arr"
   ]
  },
  {
   "cell_type": "code",
   "execution_count": 123,
   "metadata": {},
   "outputs": [
    {
     "data": {
      "text/plain": [
       "array([1, 2, 3, 4, 5, 6, 7, 8, 9])"
      ]
     },
     "execution_count": 123,
     "metadata": {},
     "output_type": "execute_result"
    }
   ],
   "source": [
    "arr = np.arange(1, 10)\n",
    "arr"
   ]
  },
  {
   "cell_type": "code",
   "execution_count": 124,
   "metadata": {},
   "outputs": [
    {
     "data": {
      "text/plain": [
       "array([1, 2, 2, 6])"
      ]
     },
     "execution_count": 124,
     "metadata": {},
     "output_type": "execute_result"
    }
   ],
   "source": [
    "arr[np.array([0, 1, 1, 5])]"
   ]
  },
  {
   "cell_type": "code",
   "execution_count": 126,
   "metadata": {},
   "outputs": [
    {
     "data": {
      "text/plain": [
       "array([[1, 2],\n",
       "       [2, 6]])"
      ]
     },
     "execution_count": 126,
     "metadata": {},
     "output_type": "execute_result"
    }
   ],
   "source": [
    "arr[np.array([\n",
    "    [0, 1],\n",
    "    [1, 5]\n",
    "])]"
   ]
  },
  {
   "cell_type": "code",
   "execution_count": 127,
   "metadata": {},
   "outputs": [
    {
     "data": {
      "text/plain": [
       "array([[ 0,  1,  2,  3,  4],\n",
       "       [ 5,  6,  7,  8,  9],\n",
       "       [10, 11, 12, 13, 14],\n",
       "       [15, 16, 17, 18, 19],\n",
       "       [20, 21, 22, 23, 24]])"
      ]
     },
     "execution_count": 127,
     "metadata": {},
     "output_type": "execute_result"
    }
   ],
   "source": [
    "m = np.arange(25).reshape(5, 5)\n",
    "m"
   ]
  },
  {
   "cell_type": "code",
   "execution_count": 128,
   "metadata": {},
   "outputs": [
    {
     "data": {
      "text/plain": [
       "array([[ 0,  1,  2,  3,  4],\n",
       "       [ 5,  6,  7,  8,  9],\n",
       "       [15, 16, 17, 18, 19]])"
      ]
     },
     "execution_count": 128,
     "metadata": {},
     "output_type": "execute_result"
    }
   ],
   "source": [
    "m[[0, 1, 3]]"
   ]
  },
  {
   "cell_type": "code",
   "execution_count": 129,
   "metadata": {},
   "outputs": [
    {
     "data": {
      "text/plain": [
       "array([ 2,  7, 17])"
      ]
     },
     "execution_count": 129,
     "metadata": {},
     "output_type": "execute_result"
    }
   ],
   "source": [
    "m[[0, 1, 3], 2]"
   ]
  },
  {
   "cell_type": "code",
   "execution_count": 130,
   "metadata": {},
   "outputs": [
    {
     "data": {
      "text/plain": [
       "array([[ 0,  2,  4],\n",
       "       [ 5,  7,  9],\n",
       "       [15, 17, 19]])"
      ]
     },
     "execution_count": 130,
     "metadata": {},
     "output_type": "execute_result"
    }
   ],
   "source": [
    "m[[0, 1, 3], 0::2]"
   ]
  },
  {
   "cell_type": "code",
   "execution_count": 131,
   "metadata": {},
   "outputs": [
    {
     "data": {
      "text/plain": [
       "array([ 1,  7, 19])"
      ]
     },
     "execution_count": 131,
     "metadata": {},
     "output_type": "execute_result"
    }
   ],
   "source": [
    "m[np.array([0, 1, 3]), np.array([1, 2, 4])]"
   ]
  },
  {
   "cell_type": "markdown",
   "metadata": {},
   "source": [
    "```\n",
    "04      14      (0, 1) (4, 4)\n",
    "\n",
    "23      24      (2, 2) (3, 4)\n",
    "```"
   ]
  },
  {
   "cell_type": "code",
   "execution_count": 132,
   "metadata": {},
   "outputs": [
    {
     "data": {
      "text/plain": [
       "array([[ 1, 24],\n",
       "       [12, 19]])"
      ]
     },
     "execution_count": 132,
     "metadata": {},
     "output_type": "execute_result"
    }
   ],
   "source": [
    "m[\n",
    "    [[0, 4], [2, 3]],\n",
    "    [[1, 4], [2, 4]]\n",
    "]"
   ]
  },
  {
   "cell_type": "code",
   "execution_count": 133,
   "metadata": {},
   "outputs": [],
   "source": [
    "import csv"
   ]
  },
  {
   "cell_type": "code",
   "execution_count": 134,
   "metadata": {},
   "outputs": [],
   "source": [
    "with open('files/AAPL.csv') as f:\n",
    "    reader = csv.reader(f, skipinitialspace=True)\n",
    "    headers = next(reader)\n",
    "    data = list(reader)"
   ]
  },
  {
   "cell_type": "code",
   "execution_count": 135,
   "metadata": {},
   "outputs": [
    {
     "data": {
      "text/plain": [
       "['Symbol', 'Date', 'Close', 'Volume', 'Open', 'High', 'Low']"
      ]
     },
     "execution_count": 135,
     "metadata": {},
     "output_type": "execute_result"
    }
   ],
   "source": [
    "headers"
   ]
  },
  {
   "cell_type": "code",
   "execution_count": 136,
   "metadata": {},
   "outputs": [
    {
     "data": {
      "text/plain": [
       "[['AAPL', '10/29/2020', '115.32', '146129200', '112.37', '116.93', '112.2'],\n",
       " ['AAPL', '10/28/2020', '111.2', '143937800', '115.05', '115.43', '111.1'],\n",
       " ['AAPL', '10/27/2020', '116.6', '92276770', '115.49', '117.28', '114.5399'],\n",
       " ['AAPL', '10/26/2020', '115.05', '111850700', '114.01', '116.55', '112.88'],\n",
       " ['AAPL', '10/23/2020', '115.04', '82572650', '116.39', '116.55', '114.28'],\n",
       " ['AAPL', '10/22/2020', '115.75', '101988000', '117.45', '118.04', '114.59'],\n",
       " ['AAPL', '10/21/2020', '116.87', '89945980', '116.67', '118.705', '116.45'],\n",
       " ['AAPL', '10/20/2020', '117.51', '124423700', '116.2', '118.98', '115.63'],\n",
       " ['AAPL', '10/19/2020', '115.98', '120639300', '119.96', '120.419', '115.66'],\n",
       " ['AAPL', '10/16/2020', '119.02', '115393800', '121.28', '121.548', '118.81'],\n",
       " ['AAPL', '10/15/2020', '120.71', '112559200', '118.72', '121.2', '118.15'],\n",
       " ['AAPL', '10/14/2020', '121.19', '151062300', '121', '123.03', '119.62'],\n",
       " ['AAPL', '10/13/2020', '121.1', '262330500', '125.27', '125.39', '119.65'],\n",
       " ['AAPL', '10/12/2020', '124.4', '240226800', '120.06', '125.18', '119.2845'],\n",
       " ['AAPL', '10/09/2020', '116.97', '100506900', '115.28', '117', '114.92'],\n",
       " ['AAPL', '10/08/2020', '114.97', '83477150', '116.25', '116.4', '114.5901'],\n",
       " ['AAPL', '10/07/2020', '115.08', '96848990', '114.62', '115.55', '114.13'],\n",
       " ['AAPL', '10/06/2020', '113.16', '161498200', '115.7', '116.12', '112.25'],\n",
       " ['AAPL', '10/05/2020', '116.5', '106243800', '113.91', '116.65', '113.55'],\n",
       " ['AAPL', '10/02/2020', '113.02', '144712000', '112.89', '115.37', '112.22'],\n",
       " ['AAPL', '10/01/2020', '116.79', '116120400', '117.64', '117.72', '115.83'],\n",
       " ['AAPL', '09/30/2020', '115.81', '142675200', '113.79', '117.26', '113.62'],\n",
       " ['AAPL', '09/29/2020', '114.09', '100060500', '114.55', '115.31', '113.57']]"
      ]
     },
     "execution_count": 136,
     "metadata": {},
     "output_type": "execute_result"
    }
   ],
   "source": [
    "data"
   ]
  },
  {
   "cell_type": "code",
   "execution_count": 137,
   "metadata": {},
   "outputs": [
    {
     "data": {
      "text/plain": [
       "array([['AAPL', '10/29/2020', '115.32', '146129200', '112.37', '116.93',\n",
       "        '112.2'],\n",
       "       ['AAPL', '10/28/2020', '111.2', '143937800', '115.05', '115.43',\n",
       "        '111.1'],\n",
       "       ['AAPL', '10/27/2020', '116.6', '92276770', '115.49', '117.28',\n",
       "        '114.5399'],\n",
       "       ['AAPL', '10/26/2020', '115.05', '111850700', '114.01', '116.55',\n",
       "        '112.88'],\n",
       "       ['AAPL', '10/23/2020', '115.04', '82572650', '116.39', '116.55',\n",
       "        '114.28'],\n",
       "       ['AAPL', '10/22/2020', '115.75', '101988000', '117.45', '118.04',\n",
       "        '114.59'],\n",
       "       ['AAPL', '10/21/2020', '116.87', '89945980', '116.67', '118.705',\n",
       "        '116.45'],\n",
       "       ['AAPL', '10/20/2020', '117.51', '124423700', '116.2', '118.98',\n",
       "        '115.63'],\n",
       "       ['AAPL', '10/19/2020', '115.98', '120639300', '119.96', '120.419',\n",
       "        '115.66'],\n",
       "       ['AAPL', '10/16/2020', '119.02', '115393800', '121.28', '121.548',\n",
       "        '118.81'],\n",
       "       ['AAPL', '10/15/2020', '120.71', '112559200', '118.72', '121.2',\n",
       "        '118.15'],\n",
       "       ['AAPL', '10/14/2020', '121.19', '151062300', '121', '123.03',\n",
       "        '119.62'],\n",
       "       ['AAPL', '10/13/2020', '121.1', '262330500', '125.27', '125.39',\n",
       "        '119.65'],\n",
       "       ['AAPL', '10/12/2020', '124.4', '240226800', '120.06', '125.18',\n",
       "        '119.2845'],\n",
       "       ['AAPL', '10/09/2020', '116.97', '100506900', '115.28', '117',\n",
       "        '114.92'],\n",
       "       ['AAPL', '10/08/2020', '114.97', '83477150', '116.25', '116.4',\n",
       "        '114.5901'],\n",
       "       ['AAPL', '10/07/2020', '115.08', '96848990', '114.62', '115.55',\n",
       "        '114.13'],\n",
       "       ['AAPL', '10/06/2020', '113.16', '161498200', '115.7', '116.12',\n",
       "        '112.25'],\n",
       "       ['AAPL', '10/05/2020', '116.5', '106243800', '113.91', '116.65',\n",
       "        '113.55'],\n",
       "       ['AAPL', '10/02/2020', '113.02', '144712000', '112.89', '115.37',\n",
       "        '112.22'],\n",
       "       ['AAPL', '10/01/2020', '116.79', '116120400', '117.64', '117.72',\n",
       "        '115.83'],\n",
       "       ['AAPL', '09/30/2020', '115.81', '142675200', '113.79', '117.26',\n",
       "        '113.62'],\n",
       "       ['AAPL', '09/29/2020', '114.09', '100060500', '114.55', '115.31',\n",
       "        '113.57']], dtype='<U10')"
      ]
     },
     "execution_count": 137,
     "metadata": {},
     "output_type": "execute_result"
    }
   ],
   "source": [
    "data = np.array(data)\n",
    "data"
   ]
  },
  {
   "cell_type": "code",
   "execution_count": 138,
   "metadata": {},
   "outputs": [
    {
     "data": {
      "text/plain": [
       "array(['10/29/2020', '10/28/2020', '10/27/2020', '10/26/2020',\n",
       "       '10/23/2020', '10/22/2020', '10/21/2020', '10/20/2020',\n",
       "       '10/19/2020', '10/16/2020', '10/15/2020', '10/14/2020',\n",
       "       '10/13/2020', '10/12/2020', '10/09/2020', '10/08/2020',\n",
       "       '10/07/2020', '10/06/2020', '10/05/2020', '10/02/2020',\n",
       "       '10/01/2020', '09/30/2020', '09/29/2020'], dtype='<U10')"
      ]
     },
     "execution_count": 138,
     "metadata": {},
     "output_type": "execute_result"
    }
   ],
   "source": [
    "dates = data[:, 1]\n",
    "dates"
   ]
  },
  {
   "cell_type": "code",
   "execution_count": 139,
   "metadata": {},
   "outputs": [],
   "source": [
    "from dateutil import parser"
   ]
  },
  {
   "cell_type": "code",
   "execution_count": 141,
   "metadata": {},
   "outputs": [
    {
     "data": {
      "text/plain": [
       "[datetime.datetime(2020, 10, 29, 0, 0),\n",
       " datetime.datetime(2020, 10, 28, 0, 0),\n",
       " datetime.datetime(2020, 10, 27, 0, 0),\n",
       " datetime.datetime(2020, 10, 26, 0, 0),\n",
       " datetime.datetime(2020, 10, 23, 0, 0),\n",
       " datetime.datetime(2020, 10, 22, 0, 0),\n",
       " datetime.datetime(2020, 10, 21, 0, 0),\n",
       " datetime.datetime(2020, 10, 20, 0, 0),\n",
       " datetime.datetime(2020, 10, 19, 0, 0),\n",
       " datetime.datetime(2020, 10, 16, 0, 0),\n",
       " datetime.datetime(2020, 10, 15, 0, 0),\n",
       " datetime.datetime(2020, 10, 14, 0, 0),\n",
       " datetime.datetime(2020, 10, 13, 0, 0),\n",
       " datetime.datetime(2020, 10, 12, 0, 0),\n",
       " datetime.datetime(2020, 10, 9, 0, 0),\n",
       " datetime.datetime(2020, 10, 8, 0, 0),\n",
       " datetime.datetime(2020, 10, 7, 0, 0),\n",
       " datetime.datetime(2020, 10, 6, 0, 0),\n",
       " datetime.datetime(2020, 10, 5, 0, 0),\n",
       " datetime.datetime(2020, 10, 2, 0, 0),\n",
       " datetime.datetime(2020, 10, 1, 0, 0),\n",
       " datetime.datetime(2020, 9, 30, 0, 0),\n",
       " datetime.datetime(2020, 9, 29, 0, 0)]"
      ]
     },
     "execution_count": 141,
     "metadata": {},
     "output_type": "execute_result"
    }
   ],
   "source": [
    "dates = [parser.parse(d) for d in dates]\n",
    "dates"
   ]
  },
  {
   "cell_type": "code",
   "execution_count": 142,
   "metadata": {},
   "outputs": [
    {
     "data": {
      "text/plain": [
       "['Symbol', 'Date', 'Close', 'Volume', 'Open', 'High', 'Low']"
      ]
     },
     "execution_count": 142,
     "metadata": {},
     "output_type": "execute_result"
    }
   ],
   "source": [
    "headers"
   ]
  },
  {
   "cell_type": "code",
   "execution_count": 143,
   "metadata": {},
   "outputs": [
    {
     "data": {
      "text/plain": [
       "array([['112.37', '115.32'],\n",
       "       ['115.05', '111.2'],\n",
       "       ['115.49', '116.6'],\n",
       "       ['114.01', '115.05'],\n",
       "       ['116.39', '115.04'],\n",
       "       ['117.45', '115.75'],\n",
       "       ['116.67', '116.87'],\n",
       "       ['116.2', '117.51'],\n",
       "       ['119.96', '115.98'],\n",
       "       ['121.28', '119.02'],\n",
       "       ['118.72', '120.71'],\n",
       "       ['121', '121.19'],\n",
       "       ['125.27', '121.1'],\n",
       "       ['120.06', '124.4'],\n",
       "       ['115.28', '116.97'],\n",
       "       ['116.25', '114.97'],\n",
       "       ['114.62', '115.08'],\n",
       "       ['115.7', '113.16'],\n",
       "       ['113.91', '116.5'],\n",
       "       ['112.89', '113.02'],\n",
       "       ['117.64', '116.79'],\n",
       "       ['113.79', '115.81'],\n",
       "       ['114.55', '114.09']], dtype='<U10')"
      ]
     },
     "execution_count": 143,
     "metadata": {},
     "output_type": "execute_result"
    }
   ],
   "source": [
    "oc = data[:, [4, 2]]\n",
    "oc"
   ]
  },
  {
   "cell_type": "code",
   "execution_count": 145,
   "metadata": {},
   "outputs": [
    {
     "data": {
      "text/plain": [
       "array([[112.37, 115.32],\n",
       "       [115.05, 111.2 ],\n",
       "       [115.49, 116.6 ],\n",
       "       [114.01, 115.05],\n",
       "       [116.39, 115.04],\n",
       "       [117.45, 115.75],\n",
       "       [116.67, 116.87],\n",
       "       [116.2 , 117.51],\n",
       "       [119.96, 115.98],\n",
       "       [121.28, 119.02],\n",
       "       [118.72, 120.71],\n",
       "       [121.  , 121.19],\n",
       "       [125.27, 121.1 ],\n",
       "       [120.06, 124.4 ],\n",
       "       [115.28, 116.97],\n",
       "       [116.25, 114.97],\n",
       "       [114.62, 115.08],\n",
       "       [115.7 , 113.16],\n",
       "       [113.91, 116.5 ],\n",
       "       [112.89, 113.02],\n",
       "       [117.64, 116.79],\n",
       "       [113.79, 115.81],\n",
       "       [114.55, 114.09]])"
      ]
     },
     "execution_count": 145,
     "metadata": {},
     "output_type": "execute_result"
    }
   ],
   "source": [
    "oc = data[:, [4, 2]].astype(float)\n",
    "oc"
   ]
  },
  {
   "cell_type": "code",
   "execution_count": 146,
   "metadata": {},
   "outputs": [
    {
     "data": {
      "text/plain": [
       "array([ 2.95, -3.85,  1.11,  1.04, -1.35, -1.7 ,  0.2 ,  1.31, -3.98,\n",
       "       -2.26,  1.99,  0.19, -4.17,  4.34,  1.69, -1.28,  0.46, -2.54,\n",
       "        2.59,  0.13, -0.85,  2.02, -0.46])"
      ]
     },
     "execution_count": 146,
     "metadata": {},
     "output_type": "execute_result"
    }
   ],
   "source": [
    "diffs = oc[:, 1] - oc[:, 0]\n",
    "diffs"
   ]
  },
  {
   "cell_type": "code",
   "execution_count": 148,
   "metadata": {},
   "outputs": [
    {
     "data": {
      "text/plain": [
       "array([ 2.62525585, -3.34637114,  0.96112218,  0.91220068, -1.15989346,\n",
       "       -1.44742444,  0.17142367,  1.12736661, -3.31777259, -1.86345646,\n",
       "        1.67621294,  0.15702479, -3.32880977,  3.61485924,  1.46599584,\n",
       "       -1.10107527,  0.40132612, -2.19533276,  2.27372487,  0.11515635,\n",
       "       -0.72254335,  1.77519993, -0.40157137])"
      ]
     },
     "execution_count": 148,
     "metadata": {},
     "output_type": "execute_result"
    }
   ],
   "source": [
    "diff_percs = (oc[:, 1] - oc[:, 0]) / oc[:, 0] * 100\n",
    "diff_percs"
   ]
  },
  {
   "cell_type": "markdown",
   "metadata": {},
   "source": [
    "### Masking"
   ]
  },
  {
   "cell_type": "code",
   "execution_count": 149,
   "metadata": {},
   "outputs": [],
   "source": [
    "import numpy as np"
   ]
  },
  {
   "cell_type": "code",
   "execution_count": 150,
   "metadata": {},
   "outputs": [
    {
     "data": {
      "text/plain": [
       "array([-1,  1, -2,  2, -3,  3])"
      ]
     },
     "execution_count": 150,
     "metadata": {},
     "output_type": "execute_result"
    }
   ],
   "source": [
    "m = np.array([-1, 1, -2, 2, -3, 3])\n",
    "m"
   ]
  },
  {
   "cell_type": "code",
   "execution_count": 151,
   "metadata": {},
   "outputs": [
    {
     "data": {
      "text/plain": [
       "array([ True, False,  True, False,  True, False])"
      ]
     },
     "execution_count": 151,
     "metadata": {},
     "output_type": "execute_result"
    }
   ],
   "source": [
    "np.less(m, 0)"
   ]
  },
  {
   "cell_type": "code",
   "execution_count": 152,
   "metadata": {},
   "outputs": [
    {
     "data": {
      "text/plain": [
       "array([ True, False,  True, False,  True, False])"
      ]
     },
     "execution_count": 152,
     "metadata": {},
     "output_type": "execute_result"
    }
   ],
   "source": [
    "m < 0"
   ]
  },
  {
   "cell_type": "code",
   "execution_count": 153,
   "metadata": {},
   "outputs": [
    {
     "data": {
      "text/plain": [
       "array([False,  True, False,  True, False,  True])"
      ]
     },
     "execution_count": 153,
     "metadata": {},
     "output_type": "execute_result"
    }
   ],
   "source": [
    "np.greater(m, 0)"
   ]
  },
  {
   "cell_type": "code",
   "execution_count": 154,
   "metadata": {},
   "outputs": [
    {
     "data": {
      "text/plain": [
       "array([False,  True, False,  True, False,  True])"
      ]
     },
     "execution_count": 154,
     "metadata": {},
     "output_type": "execute_result"
    }
   ],
   "source": [
    "m > 0"
   ]
  },
  {
   "cell_type": "code",
   "execution_count": 155,
   "metadata": {},
   "outputs": [
    {
     "data": {
      "text/plain": [
       "array([False,  True, False,  True, False,  True])"
      ]
     },
     "execution_count": 155,
     "metadata": {},
     "output_type": "execute_result"
    }
   ],
   "source": [
    "mask = m > 0\n",
    "mask"
   ]
  },
  {
   "cell_type": "code",
   "execution_count": 156,
   "metadata": {},
   "outputs": [
    {
     "data": {
      "text/plain": [
       "array([1, 2, 3])"
      ]
     },
     "execution_count": 156,
     "metadata": {},
     "output_type": "execute_result"
    }
   ],
   "source": [
    "m[mask]"
   ]
  },
  {
   "cell_type": "code",
   "execution_count": 157,
   "metadata": {},
   "outputs": [
    {
     "data": {
      "text/plain": [
       "array([1, 2, 3])"
      ]
     },
     "execution_count": 157,
     "metadata": {},
     "output_type": "execute_result"
    }
   ],
   "source": [
    "m[m > 0]"
   ]
  },
  {
   "cell_type": "code",
   "execution_count": 158,
   "metadata": {},
   "outputs": [],
   "source": [
    "m1 = np.array([1, 2, 3, 4, 5, 6])"
   ]
  },
  {
   "cell_type": "code",
   "execution_count": 159,
   "metadata": {},
   "outputs": [
    {
     "data": {
      "text/plain": [
       "array([2, 4, 6])"
      ]
     },
     "execution_count": 159,
     "metadata": {},
     "output_type": "execute_result"
    }
   ],
   "source": [
    "m1[m > 0]"
   ]
  },
  {
   "cell_type": "code",
   "execution_count": 160,
   "metadata": {},
   "outputs": [],
   "source": [
    "m = np.array(\n",
    "    [\n",
    "        [-1, 1, -2, 2],\n",
    "        [-3, 3, -4, 4],\n",
    "        [-5, 5, -6, 6]\n",
    "    ]\n",
    ")"
   ]
  },
  {
   "cell_type": "code",
   "execution_count": 161,
   "metadata": {},
   "outputs": [
    {
     "data": {
      "text/plain": [
       "array([[-1,  1, -2,  2],\n",
       "       [-3,  3, -4,  4],\n",
       "       [-5,  5, -6,  6]])"
      ]
     },
     "execution_count": 161,
     "metadata": {},
     "output_type": "execute_result"
    }
   ],
   "source": [
    "m"
   ]
  },
  {
   "cell_type": "code",
   "execution_count": 162,
   "metadata": {},
   "outputs": [
    {
     "data": {
      "text/plain": [
       "array([[ True, False,  True, False],\n",
       "       [ True, False,  True, False],\n",
       "       [ True, False,  True, False]])"
      ]
     },
     "execution_count": 162,
     "metadata": {},
     "output_type": "execute_result"
    }
   ],
   "source": [
    "m < 0"
   ]
  },
  {
   "cell_type": "code",
   "execution_count": 163,
   "metadata": {},
   "outputs": [
    {
     "data": {
      "text/plain": [
       "array([-1, -2, -3, -4, -5, -6])"
      ]
     },
     "execution_count": 163,
     "metadata": {},
     "output_type": "execute_result"
    }
   ],
   "source": [
    "m[m<0]"
   ]
  },
  {
   "cell_type": "code",
   "execution_count": 165,
   "metadata": {},
   "outputs": [
    {
     "data": {
      "text/plain": [
       "array([[False, False,  True, False],\n",
       "       [ True, False,  True, False],\n",
       "       [ True, False,  True, False]])"
      ]
     },
     "execution_count": 165,
     "metadata": {},
     "output_type": "execute_result"
    }
   ],
   "source": [
    "m < -1"
   ]
  },
  {
   "cell_type": "code",
   "execution_count": 164,
   "metadata": {},
   "outputs": [
    {
     "data": {
      "text/plain": [
       "array([-2, -3, -4, -5, -6])"
      ]
     },
     "execution_count": 164,
     "metadata": {},
     "output_type": "execute_result"
    }
   ],
   "source": [
    "m[m < -1]"
   ]
  },
  {
   "cell_type": "code",
   "execution_count": 167,
   "metadata": {},
   "outputs": [
    {
     "data": {
      "text/plain": [
       "array([-5, -4, -3, -2, -1,  0,  1,  2,  3,  4,  5])"
      ]
     },
     "execution_count": 167,
     "metadata": {},
     "output_type": "execute_result"
    }
   ],
   "source": [
    "arr = np.arange(-5, 6)\n",
    "arr"
   ]
  },
  {
   "cell_type": "code",
   "execution_count": 168,
   "metadata": {},
   "outputs": [
    {
     "ename": "ValueError",
     "evalue": "The truth value of an array with more than one element is ambiguous. Use a.any() or a.all()",
     "output_type": "error",
     "traceback": [
      "\u001b[1;31m---------------------------------------------------------------------------\u001b[0m",
      "\u001b[1;31mValueError\u001b[0m                                Traceback (most recent call last)",
      "Cell \u001b[1;32mIn[168], line 1\u001b[0m\n\u001b[1;32m----> 1\u001b[0m mask \u001b[38;5;241m=\u001b[39m arr \u001b[38;5;241m>\u001b[39m \u001b[38;5;241m0\u001b[39m \u001b[38;5;241m&\u001b[39m arr \u001b[38;5;241m<\u001b[39m \u001b[38;5;241m4\u001b[39m\n",
      "\u001b[1;31mValueError\u001b[0m: The truth value of an array with more than one element is ambiguous. Use a.any() or a.all()"
     ]
    }
   ],
   "source": [
    "mask = arr > 0 & arr < 4"
   ]
  },
  {
   "cell_type": "code",
   "execution_count": 169,
   "metadata": {},
   "outputs": [
    {
     "data": {
      "text/plain": [
       "array([False, False, False, False, False, False,  True,  True,  True,\n",
       "       False, False])"
      ]
     },
     "execution_count": 169,
     "metadata": {},
     "output_type": "execute_result"
    }
   ],
   "source": [
    "mask = (arr > 0) & (arr < 4)\n",
    "mask"
   ]
  },
  {
   "cell_type": "code",
   "execution_count": 170,
   "metadata": {},
   "outputs": [
    {
     "data": {
      "text/plain": [
       "array([1, 2, 3])"
      ]
     },
     "execution_count": 170,
     "metadata": {},
     "output_type": "execute_result"
    }
   ],
   "source": [
    "arr[mask]"
   ]
  },
  {
   "cell_type": "code",
   "execution_count": 171,
   "metadata": {},
   "outputs": [
    {
     "data": {
      "text/plain": [
       "array([1, 2, 3])"
      ]
     },
     "execution_count": 171,
     "metadata": {},
     "output_type": "execute_result"
    }
   ],
   "source": [
    "arr[(arr > 0) & (arr < 4)]"
   ]
  },
  {
   "cell_type": "code",
   "execution_count": 172,
   "metadata": {},
   "outputs": [
    {
     "data": {
      "text/plain": [
       "array([0, 1, 2, 3, 4, 5])"
      ]
     },
     "execution_count": 172,
     "metadata": {},
     "output_type": "execute_result"
    }
   ],
   "source": [
    "arr[~(arr < 0)]"
   ]
  },
  {
   "cell_type": "code",
   "execution_count": 173,
   "metadata": {},
   "outputs": [
    {
     "data": {
      "text/plain": [
       "array([0, 1, 2, 3, 4, 5])"
      ]
     },
     "execution_count": 173,
     "metadata": {},
     "output_type": "execute_result"
    }
   ],
   "source": [
    "arr[arr >= 0]"
   ]
  },
  {
   "cell_type": "code",
   "execution_count": 174,
   "metadata": {},
   "outputs": [],
   "source": [
    "import csv\n",
    "from dateutil import parser"
   ]
  },
  {
   "cell_type": "code",
   "execution_count": 175,
   "metadata": {},
   "outputs": [
    {
     "name": "stdout",
     "output_type": "stream",
     "text": [
      "['Symbol', 'Date', 'Close', 'Volume', 'Open', 'High', 'Low']\n",
      "[['AAPL', '10/29/2020', '115.32', '146129200', '112.37', '116.93', '112.2'], ['AAPL', '10/28/2020', '111.2', '143937800', '115.05', '115.43', '111.1'], ['AAPL', '10/27/2020', '116.6', '92276770', '115.49', '117.28', '114.5399'], ['AAPL', '10/26/2020', '115.05', '111850700', '114.01', '116.55', '112.88'], ['AAPL', '10/23/2020', '115.04', '82572650', '116.39', '116.55', '114.28'], ['AAPL', '10/22/2020', '115.75', '101988000', '117.45', '118.04', '114.59'], ['AAPL', '10/21/2020', '116.87', '89945980', '116.67', '118.705', '116.45'], ['AAPL', '10/20/2020', '117.51', '124423700', '116.2', '118.98', '115.63'], ['AAPL', '10/19/2020', '115.98', '120639300', '119.96', '120.419', '115.66'], ['AAPL', '10/16/2020', '119.02', '115393800', '121.28', '121.548', '118.81'], ['AAPL', '10/15/2020', '120.71', '112559200', '118.72', '121.2', '118.15'], ['AAPL', '10/14/2020', '121.19', '151062300', '121', '123.03', '119.62'], ['AAPL', '10/13/2020', '121.1', '262330500', '125.27', '125.39', '119.65'], ['AAPL', '10/12/2020', '124.4', '240226800', '120.06', '125.18', '119.2845'], ['AAPL', '10/09/2020', '116.97', '100506900', '115.28', '117', '114.92'], ['AAPL', '10/08/2020', '114.97', '83477150', '116.25', '116.4', '114.5901'], ['AAPL', '10/07/2020', '115.08', '96848990', '114.62', '115.55', '114.13'], ['AAPL', '10/06/2020', '113.16', '161498200', '115.7', '116.12', '112.25'], ['AAPL', '10/05/2020', '116.5', '106243800', '113.91', '116.65', '113.55'], ['AAPL', '10/02/2020', '113.02', '144712000', '112.89', '115.37', '112.22'], ['AAPL', '10/01/2020', '116.79', '116120400', '117.64', '117.72', '115.83'], ['AAPL', '09/30/2020', '115.81', '142675200', '113.79', '117.26', '113.62'], ['AAPL', '09/29/2020', '114.09', '100060500', '114.55', '115.31', '113.57']]\n",
      "[['AAPL', '10/29/2020', '115.32', '146129200', '112.37', '116.93', '112.2'], ['AAPL', '10/28/2020', '111.2', '143937800', '115.05', '115.43', '111.1'], ['AAPL', '10/27/2020', '116.6', '92276770', '115.49', '117.28', '114.5399'], ['AAPL', '10/26/2020', '115.05', '111850700', '114.01', '116.55', '112.88'], ['AAPL', '10/23/2020', '115.04', '82572650', '116.39', '116.55', '114.28'], ['AAPL', '10/22/2020', '115.75', '101988000', '117.45', '118.04', '114.59'], ['AAPL', '10/21/2020', '116.87', '89945980', '116.67', '118.705', '116.45'], ['AAPL', '10/20/2020', '117.51', '124423700', '116.2', '118.98', '115.63'], ['AAPL', '10/19/2020', '115.98', '120639300', '119.96', '120.419', '115.66'], ['AAPL', '10/16/2020', '119.02', '115393800', '121.28', '121.548', '118.81'], ['AAPL', '10/15/2020', '120.71', '112559200', '118.72', '121.2', '118.15'], ['AAPL', '10/14/2020', '121.19', '151062300', '121', '123.03', '119.62'], ['AAPL', '10/13/2020', '121.1', '262330500', '125.27', '125.39', '119.65'], ['AAPL', '10/12/2020', '124.4', '240226800', '120.06', '125.18', '119.2845'], ['AAPL', '10/09/2020', '116.97', '100506900', '115.28', '117', '114.92'], ['AAPL', '10/08/2020', '114.97', '83477150', '116.25', '116.4', '114.5901'], ['AAPL', '10/07/2020', '115.08', '96848990', '114.62', '115.55', '114.13'], ['AAPL', '10/06/2020', '113.16', '161498200', '115.7', '116.12', '112.25'], ['AAPL', '10/05/2020', '116.5', '106243800', '113.91', '116.65', '113.55'], ['AAPL', '10/02/2020', '113.02', '144712000', '112.89', '115.37', '112.22'], ['AAPL', '10/01/2020', '116.79', '116120400', '117.64', '117.72', '115.83'], ['AAPL', '09/30/2020', '115.81', '142675200', '113.79', '117.26', '113.62'], ['AAPL', '09/29/2020', '114.09', '100060500', '114.55', '115.31', '113.57']]\n",
      "[['AAPL', '10/29/2020', '115.32', '146129200', '112.37', '116.93', '112.2'], ['AAPL', '10/28/2020', '111.2', '143937800', '115.05', '115.43', '111.1'], ['AAPL', '10/27/2020', '116.6', '92276770', '115.49', '117.28', '114.5399'], ['AAPL', '10/26/2020', '115.05', '111850700', '114.01', '116.55', '112.88'], ['AAPL', '10/23/2020', '115.04', '82572650', '116.39', '116.55', '114.28'], ['AAPL', '10/22/2020', '115.75', '101988000', '117.45', '118.04', '114.59'], ['AAPL', '10/21/2020', '116.87', '89945980', '116.67', '118.705', '116.45'], ['AAPL', '10/20/2020', '117.51', '124423700', '116.2', '118.98', '115.63'], ['AAPL', '10/19/2020', '115.98', '120639300', '119.96', '120.419', '115.66'], ['AAPL', '10/16/2020', '119.02', '115393800', '121.28', '121.548', '118.81'], ['AAPL', '10/15/2020', '120.71', '112559200', '118.72', '121.2', '118.15'], ['AAPL', '10/14/2020', '121.19', '151062300', '121', '123.03', '119.62'], ['AAPL', '10/13/2020', '121.1', '262330500', '125.27', '125.39', '119.65'], ['AAPL', '10/12/2020', '124.4', '240226800', '120.06', '125.18', '119.2845'], ['AAPL', '10/09/2020', '116.97', '100506900', '115.28', '117', '114.92'], ['AAPL', '10/08/2020', '114.97', '83477150', '116.25', '116.4', '114.5901'], ['AAPL', '10/07/2020', '115.08', '96848990', '114.62', '115.55', '114.13'], ['AAPL', '10/06/2020', '113.16', '161498200', '115.7', '116.12', '112.25'], ['AAPL', '10/05/2020', '116.5', '106243800', '113.91', '116.65', '113.55'], ['AAPL', '10/02/2020', '113.02', '144712000', '112.89', '115.37', '112.22'], ['AAPL', '10/01/2020', '116.79', '116120400', '117.64', '117.72', '115.83'], ['AAPL', '09/30/2020', '115.81', '142675200', '113.79', '117.26', '113.62'], ['AAPL', '09/29/2020', '114.09', '100060500', '114.55', '115.31', '113.57']]\n",
      "[['AAPL', '10/29/2020', '115.32', '146129200', '112.37', '116.93', '112.2'], ['AAPL', '10/28/2020', '111.2', '143937800', '115.05', '115.43', '111.1'], ['AAPL', '10/27/2020', '116.6', '92276770', '115.49', '117.28', '114.5399'], ['AAPL', '10/26/2020', '115.05', '111850700', '114.01', '116.55', '112.88'], ['AAPL', '10/23/2020', '115.04', '82572650', '116.39', '116.55', '114.28'], ['AAPL', '10/22/2020', '115.75', '101988000', '117.45', '118.04', '114.59'], ['AAPL', '10/21/2020', '116.87', '89945980', '116.67', '118.705', '116.45'], ['AAPL', '10/20/2020', '117.51', '124423700', '116.2', '118.98', '115.63'], ['AAPL', '10/19/2020', '115.98', '120639300', '119.96', '120.419', '115.66'], ['AAPL', '10/16/2020', '119.02', '115393800', '121.28', '121.548', '118.81'], ['AAPL', '10/15/2020', '120.71', '112559200', '118.72', '121.2', '118.15'], ['AAPL', '10/14/2020', '121.19', '151062300', '121', '123.03', '119.62'], ['AAPL', '10/13/2020', '121.1', '262330500', '125.27', '125.39', '119.65'], ['AAPL', '10/12/2020', '124.4', '240226800', '120.06', '125.18', '119.2845'], ['AAPL', '10/09/2020', '116.97', '100506900', '115.28', '117', '114.92'], ['AAPL', '10/08/2020', '114.97', '83477150', '116.25', '116.4', '114.5901'], ['AAPL', '10/07/2020', '115.08', '96848990', '114.62', '115.55', '114.13'], ['AAPL', '10/06/2020', '113.16', '161498200', '115.7', '116.12', '112.25'], ['AAPL', '10/05/2020', '116.5', '106243800', '113.91', '116.65', '113.55'], ['AAPL', '10/02/2020', '113.02', '144712000', '112.89', '115.37', '112.22'], ['AAPL', '10/01/2020', '116.79', '116120400', '117.64', '117.72', '115.83'], ['AAPL', '09/30/2020', '115.81', '142675200', '113.79', '117.26', '113.62'], ['AAPL', '09/29/2020', '114.09', '100060500', '114.55', '115.31', '113.57']]\n",
      "[['AAPL', '10/29/2020', '115.32', '146129200', '112.37', '116.93', '112.2'], ['AAPL', '10/28/2020', '111.2', '143937800', '115.05', '115.43', '111.1'], ['AAPL', '10/27/2020', '116.6', '92276770', '115.49', '117.28', '114.5399'], ['AAPL', '10/26/2020', '115.05', '111850700', '114.01', '116.55', '112.88'], ['AAPL', '10/23/2020', '115.04', '82572650', '116.39', '116.55', '114.28'], ['AAPL', '10/22/2020', '115.75', '101988000', '117.45', '118.04', '114.59'], ['AAPL', '10/21/2020', '116.87', '89945980', '116.67', '118.705', '116.45'], ['AAPL', '10/20/2020', '117.51', '124423700', '116.2', '118.98', '115.63'], ['AAPL', '10/19/2020', '115.98', '120639300', '119.96', '120.419', '115.66'], ['AAPL', '10/16/2020', '119.02', '115393800', '121.28', '121.548', '118.81'], ['AAPL', '10/15/2020', '120.71', '112559200', '118.72', '121.2', '118.15'], ['AAPL', '10/14/2020', '121.19', '151062300', '121', '123.03', '119.62'], ['AAPL', '10/13/2020', '121.1', '262330500', '125.27', '125.39', '119.65'], ['AAPL', '10/12/2020', '124.4', '240226800', '120.06', '125.18', '119.2845'], ['AAPL', '10/09/2020', '116.97', '100506900', '115.28', '117', '114.92'], ['AAPL', '10/08/2020', '114.97', '83477150', '116.25', '116.4', '114.5901'], ['AAPL', '10/07/2020', '115.08', '96848990', '114.62', '115.55', '114.13'], ['AAPL', '10/06/2020', '113.16', '161498200', '115.7', '116.12', '112.25'], ['AAPL', '10/05/2020', '116.5', '106243800', '113.91', '116.65', '113.55'], ['AAPL', '10/02/2020', '113.02', '144712000', '112.89', '115.37', '112.22'], ['AAPL', '10/01/2020', '116.79', '116120400', '117.64', '117.72', '115.83'], ['AAPL', '09/30/2020', '115.81', '142675200', '113.79', '117.26', '113.62'], ['AAPL', '09/29/2020', '114.09', '100060500', '114.55', '115.31', '113.57']]\n",
      "[['AAPL', '10/29/2020', '115.32', '146129200', '112.37', '116.93', '112.2'], ['AAPL', '10/28/2020', '111.2', '143937800', '115.05', '115.43', '111.1'], ['AAPL', '10/27/2020', '116.6', '92276770', '115.49', '117.28', '114.5399'], ['AAPL', '10/26/2020', '115.05', '111850700', '114.01', '116.55', '112.88'], ['AAPL', '10/23/2020', '115.04', '82572650', '116.39', '116.55', '114.28'], ['AAPL', '10/22/2020', '115.75', '101988000', '117.45', '118.04', '114.59'], ['AAPL', '10/21/2020', '116.87', '89945980', '116.67', '118.705', '116.45'], ['AAPL', '10/20/2020', '117.51', '124423700', '116.2', '118.98', '115.63'], ['AAPL', '10/19/2020', '115.98', '120639300', '119.96', '120.419', '115.66'], ['AAPL', '10/16/2020', '119.02', '115393800', '121.28', '121.548', '118.81'], ['AAPL', '10/15/2020', '120.71', '112559200', '118.72', '121.2', '118.15'], ['AAPL', '10/14/2020', '121.19', '151062300', '121', '123.03', '119.62'], ['AAPL', '10/13/2020', '121.1', '262330500', '125.27', '125.39', '119.65'], ['AAPL', '10/12/2020', '124.4', '240226800', '120.06', '125.18', '119.2845'], ['AAPL', '10/09/2020', '116.97', '100506900', '115.28', '117', '114.92'], ['AAPL', '10/08/2020', '114.97', '83477150', '116.25', '116.4', '114.5901'], ['AAPL', '10/07/2020', '115.08', '96848990', '114.62', '115.55', '114.13'], ['AAPL', '10/06/2020', '113.16', '161498200', '115.7', '116.12', '112.25'], ['AAPL', '10/05/2020', '116.5', '106243800', '113.91', '116.65', '113.55'], ['AAPL', '10/02/2020', '113.02', '144712000', '112.89', '115.37', '112.22'], ['AAPL', '10/01/2020', '116.79', '116120400', '117.64', '117.72', '115.83'], ['AAPL', '09/30/2020', '115.81', '142675200', '113.79', '117.26', '113.62'], ['AAPL', '09/29/2020', '114.09', '100060500', '114.55', '115.31', '113.57']]\n",
      "[['AAPL', '10/29/2020', '115.32', '146129200', '112.37', '116.93', '112.2'], ['AAPL', '10/28/2020', '111.2', '143937800', '115.05', '115.43', '111.1'], ['AAPL', '10/27/2020', '116.6', '92276770', '115.49', '117.28', '114.5399'], ['AAPL', '10/26/2020', '115.05', '111850700', '114.01', '116.55', '112.88'], ['AAPL', '10/23/2020', '115.04', '82572650', '116.39', '116.55', '114.28'], ['AAPL', '10/22/2020', '115.75', '101988000', '117.45', '118.04', '114.59'], ['AAPL', '10/21/2020', '116.87', '89945980', '116.67', '118.705', '116.45'], ['AAPL', '10/20/2020', '117.51', '124423700', '116.2', '118.98', '115.63'], ['AAPL', '10/19/2020', '115.98', '120639300', '119.96', '120.419', '115.66'], ['AAPL', '10/16/2020', '119.02', '115393800', '121.28', '121.548', '118.81'], ['AAPL', '10/15/2020', '120.71', '112559200', '118.72', '121.2', '118.15'], ['AAPL', '10/14/2020', '121.19', '151062300', '121', '123.03', '119.62'], ['AAPL', '10/13/2020', '121.1', '262330500', '125.27', '125.39', '119.65'], ['AAPL', '10/12/2020', '124.4', '240226800', '120.06', '125.18', '119.2845'], ['AAPL', '10/09/2020', '116.97', '100506900', '115.28', '117', '114.92'], ['AAPL', '10/08/2020', '114.97', '83477150', '116.25', '116.4', '114.5901'], ['AAPL', '10/07/2020', '115.08', '96848990', '114.62', '115.55', '114.13'], ['AAPL', '10/06/2020', '113.16', '161498200', '115.7', '116.12', '112.25'], ['AAPL', '10/05/2020', '116.5', '106243800', '113.91', '116.65', '113.55'], ['AAPL', '10/02/2020', '113.02', '144712000', '112.89', '115.37', '112.22'], ['AAPL', '10/01/2020', '116.79', '116120400', '117.64', '117.72', '115.83'], ['AAPL', '09/30/2020', '115.81', '142675200', '113.79', '117.26', '113.62'], ['AAPL', '09/29/2020', '114.09', '100060500', '114.55', '115.31', '113.57']]\n",
      "[['AAPL', '10/29/2020', '115.32', '146129200', '112.37', '116.93', '112.2'], ['AAPL', '10/28/2020', '111.2', '143937800', '115.05', '115.43', '111.1'], ['AAPL', '10/27/2020', '116.6', '92276770', '115.49', '117.28', '114.5399'], ['AAPL', '10/26/2020', '115.05', '111850700', '114.01', '116.55', '112.88'], ['AAPL', '10/23/2020', '115.04', '82572650', '116.39', '116.55', '114.28'], ['AAPL', '10/22/2020', '115.75', '101988000', '117.45', '118.04', '114.59'], ['AAPL', '10/21/2020', '116.87', '89945980', '116.67', '118.705', '116.45'], ['AAPL', '10/20/2020', '117.51', '124423700', '116.2', '118.98', '115.63'], ['AAPL', '10/19/2020', '115.98', '120639300', '119.96', '120.419', '115.66'], ['AAPL', '10/16/2020', '119.02', '115393800', '121.28', '121.548', '118.81'], ['AAPL', '10/15/2020', '120.71', '112559200', '118.72', '121.2', '118.15'], ['AAPL', '10/14/2020', '121.19', '151062300', '121', '123.03', '119.62'], ['AAPL', '10/13/2020', '121.1', '262330500', '125.27', '125.39', '119.65'], ['AAPL', '10/12/2020', '124.4', '240226800', '120.06', '125.18', '119.2845'], ['AAPL', '10/09/2020', '116.97', '100506900', '115.28', '117', '114.92'], ['AAPL', '10/08/2020', '114.97', '83477150', '116.25', '116.4', '114.5901'], ['AAPL', '10/07/2020', '115.08', '96848990', '114.62', '115.55', '114.13'], ['AAPL', '10/06/2020', '113.16', '161498200', '115.7', '116.12', '112.25'], ['AAPL', '10/05/2020', '116.5', '106243800', '113.91', '116.65', '113.55'], ['AAPL', '10/02/2020', '113.02', '144712000', '112.89', '115.37', '112.22'], ['AAPL', '10/01/2020', '116.79', '116120400', '117.64', '117.72', '115.83'], ['AAPL', '09/30/2020', '115.81', '142675200', '113.79', '117.26', '113.62'], ['AAPL', '09/29/2020', '114.09', '100060500', '114.55', '115.31', '113.57']]\n",
      "[['AAPL', '10/29/2020', '115.32', '146129200', '112.37', '116.93', '112.2'], ['AAPL', '10/28/2020', '111.2', '143937800', '115.05', '115.43', '111.1'], ['AAPL', '10/27/2020', '116.6', '92276770', '115.49', '117.28', '114.5399'], ['AAPL', '10/26/2020', '115.05', '111850700', '114.01', '116.55', '112.88'], ['AAPL', '10/23/2020', '115.04', '82572650', '116.39', '116.55', '114.28'], ['AAPL', '10/22/2020', '115.75', '101988000', '117.45', '118.04', '114.59'], ['AAPL', '10/21/2020', '116.87', '89945980', '116.67', '118.705', '116.45'], ['AAPL', '10/20/2020', '117.51', '124423700', '116.2', '118.98', '115.63'], ['AAPL', '10/19/2020', '115.98', '120639300', '119.96', '120.419', '115.66'], ['AAPL', '10/16/2020', '119.02', '115393800', '121.28', '121.548', '118.81'], ['AAPL', '10/15/2020', '120.71', '112559200', '118.72', '121.2', '118.15'], ['AAPL', '10/14/2020', '121.19', '151062300', '121', '123.03', '119.62'], ['AAPL', '10/13/2020', '121.1', '262330500', '125.27', '125.39', '119.65'], ['AAPL', '10/12/2020', '124.4', '240226800', '120.06', '125.18', '119.2845'], ['AAPL', '10/09/2020', '116.97', '100506900', '115.28', '117', '114.92'], ['AAPL', '10/08/2020', '114.97', '83477150', '116.25', '116.4', '114.5901'], ['AAPL', '10/07/2020', '115.08', '96848990', '114.62', '115.55', '114.13'], ['AAPL', '10/06/2020', '113.16', '161498200', '115.7', '116.12', '112.25'], ['AAPL', '10/05/2020', '116.5', '106243800', '113.91', '116.65', '113.55'], ['AAPL', '10/02/2020', '113.02', '144712000', '112.89', '115.37', '112.22'], ['AAPL', '10/01/2020', '116.79', '116120400', '117.64', '117.72', '115.83'], ['AAPL', '09/30/2020', '115.81', '142675200', '113.79', '117.26', '113.62'], ['AAPL', '09/29/2020', '114.09', '100060500', '114.55', '115.31', '113.57']]\n",
      "[['AAPL', '10/29/2020', '115.32', '146129200', '112.37', '116.93', '112.2'], ['AAPL', '10/28/2020', '111.2', '143937800', '115.05', '115.43', '111.1'], ['AAPL', '10/27/2020', '116.6', '92276770', '115.49', '117.28', '114.5399'], ['AAPL', '10/26/2020', '115.05', '111850700', '114.01', '116.55', '112.88'], ['AAPL', '10/23/2020', '115.04', '82572650', '116.39', '116.55', '114.28'], ['AAPL', '10/22/2020', '115.75', '101988000', '117.45', '118.04', '114.59'], ['AAPL', '10/21/2020', '116.87', '89945980', '116.67', '118.705', '116.45'], ['AAPL', '10/20/2020', '117.51', '124423700', '116.2', '118.98', '115.63'], ['AAPL', '10/19/2020', '115.98', '120639300', '119.96', '120.419', '115.66'], ['AAPL', '10/16/2020', '119.02', '115393800', '121.28', '121.548', '118.81'], ['AAPL', '10/15/2020', '120.71', '112559200', '118.72', '121.2', '118.15'], ['AAPL', '10/14/2020', '121.19', '151062300', '121', '123.03', '119.62'], ['AAPL', '10/13/2020', '121.1', '262330500', '125.27', '125.39', '119.65'], ['AAPL', '10/12/2020', '124.4', '240226800', '120.06', '125.18', '119.2845'], ['AAPL', '10/09/2020', '116.97', '100506900', '115.28', '117', '114.92'], ['AAPL', '10/08/2020', '114.97', '83477150', '116.25', '116.4', '114.5901'], ['AAPL', '10/07/2020', '115.08', '96848990', '114.62', '115.55', '114.13'], ['AAPL', '10/06/2020', '113.16', '161498200', '115.7', '116.12', '112.25'], ['AAPL', '10/05/2020', '116.5', '106243800', '113.91', '116.65', '113.55'], ['AAPL', '10/02/2020', '113.02', '144712000', '112.89', '115.37', '112.22'], ['AAPL', '10/01/2020', '116.79', '116120400', '117.64', '117.72', '115.83'], ['AAPL', '09/30/2020', '115.81', '142675200', '113.79', '117.26', '113.62'], ['AAPL', '09/29/2020', '114.09', '100060500', '114.55', '115.31', '113.57']]\n",
      "[['AAPL', '10/29/2020', '115.32', '146129200', '112.37', '116.93', '112.2'], ['AAPL', '10/28/2020', '111.2', '143937800', '115.05', '115.43', '111.1'], ['AAPL', '10/27/2020', '116.6', '92276770', '115.49', '117.28', '114.5399'], ['AAPL', '10/26/2020', '115.05', '111850700', '114.01', '116.55', '112.88'], ['AAPL', '10/23/2020', '115.04', '82572650', '116.39', '116.55', '114.28'], ['AAPL', '10/22/2020', '115.75', '101988000', '117.45', '118.04', '114.59'], ['AAPL', '10/21/2020', '116.87', '89945980', '116.67', '118.705', '116.45'], ['AAPL', '10/20/2020', '117.51', '124423700', '116.2', '118.98', '115.63'], ['AAPL', '10/19/2020', '115.98', '120639300', '119.96', '120.419', '115.66'], ['AAPL', '10/16/2020', '119.02', '115393800', '121.28', '121.548', '118.81'], ['AAPL', '10/15/2020', '120.71', '112559200', '118.72', '121.2', '118.15'], ['AAPL', '10/14/2020', '121.19', '151062300', '121', '123.03', '119.62'], ['AAPL', '10/13/2020', '121.1', '262330500', '125.27', '125.39', '119.65'], ['AAPL', '10/12/2020', '124.4', '240226800', '120.06', '125.18', '119.2845'], ['AAPL', '10/09/2020', '116.97', '100506900', '115.28', '117', '114.92'], ['AAPL', '10/08/2020', '114.97', '83477150', '116.25', '116.4', '114.5901'], ['AAPL', '10/07/2020', '115.08', '96848990', '114.62', '115.55', '114.13'], ['AAPL', '10/06/2020', '113.16', '161498200', '115.7', '116.12', '112.25'], ['AAPL', '10/05/2020', '116.5', '106243800', '113.91', '116.65', '113.55'], ['AAPL', '10/02/2020', '113.02', '144712000', '112.89', '115.37', '112.22'], ['AAPL', '10/01/2020', '116.79', '116120400', '117.64', '117.72', '115.83'], ['AAPL', '09/30/2020', '115.81', '142675200', '113.79', '117.26', '113.62'], ['AAPL', '09/29/2020', '114.09', '100060500', '114.55', '115.31', '113.57']]\n",
      "[['AAPL', '10/29/2020', '115.32', '146129200', '112.37', '116.93', '112.2'], ['AAPL', '10/28/2020', '111.2', '143937800', '115.05', '115.43', '111.1'], ['AAPL', '10/27/2020', '116.6', '92276770', '115.49', '117.28', '114.5399'], ['AAPL', '10/26/2020', '115.05', '111850700', '114.01', '116.55', '112.88'], ['AAPL', '10/23/2020', '115.04', '82572650', '116.39', '116.55', '114.28'], ['AAPL', '10/22/2020', '115.75', '101988000', '117.45', '118.04', '114.59'], ['AAPL', '10/21/2020', '116.87', '89945980', '116.67', '118.705', '116.45'], ['AAPL', '10/20/2020', '117.51', '124423700', '116.2', '118.98', '115.63'], ['AAPL', '10/19/2020', '115.98', '120639300', '119.96', '120.419', '115.66'], ['AAPL', '10/16/2020', '119.02', '115393800', '121.28', '121.548', '118.81'], ['AAPL', '10/15/2020', '120.71', '112559200', '118.72', '121.2', '118.15'], ['AAPL', '10/14/2020', '121.19', '151062300', '121', '123.03', '119.62'], ['AAPL', '10/13/2020', '121.1', '262330500', '125.27', '125.39', '119.65'], ['AAPL', '10/12/2020', '124.4', '240226800', '120.06', '125.18', '119.2845'], ['AAPL', '10/09/2020', '116.97', '100506900', '115.28', '117', '114.92'], ['AAPL', '10/08/2020', '114.97', '83477150', '116.25', '116.4', '114.5901'], ['AAPL', '10/07/2020', '115.08', '96848990', '114.62', '115.55', '114.13'], ['AAPL', '10/06/2020', '113.16', '161498200', '115.7', '116.12', '112.25'], ['AAPL', '10/05/2020', '116.5', '106243800', '113.91', '116.65', '113.55'], ['AAPL', '10/02/2020', '113.02', '144712000', '112.89', '115.37', '112.22'], ['AAPL', '10/01/2020', '116.79', '116120400', '117.64', '117.72', '115.83'], ['AAPL', '09/30/2020', '115.81', '142675200', '113.79', '117.26', '113.62'], ['AAPL', '09/29/2020', '114.09', '100060500', '114.55', '115.31', '113.57']]\n",
      "[['AAPL', '10/29/2020', '115.32', '146129200', '112.37', '116.93', '112.2'], ['AAPL', '10/28/2020', '111.2', '143937800', '115.05', '115.43', '111.1'], ['AAPL', '10/27/2020', '116.6', '92276770', '115.49', '117.28', '114.5399'], ['AAPL', '10/26/2020', '115.05', '111850700', '114.01', '116.55', '112.88'], ['AAPL', '10/23/2020', '115.04', '82572650', '116.39', '116.55', '114.28'], ['AAPL', '10/22/2020', '115.75', '101988000', '117.45', '118.04', '114.59'], ['AAPL', '10/21/2020', '116.87', '89945980', '116.67', '118.705', '116.45'], ['AAPL', '10/20/2020', '117.51', '124423700', '116.2', '118.98', '115.63'], ['AAPL', '10/19/2020', '115.98', '120639300', '119.96', '120.419', '115.66'], ['AAPL', '10/16/2020', '119.02', '115393800', '121.28', '121.548', '118.81'], ['AAPL', '10/15/2020', '120.71', '112559200', '118.72', '121.2', '118.15'], ['AAPL', '10/14/2020', '121.19', '151062300', '121', '123.03', '119.62'], ['AAPL', '10/13/2020', '121.1', '262330500', '125.27', '125.39', '119.65'], ['AAPL', '10/12/2020', '124.4', '240226800', '120.06', '125.18', '119.2845'], ['AAPL', '10/09/2020', '116.97', '100506900', '115.28', '117', '114.92'], ['AAPL', '10/08/2020', '114.97', '83477150', '116.25', '116.4', '114.5901'], ['AAPL', '10/07/2020', '115.08', '96848990', '114.62', '115.55', '114.13'], ['AAPL', '10/06/2020', '113.16', '161498200', '115.7', '116.12', '112.25'], ['AAPL', '10/05/2020', '116.5', '106243800', '113.91', '116.65', '113.55'], ['AAPL', '10/02/2020', '113.02', '144712000', '112.89', '115.37', '112.22'], ['AAPL', '10/01/2020', '116.79', '116120400', '117.64', '117.72', '115.83'], ['AAPL', '09/30/2020', '115.81', '142675200', '113.79', '117.26', '113.62'], ['AAPL', '09/29/2020', '114.09', '100060500', '114.55', '115.31', '113.57']]\n",
      "[['AAPL', '10/29/2020', '115.32', '146129200', '112.37', '116.93', '112.2'], ['AAPL', '10/28/2020', '111.2', '143937800', '115.05', '115.43', '111.1'], ['AAPL', '10/27/2020', '116.6', '92276770', '115.49', '117.28', '114.5399'], ['AAPL', '10/26/2020', '115.05', '111850700', '114.01', '116.55', '112.88'], ['AAPL', '10/23/2020', '115.04', '82572650', '116.39', '116.55', '114.28'], ['AAPL', '10/22/2020', '115.75', '101988000', '117.45', '118.04', '114.59'], ['AAPL', '10/21/2020', '116.87', '89945980', '116.67', '118.705', '116.45'], ['AAPL', '10/20/2020', '117.51', '124423700', '116.2', '118.98', '115.63'], ['AAPL', '10/19/2020', '115.98', '120639300', '119.96', '120.419', '115.66'], ['AAPL', '10/16/2020', '119.02', '115393800', '121.28', '121.548', '118.81'], ['AAPL', '10/15/2020', '120.71', '112559200', '118.72', '121.2', '118.15'], ['AAPL', '10/14/2020', '121.19', '151062300', '121', '123.03', '119.62'], ['AAPL', '10/13/2020', '121.1', '262330500', '125.27', '125.39', '119.65'], ['AAPL', '10/12/2020', '124.4', '240226800', '120.06', '125.18', '119.2845'], ['AAPL', '10/09/2020', '116.97', '100506900', '115.28', '117', '114.92'], ['AAPL', '10/08/2020', '114.97', '83477150', '116.25', '116.4', '114.5901'], ['AAPL', '10/07/2020', '115.08', '96848990', '114.62', '115.55', '114.13'], ['AAPL', '10/06/2020', '113.16', '161498200', '115.7', '116.12', '112.25'], ['AAPL', '10/05/2020', '116.5', '106243800', '113.91', '116.65', '113.55'], ['AAPL', '10/02/2020', '113.02', '144712000', '112.89', '115.37', '112.22'], ['AAPL', '10/01/2020', '116.79', '116120400', '117.64', '117.72', '115.83'], ['AAPL', '09/30/2020', '115.81', '142675200', '113.79', '117.26', '113.62'], ['AAPL', '09/29/2020', '114.09', '100060500', '114.55', '115.31', '113.57']]\n",
      "[['AAPL', '10/29/2020', '115.32', '146129200', '112.37', '116.93', '112.2'], ['AAPL', '10/28/2020', '111.2', '143937800', '115.05', '115.43', '111.1'], ['AAPL', '10/27/2020', '116.6', '92276770', '115.49', '117.28', '114.5399'], ['AAPL', '10/26/2020', '115.05', '111850700', '114.01', '116.55', '112.88'], ['AAPL', '10/23/2020', '115.04', '82572650', '116.39', '116.55', '114.28'], ['AAPL', '10/22/2020', '115.75', '101988000', '117.45', '118.04', '114.59'], ['AAPL', '10/21/2020', '116.87', '89945980', '116.67', '118.705', '116.45'], ['AAPL', '10/20/2020', '117.51', '124423700', '116.2', '118.98', '115.63'], ['AAPL', '10/19/2020', '115.98', '120639300', '119.96', '120.419', '115.66'], ['AAPL', '10/16/2020', '119.02', '115393800', '121.28', '121.548', '118.81'], ['AAPL', '10/15/2020', '120.71', '112559200', '118.72', '121.2', '118.15'], ['AAPL', '10/14/2020', '121.19', '151062300', '121', '123.03', '119.62'], ['AAPL', '10/13/2020', '121.1', '262330500', '125.27', '125.39', '119.65'], ['AAPL', '10/12/2020', '124.4', '240226800', '120.06', '125.18', '119.2845'], ['AAPL', '10/09/2020', '116.97', '100506900', '115.28', '117', '114.92'], ['AAPL', '10/08/2020', '114.97', '83477150', '116.25', '116.4', '114.5901'], ['AAPL', '10/07/2020', '115.08', '96848990', '114.62', '115.55', '114.13'], ['AAPL', '10/06/2020', '113.16', '161498200', '115.7', '116.12', '112.25'], ['AAPL', '10/05/2020', '116.5', '106243800', '113.91', '116.65', '113.55'], ['AAPL', '10/02/2020', '113.02', '144712000', '112.89', '115.37', '112.22'], ['AAPL', '10/01/2020', '116.79', '116120400', '117.64', '117.72', '115.83'], ['AAPL', '09/30/2020', '115.81', '142675200', '113.79', '117.26', '113.62'], ['AAPL', '09/29/2020', '114.09', '100060500', '114.55', '115.31', '113.57']]\n",
      "[['AAPL', '10/29/2020', '115.32', '146129200', '112.37', '116.93', '112.2'], ['AAPL', '10/28/2020', '111.2', '143937800', '115.05', '115.43', '111.1'], ['AAPL', '10/27/2020', '116.6', '92276770', '115.49', '117.28', '114.5399'], ['AAPL', '10/26/2020', '115.05', '111850700', '114.01', '116.55', '112.88'], ['AAPL', '10/23/2020', '115.04', '82572650', '116.39', '116.55', '114.28'], ['AAPL', '10/22/2020', '115.75', '101988000', '117.45', '118.04', '114.59'], ['AAPL', '10/21/2020', '116.87', '89945980', '116.67', '118.705', '116.45'], ['AAPL', '10/20/2020', '117.51', '124423700', '116.2', '118.98', '115.63'], ['AAPL', '10/19/2020', '115.98', '120639300', '119.96', '120.419', '115.66'], ['AAPL', '10/16/2020', '119.02', '115393800', '121.28', '121.548', '118.81'], ['AAPL', '10/15/2020', '120.71', '112559200', '118.72', '121.2', '118.15'], ['AAPL', '10/14/2020', '121.19', '151062300', '121', '123.03', '119.62'], ['AAPL', '10/13/2020', '121.1', '262330500', '125.27', '125.39', '119.65'], ['AAPL', '10/12/2020', '124.4', '240226800', '120.06', '125.18', '119.2845'], ['AAPL', '10/09/2020', '116.97', '100506900', '115.28', '117', '114.92'], ['AAPL', '10/08/2020', '114.97', '83477150', '116.25', '116.4', '114.5901'], ['AAPL', '10/07/2020', '115.08', '96848990', '114.62', '115.55', '114.13'], ['AAPL', '10/06/2020', '113.16', '161498200', '115.7', '116.12', '112.25'], ['AAPL', '10/05/2020', '116.5', '106243800', '113.91', '116.65', '113.55'], ['AAPL', '10/02/2020', '113.02', '144712000', '112.89', '115.37', '112.22'], ['AAPL', '10/01/2020', '116.79', '116120400', '117.64', '117.72', '115.83'], ['AAPL', '09/30/2020', '115.81', '142675200', '113.79', '117.26', '113.62'], ['AAPL', '09/29/2020', '114.09', '100060500', '114.55', '115.31', '113.57']]\n",
      "[['AAPL', '10/29/2020', '115.32', '146129200', '112.37', '116.93', '112.2'], ['AAPL', '10/28/2020', '111.2', '143937800', '115.05', '115.43', '111.1'], ['AAPL', '10/27/2020', '116.6', '92276770', '115.49', '117.28', '114.5399'], ['AAPL', '10/26/2020', '115.05', '111850700', '114.01', '116.55', '112.88'], ['AAPL', '10/23/2020', '115.04', '82572650', '116.39', '116.55', '114.28'], ['AAPL', '10/22/2020', '115.75', '101988000', '117.45', '118.04', '114.59'], ['AAPL', '10/21/2020', '116.87', '89945980', '116.67', '118.705', '116.45'], ['AAPL', '10/20/2020', '117.51', '124423700', '116.2', '118.98', '115.63'], ['AAPL', '10/19/2020', '115.98', '120639300', '119.96', '120.419', '115.66'], ['AAPL', '10/16/2020', '119.02', '115393800', '121.28', '121.548', '118.81'], ['AAPL', '10/15/2020', '120.71', '112559200', '118.72', '121.2', '118.15'], ['AAPL', '10/14/2020', '121.19', '151062300', '121', '123.03', '119.62'], ['AAPL', '10/13/2020', '121.1', '262330500', '125.27', '125.39', '119.65'], ['AAPL', '10/12/2020', '124.4', '240226800', '120.06', '125.18', '119.2845'], ['AAPL', '10/09/2020', '116.97', '100506900', '115.28', '117', '114.92'], ['AAPL', '10/08/2020', '114.97', '83477150', '116.25', '116.4', '114.5901'], ['AAPL', '10/07/2020', '115.08', '96848990', '114.62', '115.55', '114.13'], ['AAPL', '10/06/2020', '113.16', '161498200', '115.7', '116.12', '112.25'], ['AAPL', '10/05/2020', '116.5', '106243800', '113.91', '116.65', '113.55'], ['AAPL', '10/02/2020', '113.02', '144712000', '112.89', '115.37', '112.22'], ['AAPL', '10/01/2020', '116.79', '116120400', '117.64', '117.72', '115.83'], ['AAPL', '09/30/2020', '115.81', '142675200', '113.79', '117.26', '113.62'], ['AAPL', '09/29/2020', '114.09', '100060500', '114.55', '115.31', '113.57']]\n",
      "[['AAPL', '10/29/2020', '115.32', '146129200', '112.37', '116.93', '112.2'], ['AAPL', '10/28/2020', '111.2', '143937800', '115.05', '115.43', '111.1'], ['AAPL', '10/27/2020', '116.6', '92276770', '115.49', '117.28', '114.5399'], ['AAPL', '10/26/2020', '115.05', '111850700', '114.01', '116.55', '112.88'], ['AAPL', '10/23/2020', '115.04', '82572650', '116.39', '116.55', '114.28'], ['AAPL', '10/22/2020', '115.75', '101988000', '117.45', '118.04', '114.59'], ['AAPL', '10/21/2020', '116.87', '89945980', '116.67', '118.705', '116.45'], ['AAPL', '10/20/2020', '117.51', '124423700', '116.2', '118.98', '115.63'], ['AAPL', '10/19/2020', '115.98', '120639300', '119.96', '120.419', '115.66'], ['AAPL', '10/16/2020', '119.02', '115393800', '121.28', '121.548', '118.81'], ['AAPL', '10/15/2020', '120.71', '112559200', '118.72', '121.2', '118.15'], ['AAPL', '10/14/2020', '121.19', '151062300', '121', '123.03', '119.62'], ['AAPL', '10/13/2020', '121.1', '262330500', '125.27', '125.39', '119.65'], ['AAPL', '10/12/2020', '124.4', '240226800', '120.06', '125.18', '119.2845'], ['AAPL', '10/09/2020', '116.97', '100506900', '115.28', '117', '114.92'], ['AAPL', '10/08/2020', '114.97', '83477150', '116.25', '116.4', '114.5901'], ['AAPL', '10/07/2020', '115.08', '96848990', '114.62', '115.55', '114.13'], ['AAPL', '10/06/2020', '113.16', '161498200', '115.7', '116.12', '112.25'], ['AAPL', '10/05/2020', '116.5', '106243800', '113.91', '116.65', '113.55'], ['AAPL', '10/02/2020', '113.02', '144712000', '112.89', '115.37', '112.22'], ['AAPL', '10/01/2020', '116.79', '116120400', '117.64', '117.72', '115.83'], ['AAPL', '09/30/2020', '115.81', '142675200', '113.79', '117.26', '113.62'], ['AAPL', '09/29/2020', '114.09', '100060500', '114.55', '115.31', '113.57']]\n",
      "[['AAPL', '10/29/2020', '115.32', '146129200', '112.37', '116.93', '112.2'], ['AAPL', '10/28/2020', '111.2', '143937800', '115.05', '115.43', '111.1'], ['AAPL', '10/27/2020', '116.6', '92276770', '115.49', '117.28', '114.5399'], ['AAPL', '10/26/2020', '115.05', '111850700', '114.01', '116.55', '112.88'], ['AAPL', '10/23/2020', '115.04', '82572650', '116.39', '116.55', '114.28'], ['AAPL', '10/22/2020', '115.75', '101988000', '117.45', '118.04', '114.59'], ['AAPL', '10/21/2020', '116.87', '89945980', '116.67', '118.705', '116.45'], ['AAPL', '10/20/2020', '117.51', '124423700', '116.2', '118.98', '115.63'], ['AAPL', '10/19/2020', '115.98', '120639300', '119.96', '120.419', '115.66'], ['AAPL', '10/16/2020', '119.02', '115393800', '121.28', '121.548', '118.81'], ['AAPL', '10/15/2020', '120.71', '112559200', '118.72', '121.2', '118.15'], ['AAPL', '10/14/2020', '121.19', '151062300', '121', '123.03', '119.62'], ['AAPL', '10/13/2020', '121.1', '262330500', '125.27', '125.39', '119.65'], ['AAPL', '10/12/2020', '124.4', '240226800', '120.06', '125.18', '119.2845'], ['AAPL', '10/09/2020', '116.97', '100506900', '115.28', '117', '114.92'], ['AAPL', '10/08/2020', '114.97', '83477150', '116.25', '116.4', '114.5901'], ['AAPL', '10/07/2020', '115.08', '96848990', '114.62', '115.55', '114.13'], ['AAPL', '10/06/2020', '113.16', '161498200', '115.7', '116.12', '112.25'], ['AAPL', '10/05/2020', '116.5', '106243800', '113.91', '116.65', '113.55'], ['AAPL', '10/02/2020', '113.02', '144712000', '112.89', '115.37', '112.22'], ['AAPL', '10/01/2020', '116.79', '116120400', '117.64', '117.72', '115.83'], ['AAPL', '09/30/2020', '115.81', '142675200', '113.79', '117.26', '113.62'], ['AAPL', '09/29/2020', '114.09', '100060500', '114.55', '115.31', '113.57']]\n",
      "[['AAPL', '10/29/2020', '115.32', '146129200', '112.37', '116.93', '112.2'], ['AAPL', '10/28/2020', '111.2', '143937800', '115.05', '115.43', '111.1'], ['AAPL', '10/27/2020', '116.6', '92276770', '115.49', '117.28', '114.5399'], ['AAPL', '10/26/2020', '115.05', '111850700', '114.01', '116.55', '112.88'], ['AAPL', '10/23/2020', '115.04', '82572650', '116.39', '116.55', '114.28'], ['AAPL', '10/22/2020', '115.75', '101988000', '117.45', '118.04', '114.59'], ['AAPL', '10/21/2020', '116.87', '89945980', '116.67', '118.705', '116.45'], ['AAPL', '10/20/2020', '117.51', '124423700', '116.2', '118.98', '115.63'], ['AAPL', '10/19/2020', '115.98', '120639300', '119.96', '120.419', '115.66'], ['AAPL', '10/16/2020', '119.02', '115393800', '121.28', '121.548', '118.81'], ['AAPL', '10/15/2020', '120.71', '112559200', '118.72', '121.2', '118.15'], ['AAPL', '10/14/2020', '121.19', '151062300', '121', '123.03', '119.62'], ['AAPL', '10/13/2020', '121.1', '262330500', '125.27', '125.39', '119.65'], ['AAPL', '10/12/2020', '124.4', '240226800', '120.06', '125.18', '119.2845'], ['AAPL', '10/09/2020', '116.97', '100506900', '115.28', '117', '114.92'], ['AAPL', '10/08/2020', '114.97', '83477150', '116.25', '116.4', '114.5901'], ['AAPL', '10/07/2020', '115.08', '96848990', '114.62', '115.55', '114.13'], ['AAPL', '10/06/2020', '113.16', '161498200', '115.7', '116.12', '112.25'], ['AAPL', '10/05/2020', '116.5', '106243800', '113.91', '116.65', '113.55'], ['AAPL', '10/02/2020', '113.02', '144712000', '112.89', '115.37', '112.22'], ['AAPL', '10/01/2020', '116.79', '116120400', '117.64', '117.72', '115.83'], ['AAPL', '09/30/2020', '115.81', '142675200', '113.79', '117.26', '113.62'], ['AAPL', '09/29/2020', '114.09', '100060500', '114.55', '115.31', '113.57']]\n",
      "[['AAPL', '10/29/2020', '115.32', '146129200', '112.37', '116.93', '112.2'], ['AAPL', '10/28/2020', '111.2', '143937800', '115.05', '115.43', '111.1'], ['AAPL', '10/27/2020', '116.6', '92276770', '115.49', '117.28', '114.5399'], ['AAPL', '10/26/2020', '115.05', '111850700', '114.01', '116.55', '112.88'], ['AAPL', '10/23/2020', '115.04', '82572650', '116.39', '116.55', '114.28'], ['AAPL', '10/22/2020', '115.75', '101988000', '117.45', '118.04', '114.59'], ['AAPL', '10/21/2020', '116.87', '89945980', '116.67', '118.705', '116.45'], ['AAPL', '10/20/2020', '117.51', '124423700', '116.2', '118.98', '115.63'], ['AAPL', '10/19/2020', '115.98', '120639300', '119.96', '120.419', '115.66'], ['AAPL', '10/16/2020', '119.02', '115393800', '121.28', '121.548', '118.81'], ['AAPL', '10/15/2020', '120.71', '112559200', '118.72', '121.2', '118.15'], ['AAPL', '10/14/2020', '121.19', '151062300', '121', '123.03', '119.62'], ['AAPL', '10/13/2020', '121.1', '262330500', '125.27', '125.39', '119.65'], ['AAPL', '10/12/2020', '124.4', '240226800', '120.06', '125.18', '119.2845'], ['AAPL', '10/09/2020', '116.97', '100506900', '115.28', '117', '114.92'], ['AAPL', '10/08/2020', '114.97', '83477150', '116.25', '116.4', '114.5901'], ['AAPL', '10/07/2020', '115.08', '96848990', '114.62', '115.55', '114.13'], ['AAPL', '10/06/2020', '113.16', '161498200', '115.7', '116.12', '112.25'], ['AAPL', '10/05/2020', '116.5', '106243800', '113.91', '116.65', '113.55'], ['AAPL', '10/02/2020', '113.02', '144712000', '112.89', '115.37', '112.22'], ['AAPL', '10/01/2020', '116.79', '116120400', '117.64', '117.72', '115.83'], ['AAPL', '09/30/2020', '115.81', '142675200', '113.79', '117.26', '113.62'], ['AAPL', '09/29/2020', '114.09', '100060500', '114.55', '115.31', '113.57']]\n",
      "[['AAPL', '10/29/2020', '115.32', '146129200', '112.37', '116.93', '112.2'], ['AAPL', '10/28/2020', '111.2', '143937800', '115.05', '115.43', '111.1'], ['AAPL', '10/27/2020', '116.6', '92276770', '115.49', '117.28', '114.5399'], ['AAPL', '10/26/2020', '115.05', '111850700', '114.01', '116.55', '112.88'], ['AAPL', '10/23/2020', '115.04', '82572650', '116.39', '116.55', '114.28'], ['AAPL', '10/22/2020', '115.75', '101988000', '117.45', '118.04', '114.59'], ['AAPL', '10/21/2020', '116.87', '89945980', '116.67', '118.705', '116.45'], ['AAPL', '10/20/2020', '117.51', '124423700', '116.2', '118.98', '115.63'], ['AAPL', '10/19/2020', '115.98', '120639300', '119.96', '120.419', '115.66'], ['AAPL', '10/16/2020', '119.02', '115393800', '121.28', '121.548', '118.81'], ['AAPL', '10/15/2020', '120.71', '112559200', '118.72', '121.2', '118.15'], ['AAPL', '10/14/2020', '121.19', '151062300', '121', '123.03', '119.62'], ['AAPL', '10/13/2020', '121.1', '262330500', '125.27', '125.39', '119.65'], ['AAPL', '10/12/2020', '124.4', '240226800', '120.06', '125.18', '119.2845'], ['AAPL', '10/09/2020', '116.97', '100506900', '115.28', '117', '114.92'], ['AAPL', '10/08/2020', '114.97', '83477150', '116.25', '116.4', '114.5901'], ['AAPL', '10/07/2020', '115.08', '96848990', '114.62', '115.55', '114.13'], ['AAPL', '10/06/2020', '113.16', '161498200', '115.7', '116.12', '112.25'], ['AAPL', '10/05/2020', '116.5', '106243800', '113.91', '116.65', '113.55'], ['AAPL', '10/02/2020', '113.02', '144712000', '112.89', '115.37', '112.22'], ['AAPL', '10/01/2020', '116.79', '116120400', '117.64', '117.72', '115.83'], ['AAPL', '09/30/2020', '115.81', '142675200', '113.79', '117.26', '113.62'], ['AAPL', '09/29/2020', '114.09', '100060500', '114.55', '115.31', '113.57']]\n",
      "[['AAPL', '10/29/2020', '115.32', '146129200', '112.37', '116.93', '112.2'], ['AAPL', '10/28/2020', '111.2', '143937800', '115.05', '115.43', '111.1'], ['AAPL', '10/27/2020', '116.6', '92276770', '115.49', '117.28', '114.5399'], ['AAPL', '10/26/2020', '115.05', '111850700', '114.01', '116.55', '112.88'], ['AAPL', '10/23/2020', '115.04', '82572650', '116.39', '116.55', '114.28'], ['AAPL', '10/22/2020', '115.75', '101988000', '117.45', '118.04', '114.59'], ['AAPL', '10/21/2020', '116.87', '89945980', '116.67', '118.705', '116.45'], ['AAPL', '10/20/2020', '117.51', '124423700', '116.2', '118.98', '115.63'], ['AAPL', '10/19/2020', '115.98', '120639300', '119.96', '120.419', '115.66'], ['AAPL', '10/16/2020', '119.02', '115393800', '121.28', '121.548', '118.81'], ['AAPL', '10/15/2020', '120.71', '112559200', '118.72', '121.2', '118.15'], ['AAPL', '10/14/2020', '121.19', '151062300', '121', '123.03', '119.62'], ['AAPL', '10/13/2020', '121.1', '262330500', '125.27', '125.39', '119.65'], ['AAPL', '10/12/2020', '124.4', '240226800', '120.06', '125.18', '119.2845'], ['AAPL', '10/09/2020', '116.97', '100506900', '115.28', '117', '114.92'], ['AAPL', '10/08/2020', '114.97', '83477150', '116.25', '116.4', '114.5901'], ['AAPL', '10/07/2020', '115.08', '96848990', '114.62', '115.55', '114.13'], ['AAPL', '10/06/2020', '113.16', '161498200', '115.7', '116.12', '112.25'], ['AAPL', '10/05/2020', '116.5', '106243800', '113.91', '116.65', '113.55'], ['AAPL', '10/02/2020', '113.02', '144712000', '112.89', '115.37', '112.22'], ['AAPL', '10/01/2020', '116.79', '116120400', '117.64', '117.72', '115.83'], ['AAPL', '09/30/2020', '115.81', '142675200', '113.79', '117.26', '113.62'], ['AAPL', '09/29/2020', '114.09', '100060500', '114.55', '115.31', '113.57']]\n"
     ]
    }
   ],
   "source": [
    "with open('files/AAPL.csv') as f:\n",
    "    reader = csv.reader(f, skipinitialspace=True)\n",
    "    headers = next(reader)\n",
    "    data = list(reader)\n",
    "\n",
    "print(headers)\n",
    "for row in data:\n",
    "    print(data)"
   ]
  },
  {
   "cell_type": "code",
   "execution_count": 177,
   "metadata": {},
   "outputs": [
    {
     "data": {
      "text/plain": [
       "array([['AAPL', '10/29/2020', '115.32', '146129200', '112.37', '116.93',\n",
       "        '112.2'],\n",
       "       ['AAPL', '10/28/2020', '111.2', '143937800', '115.05', '115.43',\n",
       "        '111.1'],\n",
       "       ['AAPL', '10/27/2020', '116.6', '92276770', '115.49', '117.28',\n",
       "        '114.5399'],\n",
       "       ['AAPL', '10/26/2020', '115.05', '111850700', '114.01', '116.55',\n",
       "        '112.88'],\n",
       "       ['AAPL', '10/23/2020', '115.04', '82572650', '116.39', '116.55',\n",
       "        '114.28'],\n",
       "       ['AAPL', '10/22/2020', '115.75', '101988000', '117.45', '118.04',\n",
       "        '114.59'],\n",
       "       ['AAPL', '10/21/2020', '116.87', '89945980', '116.67', '118.705',\n",
       "        '116.45'],\n",
       "       ['AAPL', '10/20/2020', '117.51', '124423700', '116.2', '118.98',\n",
       "        '115.63'],\n",
       "       ['AAPL', '10/19/2020', '115.98', '120639300', '119.96', '120.419',\n",
       "        '115.66'],\n",
       "       ['AAPL', '10/16/2020', '119.02', '115393800', '121.28', '121.548',\n",
       "        '118.81'],\n",
       "       ['AAPL', '10/15/2020', '120.71', '112559200', '118.72', '121.2',\n",
       "        '118.15'],\n",
       "       ['AAPL', '10/14/2020', '121.19', '151062300', '121', '123.03',\n",
       "        '119.62'],\n",
       "       ['AAPL', '10/13/2020', '121.1', '262330500', '125.27', '125.39',\n",
       "        '119.65'],\n",
       "       ['AAPL', '10/12/2020', '124.4', '240226800', '120.06', '125.18',\n",
       "        '119.2845'],\n",
       "       ['AAPL', '10/09/2020', '116.97', '100506900', '115.28', '117',\n",
       "        '114.92'],\n",
       "       ['AAPL', '10/08/2020', '114.97', '83477150', '116.25', '116.4',\n",
       "        '114.5901'],\n",
       "       ['AAPL', '10/07/2020', '115.08', '96848990', '114.62', '115.55',\n",
       "        '114.13'],\n",
       "       ['AAPL', '10/06/2020', '113.16', '161498200', '115.7', '116.12',\n",
       "        '112.25'],\n",
       "       ['AAPL', '10/05/2020', '116.5', '106243800', '113.91', '116.65',\n",
       "        '113.55'],\n",
       "       ['AAPL', '10/02/2020', '113.02', '144712000', '112.89', '115.37',\n",
       "        '112.22'],\n",
       "       ['AAPL', '10/01/2020', '116.79', '116120400', '117.64', '117.72',\n",
       "        '115.83'],\n",
       "       ['AAPL', '09/30/2020', '115.81', '142675200', '113.79', '117.26',\n",
       "        '113.62'],\n",
       "       ['AAPL', '09/29/2020', '114.09', '100060500', '114.55', '115.31',\n",
       "        '113.57']], dtype='<U10')"
      ]
     },
     "execution_count": 177,
     "metadata": {},
     "output_type": "execute_result"
    }
   ],
   "source": [
    "arr = np.array(data)\n",
    "arr"
   ]
  },
  {
   "cell_type": "code",
   "execution_count": 178,
   "metadata": {},
   "outputs": [
    {
     "data": {
      "text/plain": [
       "array([datetime.datetime(2020, 10, 29, 0, 0),\n",
       "       datetime.datetime(2020, 10, 28, 0, 0),\n",
       "       datetime.datetime(2020, 10, 27, 0, 0),\n",
       "       datetime.datetime(2020, 10, 26, 0, 0),\n",
       "       datetime.datetime(2020, 10, 23, 0, 0),\n",
       "       datetime.datetime(2020, 10, 22, 0, 0),\n",
       "       datetime.datetime(2020, 10, 21, 0, 0),\n",
       "       datetime.datetime(2020, 10, 20, 0, 0),\n",
       "       datetime.datetime(2020, 10, 19, 0, 0),\n",
       "       datetime.datetime(2020, 10, 16, 0, 0),\n",
       "       datetime.datetime(2020, 10, 15, 0, 0),\n",
       "       datetime.datetime(2020, 10, 14, 0, 0),\n",
       "       datetime.datetime(2020, 10, 13, 0, 0),\n",
       "       datetime.datetime(2020, 10, 12, 0, 0),\n",
       "       datetime.datetime(2020, 10, 9, 0, 0),\n",
       "       datetime.datetime(2020, 10, 8, 0, 0),\n",
       "       datetime.datetime(2020, 10, 7, 0, 0),\n",
       "       datetime.datetime(2020, 10, 6, 0, 0),\n",
       "       datetime.datetime(2020, 10, 5, 0, 0),\n",
       "       datetime.datetime(2020, 10, 2, 0, 0),\n",
       "       datetime.datetime(2020, 10, 1, 0, 0),\n",
       "       datetime.datetime(2020, 9, 30, 0, 0),\n",
       "       datetime.datetime(2020, 9, 29, 0, 0)], dtype=object)"
      ]
     },
     "execution_count": 178,
     "metadata": {},
     "output_type": "execute_result"
    }
   ],
   "source": [
    "dates = np.array([parser.parse(dt) for dt in arr[:, 1]])\n",
    "dates"
   ]
  },
  {
   "cell_type": "code",
   "execution_count": 179,
   "metadata": {},
   "outputs": [],
   "source": [
    "ohlc = arr[:, [4, 5, 6, 2]].astype(float)"
   ]
  },
  {
   "cell_type": "code",
   "execution_count": 180,
   "metadata": {},
   "outputs": [
    {
     "data": {
      "text/plain": [
       "array([[112.37  , 116.93  , 112.2   , 115.32  ],\n",
       "       [115.05  , 115.43  , 111.1   , 111.2   ],\n",
       "       [115.49  , 117.28  , 114.5399, 116.6   ],\n",
       "       [114.01  , 116.55  , 112.88  , 115.05  ],\n",
       "       [116.39  , 116.55  , 114.28  , 115.04  ],\n",
       "       [117.45  , 118.04  , 114.59  , 115.75  ],\n",
       "       [116.67  , 118.705 , 116.45  , 116.87  ],\n",
       "       [116.2   , 118.98  , 115.63  , 117.51  ],\n",
       "       [119.96  , 120.419 , 115.66  , 115.98  ],\n",
       "       [121.28  , 121.548 , 118.81  , 119.02  ],\n",
       "       [118.72  , 121.2   , 118.15  , 120.71  ],\n",
       "       [121.    , 123.03  , 119.62  , 121.19  ],\n",
       "       [125.27  , 125.39  , 119.65  , 121.1   ],\n",
       "       [120.06  , 125.18  , 119.2845, 124.4   ],\n",
       "       [115.28  , 117.    , 114.92  , 116.97  ],\n",
       "       [116.25  , 116.4   , 114.5901, 114.97  ],\n",
       "       [114.62  , 115.55  , 114.13  , 115.08  ],\n",
       "       [115.7   , 116.12  , 112.25  , 113.16  ],\n",
       "       [113.91  , 116.65  , 113.55  , 116.5   ],\n",
       "       [112.89  , 115.37  , 112.22  , 113.02  ],\n",
       "       [117.64  , 117.72  , 115.83  , 116.79  ],\n",
       "       [113.79  , 117.26  , 113.62  , 115.81  ],\n",
       "       [114.55  , 115.31  , 113.57  , 114.09  ]])"
      ]
     },
     "execution_count": 180,
     "metadata": {},
     "output_type": "execute_result"
    }
   ],
   "source": [
    "ohlc"
   ]
  },
  {
   "cell_type": "code",
   "execution_count": 182,
   "metadata": {},
   "outputs": [
    {
     "data": {
      "text/plain": [
       "array([False, False,  True, False, False, False,  True,  True, False,\n",
       "        True,  True,  True,  True,  True,  True, False, False, False,\n",
       "        True, False,  True, False, False])"
      ]
     },
     "execution_count": 182,
     "metadata": {},
     "output_type": "execute_result"
    }
   ],
   "source": [
    "ohlc[:, 3] > 116.0"
   ]
  },
  {
   "cell_type": "code",
   "execution_count": 183,
   "metadata": {},
   "outputs": [
    {
     "data": {
      "text/plain": [
       "array([[115.49  , 117.28  , 114.5399, 116.6   ],\n",
       "       [116.67  , 118.705 , 116.45  , 116.87  ],\n",
       "       [116.2   , 118.98  , 115.63  , 117.51  ],\n",
       "       [121.28  , 121.548 , 118.81  , 119.02  ],\n",
       "       [118.72  , 121.2   , 118.15  , 120.71  ],\n",
       "       [121.    , 123.03  , 119.62  , 121.19  ],\n",
       "       [125.27  , 125.39  , 119.65  , 121.1   ],\n",
       "       [120.06  , 125.18  , 119.2845, 124.4   ],\n",
       "       [115.28  , 117.    , 114.92  , 116.97  ],\n",
       "       [113.91  , 116.65  , 113.55  , 116.5   ],\n",
       "       [117.64  , 117.72  , 115.83  , 116.79  ]])"
      ]
     },
     "execution_count": 183,
     "metadata": {},
     "output_type": "execute_result"
    }
   ],
   "source": [
    "ohlc[ohlc[:, 3] > 116.0]"
   ]
  },
  {
   "cell_type": "code",
   "execution_count": 184,
   "metadata": {},
   "outputs": [
    {
     "data": {
      "text/plain": [
       "array([datetime.datetime(2020, 10, 27, 0, 0),\n",
       "       datetime.datetime(2020, 10, 21, 0, 0),\n",
       "       datetime.datetime(2020, 10, 20, 0, 0),\n",
       "       datetime.datetime(2020, 10, 16, 0, 0),\n",
       "       datetime.datetime(2020, 10, 15, 0, 0),\n",
       "       datetime.datetime(2020, 10, 14, 0, 0),\n",
       "       datetime.datetime(2020, 10, 13, 0, 0),\n",
       "       datetime.datetime(2020, 10, 12, 0, 0),\n",
       "       datetime.datetime(2020, 10, 9, 0, 0),\n",
       "       datetime.datetime(2020, 10, 5, 0, 0),\n",
       "       datetime.datetime(2020, 10, 1, 0, 0)], dtype=object)"
      ]
     },
     "execution_count": 184,
     "metadata": {},
     "output_type": "execute_result"
    }
   ],
   "source": [
    "dates[ohlc[:, 3] > 116.0]"
   ]
  },
  {
   "cell_type": "code",
   "execution_count": 185,
   "metadata": {},
   "outputs": [
    {
     "data": {
      "text/plain": [
       "array([False, False,  True, False, False, False,  True,  True, False,\n",
       "        True,  True,  True,  True,  True,  True, False, False, False,\n",
       "        True, False,  True, False, False])"
      ]
     },
     "execution_count": 185,
     "metadata": {},
     "output_type": "execute_result"
    }
   ],
   "source": [
    "mask = ohlc[:, 3] > 116.0\n",
    "mask"
   ]
  },
  {
   "cell_type": "code",
   "execution_count": 186,
   "metadata": {},
   "outputs": [
    {
     "name": "stdout",
     "output_type": "stream",
     "text": [
      "[datetime.datetime(2020, 10, 27, 0, 0), array([115.49  , 117.28  , 114.5399, 116.6   ])]\n",
      "[datetime.datetime(2020, 10, 21, 0, 0), array([116.67 , 118.705, 116.45 , 116.87 ])]\n",
      "[datetime.datetime(2020, 10, 20, 0, 0), array([116.2 , 118.98, 115.63, 117.51])]\n",
      "[datetime.datetime(2020, 10, 16, 0, 0), array([121.28 , 121.548, 118.81 , 119.02 ])]\n",
      "[datetime.datetime(2020, 10, 15, 0, 0), array([118.72, 121.2 , 118.15, 120.71])]\n",
      "[datetime.datetime(2020, 10, 14, 0, 0), array([121.  , 123.03, 119.62, 121.19])]\n",
      "[datetime.datetime(2020, 10, 13, 0, 0), array([125.27, 125.39, 119.65, 121.1 ])]\n",
      "[datetime.datetime(2020, 10, 12, 0, 0), array([120.06  , 125.18  , 119.2845, 124.4   ])]\n",
      "[datetime.datetime(2020, 10, 9, 0, 0), array([115.28, 117.  , 114.92, 116.97])]\n",
      "[datetime.datetime(2020, 10, 5, 0, 0), array([113.91, 116.65, 113.55, 116.5 ])]\n",
      "[datetime.datetime(2020, 10, 1, 0, 0), array([117.64, 117.72, 115.83, 116.79])]\n"
     ]
    }
   ],
   "source": [
    "filtered_data = [\n",
    "    [date, row]\n",
    "    for date, row in zip(dates[mask], ohlc[mask])\n",
    "]\n",
    "\n",
    "for row in filtered_data:\n",
    "    print(row)"
   ]
  },
  {
   "cell_type": "code",
   "execution_count": 187,
   "metadata": {},
   "outputs": [
    {
     "data": {
      "text/plain": [
       "['10/1/2020', [100, 200, 300, 400]]"
      ]
     },
     "execution_count": 187,
     "metadata": {},
     "output_type": "execute_result"
    }
   ],
   "source": [
    "date = '10/1/2020'\n",
    "numbers = [100, 200, 300, 400]\n",
    "\n",
    "[date, numbers]"
   ]
  },
  {
   "cell_type": "code",
   "execution_count": 188,
   "metadata": {},
   "outputs": [
    {
     "data": {
      "text/plain": [
       "['10/1/2020', 100, 200, 300, 400]"
      ]
     },
     "execution_count": 188,
     "metadata": {},
     "output_type": "execute_result"
    }
   ],
   "source": [
    "[date, *numbers]"
   ]
  },
  {
   "cell_type": "code",
   "execution_count": 189,
   "metadata": {},
   "outputs": [
    {
     "name": "stdout",
     "output_type": "stream",
     "text": [
      "[datetime.datetime(2020, 10, 27, 0, 0), 115.49, 117.28, 114.5399, 116.6]\n",
      "[datetime.datetime(2020, 10, 21, 0, 0), 116.67, 118.705, 116.45, 116.87]\n",
      "[datetime.datetime(2020, 10, 20, 0, 0), 116.2, 118.98, 115.63, 117.51]\n",
      "[datetime.datetime(2020, 10, 16, 0, 0), 121.28, 121.548, 118.81, 119.02]\n",
      "[datetime.datetime(2020, 10, 15, 0, 0), 118.72, 121.2, 118.15, 120.71]\n",
      "[datetime.datetime(2020, 10, 14, 0, 0), 121.0, 123.03, 119.62, 121.19]\n",
      "[datetime.datetime(2020, 10, 13, 0, 0), 125.27, 125.39, 119.65, 121.1]\n",
      "[datetime.datetime(2020, 10, 12, 0, 0), 120.06, 125.18, 119.2845, 124.4]\n",
      "[datetime.datetime(2020, 10, 9, 0, 0), 115.28, 117.0, 114.92, 116.97]\n",
      "[datetime.datetime(2020, 10, 5, 0, 0), 113.91, 116.65, 113.55, 116.5]\n",
      "[datetime.datetime(2020, 10, 1, 0, 0), 117.64, 117.72, 115.83, 116.79]\n"
     ]
    }
   ],
   "source": [
    "filtered_data = [\n",
    "    [date, *row]\n",
    "    for date, row in zip(dates[mask], ohlc[mask])\n",
    "]\n",
    "\n",
    "for row in filtered_data:\n",
    "    print(row)"
   ]
  },
  {
   "cell_type": "markdown",
   "metadata": {},
   "source": [
    "### Universal Functions"
   ]
  },
  {
   "cell_type": "code",
   "execution_count": 1,
   "metadata": {},
   "outputs": [],
   "source": [
    "import numpy as np"
   ]
  },
  {
   "cell_type": "code",
   "execution_count": 2,
   "metadata": {},
   "outputs": [
    {
     "data": {
      "text/plain": [
       "array([1, 2, 3, 4, 5])"
      ]
     },
     "execution_count": 2,
     "metadata": {},
     "output_type": "execute_result"
    }
   ],
   "source": [
    "arr_1 = np.array([1, 2, 3, 4, 5])\n",
    "arr_2 = np.arange(1, 6)\n",
    "arr_1"
   ]
  },
  {
   "cell_type": "code",
   "execution_count": 3,
   "metadata": {},
   "outputs": [
    {
     "data": {
      "text/plain": [
       "array([1, 2, 3, 4, 5])"
      ]
     },
     "execution_count": 3,
     "metadata": {},
     "output_type": "execute_result"
    }
   ],
   "source": [
    "arr_2"
   ]
  },
  {
   "cell_type": "code",
   "execution_count": 4,
   "metadata": {},
   "outputs": [
    {
     "data": {
      "text/plain": [
       "array([ 2,  4,  6,  8, 10])"
      ]
     },
     "execution_count": 4,
     "metadata": {},
     "output_type": "execute_result"
    }
   ],
   "source": [
    "arr_1 + arr_2"
   ]
  },
  {
   "cell_type": "code",
   "execution_count": 6,
   "metadata": {},
   "outputs": [
    {
     "data": {
      "text/plain": [
       "array([ 2,  4,  6,  8, 10])"
      ]
     },
     "execution_count": 6,
     "metadata": {},
     "output_type": "execute_result"
    }
   ],
   "source": [
    "np.add(arr_1, arr_2)"
   ]
  },
  {
   "cell_type": "code",
   "execution_count": 7,
   "metadata": {},
   "outputs": [
    {
     "data": {
      "text/plain": [
       "array([ 1,  4,  9, 16, 25])"
      ]
     },
     "execution_count": 7,
     "metadata": {},
     "output_type": "execute_result"
    }
   ],
   "source": [
    "np.multiply(arr_1, arr_2)"
   ]
  },
  {
   "cell_type": "code",
   "execution_count": 8,
   "metadata": {},
   "outputs": [
    {
     "data": {
      "text/plain": [
       "array([0, 0, 0, 0, 0])"
      ]
     },
     "execution_count": 8,
     "metadata": {},
     "output_type": "execute_result"
    }
   ],
   "source": [
    "np.subtract(arr_1, arr_2)"
   ]
  },
  {
   "cell_type": "code",
   "execution_count": 9,
   "metadata": {},
   "outputs": [
    {
     "data": {
      "text/plain": [
       "array([1, 1, 1, 1, 1])"
      ]
     },
     "execution_count": 9,
     "metadata": {},
     "output_type": "execute_result"
    }
   ],
   "source": [
    "arr_1 // arr_2"
   ]
  },
  {
   "cell_type": "code",
   "execution_count": 10,
   "metadata": {},
   "outputs": [
    {
     "data": {
      "text/plain": [
       "array([1, 1, 1, 1, 1])"
      ]
     },
     "execution_count": 10,
     "metadata": {},
     "output_type": "execute_result"
    }
   ],
   "source": [
    "np.floor_divide(arr_1, arr_2)"
   ]
  },
  {
   "cell_type": "code",
   "execution_count": 11,
   "metadata": {},
   "outputs": [
    {
     "data": {
      "text/plain": [
       "array([0, 0, 0, 0, 0])"
      ]
     },
     "execution_count": 11,
     "metadata": {},
     "output_type": "execute_result"
    }
   ],
   "source": [
    "arr_1 % arr_2"
   ]
  },
  {
   "cell_type": "code",
   "execution_count": 12,
   "metadata": {},
   "outputs": [
    {
     "data": {
      "text/plain": [
       "array([0, 0, 0, 0, 0])"
      ]
     },
     "execution_count": 12,
     "metadata": {},
     "output_type": "execute_result"
    }
   ],
   "source": [
    "np.mod(arr_1, arr_2)"
   ]
  },
  {
   "cell_type": "code",
   "execution_count": 13,
   "metadata": {},
   "outputs": [
    {
     "data": {
      "text/plain": [
       "array([   1,    4,   27,  256, 3125])"
      ]
     },
     "execution_count": 13,
     "metadata": {},
     "output_type": "execute_result"
    }
   ],
   "source": [
    "arr_1 ** arr_2"
   ]
  },
  {
   "cell_type": "code",
   "execution_count": 14,
   "metadata": {},
   "outputs": [
    {
     "data": {
      "text/plain": [
       "array([   1,    4,   27,  256, 3125])"
      ]
     },
     "execution_count": 14,
     "metadata": {},
     "output_type": "execute_result"
    }
   ],
   "source": [
    "np.power(arr_1, arr_2)"
   ]
  },
  {
   "cell_type": "code",
   "execution_count": 15,
   "metadata": {},
   "outputs": [
    {
     "data": {
      "text/plain": [
       "array([1, 2, 3, 4, 5])"
      ]
     },
     "execution_count": 15,
     "metadata": {},
     "output_type": "execute_result"
    }
   ],
   "source": [
    "arr_1"
   ]
  },
  {
   "cell_type": "code",
   "execution_count": 16,
   "metadata": {},
   "outputs": [
    {
     "data": {
      "text/plain": [
       "array([ 1,  4,  9, 16, 25])"
      ]
     },
     "execution_count": 16,
     "metadata": {},
     "output_type": "execute_result"
    }
   ],
   "source": [
    "arr_1 ** 2"
   ]
  },
  {
   "cell_type": "code",
   "execution_count": 17,
   "metadata": {},
   "outputs": [
    {
     "data": {
      "text/plain": [
       "array([ 1,  4,  9, 16, 25], dtype=int32)"
      ]
     },
     "execution_count": 17,
     "metadata": {},
     "output_type": "execute_result"
    }
   ],
   "source": [
    "np.power(arr_1, 2)"
   ]
  },
  {
   "cell_type": "code",
   "execution_count": 22,
   "metadata": {},
   "outputs": [
    {
     "data": {
      "text/plain": [
       "array([-6.28318531, -4.88692191, -3.4906585 , -2.0943951 , -0.6981317 ,\n",
       "        0.6981317 ,  2.0943951 ,  3.4906585 ,  4.88692191,  6.28318531])"
      ]
     },
     "execution_count": 22,
     "metadata": {},
     "output_type": "execute_result"
    }
   ],
   "source": [
    "arr = np.linspace(-2 * np.pi, 2 * np.pi, 10)\n",
    "arr"
   ]
  },
  {
   "cell_type": "code",
   "execution_count": 23,
   "metadata": {},
   "outputs": [
    {
     "data": {
      "text/plain": [
       "array([ 2.44929360e-16,  9.84807753e-01,  3.42020143e-01, -8.66025404e-01,\n",
       "       -6.42787610e-01,  6.42787610e-01,  8.66025404e-01, -3.42020143e-01,\n",
       "       -9.84807753e-01, -2.44929360e-16])"
      ]
     },
     "execution_count": 23,
     "metadata": {},
     "output_type": "execute_result"
    }
   ],
   "source": [
    "np.sin(arr)"
   ]
  },
  {
   "cell_type": "code",
   "execution_count": 24,
   "metadata": {},
   "outputs": [
    {
     "data": {
      "text/plain": [
       "array([ 1.        ,  0.17364818, -0.93969262, -0.5       ,  0.76604444,\n",
       "        0.76604444, -0.5       , -0.93969262,  0.17364818,  1.        ])"
      ]
     },
     "execution_count": 24,
     "metadata": {},
     "output_type": "execute_result"
    }
   ],
   "source": [
    "np.cos(arr)"
   ]
  },
  {
   "cell_type": "code",
   "execution_count": 25,
   "metadata": {},
   "outputs": [],
   "source": [
    "from time import perf_counter"
   ]
  },
  {
   "cell_type": "code",
   "execution_count": 26,
   "metadata": {},
   "outputs": [],
   "source": [
    "l = list(range(1, 1_000_000))"
   ]
  },
  {
   "cell_type": "code",
   "execution_count": 27,
   "metadata": {},
   "outputs": [
    {
     "name": "stdout",
     "output_type": "stream",
     "text": [
      "Elapsed time: 0.2526454000035301\n"
     ]
    }
   ],
   "source": [
    "start = perf_counter()\n",
    "new_list = []\n",
    "for el in l:\n",
    "    new_list.append(1 / el)\n",
    "end = perf_counter()\n",
    "print('Elapsed time:', end - start)"
   ]
  },
  {
   "cell_type": "code",
   "execution_count": 28,
   "metadata": {},
   "outputs": [
    {
     "name": "stdout",
     "output_type": "stream",
     "text": [
      "Elapsed time: 0.2902691999988747\n"
     ]
    }
   ],
   "source": [
    "start = perf_counter()\n",
    "new_list = [1 / el for el in l]\n",
    "end = perf_counter()\n",
    "print('Elapsed time:', end - start)"
   ]
  },
  {
   "cell_type": "code",
   "execution_count": 29,
   "metadata": {},
   "outputs": [],
   "source": [
    "np_l = np.array(l)"
   ]
  },
  {
   "cell_type": "code",
   "execution_count": 30,
   "metadata": {},
   "outputs": [
    {
     "data": {
      "text/plain": [
       "dtype('int32')"
      ]
     },
     "execution_count": 30,
     "metadata": {},
     "output_type": "execute_result"
    }
   ],
   "source": [
    "np_l.dtype"
   ]
  },
  {
   "cell_type": "code",
   "execution_count": 31,
   "metadata": {},
   "outputs": [
    {
     "name": "stdout",
     "output_type": "stream",
     "text": [
      "Elapsed time: 0.00019769999926211312\n"
     ]
    }
   ],
   "source": [
    "start = perf_counter()\n",
    "new_arr = 1 / arr\n",
    "end = perf_counter()\n",
    "print('Elapsed time:', end - start)"
   ]
  },
  {
   "cell_type": "code",
   "execution_count": 32,
   "metadata": {},
   "outputs": [],
   "source": [
    "import random"
   ]
  },
  {
   "cell_type": "code",
   "execution_count": 33,
   "metadata": {},
   "outputs": [
    {
     "name": "stdout",
     "output_type": "stream",
     "text": [
      "[[174, 192, 113, 122], [136, 196, 115, 145]]\n",
      "Elapsed: 29.97561410000344\n"
     ]
    }
   ],
   "source": [
    "num_rows = 10_000_000\n",
    "\n",
    "random.seed(0)\n",
    "\n",
    "start = perf_counter()\n",
    "\n",
    "data = [\n",
    "    [\n",
    "        random.randint(120, 180),\n",
    "        random.randint(180, 200),\n",
    "        random.randint(100, 120),\n",
    "        random.randint(120, 180)\n",
    "    ]\n",
    "    for _ in range(num_rows)\n",
    "]\n",
    "\n",
    "end = perf_counter()\n",
    "print(data[:2])\n",
    "print('Elapsed:', end-start)"
   ]
  },
  {
   "cell_type": "markdown",
   "metadata": {},
   "source": [
    "`round((high - low) / close * 100)`"
   ]
  },
  {
   "cell_type": "code",
   "execution_count": 34,
   "metadata": {},
   "outputs": [
    {
     "name": "stdout",
     "output_type": "stream",
     "text": [
      "[65, 56, 52]\n",
      "Elapsed: 2.914326300000539\n"
     ]
    }
   ],
   "source": [
    "start = perf_counter()\n",
    "var = [\n",
    "    round((row[1] - row[2]) / row[3] * 100)\n",
    "    for row in data\n",
    "]\n",
    "end = perf_counter()\n",
    "print(var[:3])\n",
    "print('Elapsed:', end - start)"
   ]
  },
  {
   "cell_type": "code",
   "execution_count": 35,
   "metadata": {},
   "outputs": [
    {
     "name": "stdout",
     "output_type": "stream",
     "text": [
      "[[174, 192, 113, 122], [136, 196, 115, 145]]\n",
      "Elapsed: 4.843489200000477\n"
     ]
    }
   ],
   "source": [
    "start = perf_counter()\n",
    "data_np = np.array(data)\n",
    "end = perf_counter()\n",
    "print(data[:2])\n",
    "print('Elapsed:', end - start)"
   ]
  },
  {
   "cell_type": "code",
   "execution_count": 37,
   "metadata": {},
   "outputs": [
    {
     "name": "stdout",
     "output_type": "stream",
     "text": [
      "[65. 56. 52. 55. 51.]\n",
      "Elapsed: 0.289829399996961\n"
     ]
    }
   ],
   "source": [
    "start = perf_counter()\n",
    "var = np.round((data_np[:, 1] - data_np[:, 2]) / data_np[:, 3] * 100)\n",
    "end = perf_counter()\n",
    "print(var[:5])\n",
    "print('Elapsed:', end - start)"
   ]
  },
  {
   "cell_type": "code",
   "execution_count": 39,
   "metadata": {},
   "outputs": [
    {
     "name": "stdout",
     "output_type": "stream",
     "text": [
      "[[164 181 112 125]\n",
      " [167 199 110 136]\n",
      " [173 189 106 122]\n",
      " [120 180 105 143]\n",
      " [123 199 104 122]]\n",
      "Elapsed: 0.6529837999987649\n"
     ]
    }
   ],
   "source": [
    "np.random.seed(0)\n",
    "start = perf_counter()\n",
    "data_np = np.hstack(\n",
    "    [\n",
    "        np.random.randint(120, 180, (num_rows, 1)),\n",
    "        np.random.randint(180, 200, (num_rows, 1)),\n",
    "        np.random.randint(100, 120, (num_rows, 1)),\n",
    "        np.random.randint(120, 180, (num_rows, 1)),\n",
    "    ]\n",
    ")\n",
    "end = perf_counter()\n",
    "print(data_np[:5])\n",
    "print('Elapsed:', end - start)"
   ]
  },
  {
   "cell_type": "code",
   "execution_count": 40,
   "metadata": {},
   "outputs": [
    {
     "name": "stdout",
     "output_type": "stream",
     "text": [
      "[[174, 192, 113, 122], [136, 196, 115, 145]]\n",
      "Elapsed: 39.12460799999826\n"
     ]
    }
   ],
   "source": [
    "num_rows = 10_000_000\n",
    "\n",
    "random.seed(0)\n",
    "\n",
    "start = perf_counter()\n",
    "\n",
    "data = [\n",
    "    [\n",
    "        random.randint(120, 180),\n",
    "        random.randint(180, 200),\n",
    "        random.randint(100, 120),\n",
    "        random.randint(120, 180)\n",
    "    ]\n",
    "    for _ in range(num_rows)\n",
    "]\n",
    "\n",
    "var = [\n",
    "    round((row[1] - row[2]) / row[3] * 100)\n",
    "    for row in data\n",
    "]\n",
    "\n",
    "\n",
    "end = perf_counter()\n",
    "print(data[:2])\n",
    "print('Elapsed:', end-start)"
   ]
  },
  {
   "cell_type": "code",
   "execution_count": 41,
   "metadata": {},
   "outputs": [
    {
     "name": "stdout",
     "output_type": "stream",
     "text": [
      "[[164 181 112 125]\n",
      " [167 199 110 136]\n",
      " [173 189 106 122]\n",
      " [120 180 105 143]\n",
      " [123 199 104 122]]\n",
      "Elapsed: 0.9686914000049001\n"
     ]
    }
   ],
   "source": [
    "np.random.seed(0)\n",
    "start = perf_counter()\n",
    "data_np = np.hstack(\n",
    "    [\n",
    "        np.random.randint(120, 180, (num_rows, 1)),\n",
    "        np.random.randint(180, 200, (num_rows, 1)),\n",
    "        np.random.randint(100, 120, (num_rows, 1)),\n",
    "        np.random.randint(120, 180, (num_rows, 1)),\n",
    "    ]\n",
    ")\n",
    "\n",
    "\n",
    "var = np.round((data_np[:, 1] - data_np[:, 2]) / data_np[:, 3] * 100)\n",
    "\n",
    "end = perf_counter()\n",
    "print(data_np[:5])\n",
    "print('Elapsed:', end - start)"
   ]
  },
  {
   "cell_type": "code",
   "execution_count": 42,
   "metadata": {},
   "outputs": [],
   "source": [
    "sales = np.array(\n",
    "    [\n",
    "        [10, 0, 5, 3],\n",
    "        [0, 0, 0, 10],\n",
    "        [1, 1, 0, 0],\n",
    "        [3, 0, 4, 5]\n",
    "    ]\n",
    ")"
   ]
  },
  {
   "cell_type": "code",
   "execution_count": 43,
   "metadata": {},
   "outputs": [],
   "source": [
    "unit_price = np.array([100, 50, 20, 10])\n",
    "unit_cost = np.array([80, 10, 5, 1])"
   ]
  },
  {
   "cell_type": "code",
   "execution_count": 44,
   "metadata": {},
   "outputs": [
    {
     "data": {
      "text/plain": [
       "array([[1000,    0,  100,   30],\n",
       "       [   0,    0,    0,  100],\n",
       "       [ 100,   50,    0,    0],\n",
       "       [ 300,    0,   80,   50]])"
      ]
     },
     "execution_count": 44,
     "metadata": {},
     "output_type": "execute_result"
    }
   ],
   "source": [
    "sales * unit_price"
   ]
  },
  {
   "cell_type": "code",
   "execution_count": 46,
   "metadata": {},
   "outputs": [],
   "source": [
    "total_sales = sales * unit_price"
   ]
  },
  {
   "cell_type": "code",
   "execution_count": 47,
   "metadata": {},
   "outputs": [
    {
     "data": {
      "text/plain": [
       "array([[800,   0,  25,   3],\n",
       "       [  0,   0,   0,  10],\n",
       "       [ 80,  10,   0,   0],\n",
       "       [240,   0,  20,   5]])"
      ]
     },
     "execution_count": 47,
     "metadata": {},
     "output_type": "execute_result"
    }
   ],
   "source": [
    "total_cost = sales * unit_cost\n",
    "total_cost"
   ]
  },
  {
   "cell_type": "code",
   "execution_count": 48,
   "metadata": {},
   "outputs": [
    {
     "data": {
      "text/plain": [
       "array([[200,   0,  75,  27],\n",
       "       [  0,   0,   0,  90],\n",
       "       [ 20,  40,   0,   0],\n",
       "       [ 60,   0,  60,  45]])"
      ]
     },
     "execution_count": 48,
     "metadata": {},
     "output_type": "execute_result"
    }
   ],
   "source": [
    "order_net = total_sales - total_cost\n",
    "order_net"
   ]
  },
  {
   "cell_type": "code",
   "execution_count": 49,
   "metadata": {},
   "outputs": [
    {
     "data": {
      "text/plain": [
       "6"
      ]
     },
     "execution_count": 49,
     "metadata": {},
     "output_type": "execute_result"
    }
   ],
   "source": [
    "sum([1, 2, 3])"
   ]
  },
  {
   "cell_type": "code",
   "execution_count": 50,
   "metadata": {},
   "outputs": [
    {
     "data": {
      "text/plain": [
       "617"
      ]
     },
     "execution_count": 50,
     "metadata": {},
     "output_type": "execute_result"
    }
   ],
   "source": [
    "np.sum(order_net)"
   ]
  },
  {
   "cell_type": "markdown",
   "metadata": {},
   "source": [
    "### Some Additional Maths and Stats Functions"
   ]
  },
  {
   "cell_type": "code",
   "execution_count": 1,
   "metadata": {},
   "outputs": [],
   "source": [
    "import numpy as np"
   ]
  },
  {
   "cell_type": "code",
   "execution_count": 2,
   "metadata": {},
   "outputs": [
    {
     "data": {
      "text/plain": [
       "5"
      ]
     },
     "execution_count": 2,
     "metadata": {},
     "output_type": "execute_result"
    }
   ],
   "source": [
    "np.amin(np.array([10, 5, 20]))"
   ]
  },
  {
   "cell_type": "code",
   "execution_count": 3,
   "metadata": {},
   "outputs": [
    {
     "data": {
      "text/plain": [
       "29"
      ]
     },
     "execution_count": 3,
     "metadata": {},
     "output_type": "execute_result"
    }
   ],
   "source": [
    "np.amax(np.array([10, 5, 29]))"
   ]
  },
  {
   "cell_type": "code",
   "execution_count": 7,
   "metadata": {},
   "outputs": [
    {
     "data": {
      "text/plain": [
       "array([[10,  2,  3],\n",
       "       [ 4, 50, 60],\n",
       "       [ 7,  8, 90]])"
      ]
     },
     "execution_count": 7,
     "metadata": {},
     "output_type": "execute_result"
    }
   ],
   "source": [
    "m = np.array([[10, 2, 3], [4, 50, 60], [7, 8, 90]])\n",
    "m"
   ]
  },
  {
   "cell_type": "code",
   "execution_count": 8,
   "metadata": {},
   "outputs": [
    {
     "data": {
      "text/plain": [
       "(2, 90)"
      ]
     },
     "execution_count": 8,
     "metadata": {},
     "output_type": "execute_result"
    }
   ],
   "source": [
    "np.amin(m), np.amax(m)"
   ]
  },
  {
   "cell_type": "code",
   "execution_count": 9,
   "metadata": {},
   "outputs": [
    {
     "data": {
      "text/plain": [
       "(array([4, 2, 3]), array([10, 50, 90]))"
      ]
     },
     "execution_count": 9,
     "metadata": {},
     "output_type": "execute_result"
    }
   ],
   "source": [
    "np.amin(m, axis=0), np.amax(m, axis=0)"
   ]
  },
  {
   "cell_type": "code",
   "execution_count": 10,
   "metadata": {},
   "outputs": [
    {
     "data": {
      "text/plain": [
       "(array([2, 4, 7]), array([10, 60, 90]))"
      ]
     },
     "execution_count": 10,
     "metadata": {},
     "output_type": "execute_result"
    }
   ],
   "source": [
    "np.amin(m, axis=1), np.amax(m, axis=1)"
   ]
  },
  {
   "cell_type": "code",
   "execution_count": 11,
   "metadata": {},
   "outputs": [
    {
     "data": {
      "text/plain": [
       "3.0"
      ]
     },
     "execution_count": 11,
     "metadata": {},
     "output_type": "execute_result"
    }
   ],
   "source": [
    "np.median(np.array([1, 2, 3, 4, 5]))"
   ]
  },
  {
   "cell_type": "code",
   "execution_count": 12,
   "metadata": {},
   "outputs": [
    {
     "data": {
      "text/plain": [
       "3.5"
      ]
     },
     "execution_count": 12,
     "metadata": {},
     "output_type": "execute_result"
    }
   ],
   "source": [
    "np.median(np.array([1, 2, 3, 4, 5, 6]))"
   ]
  },
  {
   "cell_type": "code",
   "execution_count": 13,
   "metadata": {},
   "outputs": [
    {
     "data": {
      "text/plain": [
       "2.0"
      ]
     },
     "execution_count": 13,
     "metadata": {},
     "output_type": "execute_result"
    }
   ],
   "source": [
    "np.mean(np.array([1, 2, 3]))"
   ]
  },
  {
   "cell_type": "code",
   "execution_count": 14,
   "metadata": {},
   "outputs": [
    {
     "data": {
      "text/plain": [
       "1.4142135623730951"
      ]
     },
     "execution_count": 14,
     "metadata": {},
     "output_type": "execute_result"
    }
   ],
   "source": [
    "np.std(np.array([-2, -1, 0, 1, 2]))"
   ]
  },
  {
   "cell_type": "code",
   "execution_count": 15,
   "metadata": {},
   "outputs": [],
   "source": [
    "m = np.array(\n",
    "    [\n",
    "        [1, 10, 100],\n",
    "        [2, 20, 200],\n",
    "        [3, 30, 300],\n",
    "        [3, 30, 300],\n",
    "        [4, 40, 400]\n",
    "    ]\n",
    ")"
   ]
  },
  {
   "cell_type": "code",
   "execution_count": 16,
   "metadata": {},
   "outputs": [
    {
     "data": {
      "text/plain": [
       "96.2"
      ]
     },
     "execution_count": 16,
     "metadata": {},
     "output_type": "execute_result"
    }
   ],
   "source": [
    "np.mean(m)"
   ]
  },
  {
   "cell_type": "code",
   "execution_count": 17,
   "metadata": {},
   "outputs": [
    {
     "data": {
      "text/plain": [
       "30.0"
      ]
     },
     "execution_count": 17,
     "metadata": {},
     "output_type": "execute_result"
    }
   ],
   "source": [
    "np.median(m)"
   ]
  },
  {
   "cell_type": "code",
   "execution_count": 18,
   "metadata": {},
   "outputs": [
    {
     "data": {
      "text/plain": [
       "array([  2.6,  26. , 260. ])"
      ]
     },
     "execution_count": 18,
     "metadata": {},
     "output_type": "execute_result"
    }
   ],
   "source": [
    "np.mean(m, axis=0)"
   ]
  },
  {
   "cell_type": "code",
   "execution_count": 19,
   "metadata": {},
   "outputs": [
    {
     "data": {
      "text/plain": [
       "array([  3.,  30., 300.])"
      ]
     },
     "execution_count": 19,
     "metadata": {},
     "output_type": "execute_result"
    }
   ],
   "source": [
    "np.median(m, axis=0)"
   ]
  },
  {
   "cell_type": "code",
   "execution_count": 21,
   "metadata": {},
   "outputs": [
    {
     "data": {
      "text/plain": [
       "array([ 37.,  74., 111., 111., 148.])"
      ]
     },
     "execution_count": 21,
     "metadata": {},
     "output_type": "execute_result"
    }
   ],
   "source": [
    "np.mean(m, axis=1)"
   ]
  },
  {
   "cell_type": "code",
   "execution_count": 22,
   "metadata": {},
   "outputs": [
    {
     "data": {
      "text/plain": [
       "array([10., 20., 30., 30., 40.])"
      ]
     },
     "execution_count": 22,
     "metadata": {},
     "output_type": "execute_result"
    }
   ],
   "source": [
    "np.median(m, axis=1)"
   ]
  },
  {
   "cell_type": "code",
   "execution_count": 24,
   "metadata": {},
   "outputs": [
    {
     "data": {
      "text/plain": [
       "45"
      ]
     },
     "execution_count": 24,
     "metadata": {},
     "output_type": "execute_result"
    }
   ],
   "source": [
    "np.sum(np.arange(1, 10))"
   ]
  },
  {
   "cell_type": "code",
   "execution_count": 25,
   "metadata": {},
   "outputs": [
    {
     "data": {
      "text/plain": [
       "array([[1, 2, 3],\n",
       "       [4, 5, 6],\n",
       "       [7, 8, 9]])"
      ]
     },
     "execution_count": 25,
     "metadata": {},
     "output_type": "execute_result"
    }
   ],
   "source": [
    "m = np.arange(1, 10).reshape(3, 3)\n",
    "m"
   ]
  },
  {
   "cell_type": "code",
   "execution_count": 26,
   "metadata": {},
   "outputs": [
    {
     "data": {
      "text/plain": [
       "45"
      ]
     },
     "execution_count": 26,
     "metadata": {},
     "output_type": "execute_result"
    }
   ],
   "source": [
    "np.sum(m)"
   ]
  },
  {
   "cell_type": "code",
   "execution_count": 28,
   "metadata": {},
   "outputs": [
    {
     "data": {
      "text/plain": [
       "array([12, 15, 18])"
      ]
     },
     "execution_count": 28,
     "metadata": {},
     "output_type": "execute_result"
    }
   ],
   "source": [
    "np.sum(m, axis=0)"
   ]
  },
  {
   "cell_type": "code",
   "execution_count": 29,
   "metadata": {},
   "outputs": [
    {
     "data": {
      "text/plain": [
       "array([ 6, 15, 24])"
      ]
     },
     "execution_count": 29,
     "metadata": {},
     "output_type": "execute_result"
    }
   ],
   "source": [
    "np.sum(m, axis=1)"
   ]
  },
  {
   "cell_type": "code",
   "execution_count": 30,
   "metadata": {},
   "outputs": [
    {
     "data": {
      "text/plain": [
       "array([1.1, 2.2, 5.6, 6.7])"
      ]
     },
     "execution_count": 30,
     "metadata": {},
     "output_type": "execute_result"
    }
   ],
   "source": [
    "arr = np.array([1.11, 2.22, 5.55, 6.66])\n",
    "np.around(arr, 1)"
   ]
  },
  {
   "cell_type": "code",
   "execution_count": 31,
   "metadata": {},
   "outputs": [
    {
     "data": {
      "text/plain": [
       "array([1., 2., 6., 7.])"
      ]
     },
     "execution_count": 31,
     "metadata": {},
     "output_type": "execute_result"
    }
   ],
   "source": [
    "np.around(arr)"
   ]
  },
  {
   "cell_type": "code",
   "execution_count": 32,
   "metadata": {},
   "outputs": [
    {
     "data": {
      "text/plain": [
       "array([100, 200])"
      ]
     },
     "execution_count": 32,
     "metadata": {},
     "output_type": "execute_result"
    }
   ],
   "source": [
    "np.around(np.array([123, 155]), -2)"
   ]
  },
  {
   "cell_type": "code",
   "execution_count": 33,
   "metadata": {},
   "outputs": [
    {
     "data": {
      "text/plain": [
       "array([6, 1, 4, 4, 8, 4, 6, 3, 5, 8, 7, 9, 9, 2, 7, 8, 8, 9, 2, 6])"
      ]
     },
     "execution_count": 33,
     "metadata": {},
     "output_type": "execute_result"
    }
   ],
   "source": [
    "np.random.seed(0)\n",
    "\n",
    "arr = np.random.randint(1, 10, 20)\n",
    "arr"
   ]
  },
  {
   "cell_type": "markdown",
   "metadata": {},
   "source": [
    "`[0, 2), [2, 4) [4, 6) [6, 8) [8, 9]`"
   ]
  },
  {
   "cell_type": "code",
   "execution_count": 34,
   "metadata": {},
   "outputs": [],
   "source": [
    "bins = np.array([0, 2, 4, 6, 8, 9])"
   ]
  },
  {
   "cell_type": "code",
   "execution_count": 35,
   "metadata": {},
   "outputs": [
    {
     "data": {
      "text/plain": [
       "(array([1, 3, 4, 5, 7], dtype=int64), array([0, 2, 4, 6, 8, 9]))"
      ]
     },
     "execution_count": 35,
     "metadata": {},
     "output_type": "execute_result"
    }
   ],
   "source": [
    "np.histogram(arr, bins=bins)"
   ]
  },
  {
   "cell_type": "code",
   "execution_count": 36,
   "metadata": {},
   "outputs": [
    {
     "data": {
      "text/plain": [
       "(array([3, 4, 4, 9], dtype=int64), array([1., 3., 5., 7., 9.]))"
      ]
     },
     "execution_count": 36,
     "metadata": {},
     "output_type": "execute_result"
    }
   ],
   "source": [
    "np.histogram(arr, bins=4)"
   ]
  },
  {
   "cell_type": "code",
   "execution_count": null,
   "metadata": {},
   "outputs": [],
   "source": []
  }
 ],
 "metadata": {
  "kernelspec": {
   "display_name": "py3ll",
   "language": "python",
   "name": "python3"
  },
  "language_info": {
   "codemirror_mode": {
    "name": "ipython",
    "version": 3
   },
   "file_extension": ".py",
   "mimetype": "text/x-python",
   "name": "python",
   "nbconvert_exporter": "python",
   "pygments_lexer": "ipython3",
   "version": "3.12.4"
  }
 },
 "nbformat": 4,
 "nbformat_minor": 2
}
