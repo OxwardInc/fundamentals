{
 "cells": [
  {
   "cell_type": "markdown",
   "metadata": {},
   "source": [
    "### Associative Arrays and Dictionaries"
   ]
  },
  {
   "cell_type": "code",
   "execution_count": 1,
   "metadata": {},
   "outputs": [],
   "source": [
    "d = {'a': 1, 'b': 2, 'c':3}"
   ]
  },
  {
   "cell_type": "code",
   "execution_count": 2,
   "metadata": {},
   "outputs": [
    {
     "data": {
      "text/plain": [
       "{'a': 1, 'b': 2, 'c': 3}"
      ]
     },
     "execution_count": 2,
     "metadata": {},
     "output_type": "execute_result"
    }
   ],
   "source": [
    "d"
   ]
  },
  {
   "cell_type": "code",
   "execution_count": 3,
   "metadata": {},
   "outputs": [
    {
     "data": {
      "text/plain": [
       "dict"
      ]
     },
     "execution_count": 3,
     "metadata": {},
     "output_type": "execute_result"
    }
   ],
   "source": [
    "type(d)"
   ]
  },
  {
   "cell_type": "code",
   "execution_count": 4,
   "metadata": {},
   "outputs": [],
   "source": [
    "person = {\n",
    "    'First_name': 'Eric',\n",
    "    'Last_name': 'Idle',\n",
    "    'Year-born': 2016\n",
    "}"
   ]
  },
  {
   "cell_type": "code",
   "execution_count": 5,
   "metadata": {},
   "outputs": [
    {
     "data": {
      "text/plain": [
       "2016"
      ]
     },
     "execution_count": 5,
     "metadata": {},
     "output_type": "execute_result"
    }
   ],
   "source": [
    "person['Year-born']"
   ]
  },
  {
   "cell_type": "code",
   "execution_count": 6,
   "metadata": {},
   "outputs": [],
   "source": [
    "person['Year-born'] = 1943"
   ]
  },
  {
   "cell_type": "code",
   "execution_count": 7,
   "metadata": {},
   "outputs": [
    {
     "data": {
      "text/plain": [
       "{'First_name': 'Eric', 'Last_name': 'Idle', 'Year-born': 1943}"
      ]
     },
     "execution_count": 7,
     "metadata": {},
     "output_type": "execute_result"
    }
   ],
   "source": [
    "person"
   ]
  },
  {
   "cell_type": "code",
   "execution_count": 8,
   "metadata": {},
   "outputs": [],
   "source": [
    "person['Month_borm'] = 'March'"
   ]
  },
  {
   "cell_type": "code",
   "execution_count": 9,
   "metadata": {},
   "outputs": [
    {
     "data": {
      "text/plain": [
       "{'First_name': 'Eric',\n",
       " 'Last_name': 'Idle',\n",
       " 'Year-born': 1943,\n",
       " 'Month_borm': 'March'}"
      ]
     },
     "execution_count": 9,
     "metadata": {},
     "output_type": "execute_result"
    }
   ],
   "source": [
    "person"
   ]
  },
  {
   "cell_type": "code",
   "execution_count": 10,
   "metadata": {},
   "outputs": [],
   "source": [
    "d = {3.14: 'pi', 2: 'even', 'prime': 7}"
   ]
  },
  {
   "cell_type": "code",
   "execution_count": 11,
   "metadata": {},
   "outputs": [
    {
     "data": {
      "text/plain": [
       "{3.14: 'pi', 2: 'even', 'prime': 7}"
      ]
     },
     "execution_count": 11,
     "metadata": {},
     "output_type": "execute_result"
    }
   ],
   "source": [
    "d"
   ]
  },
  {
   "cell_type": "code",
   "execution_count": 12,
   "metadata": {},
   "outputs": [
    {
     "data": {
      "text/plain": [
       "'pi'"
      ]
     },
     "execution_count": 12,
     "metadata": {},
     "output_type": "execute_result"
    }
   ],
   "source": [
    "d[3.14]"
   ]
  },
  {
   "cell_type": "code",
   "execution_count": 13,
   "metadata": {},
   "outputs": [
    {
     "data": {
      "text/plain": [
       "'even'"
      ]
     },
     "execution_count": 13,
     "metadata": {},
     "output_type": "execute_result"
    }
   ],
   "source": [
    "d[2]"
   ]
  },
  {
   "cell_type": "code",
   "execution_count": 14,
   "metadata": {},
   "outputs": [
    {
     "data": {
      "text/plain": [
       "7"
      ]
     },
     "execution_count": 14,
     "metadata": {},
     "output_type": "execute_result"
    }
   ],
   "source": [
    "d['prime']"
   ]
  },
  {
   "cell_type": "code",
   "execution_count": 15,
   "metadata": {},
   "outputs": [],
   "source": [
    "l = [1, 2, 3]"
   ]
  },
  {
   "cell_type": "code",
   "execution_count": 16,
   "metadata": {},
   "outputs": [
    {
     "ename": "TypeError",
     "evalue": "unhashable type: 'list'",
     "output_type": "error",
     "traceback": [
      "\u001b[1;31m---------------------------------------------------------------------------\u001b[0m",
      "\u001b[1;31mTypeError\u001b[0m                                 Traceback (most recent call last)",
      "Cell \u001b[1;32mIn[16], line 1\u001b[0m\n\u001b[1;32m----> 1\u001b[0m d \u001b[38;5;241m=\u001b[39m {l:\u001b[38;5;241m100\u001b[39m}\n",
      "\u001b[1;31mTypeError\u001b[0m: unhashable type: 'list'"
     ]
    }
   ],
   "source": [
    "d = {l:100}"
   ]
  },
  {
   "cell_type": "code",
   "execution_count": 17,
   "metadata": {},
   "outputs": [
    {
     "data": {
      "text/plain": [
       "100"
      ]
     },
     "execution_count": 17,
     "metadata": {},
     "output_type": "execute_result"
    }
   ],
   "source": [
    "hash(100)"
   ]
  },
  {
   "cell_type": "code",
   "execution_count": 18,
   "metadata": {},
   "outputs": [
    {
     "data": {
      "text/plain": [
       "322818021289917443"
      ]
     },
     "execution_count": 18,
     "metadata": {},
     "output_type": "execute_result"
    }
   ],
   "source": [
    "hash(3.14)"
   ]
  },
  {
   "cell_type": "code",
   "execution_count": 19,
   "metadata": {},
   "outputs": [
    {
     "ename": "TypeError",
     "evalue": "unhashable type: 'list'",
     "output_type": "error",
     "traceback": [
      "\u001b[1;31m---------------------------------------------------------------------------\u001b[0m",
      "\u001b[1;31mTypeError\u001b[0m                                 Traceback (most recent call last)",
      "Cell \u001b[1;32mIn[19], line 1\u001b[0m\n\u001b[1;32m----> 1\u001b[0m \u001b[38;5;28;43mhash\u001b[39;49m\u001b[43m(\u001b[49m\u001b[43ml\u001b[49m\u001b[43m)\u001b[49m\n",
      "\u001b[1;31mTypeError\u001b[0m: unhashable type: 'list'"
     ]
    }
   ],
   "source": [
    "hash(l)"
   ]
  },
  {
   "cell_type": "code",
   "execution_count": 20,
   "metadata": {},
   "outputs": [],
   "source": [
    "t = 1, 2, 3, 4"
   ]
  },
  {
   "cell_type": "code",
   "execution_count": 21,
   "metadata": {},
   "outputs": [
    {
     "data": {
      "text/plain": [
       "590899387183067792"
      ]
     },
     "execution_count": 21,
     "metadata": {},
     "output_type": "execute_result"
    }
   ],
   "source": [
    "hash(t)"
   ]
  },
  {
   "cell_type": "code",
   "execution_count": 22,
   "metadata": {},
   "outputs": [],
   "source": [
    "t = ([1, 2], 3, 4)"
   ]
  },
  {
   "cell_type": "code",
   "execution_count": 23,
   "metadata": {},
   "outputs": [
    {
     "ename": "TypeError",
     "evalue": "unhashable type: 'list'",
     "output_type": "error",
     "traceback": [
      "\u001b[1;31m---------------------------------------------------------------------------\u001b[0m",
      "\u001b[1;31mTypeError\u001b[0m                                 Traceback (most recent call last)",
      "Cell \u001b[1;32mIn[23], line 1\u001b[0m\n\u001b[1;32m----> 1\u001b[0m \u001b[38;5;28;43mhash\u001b[39;49m\u001b[43m(\u001b[49m\u001b[43mt\u001b[49m\u001b[43m)\u001b[49m\n",
      "\u001b[1;31mTypeError\u001b[0m: unhashable type: 'list'"
     ]
    }
   ],
   "source": [
    "hash(t)"
   ]
  },
  {
   "cell_type": "code",
   "execution_count": 24,
   "metadata": {},
   "outputs": [],
   "source": [
    "d = {\n",
    "    (0, 0): \"Origin\",\n",
    "    (1, 0): \"Unit-X\",\n",
    "    (0, 1): \"Unit-Y\"\n",
    "}"
   ]
  },
  {
   "cell_type": "code",
   "execution_count": 25,
   "metadata": {},
   "outputs": [
    {
     "data": {
      "text/plain": [
       "{(0, 0): 'Origin', (1, 0): 'Unit-X', (0, 1): 'Unit-Y'}"
      ]
     },
     "execution_count": 25,
     "metadata": {},
     "output_type": "execute_result"
    }
   ],
   "source": [
    "d"
   ]
  },
  {
   "cell_type": "code",
   "execution_count": 26,
   "metadata": {},
   "outputs": [
    {
     "data": {
      "text/plain": [
       "'Origin'"
      ]
     },
     "execution_count": 26,
     "metadata": {},
     "output_type": "execute_result"
    }
   ],
   "source": [
    "d[(0, 0)]"
   ]
  },
  {
   "cell_type": "code",
   "execution_count": 27,
   "metadata": {},
   "outputs": [],
   "source": [
    "d = {'a': 1, 'b': 2, 'c': 3}"
   ]
  },
  {
   "cell_type": "code",
   "execution_count": 28,
   "metadata": {},
   "outputs": [
    {
     "data": {
      "text/plain": [
       "2082426036736"
      ]
     },
     "execution_count": 28,
     "metadata": {},
     "output_type": "execute_result"
    }
   ],
   "source": [
    "id(d)"
   ]
  },
  {
   "cell_type": "code",
   "execution_count": 29,
   "metadata": {},
   "outputs": [],
   "source": [
    "del d['a']"
   ]
  },
  {
   "cell_type": "code",
   "execution_count": 30,
   "metadata": {},
   "outputs": [
    {
     "data": {
      "text/plain": [
       "2082328240640"
      ]
     },
     "execution_count": 30,
     "metadata": {},
     "output_type": "execute_result"
    }
   ],
   "source": [
    "id(id)"
   ]
  },
  {
   "cell_type": "code",
   "execution_count": 31,
   "metadata": {},
   "outputs": [
    {
     "data": {
      "text/plain": [
       "{'b': 2, 'c': 3}"
      ]
     },
     "execution_count": 31,
     "metadata": {},
     "output_type": "execute_result"
    }
   ],
   "source": [
    "d"
   ]
  },
  {
   "cell_type": "code",
   "execution_count": 32,
   "metadata": {},
   "outputs": [
    {
     "data": {
      "text/plain": [
       "{'__name__': '__main__',\n",
       " '__doc__': 'Automatically created module for IPython interactive environment',\n",
       " '__package__': None,\n",
       " '__loader__': None,\n",
       " '__spec__': None,\n",
       " '__builtin__': <module 'builtins' (built-in)>,\n",
       " '__builtins__': <module 'builtins' (built-in)>,\n",
       " '_ih': ['',\n",
       "  \"d = {'a': 1, 'b': 2, 'c':3}\",\n",
       "  'd',\n",
       "  'type(d)',\n",
       "  \"person = {\\n    'First_name': 'Eric',\\n    'Last_name': 'Idle',\\n    'Year-born': 2016\\n}\",\n",
       "  \"person['Year-born']\",\n",
       "  \"person['Year-born'] = 1943\",\n",
       "  'person',\n",
       "  \"person['Month_borm'] = 'March'\",\n",
       "  'person',\n",
       "  \"d = {3.14: 'pi', 2: 'even', 'prime': 7}\",\n",
       "  'd',\n",
       "  'd[3.14]',\n",
       "  'd[2]',\n",
       "  \"d['prime']\",\n",
       "  'l = [1, 2, 3]',\n",
       "  'd = {l:100}',\n",
       "  'hash(100)',\n",
       "  'hash(3.14)',\n",
       "  'hash(l)',\n",
       "  't = 1, 2, 3, 4',\n",
       "  'hash(t)',\n",
       "  't = ([1, 2], 3, 4)',\n",
       "  'hash(t)',\n",
       "  'd = {\\n    (0, 0): \"Origin\",\\n    (1, 0): \"Unit-X\",\\n    (0, 1): \"Unit-Y\"\\n}',\n",
       "  'd',\n",
       "  'd[(0, 0)]',\n",
       "  \"d = {'a': 1, 'b': 2, 'c': 3}\",\n",
       "  'id(d)',\n",
       "  \"del d['a']\",\n",
       "  'id(id)',\n",
       "  'd',\n",
       "  'globals()'],\n",
       " '_oh': {2: {'a': 1, 'b': 2, 'c': 3},\n",
       "  3: dict,\n",
       "  5: 2016,\n",
       "  7: {'First_name': 'Eric',\n",
       "   'Last_name': 'Idle',\n",
       "   'Year-born': 1943,\n",
       "   'Month_borm': 'March'},\n",
       "  9: {'First_name': 'Eric',\n",
       "   'Last_name': 'Idle',\n",
       "   'Year-born': 1943,\n",
       "   'Month_borm': 'March'},\n",
       "  11: {3.14: 'pi', 2: 'even', 'prime': 7},\n",
       "  12: 'pi',\n",
       "  13: 'even',\n",
       "  14: 7,\n",
       "  17: 100,\n",
       "  18: 322818021289917443,\n",
       "  21: 590899387183067792,\n",
       "  25: {(0, 0): 'Origin', (1, 0): 'Unit-X', (0, 1): 'Unit-Y'},\n",
       "  26: 'Origin',\n",
       "  28: 2082426036736,\n",
       "  30: 2082328240640,\n",
       "  31: {'b': 2, 'c': 3}},\n",
       " '_dh': [WindowsPath('c:/Personal Folder/Compass Academy Data_Engineering/fundamentals')],\n",
       " 'In': ['',\n",
       "  \"d = {'a': 1, 'b': 2, 'c':3}\",\n",
       "  'd',\n",
       "  'type(d)',\n",
       "  \"person = {\\n    'First_name': 'Eric',\\n    'Last_name': 'Idle',\\n    'Year-born': 2016\\n}\",\n",
       "  \"person['Year-born']\",\n",
       "  \"person['Year-born'] = 1943\",\n",
       "  'person',\n",
       "  \"person['Month_borm'] = 'March'\",\n",
       "  'person',\n",
       "  \"d = {3.14: 'pi', 2: 'even', 'prime': 7}\",\n",
       "  'd',\n",
       "  'd[3.14]',\n",
       "  'd[2]',\n",
       "  \"d['prime']\",\n",
       "  'l = [1, 2, 3]',\n",
       "  'd = {l:100}',\n",
       "  'hash(100)',\n",
       "  'hash(3.14)',\n",
       "  'hash(l)',\n",
       "  't = 1, 2, 3, 4',\n",
       "  'hash(t)',\n",
       "  't = ([1, 2], 3, 4)',\n",
       "  'hash(t)',\n",
       "  'd = {\\n    (0, 0): \"Origin\",\\n    (1, 0): \"Unit-X\",\\n    (0, 1): \"Unit-Y\"\\n}',\n",
       "  'd',\n",
       "  'd[(0, 0)]',\n",
       "  \"d = {'a': 1, 'b': 2, 'c': 3}\",\n",
       "  'id(d)',\n",
       "  \"del d['a']\",\n",
       "  'id(id)',\n",
       "  'd',\n",
       "  'globals()'],\n",
       " 'Out': {2: {'a': 1, 'b': 2, 'c': 3},\n",
       "  3: dict,\n",
       "  5: 2016,\n",
       "  7: {'First_name': 'Eric',\n",
       "   'Last_name': 'Idle',\n",
       "   'Year-born': 1943,\n",
       "   'Month_borm': 'March'},\n",
       "  9: {'First_name': 'Eric',\n",
       "   'Last_name': 'Idle',\n",
       "   'Year-born': 1943,\n",
       "   'Month_borm': 'March'},\n",
       "  11: {3.14: 'pi', 2: 'even', 'prime': 7},\n",
       "  12: 'pi',\n",
       "  13: 'even',\n",
       "  14: 7,\n",
       "  17: 100,\n",
       "  18: 322818021289917443,\n",
       "  21: 590899387183067792,\n",
       "  25: {(0, 0): 'Origin', (1, 0): 'Unit-X', (0, 1): 'Unit-Y'},\n",
       "  26: 'Origin',\n",
       "  28: 2082426036736,\n",
       "  30: 2082328240640,\n",
       "  31: {'b': 2, 'c': 3}},\n",
       " 'get_ipython': <bound method InteractiveShell.get_ipython of <ipykernel.zmqshell.ZMQInteractiveShell object at 0x000001E4D8A2F9B0>>,\n",
       " 'exit': <IPython.core.autocall.ZMQExitAutocall at 0x1e4d8b2e420>,\n",
       " 'quit': <IPython.core.autocall.ZMQExitAutocall at 0x1e4d8b2e420>,\n",
       " 'open': <function _io.open(file, mode='r', buffering=-1, encoding=None, errors=None, newline=None, closefd=True, opener=None)>,\n",
       " '_': {'b': 2, 'c': 3},\n",
       " '__': 2082328240640,\n",
       " '___': 2082426036736,\n",
       " '__vsc_ipynb_file__': 'c:\\\\Personal Folder\\\\Compass Academy Data_Engineering\\\\fundamentals\\\\dictionaries.ipynb',\n",
       " '_i': 'd',\n",
       " '_ii': 'id(id)',\n",
       " '_iii': \"del d['a']\",\n",
       " '_i1': \"d = {'a': 1, 'b': 2, 'c':3}\",\n",
       " 'd': {'b': 2, 'c': 3},\n",
       " '_i2': 'd',\n",
       " '_2': {'a': 1, 'b': 2, 'c': 3},\n",
       " '_i3': 'type(d)',\n",
       " '_3': dict,\n",
       " '_i4': \"person = {\\n    'First_name': 'Eric',\\n    'Last_name': 'Idle',\\n    'Year-born': 2016\\n}\",\n",
       " 'person': {'First_name': 'Eric',\n",
       "  'Last_name': 'Idle',\n",
       "  'Year-born': 1943,\n",
       "  'Month_borm': 'March'},\n",
       " '_i5': \"person['Year-born']\",\n",
       " '_5': 2016,\n",
       " '_i6': \"person['Year-born'] = 1943\",\n",
       " '_i7': 'person',\n",
       " '_7': {'First_name': 'Eric',\n",
       "  'Last_name': 'Idle',\n",
       "  'Year-born': 1943,\n",
       "  'Month_borm': 'March'},\n",
       " '_i8': \"person['Month_borm'] = 'March'\",\n",
       " '_i9': 'person',\n",
       " '_9': {'First_name': 'Eric',\n",
       "  'Last_name': 'Idle',\n",
       "  'Year-born': 1943,\n",
       "  'Month_borm': 'March'},\n",
       " '_i10': \"d = {3.14: 'pi', 2: 'even', 'prime': 7}\",\n",
       " '_i11': 'd',\n",
       " '_11': {3.14: 'pi', 2: 'even', 'prime': 7},\n",
       " '_i12': 'd[3.14]',\n",
       " '_12': 'pi',\n",
       " '_i13': 'd[2]',\n",
       " '_13': 'even',\n",
       " '_i14': \"d['prime']\",\n",
       " '_14': 7,\n",
       " '_i15': 'l = [1, 2, 3]',\n",
       " 'l': [1, 2, 3],\n",
       " '_i16': 'd = {l:100}',\n",
       " '_i17': 'hash(100)',\n",
       " '_17': 100,\n",
       " '_i18': 'hash(3.14)',\n",
       " '_18': 322818021289917443,\n",
       " '_i19': 'hash(l)',\n",
       " '_i20': 't = 1, 2, 3, 4',\n",
       " 't': ([1, 2], 3, 4),\n",
       " '_i21': 'hash(t)',\n",
       " '_21': 590899387183067792,\n",
       " '_i22': 't = ([1, 2], 3, 4)',\n",
       " '_i23': 'hash(t)',\n",
       " '_i24': 'd = {\\n    (0, 0): \"Origin\",\\n    (1, 0): \"Unit-X\",\\n    (0, 1): \"Unit-Y\"\\n}',\n",
       " '_i25': 'd',\n",
       " '_25': {(0, 0): 'Origin', (1, 0): 'Unit-X', (0, 1): 'Unit-Y'},\n",
       " '_i26': 'd[(0, 0)]',\n",
       " '_26': 'Origin',\n",
       " '_i27': \"d = {'a': 1, 'b': 2, 'c': 3}\",\n",
       " '_i28': 'id(d)',\n",
       " '_28': 2082426036736,\n",
       " '_i29': \"del d['a']\",\n",
       " '_i30': 'id(id)',\n",
       " '_30': 2082328240640,\n",
       " '_i31': 'd',\n",
       " '_31': {'b': 2, 'c': 3},\n",
       " '_i32': 'globals()'}"
      ]
     },
     "execution_count": 32,
     "metadata": {},
     "output_type": "execute_result"
    }
   ],
   "source": [
    "globals()"
   ]
  },
  {
   "cell_type": "code",
   "execution_count": 35,
   "metadata": {},
   "outputs": [],
   "source": [
    "new_dict = dict(globals())"
   ]
  },
  {
   "cell_type": "code",
   "execution_count": 36,
   "metadata": {},
   "outputs": [
    {
     "data": {
      "text/plain": [
       "{'__name__': '__main__',\n",
       " '__doc__': 'Automatically created module for IPython interactive environment',\n",
       " '__package__': None,\n",
       " '__loader__': None,\n",
       " '__spec__': None,\n",
       " '__builtin__': <module 'builtins' (built-in)>,\n",
       " '__builtins__': <module 'builtins' (built-in)>,\n",
       " '_ih': ['',\n",
       "  \"d = {'a': 1, 'b': 2, 'c':3}\",\n",
       "  'd',\n",
       "  'type(d)',\n",
       "  \"person = {\\n    'First_name': 'Eric',\\n    'Last_name': 'Idle',\\n    'Year-born': 2016\\n}\",\n",
       "  \"person['Year-born']\",\n",
       "  \"person['Year-born'] = 1943\",\n",
       "  'person',\n",
       "  \"person['Month_borm'] = 'March'\",\n",
       "  'person',\n",
       "  \"d = {3.14: 'pi', 2: 'even', 'prime': 7}\",\n",
       "  'd',\n",
       "  'd[3.14]',\n",
       "  'd[2]',\n",
       "  \"d['prime']\",\n",
       "  'l = [1, 2, 3]',\n",
       "  'd = {l:100}',\n",
       "  'hash(100)',\n",
       "  'hash(3.14)',\n",
       "  'hash(l)',\n",
       "  't = 1, 2, 3, 4',\n",
       "  'hash(t)',\n",
       "  't = ([1, 2], 3, 4)',\n",
       "  'hash(t)',\n",
       "  'd = {\\n    (0, 0): \"Origin\",\\n    (1, 0): \"Unit-X\",\\n    (0, 1): \"Unit-Y\"\\n}',\n",
       "  'd',\n",
       "  'd[(0, 0)]',\n",
       "  \"d = {'a': 1, 'b': 2, 'c': 3}\",\n",
       "  'id(d)',\n",
       "  \"del d['a']\",\n",
       "  'id(id)',\n",
       "  'd',\n",
       "  'globals()',\n",
       "  'new_dict = globals()',\n",
       "  'new_dict',\n",
       "  'new_dict = dict(globals())',\n",
       "  'new_dict'],\n",
       " '_oh': {2: {'a': 1, 'b': 2, 'c': 3},\n",
       "  3: dict,\n",
       "  5: 2016,\n",
       "  7: {'First_name': 'Eric',\n",
       "   'Last_name': 'Idle',\n",
       "   'Year-born': 1943,\n",
       "   'Month_borm': 'March'},\n",
       "  9: {'First_name': 'Eric',\n",
       "   'Last_name': 'Idle',\n",
       "   'Year-born': 1943,\n",
       "   'Month_borm': 'March'},\n",
       "  11: {3.14: 'pi', 2: 'even', 'prime': 7},\n",
       "  12: 'pi',\n",
       "  13: 'even',\n",
       "  14: 7,\n",
       "  17: 100,\n",
       "  18: 322818021289917443,\n",
       "  21: 590899387183067792,\n",
       "  25: {(0, 0): 'Origin', (1, 0): 'Unit-X', (0, 1): 'Unit-Y'},\n",
       "  26: 'Origin',\n",
       "  28: 2082426036736,\n",
       "  30: 2082328240640,\n",
       "  31: {'b': 2, 'c': 3},\n",
       "  32: {'__name__': '__main__',\n",
       "   '__doc__': 'Automatically created module for IPython interactive environment',\n",
       "   '__package__': None,\n",
       "   '__loader__': None,\n",
       "   '__spec__': None,\n",
       "   '__builtin__': <module 'builtins' (built-in)>,\n",
       "   '__builtins__': <module 'builtins' (built-in)>,\n",
       "   '_ih': ['',\n",
       "    \"d = {'a': 1, 'b': 2, 'c':3}\",\n",
       "    'd',\n",
       "    'type(d)',\n",
       "    \"person = {\\n    'First_name': 'Eric',\\n    'Last_name': 'Idle',\\n    'Year-born': 2016\\n}\",\n",
       "    \"person['Year-born']\",\n",
       "    \"person['Year-born'] = 1943\",\n",
       "    'person',\n",
       "    \"person['Month_borm'] = 'March'\",\n",
       "    'person',\n",
       "    \"d = {3.14: 'pi', 2: 'even', 'prime': 7}\",\n",
       "    'd',\n",
       "    'd[3.14]',\n",
       "    'd[2]',\n",
       "    \"d['prime']\",\n",
       "    'l = [1, 2, 3]',\n",
       "    'd = {l:100}',\n",
       "    'hash(100)',\n",
       "    'hash(3.14)',\n",
       "    'hash(l)',\n",
       "    't = 1, 2, 3, 4',\n",
       "    'hash(t)',\n",
       "    't = ([1, 2], 3, 4)',\n",
       "    'hash(t)',\n",
       "    'd = {\\n    (0, 0): \"Origin\",\\n    (1, 0): \"Unit-X\",\\n    (0, 1): \"Unit-Y\"\\n}',\n",
       "    'd',\n",
       "    'd[(0, 0)]',\n",
       "    \"d = {'a': 1, 'b': 2, 'c': 3}\",\n",
       "    'id(d)',\n",
       "    \"del d['a']\",\n",
       "    'id(id)',\n",
       "    'd',\n",
       "    'globals()',\n",
       "    'new_dict = globals()',\n",
       "    'new_dict',\n",
       "    'new_dict = dict(globals())',\n",
       "    'new_dict'],\n",
       "   '_oh': {...},\n",
       "   '_dh': [WindowsPath('c:/Personal Folder/Compass Academy Data_Engineering/fundamentals')],\n",
       "   'In': ['',\n",
       "    \"d = {'a': 1, 'b': 2, 'c':3}\",\n",
       "    'd',\n",
       "    'type(d)',\n",
       "    \"person = {\\n    'First_name': 'Eric',\\n    'Last_name': 'Idle',\\n    'Year-born': 2016\\n}\",\n",
       "    \"person['Year-born']\",\n",
       "    \"person['Year-born'] = 1943\",\n",
       "    'person',\n",
       "    \"person['Month_borm'] = 'March'\",\n",
       "    'person',\n",
       "    \"d = {3.14: 'pi', 2: 'even', 'prime': 7}\",\n",
       "    'd',\n",
       "    'd[3.14]',\n",
       "    'd[2]',\n",
       "    \"d['prime']\",\n",
       "    'l = [1, 2, 3]',\n",
       "    'd = {l:100}',\n",
       "    'hash(100)',\n",
       "    'hash(3.14)',\n",
       "    'hash(l)',\n",
       "    't = 1, 2, 3, 4',\n",
       "    'hash(t)',\n",
       "    't = ([1, 2], 3, 4)',\n",
       "    'hash(t)',\n",
       "    'd = {\\n    (0, 0): \"Origin\",\\n    (1, 0): \"Unit-X\",\\n    (0, 1): \"Unit-Y\"\\n}',\n",
       "    'd',\n",
       "    'd[(0, 0)]',\n",
       "    \"d = {'a': 1, 'b': 2, 'c': 3}\",\n",
       "    'id(d)',\n",
       "    \"del d['a']\",\n",
       "    'id(id)',\n",
       "    'd',\n",
       "    'globals()',\n",
       "    'new_dict = globals()',\n",
       "    'new_dict',\n",
       "    'new_dict = dict(globals())',\n",
       "    'new_dict'],\n",
       "   'Out': {...},\n",
       "   'get_ipython': <bound method InteractiveShell.get_ipython of <ipykernel.zmqshell.ZMQInteractiveShell object at 0x000001E4D8A2F9B0>>,\n",
       "   'exit': <IPython.core.autocall.ZMQExitAutocall at 0x1e4d8b2e420>,\n",
       "   'quit': <IPython.core.autocall.ZMQExitAutocall at 0x1e4d8b2e420>,\n",
       "   'open': <function _io.open(file, mode='r', buffering=-1, encoding=None, errors=None, newline=None, closefd=True, opener=None)>,\n",
       "   '_': {...},\n",
       "   '__': {...},\n",
       "   '___': {'b': 2, 'c': 3},\n",
       "   '__vsc_ipynb_file__': 'c:\\\\Personal Folder\\\\Compass Academy Data_Engineering\\\\fundamentals\\\\dictionaries.ipynb',\n",
       "   '_i': 'new_dict = dict(globals())',\n",
       "   '_ii': 'new_dict',\n",
       "   '_iii': 'new_dict = globals()',\n",
       "   '_i1': \"d = {'a': 1, 'b': 2, 'c':3}\",\n",
       "   'd': {'b': 2, 'c': 3},\n",
       "   '_i2': 'd',\n",
       "   '_2': {'a': 1, 'b': 2, 'c': 3},\n",
       "   '_i3': 'type(d)',\n",
       "   '_3': dict,\n",
       "   '_i4': \"person = {\\n    'First_name': 'Eric',\\n    'Last_name': 'Idle',\\n    'Year-born': 2016\\n}\",\n",
       "   'person': {'First_name': 'Eric',\n",
       "    'Last_name': 'Idle',\n",
       "    'Year-born': 1943,\n",
       "    'Month_borm': 'March'},\n",
       "   '_i5': \"person['Year-born']\",\n",
       "   '_5': 2016,\n",
       "   '_i6': \"person['Year-born'] = 1943\",\n",
       "   '_i7': 'person',\n",
       "   '_7': {'First_name': 'Eric',\n",
       "    'Last_name': 'Idle',\n",
       "    'Year-born': 1943,\n",
       "    'Month_borm': 'March'},\n",
       "   '_i8': \"person['Month_borm'] = 'March'\",\n",
       "   '_i9': 'person',\n",
       "   '_9': {'First_name': 'Eric',\n",
       "    'Last_name': 'Idle',\n",
       "    'Year-born': 1943,\n",
       "    'Month_borm': 'March'},\n",
       "   '_i10': \"d = {3.14: 'pi', 2: 'even', 'prime': 7}\",\n",
       "   '_i11': 'd',\n",
       "   '_11': {3.14: 'pi', 2: 'even', 'prime': 7},\n",
       "   '_i12': 'd[3.14]',\n",
       "   '_12': 'pi',\n",
       "   '_i13': 'd[2]',\n",
       "   '_13': 'even',\n",
       "   '_i14': \"d['prime']\",\n",
       "   '_14': 7,\n",
       "   '_i15': 'l = [1, 2, 3]',\n",
       "   'l': [1, 2, 3],\n",
       "   '_i16': 'd = {l:100}',\n",
       "   '_i17': 'hash(100)',\n",
       "   '_17': 100,\n",
       "   '_i18': 'hash(3.14)',\n",
       "   '_18': 322818021289917443,\n",
       "   '_i19': 'hash(l)',\n",
       "   '_i20': 't = 1, 2, 3, 4',\n",
       "   't': ([1, 2], 3, 4),\n",
       "   '_i21': 'hash(t)',\n",
       "   '_21': 590899387183067792,\n",
       "   '_i22': 't = ([1, 2], 3, 4)',\n",
       "   '_i23': 'hash(t)',\n",
       "   '_i24': 'd = {\\n    (0, 0): \"Origin\",\\n    (1, 0): \"Unit-X\",\\n    (0, 1): \"Unit-Y\"\\n}',\n",
       "   '_i25': 'd',\n",
       "   '_25': {(0, 0): 'Origin', (1, 0): 'Unit-X', (0, 1): 'Unit-Y'},\n",
       "   '_i26': 'd[(0, 0)]',\n",
       "   '_26': 'Origin',\n",
       "   '_i27': \"d = {'a': 1, 'b': 2, 'c': 3}\",\n",
       "   '_i28': 'id(d)',\n",
       "   '_28': 2082426036736,\n",
       "   '_i29': \"del d['a']\",\n",
       "   '_i30': 'id(id)',\n",
       "   '_30': 2082328240640,\n",
       "   '_i31': 'd',\n",
       "   '_31': {'b': 2, 'c': 3},\n",
       "   '_i32': 'globals()',\n",
       "   '_32': {...},\n",
       "   '_i33': 'new_dict = globals()',\n",
       "   'new_dict': {...},\n",
       "   '_i34': 'new_dict',\n",
       "   '_34': {...},\n",
       "   '_i35': 'new_dict = dict(globals())',\n",
       "   '_i36': 'new_dict'},\n",
       "  34: {'__name__': '__main__',\n",
       "   '__doc__': 'Automatically created module for IPython interactive environment',\n",
       "   '__package__': None,\n",
       "   '__loader__': None,\n",
       "   '__spec__': None,\n",
       "   '__builtin__': <module 'builtins' (built-in)>,\n",
       "   '__builtins__': <module 'builtins' (built-in)>,\n",
       "   '_ih': ['',\n",
       "    \"d = {'a': 1, 'b': 2, 'c':3}\",\n",
       "    'd',\n",
       "    'type(d)',\n",
       "    \"person = {\\n    'First_name': 'Eric',\\n    'Last_name': 'Idle',\\n    'Year-born': 2016\\n}\",\n",
       "    \"person['Year-born']\",\n",
       "    \"person['Year-born'] = 1943\",\n",
       "    'person',\n",
       "    \"person['Month_borm'] = 'March'\",\n",
       "    'person',\n",
       "    \"d = {3.14: 'pi', 2: 'even', 'prime': 7}\",\n",
       "    'd',\n",
       "    'd[3.14]',\n",
       "    'd[2]',\n",
       "    \"d['prime']\",\n",
       "    'l = [1, 2, 3]',\n",
       "    'd = {l:100}',\n",
       "    'hash(100)',\n",
       "    'hash(3.14)',\n",
       "    'hash(l)',\n",
       "    't = 1, 2, 3, 4',\n",
       "    'hash(t)',\n",
       "    't = ([1, 2], 3, 4)',\n",
       "    'hash(t)',\n",
       "    'd = {\\n    (0, 0): \"Origin\",\\n    (1, 0): \"Unit-X\",\\n    (0, 1): \"Unit-Y\"\\n}',\n",
       "    'd',\n",
       "    'd[(0, 0)]',\n",
       "    \"d = {'a': 1, 'b': 2, 'c': 3}\",\n",
       "    'id(d)',\n",
       "    \"del d['a']\",\n",
       "    'id(id)',\n",
       "    'd',\n",
       "    'globals()',\n",
       "    'new_dict = globals()',\n",
       "    'new_dict',\n",
       "    'new_dict = dict(globals())',\n",
       "    'new_dict'],\n",
       "   '_oh': {...},\n",
       "   '_dh': [WindowsPath('c:/Personal Folder/Compass Academy Data_Engineering/fundamentals')],\n",
       "   'In': ['',\n",
       "    \"d = {'a': 1, 'b': 2, 'c':3}\",\n",
       "    'd',\n",
       "    'type(d)',\n",
       "    \"person = {\\n    'First_name': 'Eric',\\n    'Last_name': 'Idle',\\n    'Year-born': 2016\\n}\",\n",
       "    \"person['Year-born']\",\n",
       "    \"person['Year-born'] = 1943\",\n",
       "    'person',\n",
       "    \"person['Month_borm'] = 'March'\",\n",
       "    'person',\n",
       "    \"d = {3.14: 'pi', 2: 'even', 'prime': 7}\",\n",
       "    'd',\n",
       "    'd[3.14]',\n",
       "    'd[2]',\n",
       "    \"d['prime']\",\n",
       "    'l = [1, 2, 3]',\n",
       "    'd = {l:100}',\n",
       "    'hash(100)',\n",
       "    'hash(3.14)',\n",
       "    'hash(l)',\n",
       "    't = 1, 2, 3, 4',\n",
       "    'hash(t)',\n",
       "    't = ([1, 2], 3, 4)',\n",
       "    'hash(t)',\n",
       "    'd = {\\n    (0, 0): \"Origin\",\\n    (1, 0): \"Unit-X\",\\n    (0, 1): \"Unit-Y\"\\n}',\n",
       "    'd',\n",
       "    'd[(0, 0)]',\n",
       "    \"d = {'a': 1, 'b': 2, 'c': 3}\",\n",
       "    'id(d)',\n",
       "    \"del d['a']\",\n",
       "    'id(id)',\n",
       "    'd',\n",
       "    'globals()',\n",
       "    'new_dict = globals()',\n",
       "    'new_dict',\n",
       "    'new_dict = dict(globals())',\n",
       "    'new_dict'],\n",
       "   'Out': {...},\n",
       "   'get_ipython': <bound method InteractiveShell.get_ipython of <ipykernel.zmqshell.ZMQInteractiveShell object at 0x000001E4D8A2F9B0>>,\n",
       "   'exit': <IPython.core.autocall.ZMQExitAutocall at 0x1e4d8b2e420>,\n",
       "   'quit': <IPython.core.autocall.ZMQExitAutocall at 0x1e4d8b2e420>,\n",
       "   'open': <function _io.open(file, mode='r', buffering=-1, encoding=None, errors=None, newline=None, closefd=True, opener=None)>,\n",
       "   '_': {...},\n",
       "   '__': {...},\n",
       "   '___': {'b': 2, 'c': 3},\n",
       "   '__vsc_ipynb_file__': 'c:\\\\Personal Folder\\\\Compass Academy Data_Engineering\\\\fundamentals\\\\dictionaries.ipynb',\n",
       "   '_i': 'new_dict = dict(globals())',\n",
       "   '_ii': 'new_dict',\n",
       "   '_iii': 'new_dict = globals()',\n",
       "   '_i1': \"d = {'a': 1, 'b': 2, 'c':3}\",\n",
       "   'd': {'b': 2, 'c': 3},\n",
       "   '_i2': 'd',\n",
       "   '_2': {'a': 1, 'b': 2, 'c': 3},\n",
       "   '_i3': 'type(d)',\n",
       "   '_3': dict,\n",
       "   '_i4': \"person = {\\n    'First_name': 'Eric',\\n    'Last_name': 'Idle',\\n    'Year-born': 2016\\n}\",\n",
       "   'person': {'First_name': 'Eric',\n",
       "    'Last_name': 'Idle',\n",
       "    'Year-born': 1943,\n",
       "    'Month_borm': 'March'},\n",
       "   '_i5': \"person['Year-born']\",\n",
       "   '_5': 2016,\n",
       "   '_i6': \"person['Year-born'] = 1943\",\n",
       "   '_i7': 'person',\n",
       "   '_7': {'First_name': 'Eric',\n",
       "    'Last_name': 'Idle',\n",
       "    'Year-born': 1943,\n",
       "    'Month_borm': 'March'},\n",
       "   '_i8': \"person['Month_borm'] = 'March'\",\n",
       "   '_i9': 'person',\n",
       "   '_9': {'First_name': 'Eric',\n",
       "    'Last_name': 'Idle',\n",
       "    'Year-born': 1943,\n",
       "    'Month_borm': 'March'},\n",
       "   '_i10': \"d = {3.14: 'pi', 2: 'even', 'prime': 7}\",\n",
       "   '_i11': 'd',\n",
       "   '_11': {3.14: 'pi', 2: 'even', 'prime': 7},\n",
       "   '_i12': 'd[3.14]',\n",
       "   '_12': 'pi',\n",
       "   '_i13': 'd[2]',\n",
       "   '_13': 'even',\n",
       "   '_i14': \"d['prime']\",\n",
       "   '_14': 7,\n",
       "   '_i15': 'l = [1, 2, 3]',\n",
       "   'l': [1, 2, 3],\n",
       "   '_i16': 'd = {l:100}',\n",
       "   '_i17': 'hash(100)',\n",
       "   '_17': 100,\n",
       "   '_i18': 'hash(3.14)',\n",
       "   '_18': 322818021289917443,\n",
       "   '_i19': 'hash(l)',\n",
       "   '_i20': 't = 1, 2, 3, 4',\n",
       "   't': ([1, 2], 3, 4),\n",
       "   '_i21': 'hash(t)',\n",
       "   '_21': 590899387183067792,\n",
       "   '_i22': 't = ([1, 2], 3, 4)',\n",
       "   '_i23': 'hash(t)',\n",
       "   '_i24': 'd = {\\n    (0, 0): \"Origin\",\\n    (1, 0): \"Unit-X\",\\n    (0, 1): \"Unit-Y\"\\n}',\n",
       "   '_i25': 'd',\n",
       "   '_25': {(0, 0): 'Origin', (1, 0): 'Unit-X', (0, 1): 'Unit-Y'},\n",
       "   '_i26': 'd[(0, 0)]',\n",
       "   '_26': 'Origin',\n",
       "   '_i27': \"d = {'a': 1, 'b': 2, 'c': 3}\",\n",
       "   '_i28': 'id(d)',\n",
       "   '_28': 2082426036736,\n",
       "   '_i29': \"del d['a']\",\n",
       "   '_i30': 'id(id)',\n",
       "   '_30': 2082328240640,\n",
       "   '_i31': 'd',\n",
       "   '_31': {'b': 2, 'c': 3},\n",
       "   '_i32': 'globals()',\n",
       "   '_32': {...},\n",
       "   '_i33': 'new_dict = globals()',\n",
       "   'new_dict': {...},\n",
       "   '_i34': 'new_dict',\n",
       "   '_34': {...},\n",
       "   '_i35': 'new_dict = dict(globals())',\n",
       "   '_i36': 'new_dict'}},\n",
       " '_dh': [WindowsPath('c:/Personal Folder/Compass Academy Data_Engineering/fundamentals')],\n",
       " 'In': ['',\n",
       "  \"d = {'a': 1, 'b': 2, 'c':3}\",\n",
       "  'd',\n",
       "  'type(d)',\n",
       "  \"person = {\\n    'First_name': 'Eric',\\n    'Last_name': 'Idle',\\n    'Year-born': 2016\\n}\",\n",
       "  \"person['Year-born']\",\n",
       "  \"person['Year-born'] = 1943\",\n",
       "  'person',\n",
       "  \"person['Month_borm'] = 'March'\",\n",
       "  'person',\n",
       "  \"d = {3.14: 'pi', 2: 'even', 'prime': 7}\",\n",
       "  'd',\n",
       "  'd[3.14]',\n",
       "  'd[2]',\n",
       "  \"d['prime']\",\n",
       "  'l = [1, 2, 3]',\n",
       "  'd = {l:100}',\n",
       "  'hash(100)',\n",
       "  'hash(3.14)',\n",
       "  'hash(l)',\n",
       "  't = 1, 2, 3, 4',\n",
       "  'hash(t)',\n",
       "  't = ([1, 2], 3, 4)',\n",
       "  'hash(t)',\n",
       "  'd = {\\n    (0, 0): \"Origin\",\\n    (1, 0): \"Unit-X\",\\n    (0, 1): \"Unit-Y\"\\n}',\n",
       "  'd',\n",
       "  'd[(0, 0)]',\n",
       "  \"d = {'a': 1, 'b': 2, 'c': 3}\",\n",
       "  'id(d)',\n",
       "  \"del d['a']\",\n",
       "  'id(id)',\n",
       "  'd',\n",
       "  'globals()',\n",
       "  'new_dict = globals()',\n",
       "  'new_dict',\n",
       "  'new_dict = dict(globals())',\n",
       "  'new_dict'],\n",
       " 'Out': {2: {'a': 1, 'b': 2, 'c': 3},\n",
       "  3: dict,\n",
       "  5: 2016,\n",
       "  7: {'First_name': 'Eric',\n",
       "   'Last_name': 'Idle',\n",
       "   'Year-born': 1943,\n",
       "   'Month_borm': 'March'},\n",
       "  9: {'First_name': 'Eric',\n",
       "   'Last_name': 'Idle',\n",
       "   'Year-born': 1943,\n",
       "   'Month_borm': 'March'},\n",
       "  11: {3.14: 'pi', 2: 'even', 'prime': 7},\n",
       "  12: 'pi',\n",
       "  13: 'even',\n",
       "  14: 7,\n",
       "  17: 100,\n",
       "  18: 322818021289917443,\n",
       "  21: 590899387183067792,\n",
       "  25: {(0, 0): 'Origin', (1, 0): 'Unit-X', (0, 1): 'Unit-Y'},\n",
       "  26: 'Origin',\n",
       "  28: 2082426036736,\n",
       "  30: 2082328240640,\n",
       "  31: {'b': 2, 'c': 3},\n",
       "  32: {'__name__': '__main__',\n",
       "   '__doc__': 'Automatically created module for IPython interactive environment',\n",
       "   '__package__': None,\n",
       "   '__loader__': None,\n",
       "   '__spec__': None,\n",
       "   '__builtin__': <module 'builtins' (built-in)>,\n",
       "   '__builtins__': <module 'builtins' (built-in)>,\n",
       "   '_ih': ['',\n",
       "    \"d = {'a': 1, 'b': 2, 'c':3}\",\n",
       "    'd',\n",
       "    'type(d)',\n",
       "    \"person = {\\n    'First_name': 'Eric',\\n    'Last_name': 'Idle',\\n    'Year-born': 2016\\n}\",\n",
       "    \"person['Year-born']\",\n",
       "    \"person['Year-born'] = 1943\",\n",
       "    'person',\n",
       "    \"person['Month_borm'] = 'March'\",\n",
       "    'person',\n",
       "    \"d = {3.14: 'pi', 2: 'even', 'prime': 7}\",\n",
       "    'd',\n",
       "    'd[3.14]',\n",
       "    'd[2]',\n",
       "    \"d['prime']\",\n",
       "    'l = [1, 2, 3]',\n",
       "    'd = {l:100}',\n",
       "    'hash(100)',\n",
       "    'hash(3.14)',\n",
       "    'hash(l)',\n",
       "    't = 1, 2, 3, 4',\n",
       "    'hash(t)',\n",
       "    't = ([1, 2], 3, 4)',\n",
       "    'hash(t)',\n",
       "    'd = {\\n    (0, 0): \"Origin\",\\n    (1, 0): \"Unit-X\",\\n    (0, 1): \"Unit-Y\"\\n}',\n",
       "    'd',\n",
       "    'd[(0, 0)]',\n",
       "    \"d = {'a': 1, 'b': 2, 'c': 3}\",\n",
       "    'id(d)',\n",
       "    \"del d['a']\",\n",
       "    'id(id)',\n",
       "    'd',\n",
       "    'globals()',\n",
       "    'new_dict = globals()',\n",
       "    'new_dict',\n",
       "    'new_dict = dict(globals())',\n",
       "    'new_dict'],\n",
       "   '_oh': {...},\n",
       "   '_dh': [WindowsPath('c:/Personal Folder/Compass Academy Data_Engineering/fundamentals')],\n",
       "   'In': ['',\n",
       "    \"d = {'a': 1, 'b': 2, 'c':3}\",\n",
       "    'd',\n",
       "    'type(d)',\n",
       "    \"person = {\\n    'First_name': 'Eric',\\n    'Last_name': 'Idle',\\n    'Year-born': 2016\\n}\",\n",
       "    \"person['Year-born']\",\n",
       "    \"person['Year-born'] = 1943\",\n",
       "    'person',\n",
       "    \"person['Month_borm'] = 'March'\",\n",
       "    'person',\n",
       "    \"d = {3.14: 'pi', 2: 'even', 'prime': 7}\",\n",
       "    'd',\n",
       "    'd[3.14]',\n",
       "    'd[2]',\n",
       "    \"d['prime']\",\n",
       "    'l = [1, 2, 3]',\n",
       "    'd = {l:100}',\n",
       "    'hash(100)',\n",
       "    'hash(3.14)',\n",
       "    'hash(l)',\n",
       "    't = 1, 2, 3, 4',\n",
       "    'hash(t)',\n",
       "    't = ([1, 2], 3, 4)',\n",
       "    'hash(t)',\n",
       "    'd = {\\n    (0, 0): \"Origin\",\\n    (1, 0): \"Unit-X\",\\n    (0, 1): \"Unit-Y\"\\n}',\n",
       "    'd',\n",
       "    'd[(0, 0)]',\n",
       "    \"d = {'a': 1, 'b': 2, 'c': 3}\",\n",
       "    'id(d)',\n",
       "    \"del d['a']\",\n",
       "    'id(id)',\n",
       "    'd',\n",
       "    'globals()',\n",
       "    'new_dict = globals()',\n",
       "    'new_dict',\n",
       "    'new_dict = dict(globals())',\n",
       "    'new_dict'],\n",
       "   'Out': {...},\n",
       "   'get_ipython': <bound method InteractiveShell.get_ipython of <ipykernel.zmqshell.ZMQInteractiveShell object at 0x000001E4D8A2F9B0>>,\n",
       "   'exit': <IPython.core.autocall.ZMQExitAutocall at 0x1e4d8b2e420>,\n",
       "   'quit': <IPython.core.autocall.ZMQExitAutocall at 0x1e4d8b2e420>,\n",
       "   'open': <function _io.open(file, mode='r', buffering=-1, encoding=None, errors=None, newline=None, closefd=True, opener=None)>,\n",
       "   '_': {...},\n",
       "   '__': {...},\n",
       "   '___': {'b': 2, 'c': 3},\n",
       "   '__vsc_ipynb_file__': 'c:\\\\Personal Folder\\\\Compass Academy Data_Engineering\\\\fundamentals\\\\dictionaries.ipynb',\n",
       "   '_i': 'new_dict = dict(globals())',\n",
       "   '_ii': 'new_dict',\n",
       "   '_iii': 'new_dict = globals()',\n",
       "   '_i1': \"d = {'a': 1, 'b': 2, 'c':3}\",\n",
       "   'd': {'b': 2, 'c': 3},\n",
       "   '_i2': 'd',\n",
       "   '_2': {'a': 1, 'b': 2, 'c': 3},\n",
       "   '_i3': 'type(d)',\n",
       "   '_3': dict,\n",
       "   '_i4': \"person = {\\n    'First_name': 'Eric',\\n    'Last_name': 'Idle',\\n    'Year-born': 2016\\n}\",\n",
       "   'person': {'First_name': 'Eric',\n",
       "    'Last_name': 'Idle',\n",
       "    'Year-born': 1943,\n",
       "    'Month_borm': 'March'},\n",
       "   '_i5': \"person['Year-born']\",\n",
       "   '_5': 2016,\n",
       "   '_i6': \"person['Year-born'] = 1943\",\n",
       "   '_i7': 'person',\n",
       "   '_7': {'First_name': 'Eric',\n",
       "    'Last_name': 'Idle',\n",
       "    'Year-born': 1943,\n",
       "    'Month_borm': 'March'},\n",
       "   '_i8': \"person['Month_borm'] = 'March'\",\n",
       "   '_i9': 'person',\n",
       "   '_9': {'First_name': 'Eric',\n",
       "    'Last_name': 'Idle',\n",
       "    'Year-born': 1943,\n",
       "    'Month_borm': 'March'},\n",
       "   '_i10': \"d = {3.14: 'pi', 2: 'even', 'prime': 7}\",\n",
       "   '_i11': 'd',\n",
       "   '_11': {3.14: 'pi', 2: 'even', 'prime': 7},\n",
       "   '_i12': 'd[3.14]',\n",
       "   '_12': 'pi',\n",
       "   '_i13': 'd[2]',\n",
       "   '_13': 'even',\n",
       "   '_i14': \"d['prime']\",\n",
       "   '_14': 7,\n",
       "   '_i15': 'l = [1, 2, 3]',\n",
       "   'l': [1, 2, 3],\n",
       "   '_i16': 'd = {l:100}',\n",
       "   '_i17': 'hash(100)',\n",
       "   '_17': 100,\n",
       "   '_i18': 'hash(3.14)',\n",
       "   '_18': 322818021289917443,\n",
       "   '_i19': 'hash(l)',\n",
       "   '_i20': 't = 1, 2, 3, 4',\n",
       "   't': ([1, 2], 3, 4),\n",
       "   '_i21': 'hash(t)',\n",
       "   '_21': 590899387183067792,\n",
       "   '_i22': 't = ([1, 2], 3, 4)',\n",
       "   '_i23': 'hash(t)',\n",
       "   '_i24': 'd = {\\n    (0, 0): \"Origin\",\\n    (1, 0): \"Unit-X\",\\n    (0, 1): \"Unit-Y\"\\n}',\n",
       "   '_i25': 'd',\n",
       "   '_25': {(0, 0): 'Origin', (1, 0): 'Unit-X', (0, 1): 'Unit-Y'},\n",
       "   '_i26': 'd[(0, 0)]',\n",
       "   '_26': 'Origin',\n",
       "   '_i27': \"d = {'a': 1, 'b': 2, 'c': 3}\",\n",
       "   '_i28': 'id(d)',\n",
       "   '_28': 2082426036736,\n",
       "   '_i29': \"del d['a']\",\n",
       "   '_i30': 'id(id)',\n",
       "   '_30': 2082328240640,\n",
       "   '_i31': 'd',\n",
       "   '_31': {'b': 2, 'c': 3},\n",
       "   '_i32': 'globals()',\n",
       "   '_32': {...},\n",
       "   '_i33': 'new_dict = globals()',\n",
       "   'new_dict': {...},\n",
       "   '_i34': 'new_dict',\n",
       "   '_34': {...},\n",
       "   '_i35': 'new_dict = dict(globals())',\n",
       "   '_i36': 'new_dict'},\n",
       "  34: {'__name__': '__main__',\n",
       "   '__doc__': 'Automatically created module for IPython interactive environment',\n",
       "   '__package__': None,\n",
       "   '__loader__': None,\n",
       "   '__spec__': None,\n",
       "   '__builtin__': <module 'builtins' (built-in)>,\n",
       "   '__builtins__': <module 'builtins' (built-in)>,\n",
       "   '_ih': ['',\n",
       "    \"d = {'a': 1, 'b': 2, 'c':3}\",\n",
       "    'd',\n",
       "    'type(d)',\n",
       "    \"person = {\\n    'First_name': 'Eric',\\n    'Last_name': 'Idle',\\n    'Year-born': 2016\\n}\",\n",
       "    \"person['Year-born']\",\n",
       "    \"person['Year-born'] = 1943\",\n",
       "    'person',\n",
       "    \"person['Month_borm'] = 'March'\",\n",
       "    'person',\n",
       "    \"d = {3.14: 'pi', 2: 'even', 'prime': 7}\",\n",
       "    'd',\n",
       "    'd[3.14]',\n",
       "    'd[2]',\n",
       "    \"d['prime']\",\n",
       "    'l = [1, 2, 3]',\n",
       "    'd = {l:100}',\n",
       "    'hash(100)',\n",
       "    'hash(3.14)',\n",
       "    'hash(l)',\n",
       "    't = 1, 2, 3, 4',\n",
       "    'hash(t)',\n",
       "    't = ([1, 2], 3, 4)',\n",
       "    'hash(t)',\n",
       "    'd = {\\n    (0, 0): \"Origin\",\\n    (1, 0): \"Unit-X\",\\n    (0, 1): \"Unit-Y\"\\n}',\n",
       "    'd',\n",
       "    'd[(0, 0)]',\n",
       "    \"d = {'a': 1, 'b': 2, 'c': 3}\",\n",
       "    'id(d)',\n",
       "    \"del d['a']\",\n",
       "    'id(id)',\n",
       "    'd',\n",
       "    'globals()',\n",
       "    'new_dict = globals()',\n",
       "    'new_dict',\n",
       "    'new_dict = dict(globals())',\n",
       "    'new_dict'],\n",
       "   '_oh': {...},\n",
       "   '_dh': [WindowsPath('c:/Personal Folder/Compass Academy Data_Engineering/fundamentals')],\n",
       "   'In': ['',\n",
       "    \"d = {'a': 1, 'b': 2, 'c':3}\",\n",
       "    'd',\n",
       "    'type(d)',\n",
       "    \"person = {\\n    'First_name': 'Eric',\\n    'Last_name': 'Idle',\\n    'Year-born': 2016\\n}\",\n",
       "    \"person['Year-born']\",\n",
       "    \"person['Year-born'] = 1943\",\n",
       "    'person',\n",
       "    \"person['Month_borm'] = 'March'\",\n",
       "    'person',\n",
       "    \"d = {3.14: 'pi', 2: 'even', 'prime': 7}\",\n",
       "    'd',\n",
       "    'd[3.14]',\n",
       "    'd[2]',\n",
       "    \"d['prime']\",\n",
       "    'l = [1, 2, 3]',\n",
       "    'd = {l:100}',\n",
       "    'hash(100)',\n",
       "    'hash(3.14)',\n",
       "    'hash(l)',\n",
       "    't = 1, 2, 3, 4',\n",
       "    'hash(t)',\n",
       "    't = ([1, 2], 3, 4)',\n",
       "    'hash(t)',\n",
       "    'd = {\\n    (0, 0): \"Origin\",\\n    (1, 0): \"Unit-X\",\\n    (0, 1): \"Unit-Y\"\\n}',\n",
       "    'd',\n",
       "    'd[(0, 0)]',\n",
       "    \"d = {'a': 1, 'b': 2, 'c': 3}\",\n",
       "    'id(d)',\n",
       "    \"del d['a']\",\n",
       "    'id(id)',\n",
       "    'd',\n",
       "    'globals()',\n",
       "    'new_dict = globals()',\n",
       "    'new_dict',\n",
       "    'new_dict = dict(globals())',\n",
       "    'new_dict'],\n",
       "   'Out': {...},\n",
       "   'get_ipython': <bound method InteractiveShell.get_ipython of <ipykernel.zmqshell.ZMQInteractiveShell object at 0x000001E4D8A2F9B0>>,\n",
       "   'exit': <IPython.core.autocall.ZMQExitAutocall at 0x1e4d8b2e420>,\n",
       "   'quit': <IPython.core.autocall.ZMQExitAutocall at 0x1e4d8b2e420>,\n",
       "   'open': <function _io.open(file, mode='r', buffering=-1, encoding=None, errors=None, newline=None, closefd=True, opener=None)>,\n",
       "   '_': {...},\n",
       "   '__': {...},\n",
       "   '___': {'b': 2, 'c': 3},\n",
       "   '__vsc_ipynb_file__': 'c:\\\\Personal Folder\\\\Compass Academy Data_Engineering\\\\fundamentals\\\\dictionaries.ipynb',\n",
       "   '_i': 'new_dict = dict(globals())',\n",
       "   '_ii': 'new_dict',\n",
       "   '_iii': 'new_dict = globals()',\n",
       "   '_i1': \"d = {'a': 1, 'b': 2, 'c':3}\",\n",
       "   'd': {'b': 2, 'c': 3},\n",
       "   '_i2': 'd',\n",
       "   '_2': {'a': 1, 'b': 2, 'c': 3},\n",
       "   '_i3': 'type(d)',\n",
       "   '_3': dict,\n",
       "   '_i4': \"person = {\\n    'First_name': 'Eric',\\n    'Last_name': 'Idle',\\n    'Year-born': 2016\\n}\",\n",
       "   'person': {'First_name': 'Eric',\n",
       "    'Last_name': 'Idle',\n",
       "    'Year-born': 1943,\n",
       "    'Month_borm': 'March'},\n",
       "   '_i5': \"person['Year-born']\",\n",
       "   '_5': 2016,\n",
       "   '_i6': \"person['Year-born'] = 1943\",\n",
       "   '_i7': 'person',\n",
       "   '_7': {'First_name': 'Eric',\n",
       "    'Last_name': 'Idle',\n",
       "    'Year-born': 1943,\n",
       "    'Month_borm': 'March'},\n",
       "   '_i8': \"person['Month_borm'] = 'March'\",\n",
       "   '_i9': 'person',\n",
       "   '_9': {'First_name': 'Eric',\n",
       "    'Last_name': 'Idle',\n",
       "    'Year-born': 1943,\n",
       "    'Month_borm': 'March'},\n",
       "   '_i10': \"d = {3.14: 'pi', 2: 'even', 'prime': 7}\",\n",
       "   '_i11': 'd',\n",
       "   '_11': {3.14: 'pi', 2: 'even', 'prime': 7},\n",
       "   '_i12': 'd[3.14]',\n",
       "   '_12': 'pi',\n",
       "   '_i13': 'd[2]',\n",
       "   '_13': 'even',\n",
       "   '_i14': \"d['prime']\",\n",
       "   '_14': 7,\n",
       "   '_i15': 'l = [1, 2, 3]',\n",
       "   'l': [1, 2, 3],\n",
       "   '_i16': 'd = {l:100}',\n",
       "   '_i17': 'hash(100)',\n",
       "   '_17': 100,\n",
       "   '_i18': 'hash(3.14)',\n",
       "   '_18': 322818021289917443,\n",
       "   '_i19': 'hash(l)',\n",
       "   '_i20': 't = 1, 2, 3, 4',\n",
       "   't': ([1, 2], 3, 4),\n",
       "   '_i21': 'hash(t)',\n",
       "   '_21': 590899387183067792,\n",
       "   '_i22': 't = ([1, 2], 3, 4)',\n",
       "   '_i23': 'hash(t)',\n",
       "   '_i24': 'd = {\\n    (0, 0): \"Origin\",\\n    (1, 0): \"Unit-X\",\\n    (0, 1): \"Unit-Y\"\\n}',\n",
       "   '_i25': 'd',\n",
       "   '_25': {(0, 0): 'Origin', (1, 0): 'Unit-X', (0, 1): 'Unit-Y'},\n",
       "   '_i26': 'd[(0, 0)]',\n",
       "   '_26': 'Origin',\n",
       "   '_i27': \"d = {'a': 1, 'b': 2, 'c': 3}\",\n",
       "   '_i28': 'id(d)',\n",
       "   '_28': 2082426036736,\n",
       "   '_i29': \"del d['a']\",\n",
       "   '_i30': 'id(id)',\n",
       "   '_30': 2082328240640,\n",
       "   '_i31': 'd',\n",
       "   '_31': {'b': 2, 'c': 3},\n",
       "   '_i32': 'globals()',\n",
       "   '_32': {...},\n",
       "   '_i33': 'new_dict = globals()',\n",
       "   'new_dict': {...},\n",
       "   '_i34': 'new_dict',\n",
       "   '_34': {...},\n",
       "   '_i35': 'new_dict = dict(globals())',\n",
       "   '_i36': 'new_dict'}},\n",
       " 'get_ipython': <bound method InteractiveShell.get_ipython of <ipykernel.zmqshell.ZMQInteractiveShell object at 0x000001E4D8A2F9B0>>,\n",
       " 'exit': <IPython.core.autocall.ZMQExitAutocall at 0x1e4d8b2e420>,\n",
       " 'quit': <IPython.core.autocall.ZMQExitAutocall at 0x1e4d8b2e420>,\n",
       " 'open': <function _io.open(file, mode='r', buffering=-1, encoding=None, errors=None, newline=None, closefd=True, opener=None)>,\n",
       " '_': {'__name__': '__main__',\n",
       "  '__doc__': 'Automatically created module for IPython interactive environment',\n",
       "  '__package__': None,\n",
       "  '__loader__': None,\n",
       "  '__spec__': None,\n",
       "  '__builtin__': <module 'builtins' (built-in)>,\n",
       "  '__builtins__': <module 'builtins' (built-in)>,\n",
       "  '_ih': ['',\n",
       "   \"d = {'a': 1, 'b': 2, 'c':3}\",\n",
       "   'd',\n",
       "   'type(d)',\n",
       "   \"person = {\\n    'First_name': 'Eric',\\n    'Last_name': 'Idle',\\n    'Year-born': 2016\\n}\",\n",
       "   \"person['Year-born']\",\n",
       "   \"person['Year-born'] = 1943\",\n",
       "   'person',\n",
       "   \"person['Month_borm'] = 'March'\",\n",
       "   'person',\n",
       "   \"d = {3.14: 'pi', 2: 'even', 'prime': 7}\",\n",
       "   'd',\n",
       "   'd[3.14]',\n",
       "   'd[2]',\n",
       "   \"d['prime']\",\n",
       "   'l = [1, 2, 3]',\n",
       "   'd = {l:100}',\n",
       "   'hash(100)',\n",
       "   'hash(3.14)',\n",
       "   'hash(l)',\n",
       "   't = 1, 2, 3, 4',\n",
       "   'hash(t)',\n",
       "   't = ([1, 2], 3, 4)',\n",
       "   'hash(t)',\n",
       "   'd = {\\n    (0, 0): \"Origin\",\\n    (1, 0): \"Unit-X\",\\n    (0, 1): \"Unit-Y\"\\n}',\n",
       "   'd',\n",
       "   'd[(0, 0)]',\n",
       "   \"d = {'a': 1, 'b': 2, 'c': 3}\",\n",
       "   'id(d)',\n",
       "   \"del d['a']\",\n",
       "   'id(id)',\n",
       "   'd',\n",
       "   'globals()',\n",
       "   'new_dict = globals()',\n",
       "   'new_dict',\n",
       "   'new_dict = dict(globals())',\n",
       "   'new_dict'],\n",
       "  '_oh': {2: {'a': 1, 'b': 2, 'c': 3},\n",
       "   3: dict,\n",
       "   5: 2016,\n",
       "   7: {'First_name': 'Eric',\n",
       "    'Last_name': 'Idle',\n",
       "    'Year-born': 1943,\n",
       "    'Month_borm': 'March'},\n",
       "   9: {'First_name': 'Eric',\n",
       "    'Last_name': 'Idle',\n",
       "    'Year-born': 1943,\n",
       "    'Month_borm': 'March'},\n",
       "   11: {3.14: 'pi', 2: 'even', 'prime': 7},\n",
       "   12: 'pi',\n",
       "   13: 'even',\n",
       "   14: 7,\n",
       "   17: 100,\n",
       "   18: 322818021289917443,\n",
       "   21: 590899387183067792,\n",
       "   25: {(0, 0): 'Origin', (1, 0): 'Unit-X', (0, 1): 'Unit-Y'},\n",
       "   26: 'Origin',\n",
       "   28: 2082426036736,\n",
       "   30: 2082328240640,\n",
       "   31: {'b': 2, 'c': 3},\n",
       "   32: {...},\n",
       "   34: {...}},\n",
       "  '_dh': [WindowsPath('c:/Personal Folder/Compass Academy Data_Engineering/fundamentals')],\n",
       "  'In': ['',\n",
       "   \"d = {'a': 1, 'b': 2, 'c':3}\",\n",
       "   'd',\n",
       "   'type(d)',\n",
       "   \"person = {\\n    'First_name': 'Eric',\\n    'Last_name': 'Idle',\\n    'Year-born': 2016\\n}\",\n",
       "   \"person['Year-born']\",\n",
       "   \"person['Year-born'] = 1943\",\n",
       "   'person',\n",
       "   \"person['Month_borm'] = 'March'\",\n",
       "   'person',\n",
       "   \"d = {3.14: 'pi', 2: 'even', 'prime': 7}\",\n",
       "   'd',\n",
       "   'd[3.14]',\n",
       "   'd[2]',\n",
       "   \"d['prime']\",\n",
       "   'l = [1, 2, 3]',\n",
       "   'd = {l:100}',\n",
       "   'hash(100)',\n",
       "   'hash(3.14)',\n",
       "   'hash(l)',\n",
       "   't = 1, 2, 3, 4',\n",
       "   'hash(t)',\n",
       "   't = ([1, 2], 3, 4)',\n",
       "   'hash(t)',\n",
       "   'd = {\\n    (0, 0): \"Origin\",\\n    (1, 0): \"Unit-X\",\\n    (0, 1): \"Unit-Y\"\\n}',\n",
       "   'd',\n",
       "   'd[(0, 0)]',\n",
       "   \"d = {'a': 1, 'b': 2, 'c': 3}\",\n",
       "   'id(d)',\n",
       "   \"del d['a']\",\n",
       "   'id(id)',\n",
       "   'd',\n",
       "   'globals()',\n",
       "   'new_dict = globals()',\n",
       "   'new_dict',\n",
       "   'new_dict = dict(globals())',\n",
       "   'new_dict'],\n",
       "  'Out': {2: {'a': 1, 'b': 2, 'c': 3},\n",
       "   3: dict,\n",
       "   5: 2016,\n",
       "   7: {'First_name': 'Eric',\n",
       "    'Last_name': 'Idle',\n",
       "    'Year-born': 1943,\n",
       "    'Month_borm': 'March'},\n",
       "   9: {'First_name': 'Eric',\n",
       "    'Last_name': 'Idle',\n",
       "    'Year-born': 1943,\n",
       "    'Month_borm': 'March'},\n",
       "   11: {3.14: 'pi', 2: 'even', 'prime': 7},\n",
       "   12: 'pi',\n",
       "   13: 'even',\n",
       "   14: 7,\n",
       "   17: 100,\n",
       "   18: 322818021289917443,\n",
       "   21: 590899387183067792,\n",
       "   25: {(0, 0): 'Origin', (1, 0): 'Unit-X', (0, 1): 'Unit-Y'},\n",
       "   26: 'Origin',\n",
       "   28: 2082426036736,\n",
       "   30: 2082328240640,\n",
       "   31: {'b': 2, 'c': 3},\n",
       "   32: {...},\n",
       "   34: {...}},\n",
       "  'get_ipython': <bound method InteractiveShell.get_ipython of <ipykernel.zmqshell.ZMQInteractiveShell object at 0x000001E4D8A2F9B0>>,\n",
       "  'exit': <IPython.core.autocall.ZMQExitAutocall at 0x1e4d8b2e420>,\n",
       "  'quit': <IPython.core.autocall.ZMQExitAutocall at 0x1e4d8b2e420>,\n",
       "  'open': <function _io.open(file, mode='r', buffering=-1, encoding=None, errors=None, newline=None, closefd=True, opener=None)>,\n",
       "  '_': {...},\n",
       "  '__': {...},\n",
       "  '___': {'b': 2, 'c': 3},\n",
       "  '__vsc_ipynb_file__': 'c:\\\\Personal Folder\\\\Compass Academy Data_Engineering\\\\fundamentals\\\\dictionaries.ipynb',\n",
       "  '_i': 'new_dict = dict(globals())',\n",
       "  '_ii': 'new_dict',\n",
       "  '_iii': 'new_dict = globals()',\n",
       "  '_i1': \"d = {'a': 1, 'b': 2, 'c':3}\",\n",
       "  'd': {'b': 2, 'c': 3},\n",
       "  '_i2': 'd',\n",
       "  '_2': {'a': 1, 'b': 2, 'c': 3},\n",
       "  '_i3': 'type(d)',\n",
       "  '_3': dict,\n",
       "  '_i4': \"person = {\\n    'First_name': 'Eric',\\n    'Last_name': 'Idle',\\n    'Year-born': 2016\\n}\",\n",
       "  'person': {'First_name': 'Eric',\n",
       "   'Last_name': 'Idle',\n",
       "   'Year-born': 1943,\n",
       "   'Month_borm': 'March'},\n",
       "  '_i5': \"person['Year-born']\",\n",
       "  '_5': 2016,\n",
       "  '_i6': \"person['Year-born'] = 1943\",\n",
       "  '_i7': 'person',\n",
       "  '_7': {'First_name': 'Eric',\n",
       "   'Last_name': 'Idle',\n",
       "   'Year-born': 1943,\n",
       "   'Month_borm': 'March'},\n",
       "  '_i8': \"person['Month_borm'] = 'March'\",\n",
       "  '_i9': 'person',\n",
       "  '_9': {'First_name': 'Eric',\n",
       "   'Last_name': 'Idle',\n",
       "   'Year-born': 1943,\n",
       "   'Month_borm': 'March'},\n",
       "  '_i10': \"d = {3.14: 'pi', 2: 'even', 'prime': 7}\",\n",
       "  '_i11': 'd',\n",
       "  '_11': {3.14: 'pi', 2: 'even', 'prime': 7},\n",
       "  '_i12': 'd[3.14]',\n",
       "  '_12': 'pi',\n",
       "  '_i13': 'd[2]',\n",
       "  '_13': 'even',\n",
       "  '_i14': \"d['prime']\",\n",
       "  '_14': 7,\n",
       "  '_i15': 'l = [1, 2, 3]',\n",
       "  'l': [1, 2, 3],\n",
       "  '_i16': 'd = {l:100}',\n",
       "  '_i17': 'hash(100)',\n",
       "  '_17': 100,\n",
       "  '_i18': 'hash(3.14)',\n",
       "  '_18': 322818021289917443,\n",
       "  '_i19': 'hash(l)',\n",
       "  '_i20': 't = 1, 2, 3, 4',\n",
       "  't': ([1, 2], 3, 4),\n",
       "  '_i21': 'hash(t)',\n",
       "  '_21': 590899387183067792,\n",
       "  '_i22': 't = ([1, 2], 3, 4)',\n",
       "  '_i23': 'hash(t)',\n",
       "  '_i24': 'd = {\\n    (0, 0): \"Origin\",\\n    (1, 0): \"Unit-X\",\\n    (0, 1): \"Unit-Y\"\\n}',\n",
       "  '_i25': 'd',\n",
       "  '_25': {(0, 0): 'Origin', (1, 0): 'Unit-X', (0, 1): 'Unit-Y'},\n",
       "  '_i26': 'd[(0, 0)]',\n",
       "  '_26': 'Origin',\n",
       "  '_i27': \"d = {'a': 1, 'b': 2, 'c': 3}\",\n",
       "  '_i28': 'id(d)',\n",
       "  '_28': 2082426036736,\n",
       "  '_i29': \"del d['a']\",\n",
       "  '_i30': 'id(id)',\n",
       "  '_30': 2082328240640,\n",
       "  '_i31': 'd',\n",
       "  '_31': {'b': 2, 'c': 3},\n",
       "  '_i32': 'globals()',\n",
       "  '_32': {...},\n",
       "  '_i33': 'new_dict = globals()',\n",
       "  'new_dict': {...},\n",
       "  '_i34': 'new_dict',\n",
       "  '_34': {...},\n",
       "  '_i35': 'new_dict = dict(globals())',\n",
       "  '_i36': 'new_dict'},\n",
       " '__': {'__name__': '__main__',\n",
       "  '__doc__': 'Automatically created module for IPython interactive environment',\n",
       "  '__package__': None,\n",
       "  '__loader__': None,\n",
       "  '__spec__': None,\n",
       "  '__builtin__': <module 'builtins' (built-in)>,\n",
       "  '__builtins__': <module 'builtins' (built-in)>,\n",
       "  '_ih': ['',\n",
       "   \"d = {'a': 1, 'b': 2, 'c':3}\",\n",
       "   'd',\n",
       "   'type(d)',\n",
       "   \"person = {\\n    'First_name': 'Eric',\\n    'Last_name': 'Idle',\\n    'Year-born': 2016\\n}\",\n",
       "   \"person['Year-born']\",\n",
       "   \"person['Year-born'] = 1943\",\n",
       "   'person',\n",
       "   \"person['Month_borm'] = 'March'\",\n",
       "   'person',\n",
       "   \"d = {3.14: 'pi', 2: 'even', 'prime': 7}\",\n",
       "   'd',\n",
       "   'd[3.14]',\n",
       "   'd[2]',\n",
       "   \"d['prime']\",\n",
       "   'l = [1, 2, 3]',\n",
       "   'd = {l:100}',\n",
       "   'hash(100)',\n",
       "   'hash(3.14)',\n",
       "   'hash(l)',\n",
       "   't = 1, 2, 3, 4',\n",
       "   'hash(t)',\n",
       "   't = ([1, 2], 3, 4)',\n",
       "   'hash(t)',\n",
       "   'd = {\\n    (0, 0): \"Origin\",\\n    (1, 0): \"Unit-X\",\\n    (0, 1): \"Unit-Y\"\\n}',\n",
       "   'd',\n",
       "   'd[(0, 0)]',\n",
       "   \"d = {'a': 1, 'b': 2, 'c': 3}\",\n",
       "   'id(d)',\n",
       "   \"del d['a']\",\n",
       "   'id(id)',\n",
       "   'd',\n",
       "   'globals()',\n",
       "   'new_dict = globals()',\n",
       "   'new_dict',\n",
       "   'new_dict = dict(globals())',\n",
       "   'new_dict'],\n",
       "  '_oh': {2: {'a': 1, 'b': 2, 'c': 3},\n",
       "   3: dict,\n",
       "   5: 2016,\n",
       "   7: {'First_name': 'Eric',\n",
       "    'Last_name': 'Idle',\n",
       "    'Year-born': 1943,\n",
       "    'Month_borm': 'March'},\n",
       "   9: {'First_name': 'Eric',\n",
       "    'Last_name': 'Idle',\n",
       "    'Year-born': 1943,\n",
       "    'Month_borm': 'March'},\n",
       "   11: {3.14: 'pi', 2: 'even', 'prime': 7},\n",
       "   12: 'pi',\n",
       "   13: 'even',\n",
       "   14: 7,\n",
       "   17: 100,\n",
       "   18: 322818021289917443,\n",
       "   21: 590899387183067792,\n",
       "   25: {(0, 0): 'Origin', (1, 0): 'Unit-X', (0, 1): 'Unit-Y'},\n",
       "   26: 'Origin',\n",
       "   28: 2082426036736,\n",
       "   30: 2082328240640,\n",
       "   31: {'b': 2, 'c': 3},\n",
       "   32: {...},\n",
       "   34: {...}},\n",
       "  '_dh': [WindowsPath('c:/Personal Folder/Compass Academy Data_Engineering/fundamentals')],\n",
       "  'In': ['',\n",
       "   \"d = {'a': 1, 'b': 2, 'c':3}\",\n",
       "   'd',\n",
       "   'type(d)',\n",
       "   \"person = {\\n    'First_name': 'Eric',\\n    'Last_name': 'Idle',\\n    'Year-born': 2016\\n}\",\n",
       "   \"person['Year-born']\",\n",
       "   \"person['Year-born'] = 1943\",\n",
       "   'person',\n",
       "   \"person['Month_borm'] = 'March'\",\n",
       "   'person',\n",
       "   \"d = {3.14: 'pi', 2: 'even', 'prime': 7}\",\n",
       "   'd',\n",
       "   'd[3.14]',\n",
       "   'd[2]',\n",
       "   \"d['prime']\",\n",
       "   'l = [1, 2, 3]',\n",
       "   'd = {l:100}',\n",
       "   'hash(100)',\n",
       "   'hash(3.14)',\n",
       "   'hash(l)',\n",
       "   't = 1, 2, 3, 4',\n",
       "   'hash(t)',\n",
       "   't = ([1, 2], 3, 4)',\n",
       "   'hash(t)',\n",
       "   'd = {\\n    (0, 0): \"Origin\",\\n    (1, 0): \"Unit-X\",\\n    (0, 1): \"Unit-Y\"\\n}',\n",
       "   'd',\n",
       "   'd[(0, 0)]',\n",
       "   \"d = {'a': 1, 'b': 2, 'c': 3}\",\n",
       "   'id(d)',\n",
       "   \"del d['a']\",\n",
       "   'id(id)',\n",
       "   'd',\n",
       "   'globals()',\n",
       "   'new_dict = globals()',\n",
       "   'new_dict',\n",
       "   'new_dict = dict(globals())',\n",
       "   'new_dict'],\n",
       "  'Out': {2: {'a': 1, 'b': 2, 'c': 3},\n",
       "   3: dict,\n",
       "   5: 2016,\n",
       "   7: {'First_name': 'Eric',\n",
       "    'Last_name': 'Idle',\n",
       "    'Year-born': 1943,\n",
       "    'Month_borm': 'March'},\n",
       "   9: {'First_name': 'Eric',\n",
       "    'Last_name': 'Idle',\n",
       "    'Year-born': 1943,\n",
       "    'Month_borm': 'March'},\n",
       "   11: {3.14: 'pi', 2: 'even', 'prime': 7},\n",
       "   12: 'pi',\n",
       "   13: 'even',\n",
       "   14: 7,\n",
       "   17: 100,\n",
       "   18: 322818021289917443,\n",
       "   21: 590899387183067792,\n",
       "   25: {(0, 0): 'Origin', (1, 0): 'Unit-X', (0, 1): 'Unit-Y'},\n",
       "   26: 'Origin',\n",
       "   28: 2082426036736,\n",
       "   30: 2082328240640,\n",
       "   31: {'b': 2, 'c': 3},\n",
       "   32: {...},\n",
       "   34: {...}},\n",
       "  'get_ipython': <bound method InteractiveShell.get_ipython of <ipykernel.zmqshell.ZMQInteractiveShell object at 0x000001E4D8A2F9B0>>,\n",
       "  'exit': <IPython.core.autocall.ZMQExitAutocall at 0x1e4d8b2e420>,\n",
       "  'quit': <IPython.core.autocall.ZMQExitAutocall at 0x1e4d8b2e420>,\n",
       "  'open': <function _io.open(file, mode='r', buffering=-1, encoding=None, errors=None, newline=None, closefd=True, opener=None)>,\n",
       "  '_': {...},\n",
       "  '__': {...},\n",
       "  '___': {'b': 2, 'c': 3},\n",
       "  '__vsc_ipynb_file__': 'c:\\\\Personal Folder\\\\Compass Academy Data_Engineering\\\\fundamentals\\\\dictionaries.ipynb',\n",
       "  '_i': 'new_dict = dict(globals())',\n",
       "  '_ii': 'new_dict',\n",
       "  '_iii': 'new_dict = globals()',\n",
       "  '_i1': \"d = {'a': 1, 'b': 2, 'c':3}\",\n",
       "  'd': {'b': 2, 'c': 3},\n",
       "  '_i2': 'd',\n",
       "  '_2': {'a': 1, 'b': 2, 'c': 3},\n",
       "  '_i3': 'type(d)',\n",
       "  '_3': dict,\n",
       "  '_i4': \"person = {\\n    'First_name': 'Eric',\\n    'Last_name': 'Idle',\\n    'Year-born': 2016\\n}\",\n",
       "  'person': {'First_name': 'Eric',\n",
       "   'Last_name': 'Idle',\n",
       "   'Year-born': 1943,\n",
       "   'Month_borm': 'March'},\n",
       "  '_i5': \"person['Year-born']\",\n",
       "  '_5': 2016,\n",
       "  '_i6': \"person['Year-born'] = 1943\",\n",
       "  '_i7': 'person',\n",
       "  '_7': {'First_name': 'Eric',\n",
       "   'Last_name': 'Idle',\n",
       "   'Year-born': 1943,\n",
       "   'Month_borm': 'March'},\n",
       "  '_i8': \"person['Month_borm'] = 'March'\",\n",
       "  '_i9': 'person',\n",
       "  '_9': {'First_name': 'Eric',\n",
       "   'Last_name': 'Idle',\n",
       "   'Year-born': 1943,\n",
       "   'Month_borm': 'March'},\n",
       "  '_i10': \"d = {3.14: 'pi', 2: 'even', 'prime': 7}\",\n",
       "  '_i11': 'd',\n",
       "  '_11': {3.14: 'pi', 2: 'even', 'prime': 7},\n",
       "  '_i12': 'd[3.14]',\n",
       "  '_12': 'pi',\n",
       "  '_i13': 'd[2]',\n",
       "  '_13': 'even',\n",
       "  '_i14': \"d['prime']\",\n",
       "  '_14': 7,\n",
       "  '_i15': 'l = [1, 2, 3]',\n",
       "  'l': [1, 2, 3],\n",
       "  '_i16': 'd = {l:100}',\n",
       "  '_i17': 'hash(100)',\n",
       "  '_17': 100,\n",
       "  '_i18': 'hash(3.14)',\n",
       "  '_18': 322818021289917443,\n",
       "  '_i19': 'hash(l)',\n",
       "  '_i20': 't = 1, 2, 3, 4',\n",
       "  't': ([1, 2], 3, 4),\n",
       "  '_i21': 'hash(t)',\n",
       "  '_21': 590899387183067792,\n",
       "  '_i22': 't = ([1, 2], 3, 4)',\n",
       "  '_i23': 'hash(t)',\n",
       "  '_i24': 'd = {\\n    (0, 0): \"Origin\",\\n    (1, 0): \"Unit-X\",\\n    (0, 1): \"Unit-Y\"\\n}',\n",
       "  '_i25': 'd',\n",
       "  '_25': {(0, 0): 'Origin', (1, 0): 'Unit-X', (0, 1): 'Unit-Y'},\n",
       "  '_i26': 'd[(0, 0)]',\n",
       "  '_26': 'Origin',\n",
       "  '_i27': \"d = {'a': 1, 'b': 2, 'c': 3}\",\n",
       "  '_i28': 'id(d)',\n",
       "  '_28': 2082426036736,\n",
       "  '_i29': \"del d['a']\",\n",
       "  '_i30': 'id(id)',\n",
       "  '_30': 2082328240640,\n",
       "  '_i31': 'd',\n",
       "  '_31': {'b': 2, 'c': 3},\n",
       "  '_i32': 'globals()',\n",
       "  '_32': {...},\n",
       "  '_i33': 'new_dict = globals()',\n",
       "  'new_dict': {...},\n",
       "  '_i34': 'new_dict',\n",
       "  '_34': {...},\n",
       "  '_i35': 'new_dict = dict(globals())',\n",
       "  '_i36': 'new_dict'},\n",
       " '___': {'b': 2, 'c': 3},\n",
       " '__vsc_ipynb_file__': 'c:\\\\Personal Folder\\\\Compass Academy Data_Engineering\\\\fundamentals\\\\dictionaries.ipynb',\n",
       " '_i': 'new_dict',\n",
       " '_ii': 'new_dict = globals()',\n",
       " '_iii': 'globals()',\n",
       " '_i1': \"d = {'a': 1, 'b': 2, 'c':3}\",\n",
       " 'd': {'b': 2, 'c': 3},\n",
       " '_i2': 'd',\n",
       " '_2': {'a': 1, 'b': 2, 'c': 3},\n",
       " '_i3': 'type(d)',\n",
       " '_3': dict,\n",
       " '_i4': \"person = {\\n    'First_name': 'Eric',\\n    'Last_name': 'Idle',\\n    'Year-born': 2016\\n}\",\n",
       " 'person': {'First_name': 'Eric',\n",
       "  'Last_name': 'Idle',\n",
       "  'Year-born': 1943,\n",
       "  'Month_borm': 'March'},\n",
       " '_i5': \"person['Year-born']\",\n",
       " '_5': 2016,\n",
       " '_i6': \"person['Year-born'] = 1943\",\n",
       " '_i7': 'person',\n",
       " '_7': {'First_name': 'Eric',\n",
       "  'Last_name': 'Idle',\n",
       "  'Year-born': 1943,\n",
       "  'Month_borm': 'March'},\n",
       " '_i8': \"person['Month_borm'] = 'March'\",\n",
       " '_i9': 'person',\n",
       " '_9': {'First_name': 'Eric',\n",
       "  'Last_name': 'Idle',\n",
       "  'Year-born': 1943,\n",
       "  'Month_borm': 'March'},\n",
       " '_i10': \"d = {3.14: 'pi', 2: 'even', 'prime': 7}\",\n",
       " '_i11': 'd',\n",
       " '_11': {3.14: 'pi', 2: 'even', 'prime': 7},\n",
       " '_i12': 'd[3.14]',\n",
       " '_12': 'pi',\n",
       " '_i13': 'd[2]',\n",
       " '_13': 'even',\n",
       " '_i14': \"d['prime']\",\n",
       " '_14': 7,\n",
       " '_i15': 'l = [1, 2, 3]',\n",
       " 'l': [1, 2, 3],\n",
       " '_i16': 'd = {l:100}',\n",
       " '_i17': 'hash(100)',\n",
       " '_17': 100,\n",
       " '_i18': 'hash(3.14)',\n",
       " '_18': 322818021289917443,\n",
       " '_i19': 'hash(l)',\n",
       " '_i20': 't = 1, 2, 3, 4',\n",
       " 't': ([1, 2], 3, 4),\n",
       " '_i21': 'hash(t)',\n",
       " '_21': 590899387183067792,\n",
       " '_i22': 't = ([1, 2], 3, 4)',\n",
       " '_i23': 'hash(t)',\n",
       " '_i24': 'd = {\\n    (0, 0): \"Origin\",\\n    (1, 0): \"Unit-X\",\\n    (0, 1): \"Unit-Y\"\\n}',\n",
       " '_i25': 'd',\n",
       " '_25': {(0, 0): 'Origin', (1, 0): 'Unit-X', (0, 1): 'Unit-Y'},\n",
       " '_i26': 'd[(0, 0)]',\n",
       " '_26': 'Origin',\n",
       " '_i27': \"d = {'a': 1, 'b': 2, 'c': 3}\",\n",
       " '_i28': 'id(d)',\n",
       " '_28': 2082426036736,\n",
       " '_i29': \"del d['a']\",\n",
       " '_i30': 'id(id)',\n",
       " '_30': 2082328240640,\n",
       " '_i31': 'd',\n",
       " '_31': {'b': 2, 'c': 3},\n",
       " '_i32': 'globals()',\n",
       " '_32': {'__name__': '__main__',\n",
       "  '__doc__': 'Automatically created module for IPython interactive environment',\n",
       "  '__package__': None,\n",
       "  '__loader__': None,\n",
       "  '__spec__': None,\n",
       "  '__builtin__': <module 'builtins' (built-in)>,\n",
       "  '__builtins__': <module 'builtins' (built-in)>,\n",
       "  '_ih': ['',\n",
       "   \"d = {'a': 1, 'b': 2, 'c':3}\",\n",
       "   'd',\n",
       "   'type(d)',\n",
       "   \"person = {\\n    'First_name': 'Eric',\\n    'Last_name': 'Idle',\\n    'Year-born': 2016\\n}\",\n",
       "   \"person['Year-born']\",\n",
       "   \"person['Year-born'] = 1943\",\n",
       "   'person',\n",
       "   \"person['Month_borm'] = 'March'\",\n",
       "   'person',\n",
       "   \"d = {3.14: 'pi', 2: 'even', 'prime': 7}\",\n",
       "   'd',\n",
       "   'd[3.14]',\n",
       "   'd[2]',\n",
       "   \"d['prime']\",\n",
       "   'l = [1, 2, 3]',\n",
       "   'd = {l:100}',\n",
       "   'hash(100)',\n",
       "   'hash(3.14)',\n",
       "   'hash(l)',\n",
       "   't = 1, 2, 3, 4',\n",
       "   'hash(t)',\n",
       "   't = ([1, 2], 3, 4)',\n",
       "   'hash(t)',\n",
       "   'd = {\\n    (0, 0): \"Origin\",\\n    (1, 0): \"Unit-X\",\\n    (0, 1): \"Unit-Y\"\\n}',\n",
       "   'd',\n",
       "   'd[(0, 0)]',\n",
       "   \"d = {'a': 1, 'b': 2, 'c': 3}\",\n",
       "   'id(d)',\n",
       "   \"del d['a']\",\n",
       "   'id(id)',\n",
       "   'd',\n",
       "   'globals()',\n",
       "   'new_dict = globals()',\n",
       "   'new_dict',\n",
       "   'new_dict = dict(globals())',\n",
       "   'new_dict'],\n",
       "  '_oh': {2: {'a': 1, 'b': 2, 'c': 3},\n",
       "   3: dict,\n",
       "   5: 2016,\n",
       "   7: {'First_name': 'Eric',\n",
       "    'Last_name': 'Idle',\n",
       "    'Year-born': 1943,\n",
       "    'Month_borm': 'March'},\n",
       "   9: {'First_name': 'Eric',\n",
       "    'Last_name': 'Idle',\n",
       "    'Year-born': 1943,\n",
       "    'Month_borm': 'March'},\n",
       "   11: {3.14: 'pi', 2: 'even', 'prime': 7},\n",
       "   12: 'pi',\n",
       "   13: 'even',\n",
       "   14: 7,\n",
       "   17: 100,\n",
       "   18: 322818021289917443,\n",
       "   21: 590899387183067792,\n",
       "   25: {(0, 0): 'Origin', (1, 0): 'Unit-X', (0, 1): 'Unit-Y'},\n",
       "   26: 'Origin',\n",
       "   28: 2082426036736,\n",
       "   30: 2082328240640,\n",
       "   31: {'b': 2, 'c': 3},\n",
       "   32: {...},\n",
       "   34: {...}},\n",
       "  '_dh': [WindowsPath('c:/Personal Folder/Compass Academy Data_Engineering/fundamentals')],\n",
       "  'In': ['',\n",
       "   \"d = {'a': 1, 'b': 2, 'c':3}\",\n",
       "   'd',\n",
       "   'type(d)',\n",
       "   \"person = {\\n    'First_name': 'Eric',\\n    'Last_name': 'Idle',\\n    'Year-born': 2016\\n}\",\n",
       "   \"person['Year-born']\",\n",
       "   \"person['Year-born'] = 1943\",\n",
       "   'person',\n",
       "   \"person['Month_borm'] = 'March'\",\n",
       "   'person',\n",
       "   \"d = {3.14: 'pi', 2: 'even', 'prime': 7}\",\n",
       "   'd',\n",
       "   'd[3.14]',\n",
       "   'd[2]',\n",
       "   \"d['prime']\",\n",
       "   'l = [1, 2, 3]',\n",
       "   'd = {l:100}',\n",
       "   'hash(100)',\n",
       "   'hash(3.14)',\n",
       "   'hash(l)',\n",
       "   't = 1, 2, 3, 4',\n",
       "   'hash(t)',\n",
       "   't = ([1, 2], 3, 4)',\n",
       "   'hash(t)',\n",
       "   'd = {\\n    (0, 0): \"Origin\",\\n    (1, 0): \"Unit-X\",\\n    (0, 1): \"Unit-Y\"\\n}',\n",
       "   'd',\n",
       "   'd[(0, 0)]',\n",
       "   \"d = {'a': 1, 'b': 2, 'c': 3}\",\n",
       "   'id(d)',\n",
       "   \"del d['a']\",\n",
       "   'id(id)',\n",
       "   'd',\n",
       "   'globals()',\n",
       "   'new_dict = globals()',\n",
       "   'new_dict',\n",
       "   'new_dict = dict(globals())',\n",
       "   'new_dict'],\n",
       "  'Out': {2: {'a': 1, 'b': 2, 'c': 3},\n",
       "   3: dict,\n",
       "   5: 2016,\n",
       "   7: {'First_name': 'Eric',\n",
       "    'Last_name': 'Idle',\n",
       "    'Year-born': 1943,\n",
       "    'Month_borm': 'March'},\n",
       "   9: {'First_name': 'Eric',\n",
       "    'Last_name': 'Idle',\n",
       "    'Year-born': 1943,\n",
       "    'Month_borm': 'March'},\n",
       "   11: {3.14: 'pi', 2: 'even', 'prime': 7},\n",
       "   12: 'pi',\n",
       "   13: 'even',\n",
       "   14: 7,\n",
       "   17: 100,\n",
       "   18: 322818021289917443,\n",
       "   21: 590899387183067792,\n",
       "   25: {(0, 0): 'Origin', (1, 0): 'Unit-X', (0, 1): 'Unit-Y'},\n",
       "   26: 'Origin',\n",
       "   28: 2082426036736,\n",
       "   30: 2082328240640,\n",
       "   31: {'b': 2, 'c': 3},\n",
       "   32: {...},\n",
       "   34: {...}},\n",
       "  'get_ipython': <bound method InteractiveShell.get_ipython of <ipykernel.zmqshell.ZMQInteractiveShell object at 0x000001E4D8A2F9B0>>,\n",
       "  'exit': <IPython.core.autocall.ZMQExitAutocall at 0x1e4d8b2e420>,\n",
       "  'quit': <IPython.core.autocall.ZMQExitAutocall at 0x1e4d8b2e420>,\n",
       "  'open': <function _io.open(file, mode='r', buffering=-1, encoding=None, errors=None, newline=None, closefd=True, opener=None)>,\n",
       "  '_': {...},\n",
       "  '__': {...},\n",
       "  '___': {'b': 2, 'c': 3},\n",
       "  '__vsc_ipynb_file__': 'c:\\\\Personal Folder\\\\Compass Academy Data_Engineering\\\\fundamentals\\\\dictionaries.ipynb',\n",
       "  '_i': 'new_dict = dict(globals())',\n",
       "  '_ii': 'new_dict',\n",
       "  '_iii': 'new_dict = globals()',\n",
       "  '_i1': \"d = {'a': 1, 'b': 2, 'c':3}\",\n",
       "  'd': {'b': 2, 'c': 3},\n",
       "  '_i2': 'd',\n",
       "  '_2': {'a': 1, 'b': 2, 'c': 3},\n",
       "  '_i3': 'type(d)',\n",
       "  '_3': dict,\n",
       "  '_i4': \"person = {\\n    'First_name': 'Eric',\\n    'Last_name': 'Idle',\\n    'Year-born': 2016\\n}\",\n",
       "  'person': {'First_name': 'Eric',\n",
       "   'Last_name': 'Idle',\n",
       "   'Year-born': 1943,\n",
       "   'Month_borm': 'March'},\n",
       "  '_i5': \"person['Year-born']\",\n",
       "  '_5': 2016,\n",
       "  '_i6': \"person['Year-born'] = 1943\",\n",
       "  '_i7': 'person',\n",
       "  '_7': {'First_name': 'Eric',\n",
       "   'Last_name': 'Idle',\n",
       "   'Year-born': 1943,\n",
       "   'Month_borm': 'March'},\n",
       "  '_i8': \"person['Month_borm'] = 'March'\",\n",
       "  '_i9': 'person',\n",
       "  '_9': {'First_name': 'Eric',\n",
       "   'Last_name': 'Idle',\n",
       "   'Year-born': 1943,\n",
       "   'Month_borm': 'March'},\n",
       "  '_i10': \"d = {3.14: 'pi', 2: 'even', 'prime': 7}\",\n",
       "  '_i11': 'd',\n",
       "  '_11': {3.14: 'pi', 2: 'even', 'prime': 7},\n",
       "  '_i12': 'd[3.14]',\n",
       "  '_12': 'pi',\n",
       "  '_i13': 'd[2]',\n",
       "  '_13': 'even',\n",
       "  '_i14': \"d['prime']\",\n",
       "  '_14': 7,\n",
       "  '_i15': 'l = [1, 2, 3]',\n",
       "  'l': [1, 2, 3],\n",
       "  '_i16': 'd = {l:100}',\n",
       "  '_i17': 'hash(100)',\n",
       "  '_17': 100,\n",
       "  '_i18': 'hash(3.14)',\n",
       "  '_18': 322818021289917443,\n",
       "  '_i19': 'hash(l)',\n",
       "  '_i20': 't = 1, 2, 3, 4',\n",
       "  't': ([1, 2], 3, 4),\n",
       "  '_i21': 'hash(t)',\n",
       "  '_21': 590899387183067792,\n",
       "  '_i22': 't = ([1, 2], 3, 4)',\n",
       "  '_i23': 'hash(t)',\n",
       "  '_i24': 'd = {\\n    (0, 0): \"Origin\",\\n    (1, 0): \"Unit-X\",\\n    (0, 1): \"Unit-Y\"\\n}',\n",
       "  '_i25': 'd',\n",
       "  '_25': {(0, 0): 'Origin', (1, 0): 'Unit-X', (0, 1): 'Unit-Y'},\n",
       "  '_i26': 'd[(0, 0)]',\n",
       "  '_26': 'Origin',\n",
       "  '_i27': \"d = {'a': 1, 'b': 2, 'c': 3}\",\n",
       "  '_i28': 'id(d)',\n",
       "  '_28': 2082426036736,\n",
       "  '_i29': \"del d['a']\",\n",
       "  '_i30': 'id(id)',\n",
       "  '_30': 2082328240640,\n",
       "  '_i31': 'd',\n",
       "  '_31': {'b': 2, 'c': 3},\n",
       "  '_i32': 'globals()',\n",
       "  '_32': {...},\n",
       "  '_i33': 'new_dict = globals()',\n",
       "  'new_dict': {...},\n",
       "  '_i34': 'new_dict',\n",
       "  '_34': {...},\n",
       "  '_i35': 'new_dict = dict(globals())',\n",
       "  '_i36': 'new_dict'},\n",
       " '_i33': 'new_dict = globals()',\n",
       " 'new_dict': {'__name__': '__main__',\n",
       "  '__doc__': 'Automatically created module for IPython interactive environment',\n",
       "  '__package__': None,\n",
       "  '__loader__': None,\n",
       "  '__spec__': None,\n",
       "  '__builtin__': <module 'builtins' (built-in)>,\n",
       "  '__builtins__': <module 'builtins' (built-in)>,\n",
       "  '_ih': ['',\n",
       "   \"d = {'a': 1, 'b': 2, 'c':3}\",\n",
       "   'd',\n",
       "   'type(d)',\n",
       "   \"person = {\\n    'First_name': 'Eric',\\n    'Last_name': 'Idle',\\n    'Year-born': 2016\\n}\",\n",
       "   \"person['Year-born']\",\n",
       "   \"person['Year-born'] = 1943\",\n",
       "   'person',\n",
       "   \"person['Month_borm'] = 'March'\",\n",
       "   'person',\n",
       "   \"d = {3.14: 'pi', 2: 'even', 'prime': 7}\",\n",
       "   'd',\n",
       "   'd[3.14]',\n",
       "   'd[2]',\n",
       "   \"d['prime']\",\n",
       "   'l = [1, 2, 3]',\n",
       "   'd = {l:100}',\n",
       "   'hash(100)',\n",
       "   'hash(3.14)',\n",
       "   'hash(l)',\n",
       "   't = 1, 2, 3, 4',\n",
       "   'hash(t)',\n",
       "   't = ([1, 2], 3, 4)',\n",
       "   'hash(t)',\n",
       "   'd = {\\n    (0, 0): \"Origin\",\\n    (1, 0): \"Unit-X\",\\n    (0, 1): \"Unit-Y\"\\n}',\n",
       "   'd',\n",
       "   'd[(0, 0)]',\n",
       "   \"d = {'a': 1, 'b': 2, 'c': 3}\",\n",
       "   'id(d)',\n",
       "   \"del d['a']\",\n",
       "   'id(id)',\n",
       "   'd',\n",
       "   'globals()',\n",
       "   'new_dict = globals()',\n",
       "   'new_dict',\n",
       "   'new_dict = dict(globals())',\n",
       "   'new_dict'],\n",
       "  '_oh': {2: {'a': 1, 'b': 2, 'c': 3},\n",
       "   3: dict,\n",
       "   5: 2016,\n",
       "   7: {'First_name': 'Eric',\n",
       "    'Last_name': 'Idle',\n",
       "    'Year-born': 1943,\n",
       "    'Month_borm': 'March'},\n",
       "   9: {'First_name': 'Eric',\n",
       "    'Last_name': 'Idle',\n",
       "    'Year-born': 1943,\n",
       "    'Month_borm': 'March'},\n",
       "   11: {3.14: 'pi', 2: 'even', 'prime': 7},\n",
       "   12: 'pi',\n",
       "   13: 'even',\n",
       "   14: 7,\n",
       "   17: 100,\n",
       "   18: 322818021289917443,\n",
       "   21: 590899387183067792,\n",
       "   25: {(0, 0): 'Origin', (1, 0): 'Unit-X', (0, 1): 'Unit-Y'},\n",
       "   26: 'Origin',\n",
       "   28: 2082426036736,\n",
       "   30: 2082328240640,\n",
       "   31: {'b': 2, 'c': 3},\n",
       "   32: {...},\n",
       "   34: {...}},\n",
       "  '_dh': [WindowsPath('c:/Personal Folder/Compass Academy Data_Engineering/fundamentals')],\n",
       "  'In': ['',\n",
       "   \"d = {'a': 1, 'b': 2, 'c':3}\",\n",
       "   'd',\n",
       "   'type(d)',\n",
       "   \"person = {\\n    'First_name': 'Eric',\\n    'Last_name': 'Idle',\\n    'Year-born': 2016\\n}\",\n",
       "   \"person['Year-born']\",\n",
       "   \"person['Year-born'] = 1943\",\n",
       "   'person',\n",
       "   \"person['Month_borm'] = 'March'\",\n",
       "   'person',\n",
       "   \"d = {3.14: 'pi', 2: 'even', 'prime': 7}\",\n",
       "   'd',\n",
       "   'd[3.14]',\n",
       "   'd[2]',\n",
       "   \"d['prime']\",\n",
       "   'l = [1, 2, 3]',\n",
       "   'd = {l:100}',\n",
       "   'hash(100)',\n",
       "   'hash(3.14)',\n",
       "   'hash(l)',\n",
       "   't = 1, 2, 3, 4',\n",
       "   'hash(t)',\n",
       "   't = ([1, 2], 3, 4)',\n",
       "   'hash(t)',\n",
       "   'd = {\\n    (0, 0): \"Origin\",\\n    (1, 0): \"Unit-X\",\\n    (0, 1): \"Unit-Y\"\\n}',\n",
       "   'd',\n",
       "   'd[(0, 0)]',\n",
       "   \"d = {'a': 1, 'b': 2, 'c': 3}\",\n",
       "   'id(d)',\n",
       "   \"del d['a']\",\n",
       "   'id(id)',\n",
       "   'd',\n",
       "   'globals()',\n",
       "   'new_dict = globals()',\n",
       "   'new_dict',\n",
       "   'new_dict = dict(globals())',\n",
       "   'new_dict'],\n",
       "  'Out': {2: {'a': 1, 'b': 2, 'c': 3},\n",
       "   3: dict,\n",
       "   5: 2016,\n",
       "   7: {'First_name': 'Eric',\n",
       "    'Last_name': 'Idle',\n",
       "    'Year-born': 1943,\n",
       "    'Month_borm': 'March'},\n",
       "   9: {'First_name': 'Eric',\n",
       "    'Last_name': 'Idle',\n",
       "    'Year-born': 1943,\n",
       "    'Month_borm': 'March'},\n",
       "   11: {3.14: 'pi', 2: 'even', 'prime': 7},\n",
       "   12: 'pi',\n",
       "   13: 'even',\n",
       "   14: 7,\n",
       "   17: 100,\n",
       "   18: 322818021289917443,\n",
       "   21: 590899387183067792,\n",
       "   25: {(0, 0): 'Origin', (1, 0): 'Unit-X', (0, 1): 'Unit-Y'},\n",
       "   26: 'Origin',\n",
       "   28: 2082426036736,\n",
       "   30: 2082328240640,\n",
       "   31: {'b': 2, 'c': 3},\n",
       "   32: {...},\n",
       "   34: {...}},\n",
       "  'get_ipython': <bound method InteractiveShell.get_ipython of <ipykernel.zmqshell.ZMQInteractiveShell object at 0x000001E4D8A2F9B0>>,\n",
       "  'exit': <IPython.core.autocall.ZMQExitAutocall at 0x1e4d8b2e420>,\n",
       "  'quit': <IPython.core.autocall.ZMQExitAutocall at 0x1e4d8b2e420>,\n",
       "  'open': <function _io.open(file, mode='r', buffering=-1, encoding=None, errors=None, newline=None, closefd=True, opener=None)>,\n",
       "  '_': {...},\n",
       "  '__': {...},\n",
       "  '___': {'b': 2, 'c': 3},\n",
       "  '__vsc_ipynb_file__': 'c:\\\\Personal Folder\\\\Compass Academy Data_Engineering\\\\fundamentals\\\\dictionaries.ipynb',\n",
       "  '_i': 'new_dict = dict(globals())',\n",
       "  '_ii': 'new_dict',\n",
       "  '_iii': 'new_dict = globals()',\n",
       "  '_i1': \"d = {'a': 1, 'b': 2, 'c':3}\",\n",
       "  'd': {'b': 2, 'c': 3},\n",
       "  '_i2': 'd',\n",
       "  '_2': {'a': 1, 'b': 2, 'c': 3},\n",
       "  '_i3': 'type(d)',\n",
       "  '_3': dict,\n",
       "  '_i4': \"person = {\\n    'First_name': 'Eric',\\n    'Last_name': 'Idle',\\n    'Year-born': 2016\\n}\",\n",
       "  'person': {'First_name': 'Eric',\n",
       "   'Last_name': 'Idle',\n",
       "   'Year-born': 1943,\n",
       "   'Month_borm': 'March'},\n",
       "  '_i5': \"person['Year-born']\",\n",
       "  '_5': 2016,\n",
       "  '_i6': \"person['Year-born'] = 1943\",\n",
       "  '_i7': 'person',\n",
       "  '_7': {'First_name': 'Eric',\n",
       "   'Last_name': 'Idle',\n",
       "   'Year-born': 1943,\n",
       "   'Month_borm': 'March'},\n",
       "  '_i8': \"person['Month_borm'] = 'March'\",\n",
       "  '_i9': 'person',\n",
       "  '_9': {'First_name': 'Eric',\n",
       "   'Last_name': 'Idle',\n",
       "   'Year-born': 1943,\n",
       "   'Month_borm': 'March'},\n",
       "  '_i10': \"d = {3.14: 'pi', 2: 'even', 'prime': 7}\",\n",
       "  '_i11': 'd',\n",
       "  '_11': {3.14: 'pi', 2: 'even', 'prime': 7},\n",
       "  '_i12': 'd[3.14]',\n",
       "  '_12': 'pi',\n",
       "  '_i13': 'd[2]',\n",
       "  '_13': 'even',\n",
       "  '_i14': \"d['prime']\",\n",
       "  '_14': 7,\n",
       "  '_i15': 'l = [1, 2, 3]',\n",
       "  'l': [1, 2, 3],\n",
       "  '_i16': 'd = {l:100}',\n",
       "  '_i17': 'hash(100)',\n",
       "  '_17': 100,\n",
       "  '_i18': 'hash(3.14)',\n",
       "  '_18': 322818021289917443,\n",
       "  '_i19': 'hash(l)',\n",
       "  '_i20': 't = 1, 2, 3, 4',\n",
       "  't': ([1, 2], 3, 4),\n",
       "  '_i21': 'hash(t)',\n",
       "  '_21': 590899387183067792,\n",
       "  '_i22': 't = ([1, 2], 3, 4)',\n",
       "  '_i23': 'hash(t)',\n",
       "  '_i24': 'd = {\\n    (0, 0): \"Origin\",\\n    (1, 0): \"Unit-X\",\\n    (0, 1): \"Unit-Y\"\\n}',\n",
       "  '_i25': 'd',\n",
       "  '_25': {(0, 0): 'Origin', (1, 0): 'Unit-X', (0, 1): 'Unit-Y'},\n",
       "  '_i26': 'd[(0, 0)]',\n",
       "  '_26': 'Origin',\n",
       "  '_i27': \"d = {'a': 1, 'b': 2, 'c': 3}\",\n",
       "  '_i28': 'id(d)',\n",
       "  '_28': 2082426036736,\n",
       "  '_i29': \"del d['a']\",\n",
       "  '_i30': 'id(id)',\n",
       "  '_30': 2082328240640,\n",
       "  '_i31': 'd',\n",
       "  '_31': {'b': 2, 'c': 3},\n",
       "  '_i32': 'globals()',\n",
       "  '_32': {...},\n",
       "  '_i33': 'new_dict = globals()',\n",
       "  'new_dict': {...},\n",
       "  '_i34': 'new_dict',\n",
       "  '_34': {...},\n",
       "  '_i35': 'new_dict = dict(globals())',\n",
       "  '_i36': 'new_dict'},\n",
       " '_i34': 'new_dict',\n",
       " '_34': {'__name__': '__main__',\n",
       "  '__doc__': 'Automatically created module for IPython interactive environment',\n",
       "  '__package__': None,\n",
       "  '__loader__': None,\n",
       "  '__spec__': None,\n",
       "  '__builtin__': <module 'builtins' (built-in)>,\n",
       "  '__builtins__': <module 'builtins' (built-in)>,\n",
       "  '_ih': ['',\n",
       "   \"d = {'a': 1, 'b': 2, 'c':3}\",\n",
       "   'd',\n",
       "   'type(d)',\n",
       "   \"person = {\\n    'First_name': 'Eric',\\n    'Last_name': 'Idle',\\n    'Year-born': 2016\\n}\",\n",
       "   \"person['Year-born']\",\n",
       "   \"person['Year-born'] = 1943\",\n",
       "   'person',\n",
       "   \"person['Month_borm'] = 'March'\",\n",
       "   'person',\n",
       "   \"d = {3.14: 'pi', 2: 'even', 'prime': 7}\",\n",
       "   'd',\n",
       "   'd[3.14]',\n",
       "   'd[2]',\n",
       "   \"d['prime']\",\n",
       "   'l = [1, 2, 3]',\n",
       "   'd = {l:100}',\n",
       "   'hash(100)',\n",
       "   'hash(3.14)',\n",
       "   'hash(l)',\n",
       "   't = 1, 2, 3, 4',\n",
       "   'hash(t)',\n",
       "   't = ([1, 2], 3, 4)',\n",
       "   'hash(t)',\n",
       "   'd = {\\n    (0, 0): \"Origin\",\\n    (1, 0): \"Unit-X\",\\n    (0, 1): \"Unit-Y\"\\n}',\n",
       "   'd',\n",
       "   'd[(0, 0)]',\n",
       "   \"d = {'a': 1, 'b': 2, 'c': 3}\",\n",
       "   'id(d)',\n",
       "   \"del d['a']\",\n",
       "   'id(id)',\n",
       "   'd',\n",
       "   'globals()',\n",
       "   'new_dict = globals()',\n",
       "   'new_dict',\n",
       "   'new_dict = dict(globals())',\n",
       "   'new_dict'],\n",
       "  '_oh': {2: {'a': 1, 'b': 2, 'c': 3},\n",
       "   3: dict,\n",
       "   5: 2016,\n",
       "   7: {'First_name': 'Eric',\n",
       "    'Last_name': 'Idle',\n",
       "    'Year-born': 1943,\n",
       "    'Month_borm': 'March'},\n",
       "   9: {'First_name': 'Eric',\n",
       "    'Last_name': 'Idle',\n",
       "    'Year-born': 1943,\n",
       "    'Month_borm': 'March'},\n",
       "   11: {3.14: 'pi', 2: 'even', 'prime': 7},\n",
       "   12: 'pi',\n",
       "   13: 'even',\n",
       "   14: 7,\n",
       "   17: 100,\n",
       "   18: 322818021289917443,\n",
       "   21: 590899387183067792,\n",
       "   25: {(0, 0): 'Origin', (1, 0): 'Unit-X', (0, 1): 'Unit-Y'},\n",
       "   26: 'Origin',\n",
       "   28: 2082426036736,\n",
       "   30: 2082328240640,\n",
       "   31: {'b': 2, 'c': 3},\n",
       "   32: {...},\n",
       "   34: {...}},\n",
       "  '_dh': [WindowsPath('c:/Personal Folder/Compass Academy Data_Engineering/fundamentals')],\n",
       "  'In': ['',\n",
       "   \"d = {'a': 1, 'b': 2, 'c':3}\",\n",
       "   'd',\n",
       "   'type(d)',\n",
       "   \"person = {\\n    'First_name': 'Eric',\\n    'Last_name': 'Idle',\\n    'Year-born': 2016\\n}\",\n",
       "   \"person['Year-born']\",\n",
       "   \"person['Year-born'] = 1943\",\n",
       "   'person',\n",
       "   \"person['Month_borm'] = 'March'\",\n",
       "   'person',\n",
       "   \"d = {3.14: 'pi', 2: 'even', 'prime': 7}\",\n",
       "   'd',\n",
       "   'd[3.14]',\n",
       "   'd[2]',\n",
       "   \"d['prime']\",\n",
       "   'l = [1, 2, 3]',\n",
       "   'd = {l:100}',\n",
       "   'hash(100)',\n",
       "   'hash(3.14)',\n",
       "   'hash(l)',\n",
       "   't = 1, 2, 3, 4',\n",
       "   'hash(t)',\n",
       "   't = ([1, 2], 3, 4)',\n",
       "   'hash(t)',\n",
       "   'd = {\\n    (0, 0): \"Origin\",\\n    (1, 0): \"Unit-X\",\\n    (0, 1): \"Unit-Y\"\\n}',\n",
       "   'd',\n",
       "   'd[(0, 0)]',\n",
       "   \"d = {'a': 1, 'b': 2, 'c': 3}\",\n",
       "   'id(d)',\n",
       "   \"del d['a']\",\n",
       "   'id(id)',\n",
       "   'd',\n",
       "   'globals()',\n",
       "   'new_dict = globals()',\n",
       "   'new_dict',\n",
       "   'new_dict = dict(globals())',\n",
       "   'new_dict'],\n",
       "  'Out': {2: {'a': 1, 'b': 2, 'c': 3},\n",
       "   3: dict,\n",
       "   5: 2016,\n",
       "   7: {'First_name': 'Eric',\n",
       "    'Last_name': 'Idle',\n",
       "    'Year-born': 1943,\n",
       "    'Month_borm': 'March'},\n",
       "   9: {'First_name': 'Eric',\n",
       "    'Last_name': 'Idle',\n",
       "    'Year-born': 1943,\n",
       "    'Month_borm': 'March'},\n",
       "   11: {3.14: 'pi', 2: 'even', 'prime': 7},\n",
       "   12: 'pi',\n",
       "   13: 'even',\n",
       "   14: 7,\n",
       "   17: 100,\n",
       "   18: 322818021289917443,\n",
       "   21: 590899387183067792,\n",
       "   25: {(0, 0): 'Origin', (1, 0): 'Unit-X', (0, 1): 'Unit-Y'},\n",
       "   26: 'Origin',\n",
       "   28: 2082426036736,\n",
       "   30: 2082328240640,\n",
       "   31: {'b': 2, 'c': 3},\n",
       "   32: {...},\n",
       "   34: {...}},\n",
       "  'get_ipython': <bound method InteractiveShell.get_ipython of <ipykernel.zmqshell.ZMQInteractiveShell object at 0x000001E4D8A2F9B0>>,\n",
       "  'exit': <IPython.core.autocall.ZMQExitAutocall at 0x1e4d8b2e420>,\n",
       "  'quit': <IPython.core.autocall.ZMQExitAutocall at 0x1e4d8b2e420>,\n",
       "  'open': <function _io.open(file, mode='r', buffering=-1, encoding=None, errors=None, newline=None, closefd=True, opener=None)>,\n",
       "  '_': {...},\n",
       "  '__': {...},\n",
       "  '___': {'b': 2, 'c': 3},\n",
       "  '__vsc_ipynb_file__': 'c:\\\\Personal Folder\\\\Compass Academy Data_Engineering\\\\fundamentals\\\\dictionaries.ipynb',\n",
       "  '_i': 'new_dict = dict(globals())',\n",
       "  '_ii': 'new_dict',\n",
       "  '_iii': 'new_dict = globals()',\n",
       "  '_i1': \"d = {'a': 1, 'b': 2, 'c':3}\",\n",
       "  'd': {'b': 2, 'c': 3},\n",
       "  '_i2': 'd',\n",
       "  '_2': {'a': 1, 'b': 2, 'c': 3},\n",
       "  '_i3': 'type(d)',\n",
       "  '_3': dict,\n",
       "  '_i4': \"person = {\\n    'First_name': 'Eric',\\n    'Last_name': 'Idle',\\n    'Year-born': 2016\\n}\",\n",
       "  'person': {'First_name': 'Eric',\n",
       "   'Last_name': 'Idle',\n",
       "   'Year-born': 1943,\n",
       "   'Month_borm': 'March'},\n",
       "  '_i5': \"person['Year-born']\",\n",
       "  '_5': 2016,\n",
       "  '_i6': \"person['Year-born'] = 1943\",\n",
       "  '_i7': 'person',\n",
       "  '_7': {'First_name': 'Eric',\n",
       "   'Last_name': 'Idle',\n",
       "   'Year-born': 1943,\n",
       "   'Month_borm': 'March'},\n",
       "  '_i8': \"person['Month_borm'] = 'March'\",\n",
       "  '_i9': 'person',\n",
       "  '_9': {'First_name': 'Eric',\n",
       "   'Last_name': 'Idle',\n",
       "   'Year-born': 1943,\n",
       "   'Month_borm': 'March'},\n",
       "  '_i10': \"d = {3.14: 'pi', 2: 'even', 'prime': 7}\",\n",
       "  '_i11': 'd',\n",
       "  '_11': {3.14: 'pi', 2: 'even', 'prime': 7},\n",
       "  '_i12': 'd[3.14]',\n",
       "  '_12': 'pi',\n",
       "  '_i13': 'd[2]',\n",
       "  '_13': 'even',\n",
       "  '_i14': \"d['prime']\",\n",
       "  '_14': 7,\n",
       "  '_i15': 'l = [1, 2, 3]',\n",
       "  'l': [1, 2, 3],\n",
       "  '_i16': 'd = {l:100}',\n",
       "  '_i17': 'hash(100)',\n",
       "  '_17': 100,\n",
       "  '_i18': 'hash(3.14)',\n",
       "  '_18': 322818021289917443,\n",
       "  '_i19': 'hash(l)',\n",
       "  '_i20': 't = 1, 2, 3, 4',\n",
       "  't': ([1, 2], 3, 4),\n",
       "  '_i21': 'hash(t)',\n",
       "  '_21': 590899387183067792,\n",
       "  '_i22': 't = ([1, 2], 3, 4)',\n",
       "  '_i23': 'hash(t)',\n",
       "  '_i24': 'd = {\\n    (0, 0): \"Origin\",\\n    (1, 0): \"Unit-X\",\\n    (0, 1): \"Unit-Y\"\\n}',\n",
       "  '_i25': 'd',\n",
       "  '_25': {(0, 0): 'Origin', (1, 0): 'Unit-X', (0, 1): 'Unit-Y'},\n",
       "  '_i26': 'd[(0, 0)]',\n",
       "  '_26': 'Origin',\n",
       "  '_i27': \"d = {'a': 1, 'b': 2, 'c': 3}\",\n",
       "  '_i28': 'id(d)',\n",
       "  '_28': 2082426036736,\n",
       "  '_i29': \"del d['a']\",\n",
       "  '_i30': 'id(id)',\n",
       "  '_30': 2082328240640,\n",
       "  '_i31': 'd',\n",
       "  '_31': {'b': 2, 'c': 3},\n",
       "  '_i32': 'globals()',\n",
       "  '_32': {...},\n",
       "  '_i33': 'new_dict = globals()',\n",
       "  'new_dict': {...},\n",
       "  '_i34': 'new_dict',\n",
       "  '_34': {...},\n",
       "  '_i35': 'new_dict = dict(globals())',\n",
       "  '_i36': 'new_dict'},\n",
       " '_i35': 'new_dict = dict(globals())'}"
      ]
     },
     "execution_count": 36,
     "metadata": {},
     "output_type": "execute_result"
    }
   ],
   "source": [
    "new_dict"
   ]
  },
  {
   "cell_type": "code",
   "execution_count": 37,
   "metadata": {},
   "outputs": [],
   "source": [
    "import pandas as pd"
   ]
  },
  {
   "cell_type": "code",
   "execution_count": 38,
   "metadata": {},
   "outputs": [
    {
     "ename": "ValueError",
     "evalue": "All arrays must be of the same length",
     "output_type": "error",
     "traceback": [
      "\u001b[1;31m---------------------------------------------------------------------------\u001b[0m",
      "\u001b[1;31mValueError\u001b[0m                                Traceback (most recent call last)",
      "Cell \u001b[1;32mIn[38], line 1\u001b[0m\n\u001b[1;32m----> 1\u001b[0m \u001b[43mpd\u001b[49m\u001b[38;5;241;43m.\u001b[39;49m\u001b[43mDataFrame\u001b[49m\u001b[43m(\u001b[49m\u001b[43mnew_dict\u001b[49m\u001b[43m)\u001b[49m\n",
      "File \u001b[1;32mc:\\Personal Folder\\Compass Academy Data_Engineering\\fundamentals\\py3ll\\Lib\\site-packages\\pandas\\core\\frame.py:778\u001b[0m, in \u001b[0;36mDataFrame.__init__\u001b[1;34m(self, data, index, columns, dtype, copy)\u001b[0m\n\u001b[0;32m    772\u001b[0m     mgr \u001b[38;5;241m=\u001b[39m \u001b[38;5;28mself\u001b[39m\u001b[38;5;241m.\u001b[39m_init_mgr(\n\u001b[0;32m    773\u001b[0m         data, axes\u001b[38;5;241m=\u001b[39m{\u001b[38;5;124m\"\u001b[39m\u001b[38;5;124mindex\u001b[39m\u001b[38;5;124m\"\u001b[39m: index, \u001b[38;5;124m\"\u001b[39m\u001b[38;5;124mcolumns\u001b[39m\u001b[38;5;124m\"\u001b[39m: columns}, dtype\u001b[38;5;241m=\u001b[39mdtype, copy\u001b[38;5;241m=\u001b[39mcopy\n\u001b[0;32m    774\u001b[0m     )\n\u001b[0;32m    776\u001b[0m \u001b[38;5;28;01melif\u001b[39;00m \u001b[38;5;28misinstance\u001b[39m(data, \u001b[38;5;28mdict\u001b[39m):\n\u001b[0;32m    777\u001b[0m     \u001b[38;5;66;03m# GH#38939 de facto copy defaults to False only in non-dict cases\u001b[39;00m\n\u001b[1;32m--> 778\u001b[0m     mgr \u001b[38;5;241m=\u001b[39m \u001b[43mdict_to_mgr\u001b[49m\u001b[43m(\u001b[49m\u001b[43mdata\u001b[49m\u001b[43m,\u001b[49m\u001b[43m \u001b[49m\u001b[43mindex\u001b[49m\u001b[43m,\u001b[49m\u001b[43m \u001b[49m\u001b[43mcolumns\u001b[49m\u001b[43m,\u001b[49m\u001b[43m \u001b[49m\u001b[43mdtype\u001b[49m\u001b[38;5;241;43m=\u001b[39;49m\u001b[43mdtype\u001b[49m\u001b[43m,\u001b[49m\u001b[43m \u001b[49m\u001b[43mcopy\u001b[49m\u001b[38;5;241;43m=\u001b[39;49m\u001b[43mcopy\u001b[49m\u001b[43m,\u001b[49m\u001b[43m \u001b[49m\u001b[43mtyp\u001b[49m\u001b[38;5;241;43m=\u001b[39;49m\u001b[43mmanager\u001b[49m\u001b[43m)\u001b[49m\n\u001b[0;32m    779\u001b[0m \u001b[38;5;28;01melif\u001b[39;00m \u001b[38;5;28misinstance\u001b[39m(data, ma\u001b[38;5;241m.\u001b[39mMaskedArray):\n\u001b[0;32m    780\u001b[0m     \u001b[38;5;28;01mfrom\u001b[39;00m \u001b[38;5;21;01mnumpy\u001b[39;00m\u001b[38;5;21;01m.\u001b[39;00m\u001b[38;5;21;01mma\u001b[39;00m \u001b[38;5;28;01mimport\u001b[39;00m mrecords\n",
      "File \u001b[1;32mc:\\Personal Folder\\Compass Academy Data_Engineering\\fundamentals\\py3ll\\Lib\\site-packages\\pandas\\core\\internals\\construction.py:503\u001b[0m, in \u001b[0;36mdict_to_mgr\u001b[1;34m(data, index, columns, dtype, typ, copy)\u001b[0m\n\u001b[0;32m    499\u001b[0m     \u001b[38;5;28;01melse\u001b[39;00m:\n\u001b[0;32m    500\u001b[0m         \u001b[38;5;66;03m# dtype check to exclude e.g. range objects, scalars\u001b[39;00m\n\u001b[0;32m    501\u001b[0m         arrays \u001b[38;5;241m=\u001b[39m [x\u001b[38;5;241m.\u001b[39mcopy() \u001b[38;5;28;01mif\u001b[39;00m \u001b[38;5;28mhasattr\u001b[39m(x, \u001b[38;5;124m\"\u001b[39m\u001b[38;5;124mdtype\u001b[39m\u001b[38;5;124m\"\u001b[39m) \u001b[38;5;28;01melse\u001b[39;00m x \u001b[38;5;28;01mfor\u001b[39;00m x \u001b[38;5;129;01min\u001b[39;00m arrays]\n\u001b[1;32m--> 503\u001b[0m \u001b[38;5;28;01mreturn\u001b[39;00m \u001b[43marrays_to_mgr\u001b[49m\u001b[43m(\u001b[49m\u001b[43marrays\u001b[49m\u001b[43m,\u001b[49m\u001b[43m \u001b[49m\u001b[43mcolumns\u001b[49m\u001b[43m,\u001b[49m\u001b[43m \u001b[49m\u001b[43mindex\u001b[49m\u001b[43m,\u001b[49m\u001b[43m \u001b[49m\u001b[43mdtype\u001b[49m\u001b[38;5;241;43m=\u001b[39;49m\u001b[43mdtype\u001b[49m\u001b[43m,\u001b[49m\u001b[43m \u001b[49m\u001b[43mtyp\u001b[49m\u001b[38;5;241;43m=\u001b[39;49m\u001b[43mtyp\u001b[49m\u001b[43m,\u001b[49m\u001b[43m \u001b[49m\u001b[43mconsolidate\u001b[49m\u001b[38;5;241;43m=\u001b[39;49m\u001b[43mcopy\u001b[49m\u001b[43m)\u001b[49m\n",
      "File \u001b[1;32mc:\\Personal Folder\\Compass Academy Data_Engineering\\fundamentals\\py3ll\\Lib\\site-packages\\pandas\\core\\internals\\construction.py:114\u001b[0m, in \u001b[0;36marrays_to_mgr\u001b[1;34m(arrays, columns, index, dtype, verify_integrity, typ, consolidate)\u001b[0m\n\u001b[0;32m    111\u001b[0m \u001b[38;5;28;01mif\u001b[39;00m verify_integrity:\n\u001b[0;32m    112\u001b[0m     \u001b[38;5;66;03m# figure out the index, if necessary\u001b[39;00m\n\u001b[0;32m    113\u001b[0m     \u001b[38;5;28;01mif\u001b[39;00m index \u001b[38;5;129;01mis\u001b[39;00m \u001b[38;5;28;01mNone\u001b[39;00m:\n\u001b[1;32m--> 114\u001b[0m         index \u001b[38;5;241m=\u001b[39m \u001b[43m_extract_index\u001b[49m\u001b[43m(\u001b[49m\u001b[43marrays\u001b[49m\u001b[43m)\u001b[49m\n\u001b[0;32m    115\u001b[0m     \u001b[38;5;28;01melse\u001b[39;00m:\n\u001b[0;32m    116\u001b[0m         index \u001b[38;5;241m=\u001b[39m ensure_index(index)\n",
      "File \u001b[1;32mc:\\Personal Folder\\Compass Academy Data_Engineering\\fundamentals\\py3ll\\Lib\\site-packages\\pandas\\core\\internals\\construction.py:677\u001b[0m, in \u001b[0;36m_extract_index\u001b[1;34m(data)\u001b[0m\n\u001b[0;32m    675\u001b[0m lengths \u001b[38;5;241m=\u001b[39m \u001b[38;5;28mlist\u001b[39m(\u001b[38;5;28mset\u001b[39m(raw_lengths))\n\u001b[0;32m    676\u001b[0m \u001b[38;5;28;01mif\u001b[39;00m \u001b[38;5;28mlen\u001b[39m(lengths) \u001b[38;5;241m>\u001b[39m \u001b[38;5;241m1\u001b[39m:\n\u001b[1;32m--> 677\u001b[0m     \u001b[38;5;28;01mraise\u001b[39;00m \u001b[38;5;167;01mValueError\u001b[39;00m(\u001b[38;5;124m\"\u001b[39m\u001b[38;5;124mAll arrays must be of the same length\u001b[39m\u001b[38;5;124m\"\u001b[39m)\n\u001b[0;32m    679\u001b[0m \u001b[38;5;28;01mif\u001b[39;00m have_dicts:\n\u001b[0;32m    680\u001b[0m     \u001b[38;5;28;01mraise\u001b[39;00m \u001b[38;5;167;01mValueError\u001b[39;00m(\n\u001b[0;32m    681\u001b[0m         \u001b[38;5;124m\"\u001b[39m\u001b[38;5;124mMixing dicts with non-Series may lead to ambiguous ordering.\u001b[39m\u001b[38;5;124m\"\u001b[39m\n\u001b[0;32m    682\u001b[0m     )\n",
      "\u001b[1;31mValueError\u001b[0m: All arrays must be of the same length"
     ]
    }
   ],
   "source": [
    "pd.DataFrame(new_dict)"
   ]
  },
  {
   "cell_type": "code",
   "execution_count": 39,
   "metadata": {},
   "outputs": [
    {
     "data": {
      "text/plain": [
       "dict"
      ]
     },
     "execution_count": 39,
     "metadata": {},
     "output_type": "execute_result"
    }
   ],
   "source": [
    "type(globals())"
   ]
  },
  {
   "cell_type": "code",
   "execution_count": 40,
   "metadata": {},
   "outputs": [],
   "source": [
    "p = globals()['person']"
   ]
  },
  {
   "cell_type": "code",
   "execution_count": 41,
   "metadata": {},
   "outputs": [
    {
     "data": {
      "text/plain": [
       "{'First_name': 'Eric',\n",
       " 'Last_name': 'Idle',\n",
       " 'Year-born': 1943,\n",
       " 'Month_borm': 'March'}"
      ]
     },
     "execution_count": 41,
     "metadata": {},
     "output_type": "execute_result"
    }
   ],
   "source": [
    "p"
   ]
  },
  {
   "cell_type": "code",
   "execution_count": 42,
   "metadata": {},
   "outputs": [
    {
     "data": {
      "text/plain": [
       "{'First_name': 'Eric',\n",
       " 'Last_name': 'Idle',\n",
       " 'Year-born': 1943,\n",
       " 'Month_borm': 'March'}"
      ]
     },
     "execution_count": 42,
     "metadata": {},
     "output_type": "execute_result"
    }
   ],
   "source": [
    "person"
   ]
  },
  {
   "cell_type": "code",
   "execution_count": 43,
   "metadata": {},
   "outputs": [
    {
     "data": {
      "text/plain": [
       "True"
      ]
     },
     "execution_count": 43,
     "metadata": {},
     "output_type": "execute_result"
    }
   ],
   "source": [
    "p is person"
   ]
  },
  {
   "cell_type": "markdown",
   "metadata": {},
   "source": [
    "### Iterating Dictionaries"
   ]
  },
  {
   "cell_type": "code",
   "execution_count": 44,
   "metadata": {},
   "outputs": [],
   "source": [
    "d = {\n",
    "    'Key1': 1,\n",
    "    'Key2': 2,\n",
    "    3.14: 'pi'\n",
    "}"
   ]
  },
  {
   "cell_type": "code",
   "execution_count": 45,
   "metadata": {},
   "outputs": [
    {
     "name": "stdout",
     "output_type": "stream",
     "text": [
      "Key1\n",
      "Key2\n",
      "3.14\n"
     ]
    }
   ],
   "source": [
    "for k in d:\n",
    "    print(k)"
   ]
  },
  {
   "cell_type": "code",
   "execution_count": 46,
   "metadata": {},
   "outputs": [
    {
     "name": "stdout",
     "output_type": "stream",
     "text": [
      "d[Key1] = 1\n",
      "d[Key2] = 2\n",
      "d[3.14] = pi\n"
     ]
    }
   ],
   "source": [
    "for k in d:\n",
    "    print(f'd[{k}] = {d[k]}')"
   ]
  },
  {
   "cell_type": "code",
   "execution_count": 47,
   "metadata": {},
   "outputs": [
    {
     "name": "stdout",
     "output_type": "stream",
     "text": [
      "1\n",
      "2\n",
      "pi\n"
     ]
    }
   ],
   "source": [
    "for k in d:\n",
    "    print(f'{d[k]}')"
   ]
  },
  {
   "cell_type": "code",
   "execution_count": 49,
   "metadata": {},
   "outputs": [
    {
     "name": "stdout",
     "output_type": "stream",
     "text": [
      "1\n",
      "2\n",
      "pi\n"
     ]
    }
   ],
   "source": [
    "for v in d.values():\n",
    "    print(v)"
   ]
  },
  {
   "cell_type": "code",
   "execution_count": 51,
   "metadata": {},
   "outputs": [
    {
     "name": "stdout",
     "output_type": "stream",
     "text": [
      "('Key1', 1)\n",
      "('Key2', 2)\n",
      "(3.14, 'pi')\n"
     ]
    }
   ],
   "source": [
    "for t in d.items():\n",
    "    print(t)"
   ]
  },
  {
   "cell_type": "code",
   "execution_count": 53,
   "metadata": {},
   "outputs": [
    {
     "name": "stdout",
     "output_type": "stream",
     "text": [
      "Key1 1\n",
      "Key2 2\n",
      "3.14 pi\n"
     ]
    }
   ],
   "source": [
    "for t in d.items():\n",
    "    key, value = t\n",
    "    print(key, value)"
   ]
  },
  {
   "cell_type": "code",
   "execution_count": 54,
   "metadata": {},
   "outputs": [
    {
     "name": "stdout",
     "output_type": "stream",
     "text": [
      "Key1 1\n",
      "Key2 2\n",
      "3.14 pi\n"
     ]
    }
   ],
   "source": [
    "for key, value in d.items():\n",
    "    print(key, value)"
   ]
  },
  {
   "cell_type": "code",
   "execution_count": 55,
   "metadata": {},
   "outputs": [
    {
     "name": "stdout",
     "output_type": "stream",
     "text": [
      "d[Key1] = 1\n",
      "d[Key2] = 2\n",
      "d[3.14] = pi\n"
     ]
    }
   ],
   "source": [
    "for key, value in d.items():\n",
    "        print(f'd[{key}] = {value}')"
   ]
  },
  {
   "cell_type": "code",
   "execution_count": 56,
   "metadata": {},
   "outputs": [],
   "source": [
    "d['x'] = 100"
   ]
  },
  {
   "cell_type": "code",
   "execution_count": 57,
   "metadata": {},
   "outputs": [
    {
     "data": {
      "text/plain": [
       "{'Key1': 1, 'Key2': 2, 3.14: 'pi', 'x': 100}"
      ]
     },
     "execution_count": 57,
     "metadata": {},
     "output_type": "execute_result"
    }
   ],
   "source": [
    "d"
   ]
  },
  {
   "cell_type": "code",
   "execution_count": 58,
   "metadata": {},
   "outputs": [
    {
     "name": "stdout",
     "output_type": "stream",
     "text": [
      "Key1\n",
      "Key2\n",
      "3.14\n",
      "x\n"
     ]
    }
   ],
   "source": [
    "for k in d:\n",
    "    print(k)"
   ]
  },
  {
   "cell_type": "code",
   "execution_count": 59,
   "metadata": {},
   "outputs": [],
   "source": [
    "d['Key1'] = 100"
   ]
  },
  {
   "cell_type": "code",
   "execution_count": 60,
   "metadata": {},
   "outputs": [
    {
     "data": {
      "text/plain": [
       "{'Key1': 100, 'Key2': 2, 3.14: 'pi', 'x': 100}"
      ]
     },
     "execution_count": 60,
     "metadata": {},
     "output_type": "execute_result"
    }
   ],
   "source": [
    "d"
   ]
  },
  {
   "cell_type": "code",
   "execution_count": 61,
   "metadata": {},
   "outputs": [
    {
     "name": "stdout",
     "output_type": "stream",
     "text": [
      "Key1\n",
      "Key2\n",
      "3.14\n",
      "x\n"
     ]
    }
   ],
   "source": [
    "for k in d:\n",
    "    print(k)"
   ]
  },
  {
   "cell_type": "code",
   "execution_count": 62,
   "metadata": {},
   "outputs": [],
   "source": [
    "del d['Key1']"
   ]
  },
  {
   "cell_type": "code",
   "execution_count": 63,
   "metadata": {},
   "outputs": [
    {
     "data": {
      "text/plain": [
       "{'Key2': 2, 3.14: 'pi', 'x': 100}"
      ]
     },
     "execution_count": 63,
     "metadata": {},
     "output_type": "execute_result"
    }
   ],
   "source": [
    "d"
   ]
  },
  {
   "cell_type": "code",
   "execution_count": 64,
   "metadata": {},
   "outputs": [],
   "source": [
    "d['Key1'] = 100"
   ]
  },
  {
   "cell_type": "code",
   "execution_count": 65,
   "metadata": {},
   "outputs": [
    {
     "data": {
      "text/plain": [
       "{'Key2': 2, 3.14: 'pi', 'x': 100, 'Key1': 100}"
      ]
     },
     "execution_count": 65,
     "metadata": {},
     "output_type": "execute_result"
    }
   ],
   "source": [
    "d"
   ]
  },
  {
   "cell_type": "markdown",
   "metadata": {},
   "source": [
    "### Working with Dictionaries"
   ]
  },
  {
   "cell_type": "code",
   "execution_count": 69,
   "metadata": {},
   "outputs": [
    {
     "data": {
      "text/plain": [
       "{'Open': 100, 'High': 110, 'Low': 95, 'Close': 110, 3.14: 'pi'}"
      ]
     },
     "execution_count": 69,
     "metadata": {},
     "output_type": "execute_result"
    }
   ],
   "source": [
    "data = {\n",
    "    'Open': 100,\n",
    "    'High': 110,\n",
    "    'Low': 95,\n",
    "    'Close': 110,\n",
    "    3.14: 'pi'\n",
    "}\n",
    "data"
   ]
  },
  {
   "cell_type": "code",
   "execution_count": 67,
   "metadata": {},
   "outputs": [
    {
     "data": {
      "text/plain": [
       "True"
      ]
     },
     "execution_count": 67,
     "metadata": {},
     "output_type": "execute_result"
    }
   ],
   "source": [
    "'Open' in data"
   ]
  },
  {
   "cell_type": "code",
   "execution_count": 70,
   "metadata": {},
   "outputs": [
    {
     "data": {
      "text/plain": [
       "True"
      ]
     },
     "execution_count": 70,
     "metadata": {},
     "output_type": "execute_result"
    }
   ],
   "source": [
    "3.14 in data"
   ]
  },
  {
   "cell_type": "code",
   "execution_count": 71,
   "metadata": {},
   "outputs": [
    {
     "data": {
      "text/plain": [
       "False"
      ]
     },
     "execution_count": 71,
     "metadata": {},
     "output_type": "execute_result"
    }
   ],
   "source": [
    "'Open' not in data"
   ]
  },
  {
   "cell_type": "code",
   "execution_count": 72,
   "metadata": {},
   "outputs": [
    {
     "data": {
      "text/plain": [
       "True"
      ]
     },
     "execution_count": 72,
     "metadata": {},
     "output_type": "execute_result"
    }
   ],
   "source": [
    "'x' not in data"
   ]
  },
  {
   "cell_type": "code",
   "execution_count": 73,
   "metadata": {},
   "outputs": [],
   "source": [
    "l = [1, 2, 3, 4]"
   ]
  },
  {
   "cell_type": "code",
   "execution_count": 74,
   "metadata": {},
   "outputs": [
    {
     "data": {
      "text/plain": [
       "True"
      ]
     },
     "execution_count": 74,
     "metadata": {},
     "output_type": "execute_result"
    }
   ],
   "source": [
    "3 in l"
   ]
  },
  {
   "cell_type": "code",
   "execution_count": 75,
   "metadata": {},
   "outputs": [
    {
     "data": {
      "text/plain": [
       "True"
      ]
     },
     "execution_count": 75,
     "metadata": {},
     "output_type": "execute_result"
    }
   ],
   "source": [
    "10 not in l"
   ]
  },
  {
   "cell_type": "code",
   "execution_count": 76,
   "metadata": {},
   "outputs": [
    {
     "data": {
      "text/plain": [
       "{'Open': 100, 'High': 110, 'Low': 95, 'Close': 110, 3.14: 'pi'}"
      ]
     },
     "execution_count": 76,
     "metadata": {},
     "output_type": "execute_result"
    }
   ],
   "source": [
    "data"
   ]
  },
  {
   "cell_type": "code",
   "execution_count": 77,
   "metadata": {},
   "outputs": [],
   "source": [
    "data.clear()"
   ]
  },
  {
   "cell_type": "code",
   "execution_count": 78,
   "metadata": {},
   "outputs": [
    {
     "data": {
      "text/plain": [
       "{}"
      ]
     },
     "execution_count": 78,
     "metadata": {},
     "output_type": "execute_result"
    }
   ],
   "source": [
    "data"
   ]
  },
  {
   "cell_type": "code",
   "execution_count": 79,
   "metadata": {},
   "outputs": [
    {
     "data": {
      "text/plain": [
       "0"
      ]
     },
     "execution_count": 79,
     "metadata": {},
     "output_type": "execute_result"
    }
   ],
   "source": [
    "len(data)"
   ]
  },
  {
   "cell_type": "code",
   "execution_count": 80,
   "metadata": {},
   "outputs": [
    {
     "data": {
      "text/plain": [
       "{'Open': 100, 'High': 110, 'Low': 95, 'Close': 110, 3.14: 'pi'}"
      ]
     },
     "execution_count": 80,
     "metadata": {},
     "output_type": "execute_result"
    }
   ],
   "source": [
    "data = {\n",
    "    'Open': 100,\n",
    "    'High': 110,\n",
    "    'Low': 95,\n",
    "    'Close': 110,\n",
    "    3.14: 'pi'\n",
    "}\n",
    "data"
   ]
  },
  {
   "cell_type": "code",
   "execution_count": 81,
   "metadata": {},
   "outputs": [
    {
     "data": {
      "text/plain": [
       "5"
      ]
     },
     "execution_count": 81,
     "metadata": {},
     "output_type": "execute_result"
    }
   ],
   "source": [
    "len(data)"
   ]
  },
  {
   "cell_type": "code",
   "execution_count": 82,
   "metadata": {},
   "outputs": [],
   "source": [
    "data_copy = data.copy()"
   ]
  },
  {
   "cell_type": "code",
   "execution_count": 83,
   "metadata": {},
   "outputs": [
    {
     "data": {
      "text/plain": [
       "{'Open': 100, 'High': 110, 'Low': 95, 'Close': 110, 3.14: 'pi'}"
      ]
     },
     "execution_count": 83,
     "metadata": {},
     "output_type": "execute_result"
    }
   ],
   "source": [
    "data"
   ]
  },
  {
   "cell_type": "code",
   "execution_count": 84,
   "metadata": {},
   "outputs": [
    {
     "data": {
      "text/plain": [
       "{'Open': 100, 'High': 110, 'Low': 95, 'Close': 110, 3.14: 'pi'}"
      ]
     },
     "execution_count": 84,
     "metadata": {},
     "output_type": "execute_result"
    }
   ],
   "source": [
    "data_copy"
   ]
  },
  {
   "cell_type": "code",
   "execution_count": 85,
   "metadata": {},
   "outputs": [
    {
     "data": {
      "text/plain": [
       "True"
      ]
     },
     "execution_count": 85,
     "metadata": {},
     "output_type": "execute_result"
    }
   ],
   "source": [
    "data == data_copy"
   ]
  },
  {
   "cell_type": "code",
   "execution_count": 86,
   "metadata": {},
   "outputs": [
    {
     "data": {
      "text/plain": [
       "False"
      ]
     },
     "execution_count": 86,
     "metadata": {},
     "output_type": "execute_result"
    }
   ],
   "source": [
    "data is data_copy"
   ]
  },
  {
   "cell_type": "code",
   "execution_count": 87,
   "metadata": {},
   "outputs": [],
   "source": [
    "data_copy['x'] = 100"
   ]
  },
  {
   "cell_type": "code",
   "execution_count": 88,
   "metadata": {},
   "outputs": [
    {
     "data": {
      "text/plain": [
       "{'Open': 100, 'High': 110, 'Low': 95, 'Close': 110, 3.14: 'pi', 'x': 100}"
      ]
     },
     "execution_count": 88,
     "metadata": {},
     "output_type": "execute_result"
    }
   ],
   "source": [
    "data_copy"
   ]
  },
  {
   "cell_type": "code",
   "execution_count": 89,
   "metadata": {},
   "outputs": [
    {
     "data": {
      "text/plain": [
       "{'Open': 100, 'High': 110, 'Low': 95, 'Close': 110, 3.14: 'pi'}"
      ]
     },
     "execution_count": 89,
     "metadata": {},
     "output_type": "execute_result"
    }
   ],
   "source": [
    "data"
   ]
  },
  {
   "cell_type": "code",
   "execution_count": 90,
   "metadata": {},
   "outputs": [],
   "source": [
    "from copy import deepcopy"
   ]
  },
  {
   "cell_type": "code",
   "execution_count": 91,
   "metadata": {},
   "outputs": [],
   "source": [
    "data_copy = deepcopy(data)"
   ]
  },
  {
   "cell_type": "code",
   "execution_count": 92,
   "metadata": {},
   "outputs": [
    {
     "data": {
      "text/plain": [
       "False"
      ]
     },
     "execution_count": 92,
     "metadata": {},
     "output_type": "execute_result"
    }
   ],
   "source": [
    "data_copy is data"
   ]
  },
  {
   "cell_type": "code",
   "execution_count": 93,
   "metadata": {},
   "outputs": [],
   "source": [
    "d = {\n",
    "    'a': [1, 2, 3],\n",
    "    'b':{\n",
    "        'x': 0,\n",
    "        'y': 0\n",
    "    }\n",
    "}"
   ]
  },
  {
   "cell_type": "code",
   "execution_count": 94,
   "metadata": {},
   "outputs": [
    {
     "data": {
      "text/plain": [
       "{'a': [1, 2, 3], 'b': {'x': 0, 'y': 0}}"
      ]
     },
     "execution_count": 94,
     "metadata": {},
     "output_type": "execute_result"
    }
   ],
   "source": [
    "d"
   ]
  },
  {
   "cell_type": "code",
   "execution_count": 95,
   "metadata": {},
   "outputs": [],
   "source": [
    "d_copy = data.copy()"
   ]
  },
  {
   "cell_type": "code",
   "execution_count": 96,
   "metadata": {},
   "outputs": [
    {
     "data": {
      "text/plain": [
       "{'Open': 100, 'High': 110, 'Low': 95, 'Close': 110, 3.14: 'pi'}"
      ]
     },
     "execution_count": 96,
     "metadata": {},
     "output_type": "execute_result"
    }
   ],
   "source": [
    "d_copy"
   ]
  },
  {
   "cell_type": "code",
   "execution_count": 97,
   "metadata": {},
   "outputs": [
    {
     "data": {
      "text/plain": [
       "False"
      ]
     },
     "execution_count": 97,
     "metadata": {},
     "output_type": "execute_result"
    }
   ],
   "source": [
    "d_copy is d"
   ]
  },
  {
   "cell_type": "code",
   "execution_count": 98,
   "metadata": {},
   "outputs": [],
   "source": [
    "d['b'] = 100"
   ]
  },
  {
   "cell_type": "code",
   "execution_count": 99,
   "metadata": {},
   "outputs": [
    {
     "data": {
      "text/plain": [
       "{'Open': 100, 'High': 110, 'Low': 95, 'Close': 110, 3.14: 'pi'}"
      ]
     },
     "execution_count": 99,
     "metadata": {},
     "output_type": "execute_result"
    }
   ],
   "source": [
    "d_copy"
   ]
  },
  {
   "cell_type": "code",
   "execution_count": 100,
   "metadata": {},
   "outputs": [],
   "source": [
    "d = {\n",
    "    'a': [1, 2, 3],\n",
    "    'b':{\n",
    "        'x': 0,\n",
    "        'y': 0\n",
    "    }\n",
    "}"
   ]
  },
  {
   "cell_type": "code",
   "execution_count": 103,
   "metadata": {},
   "outputs": [],
   "source": [
    "d_copy = d.copy()"
   ]
  },
  {
   "cell_type": "code",
   "execution_count": 104,
   "metadata": {},
   "outputs": [
    {
     "data": {
      "text/plain": [
       "({'a': [1, 2, 3], 'b': {'x': 0, 'y': 0}},\n",
       " {'a': [1, 2, 3], 'b': {'x': 0, 'y': 0}})"
      ]
     },
     "execution_count": 104,
     "metadata": {},
     "output_type": "execute_result"
    }
   ],
   "source": [
    "d, d_copy"
   ]
  },
  {
   "cell_type": "code",
   "execution_count": 105,
   "metadata": {},
   "outputs": [],
   "source": [
    "d['a'].append(4)"
   ]
  },
  {
   "cell_type": "code",
   "execution_count": 106,
   "metadata": {},
   "outputs": [
    {
     "data": {
      "text/plain": [
       "({'a': [1, 2, 3, 4], 'b': {'x': 0, 'y': 0}},\n",
       " {'a': [1, 2, 3, 4], 'b': {'x': 0, 'y': 0}})"
      ]
     },
     "execution_count": 106,
     "metadata": {},
     "output_type": "execute_result"
    }
   ],
   "source": [
    "d, d_copy"
   ]
  },
  {
   "cell_type": "code",
   "execution_count": 107,
   "metadata": {},
   "outputs": [
    {
     "data": {
      "text/plain": [
       "False"
      ]
     },
     "execution_count": 107,
     "metadata": {},
     "output_type": "execute_result"
    }
   ],
   "source": [
    "d is d_copy"
   ]
  },
  {
   "cell_type": "code",
   "execution_count": 108,
   "metadata": {},
   "outputs": [],
   "source": [
    "d_copy = deepcopy(d)"
   ]
  },
  {
   "cell_type": "code",
   "execution_count": 109,
   "metadata": {},
   "outputs": [
    {
     "data": {
      "text/plain": [
       "{'a': [1, 2, 3, 4], 'b': {'x': 0, 'y': 0}}"
      ]
     },
     "execution_count": 109,
     "metadata": {},
     "output_type": "execute_result"
    }
   ],
   "source": [
    "d_copy"
   ]
  },
  {
   "cell_type": "code",
   "execution_count": 110,
   "metadata": {},
   "outputs": [
    {
     "data": {
      "text/plain": [
       "{'a': [1, 2, 3, 4], 'b': {'x': 0, 'y': 0}}"
      ]
     },
     "execution_count": 110,
     "metadata": {},
     "output_type": "execute_result"
    }
   ],
   "source": [
    "d"
   ]
  },
  {
   "cell_type": "code",
   "execution_count": 111,
   "metadata": {},
   "outputs": [],
   "source": [
    "d_copy['a'].append(5)"
   ]
  },
  {
   "cell_type": "code",
   "execution_count": 112,
   "metadata": {},
   "outputs": [
    {
     "data": {
      "text/plain": [
       "{'a': [1, 2, 3, 4, 5], 'b': {'x': 0, 'y': 0}}"
      ]
     },
     "execution_count": 112,
     "metadata": {},
     "output_type": "execute_result"
    }
   ],
   "source": [
    "d_copy"
   ]
  },
  {
   "cell_type": "code",
   "execution_count": 113,
   "metadata": {},
   "outputs": [
    {
     "data": {
      "text/plain": [
       "{'a': [1, 2, 3, 4], 'b': {'x': 0, 'y': 0}}"
      ]
     },
     "execution_count": 113,
     "metadata": {},
     "output_type": "execute_result"
    }
   ],
   "source": [
    "d"
   ]
  },
  {
   "cell_type": "code",
   "execution_count": 114,
   "metadata": {},
   "outputs": [],
   "source": [
    "d = dict(a=1, b=2)"
   ]
  },
  {
   "cell_type": "code",
   "execution_count": 115,
   "metadata": {},
   "outputs": [
    {
     "data": {
      "text/plain": [
       "{'a': 1, 'b': 2}"
      ]
     },
     "execution_count": 115,
     "metadata": {},
     "output_type": "execute_result"
    }
   ],
   "source": [
    "d"
   ]
  },
  {
   "cell_type": "code",
   "execution_count": 116,
   "metadata": {},
   "outputs": [],
   "source": [
    "d = {3.14: 'pi', 2: 'even'}"
   ]
  },
  {
   "cell_type": "code",
   "execution_count": 117,
   "metadata": {},
   "outputs": [
    {
     "data": {
      "text/plain": [
       "{3.14: 'pi', 2: 'even'}"
      ]
     },
     "execution_count": 117,
     "metadata": {},
     "output_type": "execute_result"
    }
   ],
   "source": [
    "d"
   ]
  },
  {
   "cell_type": "code",
   "execution_count": 118,
   "metadata": {},
   "outputs": [
    {
     "ename": "SyntaxError",
     "evalue": "expression cannot contain assignment, perhaps you meant \"==\"? (2998508676.py, line 1)",
     "output_type": "error",
     "traceback": [
      "\u001b[1;36m  Cell \u001b[1;32mIn[118], line 1\u001b[1;36m\u001b[0m\n\u001b[1;33m    d = dict(2 = 'even')\u001b[0m\n\u001b[1;37m             ^\u001b[0m\n\u001b[1;31mSyntaxError\u001b[0m\u001b[1;31m:\u001b[0m expression cannot contain assignment, perhaps you meant \"==\"?\n"
     ]
    }
   ],
   "source": [
    "d = dict(2 = 'even')"
   ]
  },
  {
   "cell_type": "code",
   "execution_count": 120,
   "metadata": {},
   "outputs": [
    {
     "data": {
      "text/plain": [
       "{'Open': 0, 'High': 0, 'Low': 0, 'Close': 0}"
      ]
     },
     "execution_count": 120,
     "metadata": {},
     "output_type": "execute_result"
    }
   ],
   "source": [
    "d = {\n",
    "    'Open': 0,\n",
    "    'High': 0,\n",
    "    'Low': 0,\n",
    "    'Close': 0,\n",
    "}\n",
    "data"
   ]
  },
  {
   "cell_type": "code",
   "execution_count": 121,
   "metadata": {},
   "outputs": [
    {
     "data": {
      "text/plain": [
       "dict"
      ]
     },
     "execution_count": 121,
     "metadata": {},
     "output_type": "execute_result"
    }
   ],
   "source": [
    "type(d)"
   ]
  },
  {
   "cell_type": "code",
   "execution_count": 125,
   "metadata": {},
   "outputs": [],
   "source": [
    "d = dict.fromkeys(['Open', 'High', 'Low', 'Close'], 10)"
   ]
  },
  {
   "cell_type": "code",
   "execution_count": 126,
   "metadata": {},
   "outputs": [
    {
     "data": {
      "text/plain": [
       "{'Open': 10, 'High': 10, 'Low': 10, 'Close': 10}"
      ]
     },
     "execution_count": 126,
     "metadata": {},
     "output_type": "execute_result"
    }
   ],
   "source": [
    "d"
   ]
  },
  {
   "cell_type": "code",
   "execution_count": 127,
   "metadata": {},
   "outputs": [],
   "source": [
    "d = dict.fromkeys('Python', 1)"
   ]
  },
  {
   "cell_type": "code",
   "execution_count": 128,
   "metadata": {},
   "outputs": [
    {
     "data": {
      "text/plain": [
       "{'P': 1, 'y': 1, 't': 1, 'h': 1, 'o': 1, 'n': 1}"
      ]
     },
     "execution_count": 128,
     "metadata": {},
     "output_type": "execute_result"
    }
   ],
   "source": [
    "d"
   ]
  },
  {
   "cell_type": "code",
   "execution_count": 129,
   "metadata": {},
   "outputs": [],
   "source": [
    "d = dict.fromkeys(['a', 'a'], 100)"
   ]
  },
  {
   "cell_type": "code",
   "execution_count": 130,
   "metadata": {},
   "outputs": [
    {
     "data": {
      "text/plain": [
       "{'a': 100}"
      ]
     },
     "execution_count": 130,
     "metadata": {},
     "output_type": "execute_result"
    }
   ],
   "source": [
    "d"
   ]
  },
  {
   "cell_type": "code",
   "execution_count": 131,
   "metadata": {},
   "outputs": [],
   "source": [
    "symbols = ['AAPL', 'MSFT', 'AAPL', 'MSFT']"
   ]
  },
  {
   "cell_type": "code",
   "execution_count": 133,
   "metadata": {},
   "outputs": [],
   "source": [
    "d = dict.fromkeys(symbols, 0)"
   ]
  },
  {
   "cell_type": "code",
   "execution_count": 134,
   "metadata": {},
   "outputs": [
    {
     "data": {
      "text/plain": [
       "{'AAPL': 0, 'MSFT': 0}"
      ]
     },
     "execution_count": 134,
     "metadata": {},
     "output_type": "execute_result"
    }
   ],
   "source": [
    "d"
   ]
  },
  {
   "cell_type": "code",
   "execution_count": 135,
   "metadata": {},
   "outputs": [
    {
     "data": {
      "text/plain": [
       "['AAPL', 'MSFT']"
      ]
     },
     "execution_count": 135,
     "metadata": {},
     "output_type": "execute_result"
    }
   ],
   "source": [
    "list(d)"
   ]
  },
  {
   "cell_type": "code",
   "execution_count": 136,
   "metadata": {},
   "outputs": [
    {
     "data": {
      "text/plain": [
       "[0, 0]"
      ]
     },
     "execution_count": 136,
     "metadata": {},
     "output_type": "execute_result"
    }
   ],
   "source": [
    "list(d.values())"
   ]
  },
  {
   "cell_type": "code",
   "execution_count": 137,
   "metadata": {},
   "outputs": [],
   "source": [
    "d = dict.fromkeys('Python is an awesome language!', 0)"
   ]
  },
  {
   "cell_type": "code",
   "execution_count": 138,
   "metadata": {},
   "outputs": [
    {
     "data": {
      "text/plain": [
       "{'P': 0,\n",
       " 'y': 0,\n",
       " 't': 0,\n",
       " 'h': 0,\n",
       " 'o': 0,\n",
       " 'n': 0,\n",
       " ' ': 0,\n",
       " 'i': 0,\n",
       " 's': 0,\n",
       " 'a': 0,\n",
       " 'w': 0,\n",
       " 'e': 0,\n",
       " 'm': 0,\n",
       " 'l': 0,\n",
       " 'g': 0,\n",
       " 'u': 0,\n",
       " '!': 0}"
      ]
     },
     "execution_count": 138,
     "metadata": {},
     "output_type": "execute_result"
    }
   ],
   "source": [
    "d"
   ]
  },
  {
   "cell_type": "code",
   "execution_count": 139,
   "metadata": {},
   "outputs": [],
   "source": [
    "d1 = {}"
   ]
  },
  {
   "cell_type": "code",
   "execution_count": 140,
   "metadata": {},
   "outputs": [],
   "source": [
    "d2 = dict()"
   ]
  },
  {
   "cell_type": "code",
   "execution_count": 141,
   "metadata": {},
   "outputs": [
    {
     "data": {
      "text/plain": [
       "({}, {})"
      ]
     },
     "execution_count": 141,
     "metadata": {},
     "output_type": "execute_result"
    }
   ],
   "source": [
    "d1, d2"
   ]
  },
  {
   "cell_type": "code",
   "execution_count": 142,
   "metadata": {},
   "outputs": [],
   "source": [
    "transactions = [\n",
    "    {'item': 'widget', 'trans_type': 'sale', 'quantity': 10},\n",
    "    {'item': 'widget', 'trans_type': 'sale', 'quantity': 5},\n",
    "    {'item': 'widget', 'trans_type': 'refund', 'quantity': 2},\n",
    "    {'item': 'license', 'trans_type': 'sale', 'quantity': 1},\n",
    "    {'item': 'license', 'trans_type': 'sale', 'quantity': 1},\n",
    "    {'item': 'license', 'trans_type': 'refund', 'quantity': 1},\n",
    "]"
   ]
  },
  {
   "cell_type": "code",
   "execution_count": 143,
   "metadata": {},
   "outputs": [
    {
     "data": {
      "text/plain": [
       "[{'item': 'widget', 'trans_type': 'sale', 'quantity': 10},\n",
       " {'item': 'widget', 'trans_type': 'sale', 'quantity': 5},\n",
       " {'item': 'widget', 'trans_type': 'refund', 'quantity': 2},\n",
       " {'item': 'license', 'trans_type': 'sale', 'quantity': 1},\n",
       " {'item': 'license', 'trans_type': 'sale', 'quantity': 1},\n",
       " {'item': 'license', 'trans_type': 'refund', 'quantity': 1}]"
      ]
     },
     "execution_count": 143,
     "metadata": {},
     "output_type": "execute_result"
    }
   ],
   "source": [
    "transactions"
   ]
  },
  {
   "cell_type": "code",
   "execution_count": 148,
   "metadata": {},
   "outputs": [
    {
     "ename": "TypeError",
     "evalue": "argument of type 'int' is not iterable",
     "output_type": "error",
     "traceback": [
      "\u001b[1;31m---------------------------------------------------------------------------\u001b[0m",
      "\u001b[1;31mTypeError\u001b[0m                                 Traceback (most recent call last)",
      "Cell \u001b[1;32mIn[148], line 9\u001b[0m\n\u001b[0;32m      6\u001b[0m quantity \u001b[38;5;241m=\u001b[39m transaction[\u001b[38;5;124m'\u001b[39m\u001b[38;5;124mquantity\u001b[39m\u001b[38;5;124m'\u001b[39m]\n\u001b[0;32m      8\u001b[0m \u001b[38;5;28;01mif\u001b[39;00m is_sale:\n\u001b[1;32m----> 9\u001b[0m     \u001b[38;5;28;01mif\u001b[39;00m \u001b[43mitem\u001b[49m\u001b[43m \u001b[49m\u001b[38;5;129;43;01min\u001b[39;49;00m\u001b[43m \u001b[49m\u001b[43mtotal_sold\u001b[49m:\n\u001b[0;32m     10\u001b[0m         total_sold[item] \u001b[38;5;241m+\u001b[39m\u001b[38;5;241m=\u001b[39m quantity\n\u001b[0;32m     11\u001b[0m     \u001b[38;5;28;01melse\u001b[39;00m:\n",
      "\u001b[1;31mTypeError\u001b[0m: argument of type 'int' is not iterable"
     ]
    }
   ],
   "source": [
    "total_sold = {}\n",
    "\n",
    "for transaction in transactions:\n",
    "    item = transaction['item']\n",
    "    is_sale = True if transaction['trans_type'] == 'sale' else False\n",
    "    quantity = transaction['quantity']\n",
    "\n",
    "    if is_sale:\n",
    "        if item in total_sold:\n",
    "            total_sold[item] += quantity\n",
    "        else:\n",
    "            total_sold = quantity\n",
    "        \n",
    "print(total_sold)"
   ]
  },
  {
   "cell_type": "code",
   "execution_count": 149,
   "metadata": {},
   "outputs": [
    {
     "name": "stdout",
     "output_type": "stream",
     "text": [
      "{'widget': 15, 'license': 2}\n"
     ]
    }
   ],
   "source": [
    "total_sold = {}  # empty dictionary\n",
    "\n",
    "for transaction in transactions:\n",
    "    item = transaction['item']\n",
    "    is_sale = transaction['trans_type'] == 'sale'\n",
    "    quantity = transaction['quantity']\n",
    "    \n",
    "    if is_sale:\n",
    "        total_sold[item] = total_sold.get(item, 0) + quantity\n",
    "        \n",
    "print(total_sold)"
   ]
  },
  {
   "cell_type": "code",
   "execution_count": 150,
   "metadata": {},
   "outputs": [],
   "source": [
    "net_sales = {}\n",
    "\n",
    "for transaction in transactions:\n",
    "    item = transaction['item']\n",
    "    is_sale = transaction['trans_type'] == 'sale'\n",
    "    quantity = transaction['quantity']\n",
    "\n",
    "    if not is_sale:\n",
    "        quantity = - quantity\n",
    "\n",
    "    if item in net_sales:\n",
    "        net_sales[item] += quantity\n",
    "    else:\n",
    "        net_sales[item] = quantity"
   ]
  },
  {
   "cell_type": "code",
   "execution_count": 151,
   "metadata": {},
   "outputs": [
    {
     "data": {
      "text/plain": [
       "{'widget': 13, 'license': 1}"
      ]
     },
     "execution_count": 151,
     "metadata": {},
     "output_type": "execute_result"
    }
   ],
   "source": [
    "net_sales"
   ]
  },
  {
   "cell_type": "code",
   "execution_count": 153,
   "metadata": {},
   "outputs": [
    {
     "name": "stdout",
     "output_type": "stream",
     "text": [
      "{'widget': 15, 'license': 2}\n"
     ]
    }
   ],
   "source": [
    "total_sold = {}  # empty dictionary\n",
    "\n",
    "for transaction in transactions:\n",
    "    item = transaction['item']\n",
    "    is_sale = transaction['trans_type'] == 'sale'\n",
    "    quantity = transaction['quantity']\n",
    "    \n",
    "    if is_sale:\n",
    "        if not item in total_sold:\n",
    "            total_sold[item] = 0\n",
    "        total_sold[item] += quantity\n",
    "        \n",
    "print(total_sold)"
   ]
  },
  {
   "cell_type": "code",
   "execution_count": 154,
   "metadata": {},
   "outputs": [
    {
     "data": {
      "text/plain": [
       "0"
      ]
     },
     "execution_count": 154,
     "metadata": {},
     "output_type": "execute_result"
    }
   ],
   "source": [
    "total_sold = {}\n",
    "\n",
    "total_sold.get('widget', 0)"
   ]
  },
  {
   "cell_type": "code",
   "execution_count": 155,
   "metadata": {},
   "outputs": [
    {
     "data": {
      "text/plain": [
       "10"
      ]
     },
     "execution_count": 155,
     "metadata": {},
     "output_type": "execute_result"
    }
   ],
   "source": [
    "total_sold = {'widget': 10}\n",
    "\n",
    "total_sold.get('widget', 0)"
   ]
  },
  {
   "cell_type": "code",
   "execution_count": 157,
   "metadata": {},
   "outputs": [
    {
     "data": {
      "text/plain": [
       "{'widget': 15, 'license': 2}"
      ]
     },
     "execution_count": 157,
     "metadata": {},
     "output_type": "execute_result"
    }
   ],
   "source": [
    "total_sold = {}  # empty dictionary\n",
    "\n",
    "for transaction in transactions:\n",
    "    item = transaction['item']\n",
    "    is_sale = transaction['trans_type'] == 'sale'\n",
    "    quantity = transaction['quantity']\n",
    "    \n",
    "    if is_sale:\n",
    "        total_sold[item] = total_sold.get(item, 0) + quantity\n",
    "        \n",
    "total_sold"
   ]
  },
  {
   "cell_type": "code",
   "execution_count": 162,
   "metadata": {},
   "outputs": [],
   "source": [
    "net_sales = {}\n",
    "\n",
    "for transaction in transactions:\n",
    "    item = transaction['item']\n",
    "    is_sale = True if transaction['trans_type'] == 'sale' else False\n",
    "    quantity = transaction['quantity']\n",
    "\n",
    "    if not is_sale:\n",
    "        quantity = - quantity\n",
    "\n",
    "        net_sales[item] = net_sales.get(item, 0) + quantity"
   ]
  },
  {
   "cell_type": "code",
   "execution_count": 163,
   "metadata": {},
   "outputs": [
    {
     "data": {
      "text/plain": [
       "{'widget': -2, 'license': -1}"
      ]
     },
     "execution_count": 163,
     "metadata": {},
     "output_type": "execute_result"
    }
   ],
   "source": [
    "net_sales"
   ]
  },
  {
   "cell_type": "code",
   "execution_count": 2,
   "metadata": {},
   "outputs": [],
   "source": [
    "d1 = {'a': 1, 'b': 2}\n",
    "d2 = {'c':3, 'd':4}"
   ]
  },
  {
   "cell_type": "code",
   "execution_count": 3,
   "metadata": {},
   "outputs": [],
   "source": [
    "combined = {'a': 1, 'b': 2, 'c': 3, 'd':3}"
   ]
  },
  {
   "cell_type": "code",
   "execution_count": 4,
   "metadata": {},
   "outputs": [],
   "source": [
    "d1.update(d2)"
   ]
  },
  {
   "cell_type": "code",
   "execution_count": 5,
   "metadata": {},
   "outputs": [
    {
     "data": {
      "text/plain": [
       "{'a': 1, 'b': 2, 'c': 3, 'd': 4}"
      ]
     },
     "execution_count": 5,
     "metadata": {},
     "output_type": "execute_result"
    }
   ],
   "source": [
    "d1"
   ]
  },
  {
   "cell_type": "code",
   "execution_count": 6,
   "metadata": {},
   "outputs": [
    {
     "data": {
      "text/plain": [
       "{'c': 3, 'd': 4}"
      ]
     },
     "execution_count": 6,
     "metadata": {},
     "output_type": "execute_result"
    }
   ],
   "source": [
    "d2"
   ]
  },
  {
   "cell_type": "code",
   "execution_count": 7,
   "metadata": {},
   "outputs": [],
   "source": [
    "d2.update(d1)"
   ]
  },
  {
   "cell_type": "code",
   "execution_count": 8,
   "metadata": {},
   "outputs": [
    {
     "data": {
      "text/plain": [
       "{'c': 3, 'd': 4, 'a': 1, 'b': 2}"
      ]
     },
     "execution_count": 8,
     "metadata": {},
     "output_type": "execute_result"
    }
   ],
   "source": [
    "d2"
   ]
  },
  {
   "cell_type": "code",
   "execution_count": 9,
   "metadata": {},
   "outputs": [
    {
     "data": {
      "text/plain": [
       "True"
      ]
     },
     "execution_count": 9,
     "metadata": {},
     "output_type": "execute_result"
    }
   ],
   "source": [
    "d1 == d2"
   ]
  },
  {
   "cell_type": "code",
   "execution_count": 10,
   "metadata": {},
   "outputs": [],
   "source": [
    "d1 = {'a': 1, 'b': 2, 'c':100}\n",
    "d2 = {'c':3, 'd':4}"
   ]
  },
  {
   "cell_type": "code",
   "execution_count": 11,
   "metadata": {},
   "outputs": [],
   "source": [
    "d1.update(d2)"
   ]
  },
  {
   "cell_type": "code",
   "execution_count": 12,
   "metadata": {},
   "outputs": [
    {
     "data": {
      "text/plain": [
       "{'a': 1, 'b': 2, 'c': 3, 'd': 4}"
      ]
     },
     "execution_count": 12,
     "metadata": {},
     "output_type": "execute_result"
    }
   ],
   "source": [
    "d1"
   ]
  },
  {
   "cell_type": "code",
   "execution_count": 13,
   "metadata": {},
   "outputs": [],
   "source": [
    "d1 = {'a': 1, 'b': 2, 'c':100}\n",
    "d2 = {'c':3, 'd':4}"
   ]
  },
  {
   "cell_type": "code",
   "execution_count": 14,
   "metadata": {},
   "outputs": [],
   "source": [
    "d2.update(d1)"
   ]
  },
  {
   "cell_type": "code",
   "execution_count": 15,
   "metadata": {},
   "outputs": [
    {
     "data": {
      "text/plain": [
       "{'c': 100, 'd': 4, 'a': 1, 'b': 2}"
      ]
     },
     "execution_count": 15,
     "metadata": {},
     "output_type": "execute_result"
    }
   ],
   "source": [
    "d2"
   ]
  },
  {
   "cell_type": "code",
   "execution_count": null,
   "metadata": {},
   "outputs": [],
   "source": []
  }
 ],
 "metadata": {
  "kernelspec": {
   "display_name": "py3ll",
   "language": "python",
   "name": "python3"
  },
  "language_info": {
   "codemirror_mode": {
    "name": "ipython",
    "version": 3
   },
   "file_extension": ".py",
   "mimetype": "text/x-python",
   "name": "python",
   "nbconvert_exporter": "python",
   "pygments_lexer": "ipython3",
   "version": "3.12.4"
  }
 },
 "nbformat": 4,
 "nbformat_minor": 2
}
