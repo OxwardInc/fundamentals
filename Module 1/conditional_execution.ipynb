{
 "cells": [
  {
   "cell_type": "markdown",
   "metadata": {},
   "source": [
    "### If, esle, elif statement"
   ]
  },
  {
   "cell_type": "code",
   "execution_count": 1,
   "metadata": {},
   "outputs": [
    {
     "name": "stdout",
     "output_type": "stream",
     "text": [
      "1 is lessthan 2\n"
     ]
    }
   ],
   "source": [
    "if 1 < 2:\n",
    "    print('1 is lessthan 2')"
   ]
  },
  {
   "cell_type": "code",
   "execution_count": 2,
   "metadata": {},
   "outputs": [],
   "source": [
    "if 1 > 2:\n",
    "    print('1 is lessthan 2')"
   ]
  },
  {
   "cell_type": "code",
   "execution_count": 3,
   "metadata": {},
   "outputs": [
    {
     "name": "stdout",
     "output_type": "stream",
     "text": [
      "block  - line 1\n",
      "block  - line 2\n",
      "block  - line 3\n",
      "next line\n"
     ]
    }
   ],
   "source": [
    "if 1 < 2:\n",
    "    print('block  - line 1')\n",
    "    print('block  - line 2')\n",
    "    print('block  - line 3')\n",
    "print('next line')"
   ]
  },
  {
   "cell_type": "code",
   "execution_count": 4,
   "metadata": {},
   "outputs": [
    {
     "name": "stdout",
     "output_type": "stream",
     "text": [
      "next line\n"
     ]
    }
   ],
   "source": [
    "if 1 > 2:\n",
    "    print('block  - line 1')\n",
    "    print('block  - line 2')\n",
    "    print('block  - line 3')\n",
    "print('next line')"
   ]
  },
  {
   "cell_type": "code",
   "execution_count": 5,
   "metadata": {},
   "outputs": [
    {
     "name": "stdout",
     "output_type": "stream",
     "text": [
      "1 is less than 2\n"
     ]
    }
   ],
   "source": [
    "if 1 < 2:\n",
    "    print('1 is less than 2')\n",
    "else:\n",
    "    print('1 is grater than 2')"
   ]
  },
  {
   "cell_type": "code",
   "execution_count": 6,
   "metadata": {},
   "outputs": [
    {
     "name": "stdout",
     "output_type": "stream",
     "text": [
      "1 is grater than 2\n"
     ]
    }
   ],
   "source": [
    "if 1 > 2:\n",
    "    print('1 is less than 2')\n",
    "else:\n",
    "    print('1 is grater than 2')"
   ]
  },
  {
   "cell_type": "code",
   "execution_count": 7,
   "metadata": {},
   "outputs": [],
   "source": [
    "account_enabled = True\n",
    "balance = 1000\n",
    "withdrawal = 100"
   ]
  },
  {
   "cell_type": "code",
   "execution_count": 8,
   "metadata": {},
   "outputs": [
    {
     "name": "stdout",
     "output_type": "stream",
     "text": [
      "Authorized\n"
     ]
    }
   ],
   "source": [
    "if account_enabled and withdrawal <= balance:\n",
    "    print('Authorized')\n",
    "else:\n",
    "    print('Not authorized')"
   ]
  },
  {
   "cell_type": "code",
   "execution_count": 11,
   "metadata": {},
   "outputs": [],
   "source": [
    "account_enabled = True\n",
    "balance = 1000\n",
    "withdrawal = 10000"
   ]
  },
  {
   "cell_type": "code",
   "execution_count": 12,
   "metadata": {},
   "outputs": [
    {
     "name": "stdout",
     "output_type": "stream",
     "text": [
      "Not authorized\n"
     ]
    }
   ],
   "source": [
    "if account_enabled and withdrawal <= balance:\n",
    "    print('Authorized')\n",
    "else:\n",
    "    print('Not authorized')"
   ]
  },
  {
   "cell_type": "code",
   "execution_count": 13,
   "metadata": {},
   "outputs": [
    {
     "name": "stdout",
     "output_type": "stream",
     "text": [
      "Insufficient funds\n"
     ]
    }
   ],
   "source": [
    "account_enabled = True\n",
    "balance = 1000\n",
    "withdrawal = 10000\n",
    "\n",
    "if account_enabled and withdrawal <= balance:\n",
    "    print('Authorized')\n",
    "else:\n",
    "    if not account_enabled:\n",
    "        print('Account disabled')\n",
    "    else:\n",
    "        print('Insufficient funds')"
   ]
  },
  {
   "cell_type": "code",
   "execution_count": 14,
   "metadata": {},
   "outputs": [
    {
     "name": "stdout",
     "output_type": "stream",
     "text": [
      "C\n"
     ]
    }
   ],
   "source": [
    "grade = 72\n",
    "\n",
    "if grade >= 90:\n",
    "    letter_grade = 'A'\n",
    "else:\n",
    "    if grade >= 80:\n",
    "        letter_grade = 'B'\n",
    "    else:\n",
    "        if grade >= 70:\n",
    "            letter_grade = 'C'\n",
    "        else:\n",
    "            if grade >= 60:\n",
    "                letter_grade = 'D'\n",
    "            else:\n",
    "                letter_grade = 'F'\n",
    "\n",
    "print(letter_grade)"
   ]
  },
  {
   "cell_type": "code",
   "execution_count": 15,
   "metadata": {},
   "outputs": [
    {
     "name": "stdout",
     "output_type": "stream",
     "text": [
      "C\n"
     ]
    }
   ],
   "source": [
    "grade = 72\n",
    "\n",
    "if grade >= 90:\n",
    "    letter_grade = 'A'\n",
    "\n",
    "if grade >= 80 and grade < 90:\n",
    "    letter_grade = 'B'\n",
    "\n",
    "if grade >= 70 and grade < 80:\n",
    "    letter_grade = 'C'\n",
    "\n",
    "if grade >= 60 and grade < 70:\n",
    "    letter_grade = 'D'\n",
    "\n",
    "if grade < 60:\n",
    "    letter_grade = 'F'\n",
    "\n",
    "print(letter_grade)"
   ]
  },
  {
   "cell_type": "code",
   "execution_count": 17,
   "metadata": {},
   "outputs": [
    {
     "name": "stdout",
     "output_type": "stream",
     "text": [
      "C\n"
     ]
    }
   ],
   "source": [
    "grade = 72\n",
    "\n",
    "letter_grade = 'F'\n",
    "\n",
    "if grade >= 60:\n",
    "    letter_grade = 'D'\n",
    "\n",
    "if grade >= 70:\n",
    "    letter_grade = 'C'\n",
    "\n",
    "if grade >= 80:\n",
    "    letter_grade = 'B'\n",
    "\n",
    "if grade >= 80:\n",
    "    letter_grade = 'A'\n",
    "\n",
    "print(letter_grade)"
   ]
  },
  {
   "cell_type": "markdown",
   "metadata": {},
   "source": [
    "#### elif"
   ]
  },
  {
   "cell_type": "code",
   "execution_count": 19,
   "metadata": {},
   "outputs": [
    {
     "name": "stdout",
     "output_type": "stream",
     "text": [
      "Passed\n"
     ]
    }
   ],
   "source": [
    "grade = 72\n",
    "\n",
    "if grade >=90:\n",
    "    print('Pass with  distinction')\n",
    "else:\n",
    "    if grade >= 70:\n",
    "        print('Passed')\n",
    "    else:\n",
    "        print('Failed')"
   ]
  },
  {
   "cell_type": "code",
   "execution_count": 21,
   "metadata": {},
   "outputs": [
    {
     "name": "stdout",
     "output_type": "stream",
     "text": [
      "Passed\n"
     ]
    }
   ],
   "source": [
    "grade = 72\n",
    "\n",
    "if grade >=90:\n",
    "    print('Pass with  distinction')\n",
    "elif grade >= 70:\n",
    "    print('Passed')\n",
    "else:\n",
    "    print('Failed')"
   ]
  },
  {
   "cell_type": "code",
   "execution_count": 22,
   "metadata": {},
   "outputs": [
    {
     "data": {
      "text/plain": [
       "'C'"
      ]
     },
     "execution_count": 22,
     "metadata": {},
     "output_type": "execute_result"
    }
   ],
   "source": [
    "grade = 72\n",
    "\n",
    "if grade >= 90:\n",
    "    letter_grade =  'A'\n",
    "elif grade >= 80:\n",
    "    letter_grade = 'B'\n",
    "elif grade >= 70:\n",
    "    letter_grade = 'C'\n",
    "elif grade >= 60:\n",
    "    letter_grade = 'D'\n",
    "else:\n",
    "    letter_grade = 'F'\n",
    "\n",
    "letter_grade"
   ]
  },
  {
   "cell_type": "code",
   "execution_count": 23,
   "metadata": {},
   "outputs": [
    {
     "name": "stdout",
     "output_type": "stream",
     "text": [
      "insuffuceint funds\n"
     ]
    }
   ],
   "source": [
    "account_enabled = True\n",
    "balance = 1000\n",
    "withdrawal = 1000_000\n",
    "\n",
    "if not account_enabled:\n",
    "    print('account disaled')\n",
    "else:\n",
    "    if withdrawal > balance:\n",
    "        print('insuffuceint funds')\n",
    "    else:\n",
    "        print('Withdrawal authorized')"
   ]
  },
  {
   "cell_type": "code",
   "execution_count": 25,
   "metadata": {},
   "outputs": [
    {
     "name": "stdout",
     "output_type": "stream",
     "text": [
      "Withdrawal authorized\n"
     ]
    }
   ],
   "source": [
    "account_enabled = True\n",
    "balance = 1000\n",
    "withdrawal = 100\n",
    "\n",
    "if not account_enabled:\n",
    "    print('account disaled')\n",
    "elif withdrawal > balance:\n",
    "    print('insuffuceint funds')\n",
    "else:\n",
    "    print('Withdrawal authorized')"
   ]
  },
  {
   "cell_type": "markdown",
   "metadata": {},
   "source": [
    "### Ternary conditional operator"
   ]
  },
  {
   "cell_type": "code",
   "execution_count": 26,
   "metadata": {},
   "outputs": [
    {
     "name": "stdout",
     "output_type": "stream",
     "text": [
      "50\n"
     ]
    }
   ],
   "source": [
    "ask_price = 100\n",
    "\n",
    "if ask_price > 50:\n",
    "    volume = 50\n",
    "else:\n",
    "    volume = 80\n",
    "\n",
    "print(volume)"
   ]
  },
  {
   "cell_type": "code",
   "execution_count": 28,
   "metadata": {},
   "outputs": [
    {
     "name": "stdout",
     "output_type": "stream",
     "text": [
      "50\n"
     ]
    }
   ],
   "source": [
    "ask_price = 100\n",
    "\n",
    "volume = 50 if ask_price > 50 else 80\n",
    "\n",
    "print(volume)"
   ]
  },
  {
   "cell_type": "code",
   "execution_count": 30,
   "metadata": {},
   "outputs": [],
   "source": [
    "a = 10\n",
    "b = 20\n",
    "\n",
    "distance = a - b if a >= b else b - a"
   ]
  },
  {
   "cell_type": "code",
   "execution_count": 31,
   "metadata": {},
   "outputs": [
    {
     "data": {
      "text/plain": [
       "10"
      ]
     },
     "execution_count": 31,
     "metadata": {},
     "output_type": "execute_result"
    }
   ],
   "source": [
    "distance"
   ]
  },
  {
   "cell_type": "code",
   "execution_count": 32,
   "metadata": {},
   "outputs": [
    {
     "data": {
      "text/plain": [
       "15100"
      ]
     },
     "execution_count": 32,
     "metadata": {},
     "output_type": "execute_result"
    }
   ],
   "source": [
    "current_value = 100\n",
    "running_total = 15000\n",
    "running_count = 125\n",
    "\n",
    "if current_value == -999:\n",
    "    clean_value = 0\n",
    "else:\n",
    "    clean_value = current_value\n",
    "\n",
    "running_total = running_total + clean_value\n",
    "\n",
    "running_total"
   ]
  },
  {
   "cell_type": "code",
   "execution_count": 35,
   "metadata": {},
   "outputs": [
    {
     "data": {
      "text/plain": [
       "15000"
      ]
     },
     "execution_count": 35,
     "metadata": {},
     "output_type": "execute_result"
    }
   ],
   "source": [
    "current_value = -999\n",
    "running_total = 15000\n",
    "running_count = 125\n",
    "\n",
    "clean_value = 0 if current_value == -999 else current_value\n",
    "\n",
    "running_total = running_total + clean_value\n",
    "\n",
    "running_total"
   ]
  },
  {
   "cell_type": "code",
   "execution_count": 36,
   "metadata": {},
   "outputs": [
    {
     "data": {
      "text/plain": [
       "15000"
      ]
     },
     "execution_count": 36,
     "metadata": {},
     "output_type": "execute_result"
    }
   ],
   "source": [
    "current_value = -999\n",
    "running_total = 15000\n",
    "running_count = 125\n",
    "\n",
    "running_total = running_total + 0 if current_value == -999 else current_value\n",
    "\n",
    "\n",
    "running_total"
   ]
  },
  {
   "cell_type": "code",
   "execution_count": null,
   "metadata": {},
   "outputs": [],
   "source": []
  }
 ],
 "metadata": {
  "kernelspec": {
   "display_name": "py3ll",
   "language": "python",
   "name": "python3"
  },
  "language_info": {
   "codemirror_mode": {
    "name": "ipython",
    "version": 3
   },
   "file_extension": ".py",
   "mimetype": "text/x-python",
   "name": "python",
   "nbconvert_exporter": "python",
   "pygments_lexer": "ipython3",
   "version": "3.12.4"
  }
 },
 "nbformat": 4,
 "nbformat_minor": 2
}
