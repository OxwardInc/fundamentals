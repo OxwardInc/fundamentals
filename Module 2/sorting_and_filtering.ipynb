{
 "cells": [
  {
   "cell_type": "markdown",
   "metadata": {},
   "source": [
    "### Filtering"
   ]
  },
  {
   "cell_type": "code",
   "execution_count": 2,
   "metadata": {},
   "outputs": [
    {
     "data": {
      "text/plain": [
       "[1, 2, 3, 4, 5, 6, 7, 8, 9, 10]"
      ]
     },
     "execution_count": 2,
     "metadata": {},
     "output_type": "execute_result"
    }
   ],
   "source": [
    "data = list(range(1, 11))\n",
    "data"
   ]
  },
  {
   "cell_type": "code",
   "execution_count": 3,
   "metadata": {},
   "outputs": [],
   "source": [
    "def is_even(n):\n",
    "    return n % 2 == 0"
   ]
  },
  {
   "cell_type": "code",
   "execution_count": 4,
   "metadata": {},
   "outputs": [],
   "source": [
    "evens = [n for n in data if is_even(n)]"
   ]
  },
  {
   "cell_type": "code",
   "execution_count": 5,
   "metadata": {},
   "outputs": [
    {
     "data": {
      "text/plain": [
       "[2, 4, 6, 8, 10]"
      ]
     },
     "execution_count": 5,
     "metadata": {},
     "output_type": "execute_result"
    }
   ],
   "source": [
    "evens"
   ]
  },
  {
   "cell_type": "code",
   "execution_count": 6,
   "metadata": {},
   "outputs": [],
   "source": [
    "evens = (n for n in data if is_even(n))"
   ]
  },
  {
   "cell_type": "code",
   "execution_count": 8,
   "metadata": {},
   "outputs": [
    {
     "data": {
      "text/plain": [
       "[2, 4, 6, 8, 10]"
      ]
     },
     "execution_count": 8,
     "metadata": {},
     "output_type": "execute_result"
    }
   ],
   "source": [
    "list(evens)"
   ]
  },
  {
   "cell_type": "code",
   "execution_count": 9,
   "metadata": {},
   "outputs": [
    {
     "data": {
      "text/plain": [
       "[]"
      ]
     },
     "execution_count": 9,
     "metadata": {},
     "output_type": "execute_result"
    }
   ],
   "source": [
    "list(evens)"
   ]
  },
  {
   "cell_type": "code",
   "execution_count": 10,
   "metadata": {},
   "outputs": [],
   "source": [
    "evens = filter(is_even, data)"
   ]
  },
  {
   "cell_type": "code",
   "execution_count": 11,
   "metadata": {},
   "outputs": [
    {
     "data": {
      "text/plain": [
       "<filter at 0x1fd92d052a0>"
      ]
     },
     "execution_count": 11,
     "metadata": {},
     "output_type": "execute_result"
    }
   ],
   "source": [
    "evens"
   ]
  },
  {
   "cell_type": "code",
   "execution_count": 12,
   "metadata": {},
   "outputs": [
    {
     "data": {
      "text/plain": [
       "[2, 4, 6, 8, 10]"
      ]
     },
     "execution_count": 12,
     "metadata": {},
     "output_type": "execute_result"
    }
   ],
   "source": [
    "list(evens)"
   ]
  },
  {
   "cell_type": "code",
   "execution_count": 13,
   "metadata": {},
   "outputs": [
    {
     "data": {
      "text/plain": [
       "[]"
      ]
     },
     "execution_count": 13,
     "metadata": {},
     "output_type": "execute_result"
    }
   ],
   "source": [
    "list(evens)"
   ]
  },
  {
   "cell_type": "code",
   "execution_count": 14,
   "metadata": {},
   "outputs": [],
   "source": [
    "evens = filter(lambda n: n % 2 == 0, data)"
   ]
  },
  {
   "cell_type": "code",
   "execution_count": 15,
   "metadata": {},
   "outputs": [
    {
     "data": {
      "text/plain": [
       "[2, 4, 6, 8, 10]"
      ]
     },
     "execution_count": 15,
     "metadata": {},
     "output_type": "execute_result"
    }
   ],
   "source": [
    "list(evens)"
   ]
  },
  {
   "cell_type": "code",
   "execution_count": 16,
   "metadata": {},
   "outputs": [
    {
     "data": {
      "text/plain": [
       "[]"
      ]
     },
     "execution_count": 16,
     "metadata": {},
     "output_type": "execute_result"
    }
   ],
   "source": [
    "list(evens)"
   ]
  },
  {
   "cell_type": "code",
   "execution_count": 17,
   "metadata": {},
   "outputs": [],
   "source": [
    "quotes = [\n",
    "    ('AACC', 6.05, 6.07, 6.03, 6.05, 65800),\n",
    "    ('AAME', 1.7, 1.82, 1.7, 1.82, 4300),\n",
    "    ('AAON', 24.98, 25.07, 24.9, 24.94, 28200),\n",
    "    ('AAPL', 317.99, 319.57, 316.75, 317.13, 12901800),\n",
    "    ('AATI', 3.82, 3.82, 3.74, 3.79, 194600),\n",
    "    ('AAWW', 60.89, 61.44, 60.5, 61.19, 272800),\n",
    "    ('AAXJ', 65.4, 65.71, 65.28, 65.56, 390300),\n",
    "    ('ABAT', 4.01, 4.01, 3.95, 3.99, 656300),\n",
    "    ('ABAX', 25.26, 25.49, 25.04, 25.42, 73700),\n",
    "    ('ABBC', 11.75, 11.88, 11.48, 11.53, 29700),\n",
    "    ('ABCB', 9.3, 9.3, 9.06, 9.14, 42600),\n",
    "    ('ABCD', 3.25, 3.25, 3.11, 3.22, 122800),\n",
    "    ('ABCO', 48.75, 50.41, 46.9, 50.37, 66300),\n",
    "    ('ABCW', 0.52, 0.61, 0.52, 0.53, 83000),\n",
    "    ('ABFS', 25.98, 26.27, 25.41, 25.5, 384900),\n",
    "    ('ABIO', 3.96, 4, 3.88, 4, 38500),\n",
    "    ('ABMD', 11.94, 12, 11.69, 11.87, 122600),\n",
    "    ('ABTL', 0.82, 0.84, 0.82, 0.83, 28700),\n",
    "    ('ABVA', 3.09, 3.25, 3.09, 3.25, 6200),\n",
    "    ('ACAD', 0.76, 0.76, 0.7, 0.74, 341500),\n",
    "    ('ACAS', 7.52, 7.72, 7.52, 7.66, 5199800),\n",
    "    ('ACAT', 14.44, 14.44, 14.04, 14.2, 51700),\n",
    "    ('ACCL', 8.11, 8.21, 7.94, 8.1, 456100),\n",
    "    ('ACET', 8.01, 8.04, 7.13, 7.73, 575600),\n",
    "    ('ACFC', 1.69, 1.7, 1.5, 1.6, 12300),\n",
    "    ('ACFN', 3.82, 4, 3.82, 3.98, 53700),\n",
    "    ('ACGL', 89.76, 90.14, 89.39, 89.92, 240900),\n",
    "    ('ACGY', 22.41, 22.56, 22.25, 22.46, 86800),\n",
    "    ('ACHN', 3.12, 3.2, 3.07, 3.16, 113700),\n",
    "    ('ACIW', 26.96, 27.03, 26.63, 26.8, 157000),\n",
    "    ('ACLI', 33.65, 33.77, 33.45, 33.63, 28700),\n",
    "    ('ACLS', 2.47, 2.63, 2.46, 2.53, 1818800),\n",
    "    ('ACMR', 2.69, 2.84, 2.37, 2.71, 158600),\n",
    "    ('ACOM', 25.2, 26.6, 24.9, 26.56, 265300),\n",
    "    ('ACOR', 26.67, 27.07, 26.38, 27.04, 1415000),\n",
    "    ('ACPW', 1.84, 1.89, 1.77, 1.85, 565500),\n",
    "    ('ACTG', 27.2, 27.43, 26.86, 27.18, 228800),\n",
    "    ('ACTI', 3.25, 3.26, 3.25, 3.26, 148500),\n",
    "    ('ACTS', 2.08, 2.09, 2.07, 2.07, 130500),\n",
    "    ('ACUR', 2.6, 2.64, 2.51, 2.6, 16000),\n",
    "    ('ACWI', 46.53, 46.7, 46.32, 46.51, 286200),\n",
    "    ('ACWX', 44.49, 44.66, 44.36, 44.6, 55500),\n",
    "    ('ACXM', 18, 18.07, 17.81, 18.01, 289800),\n",
    "    ('ADAM', 7.34, 7.49, 7.33, 7.44, 81700),\n",
    "    ('ADAT', 0.6, 0.68, 0.59, 0.66, 86400),\n",
    "    ('ADBE', 29.43, 29.71, 29.07, 29.14, 7585300),\n",
    "    ('ADCT', 12.68, 12.69, 12.66, 12.68, 1660500),\n",
    "    ('ADEP', 6.14, 6.14, 4.95, 5.61, 71000),\n",
    "    ('ADES', 6.2, 6.22, 6, 6.19, 4800),\n",
    "    ('ADGF', 4.31, 4.55, 4.31, 4.54, 10200)\n",
    "]"
   ]
  },
  {
   "cell_type": "code",
   "execution_count": 18,
   "metadata": {},
   "outputs": [],
   "source": [
    "def closed_higher(rec):\n",
    "    open_ = rec[1]\n",
    "    close_ = rec[4]\n",
    "    return close_ > open_"
   ]
  },
  {
   "cell_type": "code",
   "execution_count": 19,
   "metadata": {},
   "outputs": [
    {
     "data": {
      "text/plain": [
       "True"
      ]
     },
     "execution_count": 19,
     "metadata": {},
     "output_type": "execute_result"
    }
   ],
   "source": [
    "closed_higher(('ADGF', 4.31, 4.55, 4.31, 4.54, 10200))"
   ]
  },
  {
   "cell_type": "code",
   "execution_count": 20,
   "metadata": {},
   "outputs": [
    {
     "data": {
      "text/plain": [
       "False"
      ]
     },
     "execution_count": 20,
     "metadata": {},
     "output_type": "execute_result"
    }
   ],
   "source": [
    "closed_higher(('ADES', 6.2, 6.22, 6, 6.19, 4800))"
   ]
  },
  {
   "cell_type": "code",
   "execution_count": 21,
   "metadata": {},
   "outputs": [],
   "source": [
    "filtered = filter(closed_higher, quotes)"
   ]
  },
  {
   "cell_type": "code",
   "execution_count": 22,
   "metadata": {},
   "outputs": [
    {
     "data": {
      "text/plain": [
       "<filter at 0x1fd92dd1ab0>"
      ]
     },
     "execution_count": 22,
     "metadata": {},
     "output_type": "execute_result"
    }
   ],
   "source": [
    "filtered"
   ]
  },
  {
   "cell_type": "code",
   "execution_count": 23,
   "metadata": {},
   "outputs": [
    {
     "data": {
      "text/plain": [
       "[('AAME', 1.7, 1.82, 1.7, 1.82, 4300),\n",
       " ('AAWW', 60.89, 61.44, 60.5, 61.19, 272800),\n",
       " ('AAXJ', 65.4, 65.71, 65.28, 65.56, 390300),\n",
       " ('ABAX', 25.26, 25.49, 25.04, 25.42, 73700),\n",
       " ('ABCO', 48.75, 50.41, 46.9, 50.37, 66300),\n",
       " ('ABCW', 0.52, 0.61, 0.52, 0.53, 83000),\n",
       " ('ABIO', 3.96, 4, 3.88, 4, 38500),\n",
       " ('ABTL', 0.82, 0.84, 0.82, 0.83, 28700),\n",
       " ('ABVA', 3.09, 3.25, 3.09, 3.25, 6200),\n",
       " ('ACAS', 7.52, 7.72, 7.52, 7.66, 5199800),\n",
       " ('ACFN', 3.82, 4, 3.82, 3.98, 53700),\n",
       " ('ACGL', 89.76, 90.14, 89.39, 89.92, 240900),\n",
       " ('ACGY', 22.41, 22.56, 22.25, 22.46, 86800),\n",
       " ('ACHN', 3.12, 3.2, 3.07, 3.16, 113700),\n",
       " ('ACLS', 2.47, 2.63, 2.46, 2.53, 1818800),\n",
       " ('ACMR', 2.69, 2.84, 2.37, 2.71, 158600),\n",
       " ('ACOM', 25.2, 26.6, 24.9, 26.56, 265300),\n",
       " ('ACOR', 26.67, 27.07, 26.38, 27.04, 1415000),\n",
       " ('ACPW', 1.84, 1.89, 1.77, 1.85, 565500),\n",
       " ('ACTI', 3.25, 3.26, 3.25, 3.26, 148500),\n",
       " ('ACWX', 44.49, 44.66, 44.36, 44.6, 55500),\n",
       " ('ACXM', 18, 18.07, 17.81, 18.01, 289800),\n",
       " ('ADAM', 7.34, 7.49, 7.33, 7.44, 81700),\n",
       " ('ADAT', 0.6, 0.68, 0.59, 0.66, 86400),\n",
       " ('ADGF', 4.31, 4.55, 4.31, 4.54, 10200)]"
      ]
     },
     "execution_count": 23,
     "metadata": {},
     "output_type": "execute_result"
    }
   ],
   "source": [
    "list(filtered)"
   ]
  },
  {
   "cell_type": "code",
   "execution_count": 24,
   "metadata": {},
   "outputs": [],
   "source": [
    "filtered = filter(lambda rec: rec[4] > rec[1], quotes)"
   ]
  },
  {
   "cell_type": "code",
   "execution_count": 25,
   "metadata": {},
   "outputs": [
    {
     "data": {
      "text/plain": [
       "[('AAME', 1.7, 1.82, 1.7, 1.82, 4300),\n",
       " ('AAWW', 60.89, 61.44, 60.5, 61.19, 272800),\n",
       " ('AAXJ', 65.4, 65.71, 65.28, 65.56, 390300),\n",
       " ('ABAX', 25.26, 25.49, 25.04, 25.42, 73700),\n",
       " ('ABCO', 48.75, 50.41, 46.9, 50.37, 66300),\n",
       " ('ABCW', 0.52, 0.61, 0.52, 0.53, 83000),\n",
       " ('ABIO', 3.96, 4, 3.88, 4, 38500),\n",
       " ('ABTL', 0.82, 0.84, 0.82, 0.83, 28700),\n",
       " ('ABVA', 3.09, 3.25, 3.09, 3.25, 6200),\n",
       " ('ACAS', 7.52, 7.72, 7.52, 7.66, 5199800),\n",
       " ('ACFN', 3.82, 4, 3.82, 3.98, 53700),\n",
       " ('ACGL', 89.76, 90.14, 89.39, 89.92, 240900),\n",
       " ('ACGY', 22.41, 22.56, 22.25, 22.46, 86800),\n",
       " ('ACHN', 3.12, 3.2, 3.07, 3.16, 113700),\n",
       " ('ACLS', 2.47, 2.63, 2.46, 2.53, 1818800),\n",
       " ('ACMR', 2.69, 2.84, 2.37, 2.71, 158600),\n",
       " ('ACOM', 25.2, 26.6, 24.9, 26.56, 265300),\n",
       " ('ACOR', 26.67, 27.07, 26.38, 27.04, 1415000),\n",
       " ('ACPW', 1.84, 1.89, 1.77, 1.85, 565500),\n",
       " ('ACTI', 3.25, 3.26, 3.25, 3.26, 148500),\n",
       " ('ACWX', 44.49, 44.66, 44.36, 44.6, 55500),\n",
       " ('ACXM', 18, 18.07, 17.81, 18.01, 289800),\n",
       " ('ADAM', 7.34, 7.49, 7.33, 7.44, 81700),\n",
       " ('ADAT', 0.6, 0.68, 0.59, 0.66, 86400),\n",
       " ('ADGF', 4.31, 4.55, 4.31, 4.54, 10200)]"
      ]
     },
     "execution_count": 25,
     "metadata": {},
     "output_type": "execute_result"
    }
   ],
   "source": [
    "list(filtered)"
   ]
  },
  {
   "cell_type": "code",
   "execution_count": 26,
   "metadata": {},
   "outputs": [],
   "source": [
    "filtered = (data for data in quotes if closed_higher(data))"
   ]
  },
  {
   "cell_type": "code",
   "execution_count": 27,
   "metadata": {},
   "outputs": [
    {
     "data": {
      "text/plain": [
       "<generator object <genexpr> at 0x000001FD931E7E00>"
      ]
     },
     "execution_count": 27,
     "metadata": {},
     "output_type": "execute_result"
    }
   ],
   "source": [
    "filtered"
   ]
  },
  {
   "cell_type": "code",
   "execution_count": 28,
   "metadata": {},
   "outputs": [
    {
     "data": {
      "text/plain": [
       "[('AAME', 1.7, 1.82, 1.7, 1.82, 4300),\n",
       " ('AAWW', 60.89, 61.44, 60.5, 61.19, 272800),\n",
       " ('AAXJ', 65.4, 65.71, 65.28, 65.56, 390300),\n",
       " ('ABAX', 25.26, 25.49, 25.04, 25.42, 73700),\n",
       " ('ABCO', 48.75, 50.41, 46.9, 50.37, 66300),\n",
       " ('ABCW', 0.52, 0.61, 0.52, 0.53, 83000),\n",
       " ('ABIO', 3.96, 4, 3.88, 4, 38500),\n",
       " ('ABTL', 0.82, 0.84, 0.82, 0.83, 28700),\n",
       " ('ABVA', 3.09, 3.25, 3.09, 3.25, 6200),\n",
       " ('ACAS', 7.52, 7.72, 7.52, 7.66, 5199800),\n",
       " ('ACFN', 3.82, 4, 3.82, 3.98, 53700),\n",
       " ('ACGL', 89.76, 90.14, 89.39, 89.92, 240900),\n",
       " ('ACGY', 22.41, 22.56, 22.25, 22.46, 86800),\n",
       " ('ACHN', 3.12, 3.2, 3.07, 3.16, 113700),\n",
       " ('ACLS', 2.47, 2.63, 2.46, 2.53, 1818800),\n",
       " ('ACMR', 2.69, 2.84, 2.37, 2.71, 158600),\n",
       " ('ACOM', 25.2, 26.6, 24.9, 26.56, 265300),\n",
       " ('ACOR', 26.67, 27.07, 26.38, 27.04, 1415000),\n",
       " ('ACPW', 1.84, 1.89, 1.77, 1.85, 565500),\n",
       " ('ACTI', 3.25, 3.26, 3.25, 3.26, 148500),\n",
       " ('ACWX', 44.49, 44.66, 44.36, 44.6, 55500),\n",
       " ('ACXM', 18, 18.07, 17.81, 18.01, 289800),\n",
       " ('ADAM', 7.34, 7.49, 7.33, 7.44, 81700),\n",
       " ('ADAT', 0.6, 0.68, 0.59, 0.66, 86400),\n",
       " ('ADGF', 4.31, 4.55, 4.31, 4.54, 10200)]"
      ]
     },
     "execution_count": 28,
     "metadata": {},
     "output_type": "execute_result"
    }
   ],
   "source": [
    "list(filtered)"
   ]
  },
  {
   "cell_type": "markdown",
   "metadata": {},
   "source": [
    "### Sorting"
   ]
  },
  {
   "cell_type": "code",
   "execution_count": 29,
   "metadata": {},
   "outputs": [
    {
     "data": {
      "text/plain": [
       "True"
      ]
     },
     "execution_count": 29,
     "metadata": {},
     "output_type": "execute_result"
    }
   ],
   "source": [
    "1 < 2"
   ]
  },
  {
   "cell_type": "code",
   "execution_count": 30,
   "metadata": {},
   "outputs": [
    {
     "data": {
      "text/plain": [
       "True"
      ]
     },
     "execution_count": 30,
     "metadata": {},
     "output_type": "execute_result"
    }
   ],
   "source": [
    "'A' < 'Z'"
   ]
  },
  {
   "cell_type": "code",
   "execution_count": 31,
   "metadata": {},
   "outputs": [],
   "source": [
    "data = list(range(1, 11))"
   ]
  },
  {
   "cell_type": "code",
   "execution_count": 36,
   "metadata": {},
   "outputs": [
    {
     "ename": "TypeError",
     "evalue": "bad operand type for abs(): 'generator'",
     "output_type": "error",
     "traceback": [
      "\u001b[1;31m---------------------------------------------------------------------------\u001b[0m",
      "\u001b[1;31mTypeError\u001b[0m                                 Traceback (most recent call last)",
      "Cell \u001b[1;32mIn[36], line 1\u001b[0m\n\u001b[1;32m----> 1\u001b[0m x \u001b[38;5;241m=\u001b[39m \u001b[38;5;28msorted\u001b[39m(\u001b[38;5;28;43mabs\u001b[39;49m\u001b[43m(\u001b[49m\u001b[43mdata\u001b[49m\u001b[43m \u001b[49m\u001b[38;5;28;43;01mfor\u001b[39;49;00m\u001b[43m \u001b[49m\u001b[43mdata\u001b[49m\u001b[43m \u001b[49m\u001b[38;5;129;43;01min\u001b[39;49;00m\u001b[43m \u001b[49m\u001b[43mdata\u001b[49m\u001b[43m)\u001b[49m)\n\u001b[0;32m      2\u001b[0m x\n",
      "\u001b[1;31mTypeError\u001b[0m: bad operand type for abs(): 'generator'"
     ]
    }
   ],
   "source": [
    "x = sorted(abs(data for data in data))\n",
    "x"
   ]
  },
  {
   "cell_type": "code",
   "execution_count": 34,
   "metadata": {},
   "outputs": [],
   "source": [
    "def key_func(x):\n",
    "    return abs(x)"
   ]
  },
  {
   "cell_type": "code",
   "execution_count": 35,
   "metadata": {},
   "outputs": [],
   "source": [
    "data = [-10, -6, 0, 3, 6]"
   ]
  },
  {
   "cell_type": "code",
   "execution_count": 37,
   "metadata": {},
   "outputs": [
    {
     "data": {
      "text/plain": [
       "[-10, -6, 0, 3, 6]"
      ]
     },
     "execution_count": 37,
     "metadata": {},
     "output_type": "execute_result"
    }
   ],
   "source": [
    "sorted(data)"
   ]
  },
  {
   "cell_type": "code",
   "execution_count": 40,
   "metadata": {},
   "outputs": [
    {
     "data": {
      "text/plain": [
       "[10, 6, 0, 3, 6]"
      ]
     },
     "execution_count": 40,
     "metadata": {},
     "output_type": "execute_result"
    }
   ],
   "source": [
    "[key_func(x) for x in data]"
   ]
  },
  {
   "cell_type": "code",
   "execution_count": 41,
   "metadata": {},
   "outputs": [
    {
     "data": {
      "text/plain": [
       "[0, 3, -6, 6, -10]"
      ]
     },
     "execution_count": 41,
     "metadata": {},
     "output_type": "execute_result"
    }
   ],
   "source": [
    "sorted(data, key=key_func)"
   ]
  },
  {
   "cell_type": "code",
   "execution_count": 42,
   "metadata": {},
   "outputs": [],
   "source": [
    "data = [2, -2, 1, -1]"
   ]
  },
  {
   "cell_type": "code",
   "execution_count": 43,
   "metadata": {},
   "outputs": [
    {
     "data": {
      "text/plain": [
       "[1, -1, 2, -2]"
      ]
     },
     "execution_count": 43,
     "metadata": {},
     "output_type": "execute_result"
    }
   ],
   "source": [
    "sorted(data, key=key_func)"
   ]
  },
  {
   "cell_type": "code",
   "execution_count": 44,
   "metadata": {},
   "outputs": [
    {
     "data": {
      "text/plain": [
       "[2, -2, 1, -1]"
      ]
     },
     "execution_count": 44,
     "metadata": {},
     "output_type": "execute_result"
    }
   ],
   "source": [
    "sorted(data, key=key_func, reverse=True)"
   ]
  },
  {
   "cell_type": "code",
   "execution_count": 45,
   "metadata": {},
   "outputs": [
    {
     "data": {
      "text/plain": [
       "[1, -1, 2, -2]"
      ]
     },
     "execution_count": 45,
     "metadata": {},
     "output_type": "execute_result"
    }
   ],
   "source": [
    "sorted(data, key=lambda x: abs(x))"
   ]
  },
  {
   "cell_type": "code",
   "execution_count": 46,
   "metadata": {},
   "outputs": [
    {
     "data": {
      "text/plain": [
       "[1, -1, 2, -2]"
      ]
     },
     "execution_count": 46,
     "metadata": {},
     "output_type": "execute_result"
    }
   ],
   "source": [
    "sorted(data, key=abs)"
   ]
  },
  {
   "cell_type": "code",
   "execution_count": 47,
   "metadata": {},
   "outputs": [],
   "source": [
    "data = [\n",
    "    {'date': '2020-04-09', 'symbol': 'AAPL', 'open': 268.70, 'high': 270.04, 'low': 264.70, 'close': 267.99},\n",
    "    {'date': '2020-04-09', 'symbol': 'MSFT', 'open': 166.36, 'high': 167.37, 'low': 163.33, 'close': 165.14},\n",
    "    {'date': '2020-04-09', 'symbol': 'AMZN', 'open': 2_044.30, 'high': 2_053.00, 'low': 2_017.66, 'close': 2_042.76},\n",
    "    {'date': '2020-04-09', 'symbol': 'FB', 'open': 175.90, 'high': 177.08, 'low': 171.57, 'close': 175.19}\n",
    "]"
   ]
  },
  {
   "cell_type": "code",
   "execution_count": 48,
   "metadata": {},
   "outputs": [
    {
     "data": {
      "text/plain": [
       "[{'date': '2020-04-09',\n",
       "  'symbol': 'AAPL',\n",
       "  'open': 268.7,\n",
       "  'high': 270.04,\n",
       "  'low': 264.7,\n",
       "  'close': 267.99},\n",
       " {'date': '2020-04-09',\n",
       "  'symbol': 'AMZN',\n",
       "  'open': 2044.3,\n",
       "  'high': 2053.0,\n",
       "  'low': 2017.66,\n",
       "  'close': 2042.76},\n",
       " {'date': '2020-04-09',\n",
       "  'symbol': 'FB',\n",
       "  'open': 175.9,\n",
       "  'high': 177.08,\n",
       "  'low': 171.57,\n",
       "  'close': 175.19},\n",
       " {'date': '2020-04-09',\n",
       "  'symbol': 'MSFT',\n",
       "  'open': 166.36,\n",
       "  'high': 167.37,\n",
       "  'low': 163.33,\n",
       "  'close': 165.14}]"
      ]
     },
     "execution_count": 48,
     "metadata": {},
     "output_type": "execute_result"
    }
   ],
   "source": [
    "sorted(data, key=lambda d: d['symbol'])"
   ]
  },
  {
   "cell_type": "code",
   "execution_count": 49,
   "metadata": {},
   "outputs": [
    {
     "data": {
      "text/plain": [
       "[{'date': '2020-04-09',\n",
       "  'symbol': 'AMZN',\n",
       "  'open': 2044.3,\n",
       "  'high': 2053.0,\n",
       "  'low': 2017.66,\n",
       "  'close': 2042.76},\n",
       " {'date': '2020-04-09',\n",
       "  'symbol': 'AAPL',\n",
       "  'open': 268.7,\n",
       "  'high': 270.04,\n",
       "  'low': 264.7,\n",
       "  'close': 267.99},\n",
       " {'date': '2020-04-09',\n",
       "  'symbol': 'FB',\n",
       "  'open': 175.9,\n",
       "  'high': 177.08,\n",
       "  'low': 171.57,\n",
       "  'close': 175.19},\n",
       " {'date': '2020-04-09',\n",
       "  'symbol': 'MSFT',\n",
       "  'open': 166.36,\n",
       "  'high': 167.37,\n",
       "  'low': 163.33,\n",
       "  'close': 165.14}]"
      ]
     },
     "execution_count": 49,
     "metadata": {},
     "output_type": "execute_result"
    }
   ],
   "source": [
    "sorted(data, key=lambda d: d['close'], reverse=True)"
   ]
  },
  {
   "cell_type": "code",
   "execution_count": 50,
   "metadata": {},
   "outputs": [
    {
     "data": {
      "text/plain": [
       "[{'date': '2020-04-09',\n",
       "  'symbol': 'MSFT',\n",
       "  'open': 166.36,\n",
       "  'high': 167.37,\n",
       "  'low': 163.33,\n",
       "  'close': 165.14},\n",
       " {'date': '2020-04-09',\n",
       "  'symbol': 'FB',\n",
       "  'open': 175.9,\n",
       "  'high': 177.08,\n",
       "  'low': 171.57,\n",
       "  'close': 175.19},\n",
       " {'date': '2020-04-09',\n",
       "  'symbol': 'AAPL',\n",
       "  'open': 268.7,\n",
       "  'high': 270.04,\n",
       "  'low': 264.7,\n",
       "  'close': 267.99},\n",
       " {'date': '2020-04-09',\n",
       "  'symbol': 'AMZN',\n",
       "  'open': 2044.3,\n",
       "  'high': 2053.0,\n",
       "  'low': 2017.66,\n",
       "  'close': 2042.76}]"
      ]
     },
     "execution_count": 50,
     "metadata": {},
     "output_type": "execute_result"
    }
   ],
   "source": [
    "sorted(data, key=lambda d: (d['close'] - d['open']) / d['open'])"
   ]
  },
  {
   "cell_type": "code",
   "execution_count": 51,
   "metadata": {},
   "outputs": [],
   "source": [
    "data = ['Z', 'a', 'A', 'z', 'x', 'X']"
   ]
  },
  {
   "cell_type": "code",
   "execution_count": 52,
   "metadata": {},
   "outputs": [
    {
     "data": {
      "text/plain": [
       "['A', 'X', 'Z', 'a', 'x', 'z']"
      ]
     },
     "execution_count": 52,
     "metadata": {},
     "output_type": "execute_result"
    }
   ],
   "source": [
    "sorted(data)"
   ]
  },
  {
   "cell_type": "code",
   "execution_count": 53,
   "metadata": {},
   "outputs": [
    {
     "data": {
      "text/plain": [
       "True"
      ]
     },
     "execution_count": 53,
     "metadata": {},
     "output_type": "execute_result"
    }
   ],
   "source": [
    "'A' < 'a'"
   ]
  },
  {
   "cell_type": "code",
   "execution_count": 55,
   "metadata": {},
   "outputs": [
    {
     "data": {
      "text/plain": [
       "True"
      ]
     },
     "execution_count": 55,
     "metadata": {},
     "output_type": "execute_result"
    }
   ],
   "source": [
    "'a'.casefold() == 'A'.casefold()"
   ]
  },
  {
   "cell_type": "code",
   "execution_count": 56,
   "metadata": {},
   "outputs": [
    {
     "data": {
      "text/plain": [
       "['a', 'A', 'x', 'X', 'Z', 'z']"
      ]
     },
     "execution_count": 56,
     "metadata": {},
     "output_type": "execute_result"
    }
   ],
   "source": [
    "sorted(data, key=lambda x: x.casefold())"
   ]
  },
  {
   "cell_type": "code",
   "execution_count": 57,
   "metadata": {},
   "outputs": [],
   "source": [
    "data = ['one', 'two', 'three', 'four', 'five', 'six', 'seven', 'eight', 'nine', 'ten']"
   ]
  },
  {
   "cell_type": "code",
   "execution_count": 58,
   "metadata": {},
   "outputs": [
    {
     "data": {
      "text/plain": [
       "['one', 'two', 'six', 'ten', 'four', 'five', 'nine', 'three', 'seven', 'eight']"
      ]
     },
     "execution_count": 58,
     "metadata": {},
     "output_type": "execute_result"
    }
   ],
   "source": [
    "sorted(data, key=len)"
   ]
  },
  {
   "cell_type": "markdown",
   "metadata": {},
   "source": [
    "### Min & Max"
   ]
  },
  {
   "cell_type": "code",
   "execution_count": 1,
   "metadata": {},
   "outputs": [],
   "source": [
    "data = [1, -2, 3, -4, 5, -6]"
   ]
  },
  {
   "cell_type": "code",
   "execution_count": 2,
   "metadata": {},
   "outputs": [
    {
     "data": {
      "text/plain": [
       "[-6, -4, -2, 1, 3, 5]"
      ]
     },
     "execution_count": 2,
     "metadata": {},
     "output_type": "execute_result"
    }
   ],
   "source": [
    "sorted(data)"
   ]
  },
  {
   "cell_type": "code",
   "execution_count": 3,
   "metadata": {},
   "outputs": [
    {
     "data": {
      "text/plain": [
       "-6"
      ]
     },
     "execution_count": 3,
     "metadata": {},
     "output_type": "execute_result"
    }
   ],
   "source": [
    "min(data)"
   ]
  },
  {
   "cell_type": "code",
   "execution_count": 4,
   "metadata": {},
   "outputs": [
    {
     "data": {
      "text/plain": [
       "5"
      ]
     },
     "execution_count": 4,
     "metadata": {},
     "output_type": "execute_result"
    }
   ],
   "source": [
    "max(data)"
   ]
  },
  {
   "cell_type": "code",
   "execution_count": 5,
   "metadata": {},
   "outputs": [
    {
     "data": {
      "text/plain": [
       "[1, -2, 3, -4, 5, -6]"
      ]
     },
     "execution_count": 5,
     "metadata": {},
     "output_type": "execute_result"
    }
   ],
   "source": [
    "sorted(data, key=abs)"
   ]
  },
  {
   "cell_type": "code",
   "execution_count": 6,
   "metadata": {},
   "outputs": [
    {
     "data": {
      "text/plain": [
       "1"
      ]
     },
     "execution_count": 6,
     "metadata": {},
     "output_type": "execute_result"
    }
   ],
   "source": [
    "min(data, key=abs)"
   ]
  },
  {
   "cell_type": "code",
   "execution_count": 7,
   "metadata": {},
   "outputs": [
    {
     "data": {
      "text/plain": [
       "-6"
      ]
     },
     "execution_count": 7,
     "metadata": {},
     "output_type": "execute_result"
    }
   ],
   "source": [
    "max(data, key=abs)"
   ]
  },
  {
   "cell_type": "code",
   "execution_count": 8,
   "metadata": {},
   "outputs": [],
   "source": [
    "data = [\n",
    "    {'date': '2020-04-09', 'symbol': 'AAPL', 'open': 268.70, 'high': 270.04, 'low': 264.70, 'close': 267.99},\n",
    "    {'date': '2020-04-09', 'symbol': 'MSFT', 'open': 166.36, 'high': 167.37, 'low': 163.33, 'close': 165.14},\n",
    "    {'date': '2020-04-09', 'symbol': 'AMZN', 'open': 2_044.30, 'high': 2_053.00, 'low': 2_017.66, 'close': 2_042.76},\n",
    "    {'date': '2020-04-09', 'symbol': 'FB', 'open': 175.90, 'high': 177.08, 'low': 171.57, 'close': 175.19}\n",
    "]"
   ]
  },
  {
   "cell_type": "code",
   "execution_count": 9,
   "metadata": {},
   "outputs": [
    {
     "data": {
      "text/plain": [
       "{'date': '2020-04-09',\n",
       " 'symbol': 'MSFT',\n",
       " 'open': 166.36,\n",
       " 'high': 167.37,\n",
       " 'low': 163.33,\n",
       " 'close': 165.14}"
      ]
     },
     "execution_count": 9,
     "metadata": {},
     "output_type": "execute_result"
    }
   ],
   "source": [
    "min(data, key=lambda x: x['low'])"
   ]
  },
  {
   "cell_type": "code",
   "execution_count": null,
   "metadata": {},
   "outputs": [],
   "source": []
  }
 ],
 "metadata": {
  "kernelspec": {
   "display_name": "py3ll",
   "language": "python",
   "name": "python3"
  },
  "language_info": {
   "codemirror_mode": {
    "name": "ipython",
    "version": 3
   },
   "file_extension": ".py",
   "mimetype": "text/x-python",
   "name": "python",
   "nbconvert_exporter": "python",
   "pygments_lexer": "ipython3",
   "version": "3.12.4"
  }
 },
 "nbformat": 4,
 "nbformat_minor": 2
}
